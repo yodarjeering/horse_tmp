{
 "cells": [
  {
   "cell_type": "markdown",
   "id": "f58e1898",
   "metadata": {},
   "source": [
    "# めちゃめちゃ参考文献"
   ]
  },
  {
   "attachments": {},
   "cell_type": "markdown",
   "id": "b061d1ae",
   "metadata": {},
   "source": [
    "https://www.youtube.com/@user-ej3zj6kv9z\n",
    "\n",
    "そーすこーどとかほぼパクリなので, 使用の際は気を付けて"
   ]
  },
  {
   "cell_type": "markdown",
   "id": "b9bc3441",
   "metadata": {},
   "source": [
    "# import"
   ]
  },
  {
   "cell_type": "code",
   "execution_count": 1,
   "id": "fa116d3b-51ac-42de-bf7a-fb55eb148689",
   "metadata": {},
   "outputs": [
    {
     "name": "stderr",
     "output_type": "stream",
     "text": [
      "/Users/rince/Library/Python/3.7/lib/python/site-packages/requests/__init__.py:91: RequestsDependencyWarning: urllib3 (1.26.14) or chardet (3.0.4) doesn't match a supported version!\n",
      "  RequestsDependencyWarning)\n"
     ]
    }
   ],
   "source": [
    "\n",
    "import pandas as pd\n",
    "from tqdm.notebook import tqdm as tqdm\n",
    "import time\n",
    "from graphviz import *\n",
    "import lightgbm as lgb\n",
    "from hyperopt import hp, tpe, Trials, fmin,STATUS_OK\n",
    "import fasttext as ft\n",
    "from my_library.horse import *\n",
    "import pickle\n",
    "from my_modules.constants import LocalPaths,UrlPaths\n",
    "from my_modules import prepare\n",
    "from my_modules import funcs\n",
    "from my_modules import preprocess\n",
    "%load_ext autoreload"
   ]
  },
  {
   "cell_type": "code",
   "execution_count": 5,
   "id": "a2835f3e",
   "metadata": {},
   "outputs": [
    {
     "name": "stderr",
     "output_type": "stream",
     "text": [
      "UsageError: Line magic function `%autoreload` not found.\n"
     ]
    }
   ],
   "source": [
    "%autoreload"
   ]
  },
  {
   "attachments": {},
   "cell_type": "markdown",
   "id": "40e0c26b",
   "metadata": {},
   "source": [
    "#  データロード ※更新2023/02/02"
   ]
  },
  {
   "cell_type": "code",
   "execution_count": 2,
   "id": "38db6e4c",
   "metadata": {},
   "outputs": [],
   "source": [
    "race_results = pd.read_csv(LocalPaths.RESULTS_PATH,index_col=0)\n",
    "horse_results = pd.read_csv(LocalPaths.HORSE_RESULTS_PATH,index_col=0)\n",
    "peds = pd.read_csv(LocalPaths.PEDS_PATH,index_col=0)\n",
    "peds.fillna('nan',inplace=True) # 何回やってもロードすると, nanが出る\n",
    "return_tables = pd.read_csv(LocalPaths.RETURN_PATH,index_col=0)\n",
    "return_tables.rename(columns={'0':0,'1':1,'2':2,'3':3},inplace=True)# 毎回読み込むごとに, strに変換されてしまう"
   ]
  },
  {
   "cell_type": "markdown",
   "id": "6955cb4f",
   "metadata": {},
   "source": [
    "# データ収集"
   ]
  },
  {
   "cell_type": "code",
   "execution_count": 11,
   "id": "f437f137",
   "metadata": {},
   "outputs": [
    {
     "name": "stderr",
     "output_type": "stream",
     "text": [
      "  0%|          | 0/1 [00:00<?, ?it/s]"
     ]
    },
    {
     "name": "stdout",
     "output_type": "stream",
     "text": [
      "getting race date from 2023-01-01 to 2023-02-01\n"
     ]
    },
    {
     "name": "stderr",
     "output_type": "stream",
     "text": [
      "100%|██████████| 1/1 [00:01<00:00,  1.21s/it]\n"
     ]
    }
   ],
   "source": [
    "# toの月は含まないので注意\n",
    "kaisai_date_list = prepare.scrape_kaisai_date(from_=\"2023-01-01\",to_='2023-02-01')"
   ]
  },
  {
   "cell_type": "code",
   "execution_count": 12,
   "id": "6435ec7a",
   "metadata": {},
   "outputs": [
    {
     "name": "stderr",
     "output_type": "stream",
     "text": [
      "[WDM] - ====== WebDriver manager ======\n",
      "[WDM] - Current google-chrome version is 109.0.5414\n",
      "[WDM] - Get LATEST driver version for 109.0.5414\n"
     ]
    },
    {
     "name": "stdout",
     "output_type": "stream",
     "text": [
      "\n",
      "\n"
     ]
    },
    {
     "name": "stderr",
     "output_type": "stream",
     "text": [
      "[WDM] - Driver [/Users/rince/.wdm/drivers/chromedriver/mac64/109.0.5414.74/chromedriver] found in cache\n",
      "  0%|          | 0/10 [00:00<?, ?it/s]"
     ]
    },
    {
     "name": "stdout",
     "output_type": "stream",
     "text": [
      "getting race_id_list\n",
      "scraping: https://race.netkeiba.com/top/race_list.html?kaisai_date=20230105\n"
     ]
    },
    {
     "name": "stderr",
     "output_type": "stream",
     "text": [
      " 10%|█         | 1/10 [00:09<01:25,  9.47s/it]"
     ]
    },
    {
     "name": "stdout",
     "output_type": "stream",
     "text": [
      "scraping: https://race.netkeiba.com/top/race_list.html?kaisai_date=20230107\n"
     ]
    },
    {
     "name": "stderr",
     "output_type": "stream",
     "text": [
      " 20%|██        | 2/10 [00:14<01:04,  8.00s/it]"
     ]
    },
    {
     "name": "stdout",
     "output_type": "stream",
     "text": [
      "scraping: https://race.netkeiba.com/top/race_list.html?kaisai_date=20230108\n"
     ]
    },
    {
     "name": "stderr",
     "output_type": "stream",
     "text": [
      " 30%|███       | 3/10 [00:19<00:49,  7.13s/it]"
     ]
    },
    {
     "name": "stdout",
     "output_type": "stream",
     "text": [
      "scraping: https://race.netkeiba.com/top/race_list.html?kaisai_date=20230109\n"
     ]
    },
    {
     "name": "stderr",
     "output_type": "stream",
     "text": [
      " 40%|████      | 4/10 [00:23<00:38,  6.36s/it]"
     ]
    },
    {
     "name": "stdout",
     "output_type": "stream",
     "text": [
      "scraping: https://race.netkeiba.com/top/race_list.html?kaisai_date=20230114\n"
     ]
    },
    {
     "name": "stderr",
     "output_type": "stream",
     "text": [
      " 50%|█████     | 5/10 [00:29<00:30,  6.07s/it]"
     ]
    },
    {
     "name": "stdout",
     "output_type": "stream",
     "text": [
      "scraping: https://race.netkeiba.com/top/race_list.html?kaisai_date=20230115\n"
     ]
    },
    {
     "name": "stderr",
     "output_type": "stream",
     "text": [
      " 60%|██████    | 6/10 [00:32<00:21,  5.39s/it]"
     ]
    },
    {
     "name": "stdout",
     "output_type": "stream",
     "text": [
      "scraping: https://race.netkeiba.com/top/race_list.html?kaisai_date=20230121\n"
     ]
    },
    {
     "name": "stderr",
     "output_type": "stream",
     "text": [
      " 70%|███████   | 7/10 [00:37<00:15,  5.16s/it]"
     ]
    },
    {
     "name": "stdout",
     "output_type": "stream",
     "text": [
      "scraping: https://race.netkeiba.com/top/race_list.html?kaisai_date=20230122\n"
     ]
    },
    {
     "name": "stderr",
     "output_type": "stream",
     "text": [
      " 80%|████████  | 8/10 [00:41<00:09,  4.78s/it]"
     ]
    },
    {
     "name": "stdout",
     "output_type": "stream",
     "text": [
      "scraping: https://race.netkeiba.com/top/race_list.html?kaisai_date=20230128\n"
     ]
    },
    {
     "name": "stderr",
     "output_type": "stream",
     "text": [
      " 90%|█████████ | 9/10 [00:45<00:04,  4.67s/it]"
     ]
    },
    {
     "name": "stdout",
     "output_type": "stream",
     "text": [
      "scraping: https://race.netkeiba.com/top/race_list.html?kaisai_date=20230129\n"
     ]
    },
    {
     "name": "stderr",
     "output_type": "stream",
     "text": [
      "100%|██████████| 10/10 [00:50<00:00,  5.05s/it]\n"
     ]
    }
   ],
   "source": [
    "race_id_list = prepare.scrape_race_id_list(kaisai_date_list)"
   ]
  },
  {
   "cell_type": "code",
   "execution_count": 21,
   "id": "0ce0d8af",
   "metadata": {},
   "outputs": [],
   "source": [
    "# データ収集\n",
    "new_return_tables = prepare.scrape_return_tables(race_id_list[:10])\n",
    "# データ更新\n",
    "return_tables = pd.read_csv(LocalPaths.RETURN_PATH,index_col=0)\n",
    "return_tables.rename(columns={'0':0,'1':1,'2':2,'3':3},inplace=True)\n",
    "new_return_tables.rename(columns={'0':0,'1':1,'2':2,'3':3},inplace=True)\n",
    "update_return_tables = funcs.update_data(return_tables,new_return_tables)\n",
    "update_return_tables.to_csv(LocalPaths.RETURN_PATH)\n"
   ]
  },
  {
   "cell_type": "code",
   "execution_count": 23,
   "id": "3a7072cb",
   "metadata": {},
   "outputs": [
    {
     "data": {
      "application/vnd.jupyter.widget-view+json": {
       "model_id": "2a82fea3666649fd8871230ff1d96c31",
       "version_major": 2,
       "version_minor": 0
      },
      "text/plain": [
       "HBox(children=(FloatProgress(value=0.0, max=10.0), HTML(value='')))"
      ]
     },
     "metadata": {},
     "output_type": "display_data"
    },
    {
     "name": "stdout",
     "output_type": "stream",
     "text": [
      "\n"
     ]
    }
   ],
   "source": [
    "# データ収集\n",
    "new_race_results = prepare.scrape_race_results(race_id_list[:10])\n",
    "# データ更新\n",
    "race__results = pd.read_csv(LocalPaths.RESULTS_PATH,index_col=0)\n",
    "update_race_results = funcs.update_data(race_results,new_race_results)\n",
    "update_race_results.to_csv(LocalPaths.RESULTS_PATH)"
   ]
  },
  {
   "cell_type": "code",
   "execution_count": 24,
   "id": "b767d920",
   "metadata": {},
   "outputs": [],
   "source": [
    "# データ収集\n",
    "horse_id_list = new_race_results['horse_id'].unique()\n",
    "new_horse_results = prepare.scrape_horse_results(horse_id_list[:10])\n",
    "# データ更新\n",
    "horse_results = pd.read_csv(LocalPaths.HORSE_RESULTS_PATH,index_col=0)\n",
    "update_horse_results = funcs.update_data(horse_results,new_horse_results)\n",
    "update_horse_results.to_csv(LocalPaths.HORSE_RESULTS_PATH)"
   ]
  },
  {
   "cell_type": "code",
   "execution_count": 25,
   "id": "f84f80fa",
   "metadata": {},
   "outputs": [],
   "source": [
    "# データ収集\n",
    "new_peds = prepare.scrape_peds(horse_id_list[:10])\n",
    "# データ更新\n",
    "peds = pd.read_csv(LocalPaths.PEDS_PATH,index_col=0)\n",
    "update_peds = funcs.update_data(peds,new_peds)\n",
    "update_peds.to_csv(LocalPaths.PEDS_PATH)"
   ]
  },
  {
   "cell_type": "markdown",
   "id": "e3ae4c5c",
   "metadata": {},
   "source": [
    "# データ形式"
   ]
  },
  {
   "attachments": {},
   "cell_type": "markdown",
   "id": "d12d53a3",
   "metadata": {},
   "source": [
    "### データ　見た目こんな感じ"
   ]
  },
  {
   "attachments": {},
   "cell_type": "markdown",
   "id": "8e1ee0b8",
   "metadata": {},
   "source": [
    "## race_results ※更新\n",
    "trainer_id, owner_id を追加\n",
    "過去のcsvファイルと異なるので, 注意"
   ]
  },
  {
   "cell_type": "code",
   "execution_count": 4,
   "id": "ab78b420",
   "metadata": {},
   "outputs": [
    {
     "data": {
      "text/html": [
       "<div>\n",
       "<style scoped>\n",
       "    .dataframe tbody tr th:only-of-type {\n",
       "        vertical-align: middle;\n",
       "    }\n",
       "\n",
       "    .dataframe tbody tr th {\n",
       "        vertical-align: top;\n",
       "    }\n",
       "\n",
       "    .dataframe thead th {\n",
       "        text-align: right;\n",
       "    }\n",
       "</style>\n",
       "<table border=\"1\" class=\"dataframe\">\n",
       "  <thead>\n",
       "    <tr style=\"text-align: right;\">\n",
       "      <th></th>\n",
       "      <th>着順</th>\n",
       "      <th>枠番</th>\n",
       "      <th>馬番</th>\n",
       "      <th>馬名</th>\n",
       "      <th>性齢</th>\n",
       "      <th>斤量</th>\n",
       "      <th>騎手</th>\n",
       "      <th>タイム</th>\n",
       "      <th>着差</th>\n",
       "      <th>単勝</th>\n",
       "      <th>...</th>\n",
       "      <th>調教師</th>\n",
       "      <th>course_len</th>\n",
       "      <th>weather</th>\n",
       "      <th>race_type</th>\n",
       "      <th>ground_state</th>\n",
       "      <th>date</th>\n",
       "      <th>horse_id</th>\n",
       "      <th>jockey_id</th>\n",
       "      <th>trainer_id</th>\n",
       "      <th>owner_id</th>\n",
       "    </tr>\n",
       "  </thead>\n",
       "  <tbody>\n",
       "    <tr>\n",
       "      <th>202306010101</th>\n",
       "      <td>1</td>\n",
       "      <td>7</td>\n",
       "      <td>14</td>\n",
       "      <td>シュバルツガイスト</td>\n",
       "      <td>牡3</td>\n",
       "      <td>56</td>\n",
       "      <td>武豊</td>\n",
       "      <td>1:12.6</td>\n",
       "      <td>NaN</td>\n",
       "      <td>1.8</td>\n",
       "      <td>...</td>\n",
       "      <td>[東] 国枝栄</td>\n",
       "      <td>1200</td>\n",
       "      <td>晴</td>\n",
       "      <td>ダート</td>\n",
       "      <td>良</td>\n",
       "      <td>2023年1月5日</td>\n",
       "      <td>2020103575</td>\n",
       "      <td>666</td>\n",
       "      <td>399</td>\n",
       "      <td>356803</td>\n",
       "    </tr>\n",
       "    <tr>\n",
       "      <th>202306010101</th>\n",
       "      <td>2</td>\n",
       "      <td>3</td>\n",
       "      <td>5</td>\n",
       "      <td>ジェイケイファイン</td>\n",
       "      <td>牡3</td>\n",
       "      <td>56</td>\n",
       "      <td>内田博幸</td>\n",
       "      <td>1:12.9</td>\n",
       "      <td>1.3/4</td>\n",
       "      <td>7.4</td>\n",
       "      <td>...</td>\n",
       "      <td>[東] 奥平雅士</td>\n",
       "      <td>1200</td>\n",
       "      <td>晴</td>\n",
       "      <td>ダート</td>\n",
       "      <td>良</td>\n",
       "      <td>2023年1月5日</td>\n",
       "      <td>2020107073</td>\n",
       "      <td>422</td>\n",
       "      <td>1074</td>\n",
       "      <td>702009</td>\n",
       "    </tr>\n",
       "    <tr>\n",
       "      <th>202306010101</th>\n",
       "      <td>3</td>\n",
       "      <td>1</td>\n",
       "      <td>1</td>\n",
       "      <td>レディアス</td>\n",
       "      <td>牝3</td>\n",
       "      <td>54</td>\n",
       "      <td>津村明秀</td>\n",
       "      <td>1:12.9</td>\n",
       "      <td>クビ</td>\n",
       "      <td>36.1</td>\n",
       "      <td>...</td>\n",
       "      <td>[東] 鈴木慎太</td>\n",
       "      <td>1200</td>\n",
       "      <td>晴</td>\n",
       "      <td>ダート</td>\n",
       "      <td>良</td>\n",
       "      <td>2023年1月5日</td>\n",
       "      <td>2020102562</td>\n",
       "      <td>1092</td>\n",
       "      <td>1179</td>\n",
       "      <td>763033</td>\n",
       "    </tr>\n",
       "    <tr>\n",
       "      <th>202306010101</th>\n",
       "      <td>4</td>\n",
       "      <td>8</td>\n",
       "      <td>15</td>\n",
       "      <td>ハローマイラブリー</td>\n",
       "      <td>牝3</td>\n",
       "      <td>54</td>\n",
       "      <td>三浦皇成</td>\n",
       "      <td>1:13.4</td>\n",
       "      <td>3</td>\n",
       "      <td>4.2</td>\n",
       "      <td>...</td>\n",
       "      <td>[東] 伊坂重信</td>\n",
       "      <td>1200</td>\n",
       "      <td>晴</td>\n",
       "      <td>ダート</td>\n",
       "      <td>良</td>\n",
       "      <td>2023年1月5日</td>\n",
       "      <td>2020106345</td>\n",
       "      <td>1122</td>\n",
       "      <td>1177</td>\n",
       "      <td>729005</td>\n",
       "    </tr>\n",
       "    <tr>\n",
       "      <th>202306010101</th>\n",
       "      <td>5</td>\n",
       "      <td>5</td>\n",
       "      <td>9</td>\n",
       "      <td>ベアカワイコチャン</td>\n",
       "      <td>牝3</td>\n",
       "      <td>54</td>\n",
       "      <td>松岡正海</td>\n",
       "      <td>1:13.9</td>\n",
       "      <td>3</td>\n",
       "      <td>7.9</td>\n",
       "      <td>...</td>\n",
       "      <td>[東] 杉浦宏昭</td>\n",
       "      <td>1200</td>\n",
       "      <td>晴</td>\n",
       "      <td>ダート</td>\n",
       "      <td>良</td>\n",
       "      <td>2023年1月5日</td>\n",
       "      <td>2020100039</td>\n",
       "      <td>1085</td>\n",
       "      <td>1008</td>\n",
       "      <td>372033</td>\n",
       "    </tr>\n",
       "  </tbody>\n",
       "</table>\n",
       "<p>5 rows × 22 columns</p>\n",
       "</div>"
      ],
      "text/plain": [
       "             着順  枠番  馬番         馬名  性齢  斤量    騎手     タイム     着差    単勝  ...  \\\n",
       "202306010101  1   7  14  シュバルツガイスト  牡3  56    武豊  1:12.6    NaN   1.8  ...   \n",
       "202306010101  2   3   5  ジェイケイファイン  牡3  56  内田博幸  1:12.9  1.3/4   7.4  ...   \n",
       "202306010101  3   1   1      レディアス  牝3  54  津村明秀  1:12.9     クビ  36.1  ...   \n",
       "202306010101  4   8  15  ハローマイラブリー  牝3  54  三浦皇成  1:13.4      3   4.2  ...   \n",
       "202306010101  5   5   9  ベアカワイコチャン  牝3  54  松岡正海  1:13.9      3   7.9  ...   \n",
       "\n",
       "                   調教師 course_len weather  race_type ground_state       date  \\\n",
       "202306010101   [東] 国枝栄       1200       晴        ダート            良  2023年1月5日   \n",
       "202306010101  [東] 奥平雅士       1200       晴        ダート            良  2023年1月5日   \n",
       "202306010101  [東] 鈴木慎太       1200       晴        ダート            良  2023年1月5日   \n",
       "202306010101  [東] 伊坂重信       1200       晴        ダート            良  2023年1月5日   \n",
       "202306010101  [東] 杉浦宏昭       1200       晴        ダート            良  2023年1月5日   \n",
       "\n",
       "                horse_id jockey_id  trainer_id  owner_id  \n",
       "202306010101  2020103575       666         399    356803  \n",
       "202306010101  2020107073       422        1074    702009  \n",
       "202306010101  2020102562      1092        1179    763033  \n",
       "202306010101  2020106345      1122        1177    729005  \n",
       "202306010101  2020100039      1085        1008    372033  \n",
       "\n",
       "[5 rows x 22 columns]"
      ]
     },
     "execution_count": 4,
     "metadata": {},
     "output_type": "execute_result"
    }
   ],
   "source": [
    "\"\"\"\n",
    "    レース結果を記録したテーブル\n",
    "    results.index : Int64Index, index は race_id\n",
    "    index だけでは一意にレコードが求まらないので, 注意\n",
    "\"\"\"\n",
    "race_results.head() # index : race_id"
   ]
  },
  {
   "cell_type": "code",
   "execution_count": 7,
   "id": "323f2e08",
   "metadata": {},
   "outputs": [
    {
     "data": {
      "text/html": [
       "<div>\n",
       "<style scoped>\n",
       "    .dataframe tbody tr th:only-of-type {\n",
       "        vertical-align: middle;\n",
       "    }\n",
       "\n",
       "    .dataframe tbody tr th {\n",
       "        vertical-align: top;\n",
       "    }\n",
       "\n",
       "    .dataframe thead th {\n",
       "        text-align: right;\n",
       "    }\n",
       "</style>\n",
       "<table border=\"1\" class=\"dataframe\">\n",
       "  <thead>\n",
       "    <tr style=\"text-align: right;\">\n",
       "      <th></th>\n",
       "      <th>日付</th>\n",
       "      <th>開催</th>\n",
       "      <th>天気</th>\n",
       "      <th>R</th>\n",
       "      <th>レース名</th>\n",
       "      <th>映像</th>\n",
       "      <th>頭数</th>\n",
       "      <th>枠番</th>\n",
       "      <th>馬番</th>\n",
       "      <th>オッズ</th>\n",
       "      <th>...</th>\n",
       "      <th>着差</th>\n",
       "      <th>ﾀｲﾑ指数</th>\n",
       "      <th>通過</th>\n",
       "      <th>ペース</th>\n",
       "      <th>上り</th>\n",
       "      <th>馬体重</th>\n",
       "      <th>厩舎ｺﾒﾝﾄ</th>\n",
       "      <th>備考</th>\n",
       "      <th>勝ち馬(2着馬)</th>\n",
       "      <th>賞金</th>\n",
       "    </tr>\n",
       "  </thead>\n",
       "  <tbody>\n",
       "    <tr>\n",
       "      <th>2017105800</th>\n",
       "      <td>2021/07/08</td>\n",
       "      <td>名古屋</td>\n",
       "      <td>曇</td>\n",
       "      <td>7.0</td>\n",
       "      <td>C12組</td>\n",
       "      <td>NaN</td>\n",
       "      <td>10.0</td>\n",
       "      <td>4.0</td>\n",
       "      <td>4.0</td>\n",
       "      <td>6.6</td>\n",
       "      <td>...</td>\n",
       "      <td>NaN</td>\n",
       "      <td>**</td>\n",
       "      <td>4-3</td>\n",
       "      <td>0.0-39.5</td>\n",
       "      <td>NaN</td>\n",
       "      <td>479(-1)</td>\n",
       "      <td>NaN</td>\n",
       "      <td>NaN</td>\n",
       "      <td>ナツミフルーリー</td>\n",
       "      <td>NaN</td>\n",
       "    </tr>\n",
       "    <tr>\n",
       "      <th>2017105800</th>\n",
       "      <td>2021/06/30</td>\n",
       "      <td>名古屋</td>\n",
       "      <td>曇</td>\n",
       "      <td>5.0</td>\n",
       "      <td>C14組</td>\n",
       "      <td>NaN</td>\n",
       "      <td>10.0</td>\n",
       "      <td>3.0</td>\n",
       "      <td>3.0</td>\n",
       "      <td>12.2</td>\n",
       "      <td>...</td>\n",
       "      <td>0.7</td>\n",
       "      <td>**</td>\n",
       "      <td>5-6-5</td>\n",
       "      <td>0.0-40.3</td>\n",
       "      <td>39.4</td>\n",
       "      <td>480(-4)</td>\n",
       "      <td>NaN</td>\n",
       "      <td>NaN</td>\n",
       "      <td>マルカブレーブ</td>\n",
       "      <td>10.2</td>\n",
       "    </tr>\n",
       "    <tr>\n",
       "      <th>2017105800</th>\n",
       "      <td>2021/06/16</td>\n",
       "      <td>名古屋</td>\n",
       "      <td>雨</td>\n",
       "      <td>5.0</td>\n",
       "      <td>美穂ちゃんバースデイ</td>\n",
       "      <td>NaN</td>\n",
       "      <td>11.0</td>\n",
       "      <td>2.0</td>\n",
       "      <td>2.0</td>\n",
       "      <td>13.5</td>\n",
       "      <td>...</td>\n",
       "      <td>2.7</td>\n",
       "      <td>**</td>\n",
       "      <td>10-10-8</td>\n",
       "      <td>0.0-38.2</td>\n",
       "      <td>38.4</td>\n",
       "      <td>484(+3)</td>\n",
       "      <td>NaN</td>\n",
       "      <td>NaN</td>\n",
       "      <td>タイキスピネル</td>\n",
       "      <td>2.6</td>\n",
       "    </tr>\n",
       "    <tr>\n",
       "      <th>2017105800</th>\n",
       "      <td>2021/06/03</td>\n",
       "      <td>名古屋</td>\n",
       "      <td>晴</td>\n",
       "      <td>6.0</td>\n",
       "      <td>C14組</td>\n",
       "      <td>NaN</td>\n",
       "      <td>10.0</td>\n",
       "      <td>8.0</td>\n",
       "      <td>9.0</td>\n",
       "      <td>3.8</td>\n",
       "      <td>...</td>\n",
       "      <td>1.0</td>\n",
       "      <td>**</td>\n",
       "      <td>3-4-4</td>\n",
       "      <td>0.0-39.6</td>\n",
       "      <td>40.1</td>\n",
       "      <td>481(-6)</td>\n",
       "      <td>NaN</td>\n",
       "      <td>NaN</td>\n",
       "      <td>トーホウボッカ</td>\n",
       "      <td>NaN</td>\n",
       "    </tr>\n",
       "    <tr>\n",
       "      <th>2017105800</th>\n",
       "      <td>2021/05/19</td>\n",
       "      <td>名古屋</td>\n",
       "      <td>雨</td>\n",
       "      <td>5.0</td>\n",
       "      <td>C15組</td>\n",
       "      <td>NaN</td>\n",
       "      <td>11.0</td>\n",
       "      <td>8.0</td>\n",
       "      <td>11.0</td>\n",
       "      <td>29.8</td>\n",
       "      <td>...</td>\n",
       "      <td>0.5</td>\n",
       "      <td>**</td>\n",
       "      <td>3-3-3</td>\n",
       "      <td>0.0-38.4</td>\n",
       "      <td>38.6</td>\n",
       "      <td>487(0)</td>\n",
       "      <td>NaN</td>\n",
       "      <td>NaN</td>\n",
       "      <td>キングリアリティー</td>\n",
       "      <td>10.2</td>\n",
       "    </tr>\n",
       "  </tbody>\n",
       "</table>\n",
       "<p>5 rows × 28 columns</p>\n",
       "</div>"
      ],
      "text/plain": [
       "                    日付   開催 天気    R        レース名  映像    頭数   枠番    馬番   オッズ  \\\n",
       "2017105800  2021/07/08  名古屋  曇  7.0        C12組 NaN  10.0  4.0   4.0   6.6   \n",
       "2017105800  2021/06/30  名古屋  曇  5.0        C14組 NaN  10.0  3.0   3.0  12.2   \n",
       "2017105800  2021/06/16  名古屋  雨  5.0  美穂ちゃんバースデイ NaN  11.0  2.0   2.0  13.5   \n",
       "2017105800  2021/06/03  名古屋  晴  6.0        C14組 NaN  10.0  8.0   9.0   3.8   \n",
       "2017105800  2021/05/19  名古屋  雨  5.0        C15組 NaN  11.0  8.0  11.0  29.8   \n",
       "\n",
       "            ...   着差 ﾀｲﾑ指数       通過       ペース    上り      馬体重 厩舎ｺﾒﾝﾄ  備考  \\\n",
       "2017105800  ...  NaN    **      4-3  0.0-39.5   NaN  479(-1)    NaN NaN   \n",
       "2017105800  ...  0.7    **    5-6-5  0.0-40.3  39.4  480(-4)    NaN NaN   \n",
       "2017105800  ...  2.7    **  10-10-8  0.0-38.2  38.4  484(+3)    NaN NaN   \n",
       "2017105800  ...  1.0    **    3-4-4  0.0-39.6  40.1  481(-6)    NaN NaN   \n",
       "2017105800  ...  0.5    **    3-3-3  0.0-38.4  38.6   487(0)    NaN NaN   \n",
       "\n",
       "             勝ち馬(2着馬)    賞金  \n",
       "2017105800   ナツミフルーリー   NaN  \n",
       "2017105800    マルカブレーブ  10.2  \n",
       "2017105800    タイキスピネル   2.6  \n",
       "2017105800    トーホウボッカ   NaN  \n",
       "2017105800  キングリアリティー  10.2  \n",
       "\n",
       "[5 rows x 28 columns]"
      ]
     },
     "execution_count": 7,
     "metadata": {},
     "output_type": "execute_result"
    }
   ],
   "source": [
    "\"\"\" \n",
    "    馬の過去の全戦績を記したテーブル\n",
    "    horse_results.index : Int64Index, index は horse_id\n",
    "    indexはhorse_id\n",
    "    こちらも, index だけでは一意にレコードが定まらないので注意\n",
    "\"\"\"\n",
    "horse_results.head()"
   ]
  },
  {
   "cell_type": "code",
   "execution_count": 8,
   "id": "6b0b4287",
   "metadata": {},
   "outputs": [
    {
     "data": {
      "text/html": [
       "<div>\n",
       "<style scoped>\n",
       "    .dataframe tbody tr th:only-of-type {\n",
       "        vertical-align: middle;\n",
       "    }\n",
       "\n",
       "    .dataframe tbody tr th {\n",
       "        vertical-align: top;\n",
       "    }\n",
       "\n",
       "    .dataframe thead th {\n",
       "        text-align: right;\n",
       "    }\n",
       "</style>\n",
       "<table border=\"1\" class=\"dataframe\">\n",
       "  <thead>\n",
       "    <tr style=\"text-align: right;\">\n",
       "      <th></th>\n",
       "      <th>peds_0</th>\n",
       "      <th>peds_1</th>\n",
       "      <th>peds_2</th>\n",
       "      <th>peds_3</th>\n",
       "      <th>peds_4</th>\n",
       "      <th>peds_5</th>\n",
       "      <th>peds_6</th>\n",
       "      <th>peds_7</th>\n",
       "      <th>peds_8</th>\n",
       "      <th>peds_9</th>\n",
       "      <th>...</th>\n",
       "      <th>peds_52</th>\n",
       "      <th>peds_53</th>\n",
       "      <th>peds_54</th>\n",
       "      <th>peds_55</th>\n",
       "      <th>peds_56</th>\n",
       "      <th>peds_57</th>\n",
       "      <th>peds_58</th>\n",
       "      <th>peds_59</th>\n",
       "      <th>peds_60</th>\n",
       "      <th>peds_61</th>\n",
       "    </tr>\n",
       "  </thead>\n",
       "  <tbody>\n",
       "    <tr>\n",
       "      <th>2017100590</th>\n",
       "      <td>クロフネ</td>\n",
       "      <td>ハッピーティア</td>\n",
       "      <td>フレンチデピュティ</td>\n",
       "      <td>ブルーアヴェニュー</td>\n",
       "      <td>ホワイトマズル</td>\n",
       "      <td>ハッピーチケット</td>\n",
       "      <td>DeputyMinister</td>\n",
       "      <td>Mitterand</td>\n",
       "      <td>ClassicGoGo</td>\n",
       "      <td>ElizaBlue</td>\n",
       "      <td>...</td>\n",
       "      <td>Tyrant</td>\n",
       "      <td>FlightTable</td>\n",
       "      <td>Halo</td>\n",
       "      <td>WishingWell</td>\n",
       "      <td>Lyphard</td>\n",
       "      <td>Prodice</td>\n",
       "      <td>Herbager</td>\n",
       "      <td>SilverCoin</td>\n",
       "      <td>チャイナロック</td>\n",
       "      <td>ソシアルバターフライ</td>\n",
       "    </tr>\n",
       "    <tr>\n",
       "      <th>2017106441</th>\n",
       "      <td>スピルバーグ</td>\n",
       "      <td>ミュージー</td>\n",
       "      <td>ディープインパクト</td>\n",
       "      <td>プリンセスオリビア</td>\n",
       "      <td>ElPrado</td>\n",
       "      <td>Foible</td>\n",
       "      <td>サンデーサイレンス</td>\n",
       "      <td>ウインドインハーヘア</td>\n",
       "      <td>Lycius</td>\n",
       "      <td>DanceImage</td>\n",
       "      <td>...</td>\n",
       "      <td>TomFool</td>\n",
       "      <td>Ghazni</td>\n",
       "      <td>Nasrullah</td>\n",
       "      <td>Lalun</td>\n",
       "      <td>PrinceJohn</td>\n",
       "      <td>NileLily</td>\n",
       "      <td>Turnto</td>\n",
       "      <td>YourGame</td>\n",
       "      <td>RestlessNative</td>\n",
       "      <td>EnchantedEve</td>\n",
       "    </tr>\n",
       "    <tr>\n",
       "      <th>2017106225</th>\n",
       "      <td>ケープブランコ</td>\n",
       "      <td>ヒラボクキャロル</td>\n",
       "      <td>Galileo</td>\n",
       "      <td>LaurelDelight</td>\n",
       "      <td>ダンスインザダーク</td>\n",
       "      <td>チョウカイキャロル</td>\n",
       "      <td>SadlersWells</td>\n",
       "      <td>アーバンシー</td>\n",
       "      <td>Presidium</td>\n",
       "      <td>Foudroyer</td>\n",
       "      <td>...</td>\n",
       "      <td>KeytotheMint</td>\n",
       "      <td>NativePartner</td>\n",
       "      <td>HailtoReason</td>\n",
       "      <td>Bramalea</td>\n",
       "      <td>Graustark</td>\n",
       "      <td>GoldenTrail</td>\n",
       "      <td>RaiseaNative</td>\n",
       "      <td>GoldDigger</td>\n",
       "      <td>VaguelyNoble</td>\n",
       "      <td>SleekDancer</td>\n",
       "    </tr>\n",
       "    <tr>\n",
       "      <th>2014105693</th>\n",
       "      <td>キンシャサノキセキ</td>\n",
       "      <td>マイワイルドローズ</td>\n",
       "      <td>フジキセキ</td>\n",
       "      <td>ケルトシャーン</td>\n",
       "      <td>WildAgain</td>\n",
       "      <td>RoseofMull</td>\n",
       "      <td>サンデーサイレンス</td>\n",
       "      <td>ミルレーサー</td>\n",
       "      <td>PleasantColony</td>\n",
       "      <td>Featherhill</td>\n",
       "      <td>...</td>\n",
       "      <td>Dante</td>\n",
       "      <td>Clovelly</td>\n",
       "      <td>SwordDancer</td>\n",
       "      <td>Kerala</td>\n",
       "      <td>Buckpasser</td>\n",
       "      <td>Intriguing</td>\n",
       "      <td>Ribot</td>\n",
       "      <td>Pocahontas</td>\n",
       "      <td>DarkStar</td>\n",
       "      <td>Vulcania</td>\n",
       "    </tr>\n",
       "    <tr>\n",
       "      <th>2013101632</th>\n",
       "      <td>メイショウサムソン</td>\n",
       "      <td>シルクヴァルキリー</td>\n",
       "      <td>オペラハウス</td>\n",
       "      <td>マイヴィヴィアン</td>\n",
       "      <td>マーベラスサンデー</td>\n",
       "      <td>シルクフレアー</td>\n",
       "      <td>SadlersWells</td>\n",
       "      <td>Colorspin</td>\n",
       "      <td>ダンシングブレーヴ</td>\n",
       "      <td>ウイルプリンセス</td>\n",
       "      <td>...</td>\n",
       "      <td>LaughAloud</td>\n",
       "      <td>HoldMeClose</td>\n",
       "      <td>Nearctic</td>\n",
       "      <td>Natalma</td>\n",
       "      <td>AdmiralsVoyage</td>\n",
       "      <td>Petitioner</td>\n",
       "      <td>RaiseaNative</td>\n",
       "      <td>SweetTooth</td>\n",
       "      <td>ノノアルコ</td>\n",
       "      <td>Mortefontaine</td>\n",
       "    </tr>\n",
       "  </tbody>\n",
       "</table>\n",
       "<p>5 rows × 62 columns</p>\n",
       "</div>"
      ],
      "text/plain": [
       "               peds_0     peds_1     peds_2         peds_3     peds_4  \\\n",
       "2017100590       クロフネ    ハッピーティア  フレンチデピュティ      ブルーアヴェニュー    ホワイトマズル   \n",
       "2017106441     スピルバーグ      ミュージー  ディープインパクト      プリンセスオリビア    ElPrado   \n",
       "2017106225    ケープブランコ   ヒラボクキャロル    Galileo  LaurelDelight  ダンスインザダーク   \n",
       "2014105693  キンシャサノキセキ  マイワイルドローズ      フジキセキ        ケルトシャーン  WildAgain   \n",
       "2013101632  メイショウサムソン  シルクヴァルキリー     オペラハウス       マイヴィヴィアン  マーベラスサンデー   \n",
       "\n",
       "                peds_5          peds_6      peds_7          peds_8  \\\n",
       "2017100590    ハッピーチケット  DeputyMinister   Mitterand     ClassicGoGo   \n",
       "2017106441      Foible       サンデーサイレンス  ウインドインハーヘア          Lycius   \n",
       "2017106225   チョウカイキャロル    SadlersWells      アーバンシー       Presidium   \n",
       "2014105693  RoseofMull       サンデーサイレンス      ミルレーサー  PleasantColony   \n",
       "2013101632     シルクフレアー    SadlersWells   Colorspin       ダンシングブレーヴ   \n",
       "\n",
       "                 peds_9  ...       peds_52        peds_53       peds_54  \\\n",
       "2017100590    ElizaBlue  ...        Tyrant    FlightTable          Halo   \n",
       "2017106441   DanceImage  ...       TomFool         Ghazni     Nasrullah   \n",
       "2017106225    Foudroyer  ...  KeytotheMint  NativePartner  HailtoReason   \n",
       "2014105693  Featherhill  ...         Dante       Clovelly   SwordDancer   \n",
       "2013101632     ウイルプリンセス  ...    LaughAloud    HoldMeClose      Nearctic   \n",
       "\n",
       "                peds_55         peds_56      peds_57       peds_58  \\\n",
       "2017100590  WishingWell         Lyphard      Prodice      Herbager   \n",
       "2017106441        Lalun      PrinceJohn     NileLily        Turnto   \n",
       "2017106225     Bramalea       Graustark  GoldenTrail  RaiseaNative   \n",
       "2014105693       Kerala      Buckpasser   Intriguing         Ribot   \n",
       "2013101632      Natalma  AdmiralsVoyage   Petitioner  RaiseaNative   \n",
       "\n",
       "               peds_59         peds_60        peds_61  \n",
       "2017100590  SilverCoin         チャイナロック     ソシアルバターフライ  \n",
       "2017106441    YourGame  RestlessNative   EnchantedEve  \n",
       "2017106225  GoldDigger    VaguelyNoble    SleekDancer  \n",
       "2014105693  Pocahontas        DarkStar       Vulcania  \n",
       "2013101632  SweetTooth           ノノアルコ  Mortefontaine  \n",
       "\n",
       "[5 rows x 62 columns]"
      ]
     },
     "execution_count": 8,
     "metadata": {},
     "output_type": "execute_result"
    }
   ],
   "source": [
    "\"\"\" \n",
    "    馬の血統データ\n",
    "    peds.index : Int64Index, index は horse_id\n",
    "    カタカナ, 英字が混じっているので, 注意\n",
    "\"\"\"\n",
    "peds.head() # 5世代分の血統データ"
   ]
  },
  {
   "cell_type": "code",
   "execution_count": 13,
   "id": "cb9957a5",
   "metadata": {},
   "outputs": [
    {
     "data": {
      "text/plain": [
       "Int64Index([202001010101, 202001010101, 202001010101, 202001010101,\n",
       "            202001010101, 202001010101, 202001010101, 202001010102,\n",
       "            202001010102, 202001010102,\n",
       "            ...\n",
       "            202201020611, 202201020611, 202201020612, 202201020612,\n",
       "            202201020612, 202201020612, 202201020612, 202201020612,\n",
       "            202201020612, 202201020612],\n",
       "           dtype='int64', length=70985)"
      ]
     },
     "execution_count": 13,
     "metadata": {},
     "output_type": "execute_result"
    }
   ],
   "source": [
    "return_tables.index"
   ]
  },
  {
   "cell_type": "code",
   "execution_count": 12,
   "id": "95fe9a86",
   "metadata": {},
   "outputs": [
    {
     "data": {
      "text/html": [
       "<div>\n",
       "<style scoped>\n",
       "    .dataframe tbody tr th:only-of-type {\n",
       "        vertical-align: middle;\n",
       "    }\n",
       "\n",
       "    .dataframe tbody tr th {\n",
       "        vertical-align: top;\n",
       "    }\n",
       "\n",
       "    .dataframe thead th {\n",
       "        text-align: right;\n",
       "    }\n",
       "</style>\n",
       "<table border=\"1\" class=\"dataframe\">\n",
       "  <thead>\n",
       "    <tr style=\"text-align: right;\">\n",
       "      <th></th>\n",
       "      <th>0</th>\n",
       "      <th>1</th>\n",
       "      <th>2</th>\n",
       "      <th>3</th>\n",
       "    </tr>\n",
       "  </thead>\n",
       "  <tbody>\n",
       "    <tr>\n",
       "      <th>202001010101</th>\n",
       "      <td>単勝</td>\n",
       "      <td>6</td>\n",
       "      <td>1600</td>\n",
       "      <td>3</td>\n",
       "    </tr>\n",
       "    <tr>\n",
       "      <th>202001010101</th>\n",
       "      <td>複勝</td>\n",
       "      <td>6br2</td>\n",
       "      <td>490br130</td>\n",
       "      <td>4br2</td>\n",
       "    </tr>\n",
       "    <tr>\n",
       "      <th>202001010101</th>\n",
       "      <td>馬連</td>\n",
       "      <td>2 - 6</td>\n",
       "      <td>1410</td>\n",
       "      <td>4</td>\n",
       "    </tr>\n",
       "    <tr>\n",
       "      <th>202001010101</th>\n",
       "      <td>ワイド</td>\n",
       "      <td>2 - 6br3 - 6br2 - 3</td>\n",
       "      <td>150br170br110</td>\n",
       "      <td>3br4br1</td>\n",
       "    </tr>\n",
       "    <tr>\n",
       "      <th>202001010101</th>\n",
       "      <td>馬単</td>\n",
       "      <td>6 → 2</td>\n",
       "      <td>3920</td>\n",
       "      <td>9</td>\n",
       "    </tr>\n",
       "  </tbody>\n",
       "</table>\n",
       "</div>"
      ],
      "text/plain": [
       "                0                    1              2        3\n",
       "202001010101   単勝                    6           1600        3\n",
       "202001010101   複勝                 6br2       490br130     4br2\n",
       "202001010101   馬連                2 - 6           1410        4\n",
       "202001010101  ワイド  2 - 6br3 - 6br2 - 3  150br170br110  3br4br1\n",
       "202001010101   馬単                6 → 2           3920        9"
      ]
     },
     "execution_count": 12,
     "metadata": {},
     "output_type": "execute_result"
    }
   ],
   "source": [
    "\"\"\" \n",
    "    return_tables レースの払い戻し金額が記されたテーブル\n",
    "    return_tables.index : Int64Index, index は race_id\n",
    "    こちらも, index では一意にレコードが定まらない\n",
    "    カラムの\n",
    "        0 : 払い戻し種別\n",
    "        1 : 馬番, \n",
    "            ex) 6 なら 馬番6が払い戻し対象\n",
    "        2 : 払い戻し金額 (単位 : 円, 100円賭けた時の払い戻し金額), \n",
    "            ex) 複勝で カラム(2) が 490br130 なら, 馬番6の払い戻しが 490円 馬番2が130円\n",
    "        3 : 多分人気度を表してる, 使ってないから dont care\n",
    "\"\"\"\n",
    "return_tables.head()"
   ]
  },
  {
   "cell_type": "markdown",
   "id": "d537a25d",
   "metadata": {},
   "source": [
    "# データ前処理"
   ]
  },
  {
   "cell_type": "code",
   "execution_count": 19,
   "id": "97ea7c25",
   "metadata": {},
   "outputs": [],
   "source": [
    "%autoreload"
   ]
  },
  {
   "cell_type": "code",
   "execution_count": 3,
   "id": "10ee1f44",
   "metadata": {},
   "outputs": [
    {
     "data": {
      "application/vnd.jupyter.widget-view+json": {
       "model_id": "22e716437f224c33908f9f57b9cea55b",
       "version_major": 2,
       "version_minor": 0
      },
      "text/plain": [
       "HBox(children=(FloatProgress(value=0.0), HTML(value='')))"
      ]
     },
     "metadata": {},
     "output_type": "display_data"
    },
    {
     "name": "stdout",
     "output_type": "stream",
     "text": [
      "\n",
      "finish regularize\n"
     ]
    }
   ],
   "source": [
    "race_results_processor = preprocess.RaceResults(race_results)\n",
    "horse_results_processor = preprocess.HorseResults(horse_results)\n",
    "peds_processor = preprocess.Peds(peds) # <= 結構時間かかる\n",
    "\n",
    "race_results_processor.preprocessing()\n",
    "horse_results_processor.preprocessing()\n",
    "peds_processor.preprocessing()\n"
   ]
  },
  {
   "attachments": {},
   "cell_type": "markdown",
   "id": "ad2bf1b6",
   "metadata": {},
   "source": [
    "### メモ date : f(date) -> rad で 角度に変換"
   ]
  },
  {
   "cell_type": "code",
   "execution_count": 4,
   "id": "c06816b6",
   "metadata": {},
   "outputs": [
    {
     "data": {
      "text/html": [
       "<div>\n",
       "<style scoped>\n",
       "    .dataframe tbody tr th:only-of-type {\n",
       "        vertical-align: middle;\n",
       "    }\n",
       "\n",
       "    .dataframe tbody tr th {\n",
       "        vertical-align: top;\n",
       "    }\n",
       "\n",
       "    .dataframe thead th {\n",
       "        text-align: right;\n",
       "    }\n",
       "</style>\n",
       "<table border=\"1\" class=\"dataframe\">\n",
       "  <thead>\n",
       "    <tr style=\"text-align: right;\">\n",
       "      <th></th>\n",
       "      <th>枠番</th>\n",
       "      <th>馬番</th>\n",
       "      <th>斤量</th>\n",
       "      <th>単勝</th>\n",
       "      <th>course_len</th>\n",
       "      <th>weather</th>\n",
       "      <th>race_type</th>\n",
       "      <th>ground_state</th>\n",
       "      <th>date</th>\n",
       "      <th>horse_id</th>\n",
       "      <th>jockey_id</th>\n",
       "      <th>trainer_id</th>\n",
       "      <th>owner_id</th>\n",
       "      <th>rank</th>\n",
       "      <th>性</th>\n",
       "      <th>年齢</th>\n",
       "      <th>体重</th>\n",
       "      <th>体重変化</th>\n",
       "      <th>開催</th>\n",
       "      <th>n_horse</th>\n",
       "    </tr>\n",
       "  </thead>\n",
       "  <tbody>\n",
       "    <tr>\n",
       "      <th>202306010101</th>\n",
       "      <td>7</td>\n",
       "      <td>14</td>\n",
       "      <td>56</td>\n",
       "      <td>1.8</td>\n",
       "      <td>12.0</td>\n",
       "      <td>晴</td>\n",
       "      <td>ダート</td>\n",
       "      <td>良</td>\n",
       "      <td>2023-01-05</td>\n",
       "      <td>2020103575</td>\n",
       "      <td>666</td>\n",
       "      <td>399</td>\n",
       "      <td>356803</td>\n",
       "      <td>1</td>\n",
       "      <td>牡</td>\n",
       "      <td>3</td>\n",
       "      <td>486</td>\n",
       "      <td>-4</td>\n",
       "      <td>06</td>\n",
       "      <td>16</td>\n",
       "    </tr>\n",
       "    <tr>\n",
       "      <th>202306010101</th>\n",
       "      <td>3</td>\n",
       "      <td>5</td>\n",
       "      <td>56</td>\n",
       "      <td>7.4</td>\n",
       "      <td>12.0</td>\n",
       "      <td>晴</td>\n",
       "      <td>ダート</td>\n",
       "      <td>良</td>\n",
       "      <td>2023-01-05</td>\n",
       "      <td>2020107073</td>\n",
       "      <td>422</td>\n",
       "      <td>1074</td>\n",
       "      <td>702009</td>\n",
       "      <td>2</td>\n",
       "      <td>牡</td>\n",
       "      <td>3</td>\n",
       "      <td>472</td>\n",
       "      <td>-8</td>\n",
       "      <td>06</td>\n",
       "      <td>16</td>\n",
       "    </tr>\n",
       "    <tr>\n",
       "      <th>202306010101</th>\n",
       "      <td>1</td>\n",
       "      <td>1</td>\n",
       "      <td>54</td>\n",
       "      <td>36.1</td>\n",
       "      <td>12.0</td>\n",
       "      <td>晴</td>\n",
       "      <td>ダート</td>\n",
       "      <td>良</td>\n",
       "      <td>2023-01-05</td>\n",
       "      <td>2020102562</td>\n",
       "      <td>1092</td>\n",
       "      <td>1179</td>\n",
       "      <td>763033</td>\n",
       "      <td>3</td>\n",
       "      <td>牝</td>\n",
       "      <td>3</td>\n",
       "      <td>428</td>\n",
       "      <td>6</td>\n",
       "      <td>06</td>\n",
       "      <td>16</td>\n",
       "    </tr>\n",
       "    <tr>\n",
       "      <th>202306010101</th>\n",
       "      <td>8</td>\n",
       "      <td>15</td>\n",
       "      <td>54</td>\n",
       "      <td>4.2</td>\n",
       "      <td>12.0</td>\n",
       "      <td>晴</td>\n",
       "      <td>ダート</td>\n",
       "      <td>良</td>\n",
       "      <td>2023-01-05</td>\n",
       "      <td>2020106345</td>\n",
       "      <td>1122</td>\n",
       "      <td>1177</td>\n",
       "      <td>729005</td>\n",
       "      <td>4</td>\n",
       "      <td>牝</td>\n",
       "      <td>3</td>\n",
       "      <td>536</td>\n",
       "      <td>0</td>\n",
       "      <td>06</td>\n",
       "      <td>16</td>\n",
       "    </tr>\n",
       "    <tr>\n",
       "      <th>202306010101</th>\n",
       "      <td>5</td>\n",
       "      <td>9</td>\n",
       "      <td>54</td>\n",
       "      <td>7.9</td>\n",
       "      <td>12.0</td>\n",
       "      <td>晴</td>\n",
       "      <td>ダート</td>\n",
       "      <td>良</td>\n",
       "      <td>2023-01-05</td>\n",
       "      <td>2020100039</td>\n",
       "      <td>1085</td>\n",
       "      <td>1008</td>\n",
       "      <td>372033</td>\n",
       "      <td>5</td>\n",
       "      <td>牝</td>\n",
       "      <td>3</td>\n",
       "      <td>478</td>\n",
       "      <td>10</td>\n",
       "      <td>06</td>\n",
       "      <td>16</td>\n",
       "    </tr>\n",
       "  </tbody>\n",
       "</table>\n",
       "</div>"
      ],
      "text/plain": [
       "              枠番  馬番  斤量    単勝  course_len weather race_type ground_state  \\\n",
       "202306010101   7  14  56   1.8        12.0       晴       ダート            良   \n",
       "202306010101   3   5  56   7.4        12.0       晴       ダート            良   \n",
       "202306010101   1   1  54  36.1        12.0       晴       ダート            良   \n",
       "202306010101   8  15  54   4.2        12.0       晴       ダート            良   \n",
       "202306010101   5   9  54   7.9        12.0       晴       ダート            良   \n",
       "\n",
       "                   date    horse_id  jockey_id  trainer_id  owner_id  rank  性  \\\n",
       "202306010101 2023-01-05  2020103575        666         399    356803     1  牡   \n",
       "202306010101 2023-01-05  2020107073        422        1074    702009     2  牡   \n",
       "202306010101 2023-01-05  2020102562       1092        1179    763033     3  牝   \n",
       "202306010101 2023-01-05  2020106345       1122        1177    729005     4  牝   \n",
       "202306010101 2023-01-05  2020100039       1085        1008    372033     5  牝   \n",
       "\n",
       "              年齢   体重  体重変化  開催  n_horse  \n",
       "202306010101   3  486    -4  06       16  \n",
       "202306010101   3  472    -8  06       16  \n",
       "202306010101   3  428     6  06       16  \n",
       "202306010101   3  536     0  06       16  \n",
       "202306010101   3  478    10  06       16  "
      ]
     },
     "execution_count": 4,
     "metadata": {},
     "output_type": "execute_result"
    }
   ],
   "source": [
    "race_results_processor.processed_df.head()"
   ]
  },
  {
   "cell_type": "code",
   "execution_count": 5,
   "id": "539dc8d4",
   "metadata": {},
   "outputs": [
    {
     "data": {
      "text/html": [
       "<div>\n",
       "<style scoped>\n",
       "    .dataframe tbody tr th:only-of-type {\n",
       "        vertical-align: middle;\n",
       "    }\n",
       "\n",
       "    .dataframe tbody tr th {\n",
       "        vertical-align: top;\n",
       "    }\n",
       "\n",
       "    .dataframe thead th {\n",
       "        text-align: right;\n",
       "    }\n",
       "</style>\n",
       "<table border=\"1\" class=\"dataframe\">\n",
       "  <thead>\n",
       "    <tr style=\"text-align: right;\">\n",
       "      <th></th>\n",
       "      <th>着順</th>\n",
       "      <th>賞金</th>\n",
       "      <th>着差</th>\n",
       "      <th>通過</th>\n",
       "      <th>開催</th>\n",
       "      <th>date</th>\n",
       "      <th>first_corner</th>\n",
       "      <th>final_corner</th>\n",
       "      <th>final_to_rank</th>\n",
       "      <th>first_to_rank</th>\n",
       "      <th>first_to_final</th>\n",
       "      <th>race_type</th>\n",
       "      <th>course_len</th>\n",
       "    </tr>\n",
       "    <tr>\n",
       "      <th>horse_id</th>\n",
       "      <th></th>\n",
       "      <th></th>\n",
       "      <th></th>\n",
       "      <th></th>\n",
       "      <th></th>\n",
       "      <th></th>\n",
       "      <th></th>\n",
       "      <th></th>\n",
       "      <th></th>\n",
       "      <th></th>\n",
       "      <th></th>\n",
       "      <th></th>\n",
       "      <th></th>\n",
       "    </tr>\n",
       "  </thead>\n",
       "  <tbody>\n",
       "    <tr>\n",
       "      <th>2017105800</th>\n",
       "      <td>2</td>\n",
       "      <td>10.2</td>\n",
       "      <td>0.7</td>\n",
       "      <td>5-6-5</td>\n",
       "      <td>11</td>\n",
       "      <td>2021-06-30</td>\n",
       "      <td>5.0</td>\n",
       "      <td>5.0</td>\n",
       "      <td>3.0</td>\n",
       "      <td>3.0</td>\n",
       "      <td>0.0</td>\n",
       "      <td>ダート</td>\n",
       "      <td>14</td>\n",
       "    </tr>\n",
       "    <tr>\n",
       "      <th>2017105800</th>\n",
       "      <td>5</td>\n",
       "      <td>2.6</td>\n",
       "      <td>2.7</td>\n",
       "      <td>10-10-8</td>\n",
       "      <td>11</td>\n",
       "      <td>2021-06-16</td>\n",
       "      <td>10.0</td>\n",
       "      <td>8.0</td>\n",
       "      <td>3.0</td>\n",
       "      <td>5.0</td>\n",
       "      <td>2.0</td>\n",
       "      <td>ダート</td>\n",
       "      <td>14</td>\n",
       "    </tr>\n",
       "    <tr>\n",
       "      <th>2017105800</th>\n",
       "      <td>7</td>\n",
       "      <td>0.0</td>\n",
       "      <td>1.0</td>\n",
       "      <td>3-4-4</td>\n",
       "      <td>11</td>\n",
       "      <td>2021-06-03</td>\n",
       "      <td>3.0</td>\n",
       "      <td>4.0</td>\n",
       "      <td>-3.0</td>\n",
       "      <td>-4.0</td>\n",
       "      <td>-1.0</td>\n",
       "      <td>ダート</td>\n",
       "      <td>14</td>\n",
       "    </tr>\n",
       "    <tr>\n",
       "      <th>2017105800</th>\n",
       "      <td>2</td>\n",
       "      <td>10.2</td>\n",
       "      <td>0.5</td>\n",
       "      <td>3-3-3</td>\n",
       "      <td>11</td>\n",
       "      <td>2021-05-19</td>\n",
       "      <td>3.0</td>\n",
       "      <td>3.0</td>\n",
       "      <td>1.0</td>\n",
       "      <td>1.0</td>\n",
       "      <td>0.0</td>\n",
       "      <td>ダート</td>\n",
       "      <td>14</td>\n",
       "    </tr>\n",
       "    <tr>\n",
       "      <th>2017105800</th>\n",
       "      <td>5</td>\n",
       "      <td>2.6</td>\n",
       "      <td>0.3</td>\n",
       "      <td>6-5-5</td>\n",
       "      <td>11</td>\n",
       "      <td>2021-05-04</td>\n",
       "      <td>6.0</td>\n",
       "      <td>5.0</td>\n",
       "      <td>0.0</td>\n",
       "      <td>1.0</td>\n",
       "      <td>1.0</td>\n",
       "      <td>ダート</td>\n",
       "      <td>14</td>\n",
       "    </tr>\n",
       "  </tbody>\n",
       "</table>\n",
       "</div>"
      ],
      "text/plain": [
       "            着順    賞金   着差       通過  開催       date  first_corner  final_corner  \\\n",
       "horse_id                                                                        \n",
       "2017105800   2  10.2  0.7    5-6-5  11 2021-06-30           5.0           5.0   \n",
       "2017105800   5   2.6  2.7  10-10-8  11 2021-06-16          10.0           8.0   \n",
       "2017105800   7   0.0  1.0    3-4-4  11 2021-06-03           3.0           4.0   \n",
       "2017105800   2  10.2  0.5    3-3-3  11 2021-05-19           3.0           3.0   \n",
       "2017105800   5   2.6  0.3    6-5-5  11 2021-05-04           6.0           5.0   \n",
       "\n",
       "            final_to_rank  first_to_rank  first_to_final race_type  course_len  \n",
       "horse_id                                                                        \n",
       "2017105800            3.0            3.0             0.0       ダート          14  \n",
       "2017105800            3.0            5.0             2.0       ダート          14  \n",
       "2017105800           -3.0           -4.0            -1.0       ダート          14  \n",
       "2017105800            1.0            1.0             0.0       ダート          14  \n",
       "2017105800            0.0            1.0             1.0       ダート          14  "
      ]
     },
     "execution_count": 5,
     "metadata": {},
     "output_type": "execute_result"
    }
   ],
   "source": [
    "horse_results_processor.processed_df.head()"
   ]
  },
  {
   "cell_type": "code",
   "execution_count": 6,
   "id": "d7cdf830",
   "metadata": {},
   "outputs": [
    {
     "data": {
      "text/html": [
       "<div>\n",
       "<style scoped>\n",
       "    .dataframe tbody tr th:only-of-type {\n",
       "        vertical-align: middle;\n",
       "    }\n",
       "\n",
       "    .dataframe tbody tr th {\n",
       "        vertical-align: top;\n",
       "    }\n",
       "\n",
       "    .dataframe thead th {\n",
       "        text-align: right;\n",
       "    }\n",
       "</style>\n",
       "<table border=\"1\" class=\"dataframe\">\n",
       "  <thead>\n",
       "    <tr style=\"text-align: right;\">\n",
       "      <th></th>\n",
       "      <th>peds_0</th>\n",
       "      <th>peds_1</th>\n",
       "      <th>peds_2</th>\n",
       "      <th>peds_3</th>\n",
       "      <th>peds_4</th>\n",
       "      <th>peds_5</th>\n",
       "      <th>peds_6</th>\n",
       "      <th>peds_7</th>\n",
       "      <th>peds_8</th>\n",
       "      <th>peds_9</th>\n",
       "      <th>...</th>\n",
       "      <th>peds_52</th>\n",
       "      <th>peds_53</th>\n",
       "      <th>peds_54</th>\n",
       "      <th>peds_55</th>\n",
       "      <th>peds_56</th>\n",
       "      <th>peds_57</th>\n",
       "      <th>peds_58</th>\n",
       "      <th>peds_59</th>\n",
       "      <th>peds_60</th>\n",
       "      <th>peds_61</th>\n",
       "    </tr>\n",
       "  </thead>\n",
       "  <tbody>\n",
       "    <tr>\n",
       "      <th>2017100590</th>\n",
       "      <td>クロフネ</td>\n",
       "      <td>ハッピーティア</td>\n",
       "      <td>フレンチデピュティ</td>\n",
       "      <td>ブルーアヴェニュー</td>\n",
       "      <td>ホワイトマズル</td>\n",
       "      <td>ハッピーチケット</td>\n",
       "      <td>DeputyMinister</td>\n",
       "      <td>Mitterand</td>\n",
       "      <td>ClassicGoGo</td>\n",
       "      <td>ElizaBlue</td>\n",
       "      <td>...</td>\n",
       "      <td>Tyrant</td>\n",
       "      <td>FlightTable</td>\n",
       "      <td>Halo</td>\n",
       "      <td>WishingWell</td>\n",
       "      <td>Lyphard</td>\n",
       "      <td>Prodice</td>\n",
       "      <td>Herbager</td>\n",
       "      <td>SilverCoin</td>\n",
       "      <td>チャイナロック</td>\n",
       "      <td>ソシアルバターフライ</td>\n",
       "    </tr>\n",
       "    <tr>\n",
       "      <th>2017106441</th>\n",
       "      <td>スピルバーグ</td>\n",
       "      <td>ミュージー</td>\n",
       "      <td>ディープインパクト</td>\n",
       "      <td>プリンセスオリビア</td>\n",
       "      <td>ElPrado</td>\n",
       "      <td>Foible</td>\n",
       "      <td>サンデーサイレンス</td>\n",
       "      <td>ウインドインハーヘア</td>\n",
       "      <td>Lycius</td>\n",
       "      <td>DanceImage</td>\n",
       "      <td>...</td>\n",
       "      <td>TomFool</td>\n",
       "      <td>Ghazni</td>\n",
       "      <td>Nasrullah</td>\n",
       "      <td>Lalun</td>\n",
       "      <td>PrinceJohn</td>\n",
       "      <td>NileLily</td>\n",
       "      <td>Turnto</td>\n",
       "      <td>YourGame</td>\n",
       "      <td>RestlessNative</td>\n",
       "      <td>EnchantedEve</td>\n",
       "    </tr>\n",
       "    <tr>\n",
       "      <th>2017106225</th>\n",
       "      <td>ケープブランコ</td>\n",
       "      <td>ヒラボクキャロル</td>\n",
       "      <td>Galileo</td>\n",
       "      <td>LaurelDelight</td>\n",
       "      <td>ダンスインザダーク</td>\n",
       "      <td>チョウカイキャロル</td>\n",
       "      <td>SadlersWells</td>\n",
       "      <td>アーバンシー</td>\n",
       "      <td>Presidium</td>\n",
       "      <td>Foudroyer</td>\n",
       "      <td>...</td>\n",
       "      <td>KeytotheMint</td>\n",
       "      <td>NativePartner</td>\n",
       "      <td>HailtoReason</td>\n",
       "      <td>Bramalea</td>\n",
       "      <td>Graustark</td>\n",
       "      <td>GoldenTrail</td>\n",
       "      <td>RaiseaNative</td>\n",
       "      <td>GoldDigger</td>\n",
       "      <td>VaguelyNoble</td>\n",
       "      <td>SleekDancer</td>\n",
       "    </tr>\n",
       "    <tr>\n",
       "      <th>2014105693</th>\n",
       "      <td>キンシャサノキセキ</td>\n",
       "      <td>マイワイルドローズ</td>\n",
       "      <td>フジキセキ</td>\n",
       "      <td>ケルトシャーン</td>\n",
       "      <td>WildAgain</td>\n",
       "      <td>RoseofMull</td>\n",
       "      <td>サンデーサイレンス</td>\n",
       "      <td>ミルレーサー</td>\n",
       "      <td>PleasantColony</td>\n",
       "      <td>Featherhill</td>\n",
       "      <td>...</td>\n",
       "      <td>Dante</td>\n",
       "      <td>Clovelly</td>\n",
       "      <td>SwordDancer</td>\n",
       "      <td>Kerala</td>\n",
       "      <td>Buckpasser</td>\n",
       "      <td>Intriguing</td>\n",
       "      <td>Ribot</td>\n",
       "      <td>Pocahontas</td>\n",
       "      <td>DarkStar</td>\n",
       "      <td>Vulcania</td>\n",
       "    </tr>\n",
       "    <tr>\n",
       "      <th>2013101632</th>\n",
       "      <td>メイショウサムソン</td>\n",
       "      <td>シルクヴァルキリー</td>\n",
       "      <td>オペラハウス</td>\n",
       "      <td>マイヴィヴィアン</td>\n",
       "      <td>マーベラスサンデー</td>\n",
       "      <td>シルクフレアー</td>\n",
       "      <td>SadlersWells</td>\n",
       "      <td>Colorspin</td>\n",
       "      <td>ダンシングブレーヴ</td>\n",
       "      <td>ウイルプリンセス</td>\n",
       "      <td>...</td>\n",
       "      <td>LaughAloud</td>\n",
       "      <td>HoldMeClose</td>\n",
       "      <td>Nearctic</td>\n",
       "      <td>Natalma</td>\n",
       "      <td>AdmiralsVoyage</td>\n",
       "      <td>Petitioner</td>\n",
       "      <td>RaiseaNative</td>\n",
       "      <td>SweetTooth</td>\n",
       "      <td>ノノアルコ</td>\n",
       "      <td>Mortefontaine</td>\n",
       "    </tr>\n",
       "  </tbody>\n",
       "</table>\n",
       "<p>5 rows × 62 columns</p>\n",
       "</div>"
      ],
      "text/plain": [
       "               peds_0     peds_1     peds_2         peds_3     peds_4  \\\n",
       "2017100590       クロフネ    ハッピーティア  フレンチデピュティ      ブルーアヴェニュー    ホワイトマズル   \n",
       "2017106441     スピルバーグ      ミュージー  ディープインパクト      プリンセスオリビア    ElPrado   \n",
       "2017106225    ケープブランコ   ヒラボクキャロル    Galileo  LaurelDelight  ダンスインザダーク   \n",
       "2014105693  キンシャサノキセキ  マイワイルドローズ      フジキセキ        ケルトシャーン  WildAgain   \n",
       "2013101632  メイショウサムソン  シルクヴァルキリー     オペラハウス       マイヴィヴィアン  マーベラスサンデー   \n",
       "\n",
       "                peds_5          peds_6      peds_7          peds_8  \\\n",
       "2017100590    ハッピーチケット  DeputyMinister   Mitterand     ClassicGoGo   \n",
       "2017106441      Foible       サンデーサイレンス  ウインドインハーヘア          Lycius   \n",
       "2017106225   チョウカイキャロル    SadlersWells      アーバンシー       Presidium   \n",
       "2014105693  RoseofMull       サンデーサイレンス      ミルレーサー  PleasantColony   \n",
       "2013101632     シルクフレアー    SadlersWells   Colorspin       ダンシングブレーヴ   \n",
       "\n",
       "                 peds_9  ...       peds_52        peds_53       peds_54  \\\n",
       "2017100590    ElizaBlue  ...        Tyrant    FlightTable          Halo   \n",
       "2017106441   DanceImage  ...       TomFool         Ghazni     Nasrullah   \n",
       "2017106225    Foudroyer  ...  KeytotheMint  NativePartner  HailtoReason   \n",
       "2014105693  Featherhill  ...         Dante       Clovelly   SwordDancer   \n",
       "2013101632     ウイルプリンセス  ...    LaughAloud    HoldMeClose      Nearctic   \n",
       "\n",
       "                peds_55         peds_56      peds_57       peds_58  \\\n",
       "2017100590  WishingWell         Lyphard      Prodice      Herbager   \n",
       "2017106441        Lalun      PrinceJohn     NileLily        Turnto   \n",
       "2017106225     Bramalea       Graustark  GoldenTrail  RaiseaNative   \n",
       "2014105693       Kerala      Buckpasser   Intriguing         Ribot   \n",
       "2013101632      Natalma  AdmiralsVoyage   Petitioner  RaiseaNative   \n",
       "\n",
       "               peds_59         peds_60        peds_61  \n",
       "2017100590  SilverCoin         チャイナロック     ソシアルバターフライ  \n",
       "2017106441    YourGame  RestlessNative   EnchantedEve  \n",
       "2017106225  GoldDigger    VaguelyNoble    SleekDancer  \n",
       "2014105693  Pocahontas        DarkStar       Vulcania  \n",
       "2013101632  SweetTooth           ノノアルコ  Mortefontaine  \n",
       "\n",
       "[5 rows x 62 columns]"
      ]
     },
     "execution_count": 6,
     "metadata": {},
     "output_type": "execute_result"
    }
   ],
   "source": [
    "peds_processor.processed_df.head()"
   ]
  },
  {
   "cell_type": "code",
   "execution_count": 5,
   "id": "98e12edc",
   "metadata": {},
   "outputs": [
    {
     "data": {
      "application/vnd.jupyter.widget-view+json": {
       "model_id": "d41c346af8714003915b48d42ed63a26",
       "version_major": 2,
       "version_minor": 0
      },
      "text/plain": [
       "  0%|          | 0/1 [00:00<?, ?it/s]"
      ]
     },
     "metadata": {},
     "output_type": "display_data"
    },
    {
     "ename": "TypeError",
     "evalue": "average() takes from 2 to 3 positional arguments but 4 were given",
     "output_type": "error",
     "traceback": [
      "\u001b[1;31m---------------------------------------------------------------------------\u001b[0m",
      "\u001b[1;31mTypeError\u001b[0m                                 Traceback (most recent call last)",
      "\u001b[1;32m~\\AppData\\Local\\Temp/ipykernel_22740/1505507125.py\u001b[0m in \u001b[0;36m<module>\u001b[1;34m\u001b[0m\n\u001b[0;32m      5\u001b[0m )\n\u001b[0;32m      6\u001b[0m \u001b[1;33m\u001b[0m\u001b[0m\n\u001b[1;32m----> 7\u001b[1;33m \u001b[0mdata_merger\u001b[0m\u001b[1;33m.\u001b[0m\u001b[0mmerge\u001b[0m\u001b[1;33m(\u001b[0m\u001b[1;33m)\u001b[0m\u001b[1;33m\u001b[0m\u001b[1;33m\u001b[0m\u001b[0m\n\u001b[0m\u001b[0;32m      8\u001b[0m \u001b[0mdata_merger\u001b[0m\u001b[1;33m.\u001b[0m\u001b[0mprocess_categorical\u001b[0m\u001b[1;33m(\u001b[0m\u001b[1;33m)\u001b[0m\u001b[1;33m\u001b[0m\u001b[1;33m\u001b[0m\u001b[0m\n",
      "\u001b[1;32mc:\\Users\\Owner\\Desktop\\Horse\\horse_tmp\\my_modules\\preprocess\\_data_merger.py\u001b[0m in \u001b[0;36mmerge\u001b[1;34m(self, n_samples_list)\u001b[0m\n\u001b[0;32m     29\u001b[0m         \u001b[1;32mfor\u001b[0m \u001b[0mn_samples\u001b[0m \u001b[1;32min\u001b[0m \u001b[0mn_samples_list\u001b[0m\u001b[1;33m:\u001b[0m\u001b[1;33m\u001b[0m\u001b[1;33m\u001b[0m\u001b[0m\n\u001b[0;32m     30\u001b[0m             \u001b[1;31m## merge_all が　気に食わない, 将来的には Datamerger に実装\u001b[0m\u001b[1;33m\u001b[0m\u001b[1;33m\u001b[0m\u001b[0m\n\u001b[1;32m---> 31\u001b[1;33m             \u001b[0mmerged_df\u001b[0m \u001b[1;33m=\u001b[0m \u001b[0mself\u001b[0m\u001b[1;33m.\u001b[0m\u001b[0mhorse_results_processor\u001b[0m\u001b[1;33m.\u001b[0m\u001b[0mmerge_all\u001b[0m\u001b[1;33m(\u001b[0m\u001b[0mmerged_df\u001b[0m\u001b[1;33m,\u001b[0m \u001b[0mn_samples\u001b[0m\u001b[1;33m=\u001b[0m\u001b[0mn_samples\u001b[0m\u001b[1;33m)\u001b[0m\u001b[1;33m\u001b[0m\u001b[1;33m\u001b[0m\u001b[0m\n\u001b[0m\u001b[0;32m     32\u001b[0m         \u001b[0mmerged_df\u001b[0m\u001b[1;33m.\u001b[0m\u001b[0mdrop\u001b[0m\u001b[1;33m(\u001b[0m\u001b[1;33m[\u001b[0m\u001b[1;34m'開催'\u001b[0m\u001b[1;33m]\u001b[0m\u001b[1;33m,\u001b[0m \u001b[0maxis\u001b[0m\u001b[1;33m=\u001b[0m\u001b[1;36m1\u001b[0m\u001b[1;33m,\u001b[0m \u001b[0minplace\u001b[0m\u001b[1;33m=\u001b[0m\u001b[1;32mTrue\u001b[0m\u001b[1;33m)\u001b[0m\u001b[1;33m\u001b[0m\u001b[1;33m\u001b[0m\u001b[0m\n\u001b[0;32m     33\u001b[0m \u001b[1;33m\u001b[0m\u001b[0m\n",
      "\u001b[1;32mc:\\Users\\Owner\\Desktop\\Horse\\horse_tmp\\my_modules\\preprocess\\_process_horse_results.py\u001b[0m in \u001b[0;36mmerge_all\u001b[1;34m(self, results, n_samples)\u001b[0m\n\u001b[0;32m    111\u001b[0m         \u001b[0mdate_list\u001b[0m \u001b[1;33m=\u001b[0m \u001b[0mresults\u001b[0m\u001b[1;33m[\u001b[0m\u001b[1;34m'date'\u001b[0m\u001b[1;33m]\u001b[0m\u001b[1;33m.\u001b[0m\u001b[0munique\u001b[0m\u001b[1;33m(\u001b[0m\u001b[1;33m)\u001b[0m\u001b[1;33m\u001b[0m\u001b[1;33m\u001b[0m\u001b[0m\n\u001b[0;32m    112\u001b[0m         merged_df = pd.concat(\n\u001b[1;32m--> 113\u001b[1;33m             \u001b[1;33m[\u001b[0m\u001b[0mself\u001b[0m\u001b[1;33m.\u001b[0m\u001b[0mmerge\u001b[0m\u001b[1;33m(\u001b[0m\u001b[0mresults\u001b[0m\u001b[1;33m,\u001b[0m \u001b[0mdate\u001b[0m\u001b[1;33m,\u001b[0m \u001b[0mn_samples\u001b[0m\u001b[1;33m)\u001b[0m \u001b[1;32mfor\u001b[0m \u001b[0mdate\u001b[0m \u001b[1;32min\u001b[0m \u001b[0mtqdm\u001b[0m\u001b[1;33m(\u001b[0m\u001b[0mdate_list\u001b[0m\u001b[1;33m)\u001b[0m\u001b[1;33m]\u001b[0m\u001b[1;33m\u001b[0m\u001b[1;33m\u001b[0m\u001b[0m\n\u001b[0m\u001b[0;32m    114\u001b[0m         )\n\u001b[0;32m    115\u001b[0m         \u001b[1;32mreturn\u001b[0m \u001b[0mmerged_df\u001b[0m\u001b[1;33m\u001b[0m\u001b[1;33m\u001b[0m\u001b[0m\n",
      "\u001b[1;32mc:\\Users\\Owner\\Desktop\\Horse\\horse_tmp\\my_modules\\preprocess\\_process_horse_results.py\u001b[0m in \u001b[0;36m<listcomp>\u001b[1;34m(.0)\u001b[0m\n\u001b[0;32m    111\u001b[0m         \u001b[0mdate_list\u001b[0m \u001b[1;33m=\u001b[0m \u001b[0mresults\u001b[0m\u001b[1;33m[\u001b[0m\u001b[1;34m'date'\u001b[0m\u001b[1;33m]\u001b[0m\u001b[1;33m.\u001b[0m\u001b[0munique\u001b[0m\u001b[1;33m(\u001b[0m\u001b[1;33m)\u001b[0m\u001b[1;33m\u001b[0m\u001b[1;33m\u001b[0m\u001b[0m\n\u001b[0;32m    112\u001b[0m         merged_df = pd.concat(\n\u001b[1;32m--> 113\u001b[1;33m             \u001b[1;33m[\u001b[0m\u001b[0mself\u001b[0m\u001b[1;33m.\u001b[0m\u001b[0mmerge\u001b[0m\u001b[1;33m(\u001b[0m\u001b[0mresults\u001b[0m\u001b[1;33m,\u001b[0m \u001b[0mdate\u001b[0m\u001b[1;33m,\u001b[0m \u001b[0mn_samples\u001b[0m\u001b[1;33m)\u001b[0m \u001b[1;32mfor\u001b[0m \u001b[0mdate\u001b[0m \u001b[1;32min\u001b[0m \u001b[0mtqdm\u001b[0m\u001b[1;33m(\u001b[0m\u001b[0mdate_list\u001b[0m\u001b[1;33m)\u001b[0m\u001b[1;33m]\u001b[0m\u001b[1;33m\u001b[0m\u001b[1;33m\u001b[0m\u001b[0m\n\u001b[0m\u001b[0;32m    114\u001b[0m         )\n\u001b[0;32m    115\u001b[0m         \u001b[1;32mreturn\u001b[0m \u001b[0mmerged_df\u001b[0m\u001b[1;33m\u001b[0m\u001b[1;33m\u001b[0m\u001b[0m\n",
      "\u001b[1;32mc:\\Users\\Owner\\Desktop\\Horse\\horse_tmp\\my_modules\\preprocess\\_process_horse_results.py\u001b[0m in \u001b[0;36mmerge\u001b[1;34m(self, results, date, n_samples)\u001b[0m\n\u001b[0;32m     95\u001b[0m         \u001b[0mdf\u001b[0m \u001b[1;33m=\u001b[0m \u001b[0mresults\u001b[0m\u001b[1;33m[\u001b[0m\u001b[0mresults\u001b[0m\u001b[1;33m[\u001b[0m\u001b[1;34m'date'\u001b[0m\u001b[1;33m]\u001b[0m\u001b[1;33m==\u001b[0m\u001b[0mdate\u001b[0m\u001b[1;33m]\u001b[0m\u001b[1;33m\u001b[0m\u001b[1;33m\u001b[0m\u001b[0m\n\u001b[0;32m     96\u001b[0m         \u001b[0mhorse_id_list\u001b[0m \u001b[1;33m=\u001b[0m \u001b[0mdf\u001b[0m\u001b[1;33m[\u001b[0m\u001b[1;34m'horse_id'\u001b[0m\u001b[1;33m]\u001b[0m\u001b[1;33m\u001b[0m\u001b[1;33m\u001b[0m\u001b[0m\n\u001b[1;32m---> 97\u001b[1;33m         \u001b[0mself\u001b[0m\u001b[1;33m.\u001b[0m\u001b[0maverage\u001b[0m\u001b[1;33m(\u001b[0m\u001b[0mhorse_id_list\u001b[0m\u001b[1;33m,\u001b[0m \u001b[0mdate\u001b[0m\u001b[1;33m,\u001b[0m \u001b[0mn_samples\u001b[0m\u001b[1;33m)\u001b[0m\u001b[1;33m\u001b[0m\u001b[1;33m\u001b[0m\u001b[0m\n\u001b[0m\u001b[0;32m     98\u001b[0m         merged_df = df.merge(\n\u001b[0;32m     99\u001b[0m             \u001b[0mself\u001b[0m\u001b[1;33m.\u001b[0m\u001b[0maverage_dict\u001b[0m\u001b[1;33m[\u001b[0m\u001b[1;34m'non_category'\u001b[0m\u001b[1;33m]\u001b[0m\u001b[1;33m,\u001b[0m\u001b[1;33m\u001b[0m\u001b[1;33m\u001b[0m\u001b[0m\n",
      "\u001b[1;31mTypeError\u001b[0m: average() takes from 2 to 3 positional arguments but 4 were given"
     ]
    }
   ],
   "source": [
    "data_merger = preprocess.DataMerger(\n",
    "    race_results_processor,\n",
    "    horse_results_processor,\n",
    "    peds_processor\n",
    ")\n",
    "\n",
    "data_merger.merge()\n",
    "data_merger.process_categorical()"
   ]
  },
  {
   "cell_type": "code",
   "execution_count": 15,
   "id": "c895357f",
   "metadata": {},
   "outputs": [
    {
     "data": {
      "application/vnd.jupyter.widget-view+json": {
       "model_id": "d86f7946865444e7b24de6ff9b9e1d9e",
       "version_major": 2,
       "version_minor": 0
      },
      "text/plain": [
       "HBox(children=(FloatProgress(value=0.0, max=18799.0), HTML(value='')))"
      ]
     },
     "metadata": {},
     "output_type": "display_data"
    },
    {
     "name": "stdout",
     "output_type": "stream",
     "text": [
      "\n",
      "pe finish\n",
      "pe regularizrd\n"
     ]
    },
    {
     "data": {
      "application/vnd.jupyter.widget-view+json": {
       "model_id": "a6fde50e5c31429a9ed448af52504a0f",
       "version_major": 2,
       "version_minor": 0
      },
      "text/plain": [
       "HBox(children=(FloatProgress(value=0.0, max=279.0), HTML(value='')))"
      ]
     },
     "metadata": {},
     "output_type": "display_data"
    },
    {
     "name": "stdout",
     "output_type": "stream",
     "text": [
      "\n"
     ]
    },
    {
     "data": {
      "application/vnd.jupyter.widget-view+json": {
       "model_id": "bafc7b6a53324448b9a73cea9af87849",
       "version_major": 2,
       "version_minor": 0
      },
      "text/plain": [
       "HBox(children=(FloatProgress(value=0.0, max=279.0), HTML(value='')))"
      ]
     },
     "metadata": {},
     "output_type": "display_data"
    },
    {
     "name": "stdout",
     "output_type": "stream",
     "text": [
      "\n"
     ]
    },
    {
     "data": {
      "application/vnd.jupyter.widget-view+json": {
       "model_id": "021c39907f4649e0b7ec07d44e261898",
       "version_major": 2,
       "version_minor": 0
      },
      "text/plain": [
       "HBox(children=(FloatProgress(value=0.0, max=279.0), HTML(value='')))"
      ]
     },
     "metadata": {},
     "output_type": "display_data"
    },
    {
     "name": "stdout",
     "output_type": "stream",
     "text": [
      "\n"
     ]
    },
    {
     "name": "stderr",
     "output_type": "stream",
     "text": [
      "/Users/rince/Library/Python/3.7/lib/python/site-packages/lightgbm/engine.py:151: UserWarning: Found `n_estimators` in params. Will use it instead of argument\n",
      "  warnings.warn(\"Found `{}` in params. Will use it instead of argument\".format(alias))\n"
     ]
    },
    {
     "name": "stdout",
     "output_type": "stream",
     "text": [
      "[LightGBM] [Info] Total Bins 76276\n",
      "[LightGBM] [Info] Number of data points in the train set: 97724, number of used features: 172\n"
     ]
    }
   ],
   "source": [
    "ll = LearnLGBM(peds,race_results,horse_results)\n",
    "ll.learn_lgb()"
   ]
  },
  {
   "cell_type": "code",
   "execution_count": 16,
   "id": "751bca16",
   "metadata": {},
   "outputs": [
    {
     "data": {
      "text/plain": [
       "97"
      ]
     },
     "execution_count": 16,
     "metadata": {},
     "output_type": "execute_result"
    }
   ],
   "source": [
    "ll.model.num_trees()"
   ]
  },
  {
   "cell_type": "code",
   "execution_count": 8,
   "id": "aac676b9",
   "metadata": {},
   "outputs": [],
   "source": [
    "sl = Simulater(ll.model)\n",
    "\n",
    "race_id_list = list(set(ll.x_test.index))\n",
    "data_c = ll.r.data_c.loc[ll.x_test.index[0]:]\n",
    "\n",
    "all_results = sl.get_result_df(data_c, return_tables)\n",
    "\n"
   ]
  },
  {
   "cell_type": "code",
   "execution_count": 15,
   "id": "9817f021",
   "metadata": {},
   "outputs": [
    {
     "name": "stdout",
     "output_type": "stream",
     "text": [
      "的中率 0.006996770721205597\n",
      "収益   -2500.0 円\n",
      "race dist {'01': 0, '02': 0, '03': 0, '04': 2, '05': 1, '06': 2, '07': 4, '08': 1, '09': 1, '10': 0, '11': 2, '12': 0}\n"
     ]
    }
   ],
   "source": [
    "calc_tansho(all_results,odds_alpha=1)"
   ]
  },
  {
   "cell_type": "markdown",
   "id": "27efe69c",
   "metadata": {},
   "source": [
    "# grid search"
   ]
  },
  {
   "cell_type": "code",
   "execution_count": null,
   "id": "32108465",
   "metadata": {},
   "outputs": [],
   "source": [
    "train_data = ll.r.data_c\n",
    "train, valid = split_data(train_data,test_size=0.2,rank_learning=False)\n",
    "# 0.8 : 0.2\n",
    "\n",
    "x_train = train.drop(['rank', 'date','単勝'], axis=1)\n",
    "y_train = train['rank']\n",
    "x_valid = valid.drop(['rank', 'date','単勝'], axis=1)\n",
    "y_valid = valid['rank']\n",
    "train_query = x_train.groupby(x_train.index).size()\n",
    "train = lgb.Dataset(x_train, y_train, group=train_query)\n",
    "valid_query = x_valid.groupby(x_valid.index).size()\n",
    "valid = lgb.Dataset(x_valid, y_valid, reference=train, group=valid_query)\n",
    "\n",
    "\n",
    "def score(params):\n",
    "    print(\"Training start:\")\n",
    "\n",
    "    N_boost_round = []\n",
    "    Score = []\n",
    "\n",
    "    lgb_results={}  #履歴格納用\n",
    "\n",
    "    lgb_clf = lgb.train(\n",
    "        params,\n",
    "        train,\n",
    "        num_boost_round=1000,\n",
    "        valid_sets=valid,\n",
    "        valid_names=['valid'],\n",
    "        early_stopping_rounds=20,\n",
    "        verbose_eval=5,\n",
    "        evals_result=lgb_results,\n",
    "    )\n",
    "#     return lgb_results\n",
    "    return {'loss': -1.0 * lgb_results['valid']['ndcg@3'][lgb_clf.best_iteration], 'status': STATUS_OK}\n",
    "\n",
    "def optimize(trials):\n",
    "#探索スペース\n",
    "    space = {\n",
    "        'objective': 'lambdarank',\n",
    "        'metric': 'ndcg',\n",
    "        # 上位三着を考慮する\n",
    "        'ndcg_eval_at': [1,2,3],\n",
    "#         best paramsの返り値は, choiceだとindexか?\n",
    "        'lambdarank_truncation_level': hp.choice('lambdarank_truncation_level',range(1,50)),\n",
    "        'learning_rate': hp.uniform('learning_rate', 0.01, 0.1),\n",
    "        # n_estimators == num_iterations\n",
    "        'num_iterations': hp.choice('num_iterations',range(50,120)),\n",
    "        'boosting_type': 'gbdt',\n",
    "        'random_state': 777\n",
    "    }\n",
    "\n",
    "    max_evals = 25      #探索回数(25くらいで十分)\n",
    "    best = fmin(score, space, algo=tpe.suggest, trials=trials, max_evals=max_evals)\n",
    "\n",
    "    print(\"best parameters:\", best)\n",
    "\n",
    "\n",
    "trials = Trials()\n",
    "optimize(trials)\n"
   ]
  },
  {
   "cell_type": "markdown",
   "id": "0ad70252",
   "metadata": {},
   "source": [
    "# milestone"
   ]
  },
  {
   "cell_type": "code",
   "execution_count": null,
   "id": "977d2055",
   "metadata": {},
   "outputs": [],
   "source": [
    "{'lambdarank_truncation_level': 23, 'learning_rate': 0.04425892924779881, 'num_iterations': 1}"
   ]
  },
  {
   "cell_type": "code",
   "execution_count": 19,
   "id": "6be3bc5a",
   "metadata": {},
   "outputs": [],
   "source": [
    "lgbm_params = {\n",
    "                'metric': 'ndcg',\n",
    "                'objective': 'lambdarank',\n",
    "                'ndcg_eval_at': [1,2,3],\n",
    "                'boosting_type': 'gbdt',\n",
    "                'random_state': 777,\n",
    "                'lambdarank_truncation_level': 24,\n",
    "                'learning_rate':0.04425892924779881,\n",
    "                'num_iterations': 51,\n",
    "                # 'lambdarank_truncation_level': 10,\n",
    "                # 'learning_rate': 0.02273417953255777,\n",
    "                # n_estimators は num_iterations と同義　default = 100\n",
    "                # 'n_estimators': 97,\n",
    "                # 'num_leaves': 42,\n",
    "                'force_col_wise':True\n",
    "            }\n",
    "\n"
   ]
  },
  {
   "cell_type": "code",
   "execution_count": 161,
   "id": "defd053c",
   "metadata": {},
   "outputs": [
    {
     "name": "stdout",
     "output_type": "stream",
     "text": [
      "[LightGBM] [Info] Total Bins 76081\n",
      "[LightGBM] [Info] Number of data points in the train set: 96940, number of used features: 172\n"
     ]
    }
   ],
   "source": [
    "import warnings\n",
    "\n",
    "warnings.filterwarnings(\"ignore\")\n",
    "\n",
    "ll.learn_lgb2(train,lgbm_params=lgbm_params)"
   ]
  },
  {
   "cell_type": "markdown",
   "id": "ff135d8f-2a18-4583-8747-68c2938e6b79",
   "metadata": {},
   "source": [
    "# race_id_list"
   ]
  },
  {
   "cell_type": "code",
   "execution_count": 40,
   "id": "ca02207f-1319-48d2-943f-195f395e1d70",
   "metadata": {},
   "outputs": [],
   "source": [
    "# 今週\n",
    "race_id_list = ['2022040308{}'.format(str(i).zfill(2)) for i in range(1,13)]\n",
    "race_id_list += ['2022100408{}'.format(str(i).zfill(2)) for i in range(1,13)]\n",
    "race_id_list += ['2022010208{}'.format(str(i).zfill(2)) for i in range(1,13)]\n",
    "\n",
    "# race_id_list += ['2022040307{}'.format(str(i).zfill(2)) for i in range(1,13)]\n",
    "# race_id_list += ['2022100407{}'.format(str(i).zfill(2)) for i in range(1,13)]\n",
    "# race_id_list += ['2022010207{}'.format(str(i).zfill(2)) for i in range(1,13)]\n",
    "\n",
    "\n",
    "\n",
    "# race_id_list += ['2022040306{}'.format(str(i).zfill(2)) for i in range(1,13)]\n",
    "# race_id_list += ['2022100406{}'.format(str(i).zfill(2)) for i in range(1,13)]\n",
    "# race_id_list += ['2022010206{}'.format(str(i).zfill(2)) for i in range(1,13)]\n",
    "# race_id_list += ['2022090303{}'.format(str(i).zfill(2)) for i in range(1,13)]\n",
    "# race_id_list += ['2022090304{}'.format(str(i).zfill(2)) for i in range(1,13)]\n",
    "\n",
    "# race_id_list += ['2022020103{}'.format(str(i).zfill(2)) for i in range(1,13)]\n",
    "# race_id_list += ['2022020104{}'.format(str(i).zfill(2)) for i in range(1,13)]\n",
    "# race_id_list += ['2022020105{}'.format(str(i).zfill(2)) for i in range(1,13)]\n",
    "# race_id_list += ['2022020106{}'.format(str(i).zfill(2)) for i in range(1,13)]\n",
    "\n"
   ]
  },
  {
   "cell_type": "markdown",
   "id": "23038204",
   "metadata": {},
   "source": [
    "# Predictor"
   ]
  },
  {
   "cell_type": "code",
   "execution_count": 21,
   "id": "869c4470",
   "metadata": {},
   "outputs": [
    {
     "data": {
      "application/vnd.jupyter.widget-view+json": {
       "model_id": "5192a65f92324cc7b0476edf9d203bd6",
       "version_major": 2,
       "version_minor": 0
      },
      "text/plain": [
       "  0%|          | 0/36 [00:00<?, ?it/s]"
      ]
     },
     "metadata": {},
     "output_type": "display_data"
    },
    {
     "data": {
      "application/vnd.jupyter.widget-view+json": {
       "model_id": "729de1322add42d783a5eb9db5507de9",
       "version_major": 2,
       "version_minor": 0
      },
      "text/plain": [
       "  0%|          | 0/70 [00:00<?, ?it/s]"
      ]
     },
     "metadata": {},
     "output_type": "display_data"
    },
    {
     "data": {
      "application/vnd.jupyter.widget-view+json": {
       "model_id": "0bb25907e0fd4deba1b6019e84550c2a",
       "version_major": 2,
       "version_minor": 0
      },
      "text/plain": [
       "  0%|          | 0/70 [00:00<?, ?it/s]"
      ]
     },
     "metadata": {},
     "output_type": "display_data"
    },
    {
     "data": {
      "application/vnd.jupyter.widget-view+json": {
       "model_id": "139690c8202c4591ba500b407cc472c7",
       "version_major": 2,
       "version_minor": 0
      },
      "text/plain": [
       "  0%|          | 0/18869 [00:00<?, ?it/s]"
      ]
     },
     "metadata": {},
     "output_type": "display_data"
    },
    {
     "name": "stdout",
     "output_type": "stream",
     "text": [
      "pe finish\n",
      "pe regularizrd\n"
     ]
    },
    {
     "data": {
      "application/vnd.jupyter.widget-view+json": {
       "model_id": "e45301bee2d54734b97e0768a21ed8dd",
       "version_major": 2,
       "version_minor": 0
      },
      "text/plain": [
       "  0%|          | 0/523 [00:00<?, ?it/s]"
      ]
     },
     "metadata": {},
     "output_type": "display_data"
    },
    {
     "name": "stdout",
     "output_type": "stream",
     "text": [
      "hr finish\n"
     ]
    },
    {
     "data": {
      "application/vnd.jupyter.widget-view+json": {
       "model_id": "2f9bcc00dd7b4e7cbbf7cdbf65364f6d",
       "version_major": 2,
       "version_minor": 0
      },
      "text/plain": [
       "  0%|          | 0/279 [00:00<?, ?it/s]"
      ]
     },
     "metadata": {},
     "output_type": "display_data"
    },
    {
     "data": {
      "application/vnd.jupyter.widget-view+json": {
       "model_id": "2f8cd9bcb584447bb91b3bfce48cd02b",
       "version_major": 2,
       "version_minor": 0
      },
      "text/plain": [
       "  0%|          | 0/279 [00:00<?, ?it/s]"
      ]
     },
     "metadata": {},
     "output_type": "display_data"
    },
    {
     "data": {
      "application/vnd.jupyter.widget-view+json": {
       "model_id": "d22e9fabc1274cffa0340a51b8d8df38",
       "version_major": 2,
       "version_minor": 0
      },
      "text/plain": [
       "  0%|          | 0/279 [00:00<?, ?it/s]"
      ]
     },
     "metadata": {},
     "output_type": "display_data"
    },
    {
     "name": "stderr",
     "output_type": "stream",
     "text": [
      "C:\\Users\\Owner\\AppData\\Local\\Packages\\PythonSoftwareFoundation.Python.3.9_qbz5n2kfra8p0\\LocalCache\\local-packages\\Python39\\site-packages\\lightgbm\\engine.py:177: UserWarning: Found `num_iterations` in params. Will use it instead of argument\n",
      "  _log_warning(f\"Found `{alias}` in params. Will use it instead of argument\")\n"
     ]
    },
    {
     "name": "stdout",
     "output_type": "stream",
     "text": [
      "[LightGBM] [Info] Total Bins 80424\n",
      "[LightGBM] [Info] Number of data points in the train set: 121733, number of used features: 172\n"
     ]
    }
   ],
   "source": [
    "pt = Predictor(peds,results,horse_results,race_id_list)\n",
    "# ********* test_size = 0  : ずっと0にしてなかった...\n",
    "pt.learn_lgb(lgbm_params=lgbm_params,test_size=0)"
   ]
  },
  {
   "cell_type": "markdown",
   "id": "32941e34",
   "metadata": {},
   "source": [
    "# 新潟"
   ]
  },
  {
   "cell_type": "code",
   "execution_count": 367,
   "id": "6aaf56de",
   "metadata": {},
   "outputs": [
    {
     "data": {
      "application/vnd.jupyter.widget-view+json": {
       "model_id": "1dd99a321a734fb4922ecd0418cbc614",
       "version_major": 2,
       "version_minor": 0
      },
      "text/plain": [
       "  0%|          | 0/1 [00:00<?, ?it/s]"
      ]
     },
     "metadata": {},
     "output_type": "display_data"
    },
    {
     "data": {
      "application/vnd.jupyter.widget-view+json": {
       "model_id": "823769bcf40e4c24ac34da765918d6f0",
       "version_major": 2,
       "version_minor": 0
      },
      "text/plain": [
       "  0%|          | 0/1 [00:00<?, ?it/s]"
      ]
     },
     "metadata": {},
     "output_type": "display_data"
    },
    {
     "data": {
      "application/vnd.jupyter.widget-view+json": {
       "model_id": "e5d0a1ae3ad64016be9eb49ac191348f",
       "version_major": 2,
       "version_minor": 0
      },
      "text/plain": [
       "  0%|          | 0/1 [00:00<?, ?it/s]"
      ]
     },
     "metadata": {},
     "output_type": "display_data"
    },
    {
     "data": {
      "application/vnd.jupyter.widget-view+json": {
       "model_id": "92f692163cc74783a00e2808fcef90a2",
       "version_major": 2,
       "version_minor": 0
      },
      "text/plain": [
       "  0%|          | 0/1 [00:00<?, ?it/s]"
      ]
     },
     "metadata": {},
     "output_type": "display_data"
    },
    {
     "name": "stdout",
     "output_type": "stream",
     "text": [
      "              馬番    scores\n",
      "202204030807  14 -0.009576\n",
      "202204030807   9 -0.409627\n",
      "202204030807  13 -0.532311\n",
      "202204030807  15 -0.762949\n",
      "202204030807   5 -0.815435\n",
      "202204030807   7 -0.906838\n",
      "202204030807   4 -0.914260\n",
      "202204030807  10 -0.931911\n",
      "202204030807   1 -1.132334\n",
      "202204030807   3 -1.184594\n",
      "202204030807  12 -1.283133\n",
      "202204030807  11 -1.323496\n",
      "202204030807   2 -1.442930\n",
      "202204030807   8 -2.367764\n",
      "202204030807   6 -2.421679\n"
     ]
    }
   ],
   "source": [
    "base  = '2022040308'\n",
    "pt.predict(base+'07')\n"
   ]
  },
  {
   "cell_type": "markdown",
   "id": "c3b57a3d",
   "metadata": {},
   "source": [
    "# 小倉"
   ]
  },
  {
   "cell_type": "code",
   "execution_count": 365,
   "id": "a6722cba",
   "metadata": {},
   "outputs": [
    {
     "data": {
      "application/vnd.jupyter.widget-view+json": {
       "model_id": "e90824b51ae643c7af4a41fe13929c29",
       "version_major": 2,
       "version_minor": 0
      },
      "text/plain": [
       "  0%|          | 0/1 [00:00<?, ?it/s]"
      ]
     },
     "metadata": {},
     "output_type": "display_data"
    },
    {
     "data": {
      "application/vnd.jupyter.widget-view+json": {
       "model_id": "2729159af57c4158b126645970da71ef",
       "version_major": 2,
       "version_minor": 0
      },
      "text/plain": [
       "  0%|          | 0/1 [00:00<?, ?it/s]"
      ]
     },
     "metadata": {},
     "output_type": "display_data"
    },
    {
     "data": {
      "application/vnd.jupyter.widget-view+json": {
       "model_id": "4402855630a6490e97236d169498792c",
       "version_major": 2,
       "version_minor": 0
      },
      "text/plain": [
       "  0%|          | 0/1 [00:00<?, ?it/s]"
      ]
     },
     "metadata": {},
     "output_type": "display_data"
    },
    {
     "data": {
      "application/vnd.jupyter.widget-view+json": {
       "model_id": "049c94cb0ac24228af576483c04699fa",
       "version_major": 2,
       "version_minor": 0
      },
      "text/plain": [
       "  0%|          | 0/1 [00:00<?, ?it/s]"
      ]
     },
     "metadata": {},
     "output_type": "display_data"
    },
    {
     "name": "stdout",
     "output_type": "stream",
     "text": [
      "              馬番    scores\n",
      "202210040807  16  0.346642\n",
      "202210040807  15  0.307885\n",
      "202210040807   9 -0.091335\n",
      "202210040807   7 -0.225866\n",
      "202210040807  11 -0.227937\n",
      "202210040807   8 -0.343088\n",
      "202210040807   5 -0.718924\n",
      "202210040807  12 -1.036220\n",
      "202210040807  10 -1.153685\n",
      "202210040807   6 -1.253014\n",
      "202210040807   2 -1.313656\n",
      "202210040807  14 -1.360719\n",
      "202210040807   4 -1.400164\n",
      "202210040807  13 -1.594319\n",
      "202210040807   1 -1.810442\n",
      "202210040807   3 -2.208708\n"
     ]
    }
   ],
   "source": [
    "base  = '2022100408'\n",
    "        #  202210040802 \n",
    "# for i in ['07','08','09','10','11']:\n",
    "pt.predict(base+'07')"
   ]
  },
  {
   "cell_type": "markdown",
   "id": "278e1ee5",
   "metadata": {},
   "source": [
    "# 札幌"
   ]
  },
  {
   "cell_type": "code",
   "execution_count": 364,
   "id": "844e1f79",
   "metadata": {},
   "outputs": [
    {
     "data": {
      "application/vnd.jupyter.widget-view+json": {
       "model_id": "02913a4e39e74eb0925c8c99f881213f",
       "version_major": 2,
       "version_minor": 0
      },
      "text/plain": [
       "  0%|          | 0/1 [00:00<?, ?it/s]"
      ]
     },
     "metadata": {},
     "output_type": "display_data"
    },
    {
     "data": {
      "application/vnd.jupyter.widget-view+json": {
       "model_id": "a304fc4236a9421798615d4aaeaee5e8",
       "version_major": 2,
       "version_minor": 0
      },
      "text/plain": [
       "  0%|          | 0/1 [00:00<?, ?it/s]"
      ]
     },
     "metadata": {},
     "output_type": "display_data"
    },
    {
     "data": {
      "application/vnd.jupyter.widget-view+json": {
       "model_id": "8e4360fa9aa04947897608f73f855f03",
       "version_major": 2,
       "version_minor": 0
      },
      "text/plain": [
       "  0%|          | 0/1 [00:00<?, ?it/s]"
      ]
     },
     "metadata": {},
     "output_type": "display_data"
    },
    {
     "data": {
      "application/vnd.jupyter.widget-view+json": {
       "model_id": "02bf8de5257a44778a5ecf3fec05231d",
       "version_major": 2,
       "version_minor": 0
      },
      "text/plain": [
       "  0%|          | 0/1 [00:00<?, ?it/s]"
      ]
     },
     "metadata": {},
     "output_type": "display_data"
    },
    {
     "name": "stdout",
     "output_type": "stream",
     "text": [
      "              馬番    scores\n",
      "202201020807   1 -0.042919\n",
      "202201020807   8 -0.153212\n",
      "202201020807  11 -0.487057\n",
      "202201020807   2 -0.519089\n",
      "202201020807  14 -0.530410\n",
      "202201020807   3 -0.704115\n",
      "202201020807   5 -0.816080\n",
      "202201020807   6 -0.878614\n",
      "202201020807  13 -0.924903\n",
      "202201020807  12 -1.397026\n",
      "202201020807   9 -1.412963\n",
      "202201020807  10 -1.533956\n",
      "202201020807   4 -1.560519\n",
      "202201020807   7 -1.677366\n"
     ]
    }
   ],
   "source": [
    "base  = '2022010208'\n",
    "pt.predict(base+'07')\n"
   ]
  },
  {
   "cell_type": "markdown",
   "id": "227c82bc",
   "metadata": {},
   "source": [
    "# 当日の収支計算"
   ]
  },
  {
   "cell_type": "markdown",
   "id": "e92025ba",
   "metadata": {},
   "source": [
    "return_tables　と, return_tables_todayで形式が異なるので, 形式をそろえる"
   ]
  },
  {
   "cell_type": "markdown",
   "id": "f2f72488",
   "metadata": {},
   "source": [
    "# 当日 sim 手順"
   ]
  },
  {
   "cell_type": "code",
   "execution_count": 22,
   "id": "d7f9297d",
   "metadata": {},
   "outputs": [
    {
     "data": {
      "application/vnd.jupyter.widget-view+json": {
       "model_id": "cb61fe35ca3d491a8a9011defe383755",
       "version_major": 2,
       "version_minor": 0
      },
      "text/plain": [
       "  0%|          | 0/36 [00:00<?, ?it/s]"
      ]
     },
     "metadata": {},
     "output_type": "display_data"
    },
    {
     "data": {
      "application/vnd.jupyter.widget-view+json": {
       "model_id": "eba936ca4276421fadeb43a10bd12cb7",
       "version_major": 2,
       "version_minor": 0
      },
      "text/plain": [
       "  0%|          | 0/1 [00:00<?, ?it/s]"
      ]
     },
     "metadata": {},
     "output_type": "display_data"
    },
    {
     "data": {
      "application/vnd.jupyter.widget-view+json": {
       "model_id": "d939270268524df797b1a3359d693e36",
       "version_major": 2,
       "version_minor": 0
      },
      "text/plain": [
       "  0%|          | 0/1 [00:00<?, ?it/s]"
      ]
     },
     "metadata": {},
     "output_type": "display_data"
    },
    {
     "data": {
      "application/vnd.jupyter.widget-view+json": {
       "model_id": "3d2c51161dcc4b5f8d398f39ed344041",
       "version_major": 2,
       "version_minor": 0
      },
      "text/plain": [
       "  0%|          | 0/1 [00:00<?, ?it/s]"
      ]
     },
     "metadata": {},
     "output_type": "display_data"
    },
    {
     "data": {
      "application/vnd.jupyter.widget-view+json": {
       "model_id": "3302b835d49c4147a8b210840e19faab",
       "version_major": 2,
       "version_minor": 0
      },
      "text/plain": [
       "  0%|          | 0/36 [00:00<?, ?it/s]"
      ]
     },
     "metadata": {},
     "output_type": "display_data"
    }
   ],
   "source": [
    "data =  ShutubaTable.scrape(race_id_list, pt.date)\n",
    "st = ShutubaTable(data)\n",
    "st.preprocessing()\n",
    "st.merge_horse_results(pt.hr)\n",
    "st.merge_peds(pt.pe.peds_cat)\n",
    "st.process_categorical(pt.r.le_horse, pt.r.le_jockey, pt.r.data_pe)\n",
    "\n",
    "\n",
    "tsl = TodaySimulater(pt.model)\n",
    "tsl.return_table_today(race_id_list)\n",
    "all_results = tsl.get_result_df( st.data_c, tsl.return_tables,race_id_list, kaime='all',odds=1)"
   ]
  },
  {
   "cell_type": "code",
   "execution_count": 41,
   "id": "28a8f873",
   "metadata": {},
   "outputs": [
    {
     "data": {
      "text/html": [
       "<div>\n",
       "<style scoped>\n",
       "    .dataframe tbody tr th:only-of-type {\n",
       "        vertical-align: middle;\n",
       "    }\n",
       "\n",
       "    .dataframe tbody tr th {\n",
       "        vertical-align: top;\n",
       "    }\n",
       "\n",
       "    .dataframe thead th {\n",
       "        text-align: right;\n",
       "    }\n",
       "</style>\n",
       "<table border=\"1\" class=\"dataframe\">\n",
       "  <thead>\n",
       "    <tr style=\"text-align: right;\">\n",
       "      <th></th>\n",
       "      <th>pred_list</th>\n",
       "      <th>actual_rank_list</th>\n",
       "      <th>tansho_odds</th>\n",
       "      <th>fukusho_odds</th>\n",
       "      <th>umaren_odds</th>\n",
       "      <th>wide_odds</th>\n",
       "      <th>umatan_odds</th>\n",
       "      <th>sanrenpuku_odds</th>\n",
       "      <th>sanrentan_odds</th>\n",
       "      <th>wide_comb</th>\n",
       "    </tr>\n",
       "  </thead>\n",
       "  <tbody>\n",
       "    <tr>\n",
       "      <th>202204030801</th>\n",
       "      <td>[13, 5, 9, 8, 10, 4, 1, 2, 11, 12, 3, 7, 6]</td>\n",
       "      <td>[10, 8, 9]</td>\n",
       "      <td>3.5</td>\n",
       "      <td>[1.7, 3.3, 3.5]</td>\n",
       "      <td>21.9</td>\n",
       "      <td>[5.8, 7.6, 14.2]</td>\n",
       "      <td>32.6</td>\n",
       "      <td>64.5</td>\n",
       "      <td>259.7</td>\n",
       "      <td>[[8, 10], [9, 10], [8, 9]]</td>\n",
       "    </tr>\n",
       "    <tr>\n",
       "      <th>202204030802</th>\n",
       "      <td>[4, 16, 14, 2, 8, 10, 11, 3, 13, 17, 7, 9, 5, ...</td>\n",
       "      <td>[10, 3, 14]</td>\n",
       "      <td>5.3</td>\n",
       "      <td>[1.9, 7.2, 2.4]</td>\n",
       "      <td>79.5</td>\n",
       "      <td>[20.8, 6.6, 33.8]</td>\n",
       "      <td>112.0</td>\n",
       "      <td>160.3</td>\n",
       "      <td>976.7</td>\n",
       "      <td>[[3, 10], [10, 14], [3, 14]]</td>\n",
       "    </tr>\n",
       "    <tr>\n",
       "      <th>202204030803</th>\n",
       "      <td>[3, 8, 6, 12, 1, 15, 2, 11, 7, 9, 14, 10, 13, ...</td>\n",
       "      <td>[3, 1, 6]</td>\n",
       "      <td>5.4</td>\n",
       "      <td>[2.0, 8.1, 9.9]</td>\n",
       "      <td>80.1</td>\n",
       "      <td>[23.0, 31.9, 104.9]</td>\n",
       "      <td>106.8</td>\n",
       "      <td>649.2</td>\n",
       "      <td>2468.9</td>\n",
       "      <td>[[1, 3], [3, 6], [1, 6]]</td>\n",
       "    </tr>\n",
       "    <tr>\n",
       "      <th>202204030804</th>\n",
       "      <td>[11, 1, 10, 13, 16, 6, 12, 5, 8, 2, 14, 17, 3,...</td>\n",
       "      <td>[3, 13, 17]</td>\n",
       "      <td>51.1</td>\n",
       "      <td>[13.5, 8.6, 8.8]</td>\n",
       "      <td>908.8</td>\n",
       "      <td>[171.7, 116.9, 77.5]</td>\n",
       "      <td>1698.1</td>\n",
       "      <td>4495.3</td>\n",
       "      <td>32267.6</td>\n",
       "      <td>[[3, 13], [3, 17], [13, 17]]</td>\n",
       "    </tr>\n",
       "    <tr>\n",
       "      <th>202204030805</th>\n",
       "      <td>[3, 9, 7, 4, 12, 8, 10, 13, 1, 6, 11, 5, 2]</td>\n",
       "      <td>[6, 4, 1]</td>\n",
       "      <td>3.8</td>\n",
       "      <td>[1.7, 4.8, 4.2]</td>\n",
       "      <td>28.8</td>\n",
       "      <td>[12.2, 11.5, 22.9]</td>\n",
       "      <td>40.2</td>\n",
       "      <td>127.1</td>\n",
       "      <td>459.4</td>\n",
       "      <td>[[4, 6], [1, 6], [1, 4]]</td>\n",
       "    </tr>\n",
       "    <tr>\n",
       "      <th>202204030806</th>\n",
       "      <td>[15, 17, 18, 7, 16, 12, 9, 8, 10, 1, 14, 13, 1...</td>\n",
       "      <td>[17, 10, 12]</td>\n",
       "      <td>2.5</td>\n",
       "      <td>[1.4, 8.3, 3.4]</td>\n",
       "      <td>48.4</td>\n",
       "      <td>[18.6, 7.5, 55.7]</td>\n",
       "      <td>69.4</td>\n",
       "      <td>151.8</td>\n",
       "      <td>535.7</td>\n",
       "      <td>[[10, 17], [12, 17], [10, 12]]</td>\n",
       "    </tr>\n",
       "    <tr>\n",
       "      <th>202204030807</th>\n",
       "      <td>[14, 13, 4, 15, 7, 5, 10, 9, 11, 12, 1, 3, 2, ...</td>\n",
       "      <td>[14, 7, 10]</td>\n",
       "      <td>2.5</td>\n",
       "      <td>[1.4, 2.2, 5.7]</td>\n",
       "      <td>9.5</td>\n",
       "      <td>[4.5, 11.3, 22.3]</td>\n",
       "      <td>14.8</td>\n",
       "      <td>56.7</td>\n",
       "      <td>175.4</td>\n",
       "      <td>[[7, 14], [10, 14], [7, 10]]</td>\n",
       "    </tr>\n",
       "    <tr>\n",
       "      <th>202204030808</th>\n",
       "      <td>[13, 4, 7, 10, 11, 5, 9, 6, 8, 12, 1, 14, 2, 1...</td>\n",
       "      <td>[9, 4, 7]</td>\n",
       "      <td>15.5</td>\n",
       "      <td>[5.5, 3.5, 8.3]</td>\n",
       "      <td>40.1</td>\n",
       "      <td>[10.3, 23.8, 11.0]</td>\n",
       "      <td>128.6</td>\n",
       "      <td>168.1</td>\n",
       "      <td>1254.6</td>\n",
       "      <td>[[4, 9], [7, 9], [4, 7]]</td>\n",
       "    </tr>\n",
       "    <tr>\n",
       "      <th>202204030809</th>\n",
       "      <td>[8, 7, 10, 2, 13, 1, 12, 14, 4, 9, 6, 3, 11, 5]</td>\n",
       "      <td>[12, 1, 2]</td>\n",
       "      <td>4.6</td>\n",
       "      <td>[1.9, 2.4, 3.3]</td>\n",
       "      <td>17.7</td>\n",
       "      <td>[7.8, 10.4, 11.8]</td>\n",
       "      <td>35.7</td>\n",
       "      <td>56.6</td>\n",
       "      <td>255.1</td>\n",
       "      <td>[[1, 12], [2, 12], [1, 2]]</td>\n",
       "    </tr>\n",
       "    <tr>\n",
       "      <th>202204030810</th>\n",
       "      <td>[1, 14, 5, 12, 6, 9, 10, 15, 3, 13, 11, 4, 2, ...</td>\n",
       "      <td>[10, 14, 5]</td>\n",
       "      <td>22.4</td>\n",
       "      <td>[6.9, 8.2, 6.0]</td>\n",
       "      <td>187.3</td>\n",
       "      <td>[51.3, 46.2, 58.2]</td>\n",
       "      <td>526.3</td>\n",
       "      <td>1058.8</td>\n",
       "      <td>6427.2</td>\n",
       "      <td>[[10, 14], [5, 10], [5, 14]]</td>\n",
       "    </tr>\n",
       "    <tr>\n",
       "      <th>202204030811</th>\n",
       "      <td>[8, 14, 1, 4, 6, 18, 5, 9, 2, 16, 15, 10, 7, 1...</td>\n",
       "      <td>[6, 17, 18]</td>\n",
       "      <td>22.0</td>\n",
       "      <td>[6.8, 6.6, 3.6]</td>\n",
       "      <td>282.5</td>\n",
       "      <td>[74.3, 45.2, 38.6]</td>\n",
       "      <td>579.3</td>\n",
       "      <td>913.5</td>\n",
       "      <td>7091.2</td>\n",
       "      <td>[[6, 17], [6, 18], [17, 18]]</td>\n",
       "    </tr>\n",
       "    <tr>\n",
       "      <th>202204030812</th>\n",
       "      <td>[5, 17, 7, 8, 2, 1, 11, 15, 3, 6, 18, 16, 4, 1...</td>\n",
       "      <td>[12, 17, 15]</td>\n",
       "      <td>6.0</td>\n",
       "      <td>[2.4, 4.5, 5.0]</td>\n",
       "      <td>47.6</td>\n",
       "      <td>[14.8, 16.9, 15.3]</td>\n",
       "      <td>87.3</td>\n",
       "      <td>137.1</td>\n",
       "      <td>653.1</td>\n",
       "      <td>[[12, 17], [12, 15], [15, 17]]</td>\n",
       "    </tr>\n",
       "    <tr>\n",
       "      <th>202210040801</th>\n",
       "      <td>[8, 3, 2, 4, 7, 5, 9, 6, 1]</td>\n",
       "      <td>[6, 2, 7]</td>\n",
       "      <td>22.0</td>\n",
       "      <td>[2.5, 1.1, 1.1]</td>\n",
       "      <td>24.0</td>\n",
       "      <td>[5.9, 6.1, 1.5]</td>\n",
       "      <td>65.0</td>\n",
       "      <td>13.1</td>\n",
       "      <td>152.0</td>\n",
       "      <td>[[2, 6], [6, 7], [2, 7]]</td>\n",
       "    </tr>\n",
       "    <tr>\n",
       "      <th>202210040802</th>\n",
       "      <td>[6, 9, 11, 7, 1, 13, 8, 3, 10, 5, 12, 2, 4]</td>\n",
       "      <td>[11, 6, 7]</td>\n",
       "      <td>2.7</td>\n",
       "      <td>[1.2, 1.2, 4.2]</td>\n",
       "      <td>3.4</td>\n",
       "      <td>[1.9, 10.1, 9.3]</td>\n",
       "      <td>6.3</td>\n",
       "      <td>22.2</td>\n",
       "      <td>71.6</td>\n",
       "      <td>[[6, 11], [7, 11], [6, 7]]</td>\n",
       "    </tr>\n",
       "    <tr>\n",
       "      <th>202210040803</th>\n",
       "      <td>[3, 5, 10, 14, 13, 2, 12, 16, 9, 6, 15, 8, 11,...</td>\n",
       "      <td>[14, 16, 13]</td>\n",
       "      <td>2.1</td>\n",
       "      <td>[1.2, 4.3, 3.7]</td>\n",
       "      <td>36.1</td>\n",
       "      <td>[14.9, 8.1, 61.5]</td>\n",
       "      <td>52.0</td>\n",
       "      <td>126.8</td>\n",
       "      <td>502.2</td>\n",
       "      <td>[[14, 16], [13, 14], [13, 16]]</td>\n",
       "    </tr>\n",
       "    <tr>\n",
       "      <th>202210040804</th>\n",
       "      <td>[17, 14, 18, 11, 10, 15, 2, 9, 6, 16, 3, 12, 7...</td>\n",
       "      <td>[11, 17, 14]</td>\n",
       "      <td>3.2</td>\n",
       "      <td>[1.2, 1.2, 1.9]</td>\n",
       "      <td>4.3</td>\n",
       "      <td>[2.2, 5.5, 4.1]</td>\n",
       "      <td>9.5</td>\n",
       "      <td>15.2</td>\n",
       "      <td>59.6</td>\n",
       "      <td>[[11, 17], [11, 14], [14, 17]]</td>\n",
       "    </tr>\n",
       "    <tr>\n",
       "      <th>202210040805</th>\n",
       "      <td>[7, 5, 10, 1, 3, 9, 11, 2, 8, 4, 6]</td>\n",
       "      <td>[10, 7, 6]</td>\n",
       "      <td>165.3</td>\n",
       "      <td>[29.9, 3.3, 2.3]</td>\n",
       "      <td>617.5</td>\n",
       "      <td>[138.0, 119.1, 10.1]</td>\n",
       "      <td>2199.6</td>\n",
       "      <td>885.8</td>\n",
       "      <td>11738.5</td>\n",
       "      <td>[[7, 10], [6, 10], [6, 7]]</td>\n",
       "    </tr>\n",
       "    <tr>\n",
       "      <th>202210040806</th>\n",
       "      <td>[11, 12, 13, 7, 3, 8, 2, 1, 15, 4, 9, 10, 5, 1...</td>\n",
       "      <td>[9, 5, 1]</td>\n",
       "      <td>5.8</td>\n",
       "      <td>[2.6, 17.9, 3.1]</td>\n",
       "      <td>244.9</td>\n",
       "      <td>[62.7, 10.3, 68.0]</td>\n",
       "      <td>360.7</td>\n",
       "      <td>634.7</td>\n",
       "      <td>3485.4</td>\n",
       "      <td>[[5, 9], [1, 9], [1, 5]]</td>\n",
       "    </tr>\n",
       "    <tr>\n",
       "      <th>202210040807</th>\n",
       "      <td>[16, 15, 7, 9, 11, 8, 5, 14, 12, 10, 13, 6, 4,...</td>\n",
       "      <td>[11, 5, 13]</td>\n",
       "      <td>5.3</td>\n",
       "      <td>[1.9, 1.9, 5.1]</td>\n",
       "      <td>19.5</td>\n",
       "      <td>[6.8, 16.6, 17.7]</td>\n",
       "      <td>42.6</td>\n",
       "      <td>118.0</td>\n",
       "      <td>546.9</td>\n",
       "      <td>[[5, 11], [11, 13], [5, 13]]</td>\n",
       "    </tr>\n",
       "    <tr>\n",
       "      <th>202210040808</th>\n",
       "      <td>[3, 2, 8, 4, 5, 6, 11, 7, 10, 1]</td>\n",
       "      <td>[8, 3, 6]</td>\n",
       "      <td>2.8</td>\n",
       "      <td>[1.1, 1.1, 1.8]</td>\n",
       "      <td>1.9</td>\n",
       "      <td>[1.4, 4.3, 4.0]</td>\n",
       "      <td>4.4</td>\n",
       "      <td>7.2</td>\n",
       "      <td>25.4</td>\n",
       "      <td>[[3, 8], [6, 8], [3, 6]]</td>\n",
       "    </tr>\n",
       "    <tr>\n",
       "      <th>202210040809</th>\n",
       "      <td>[4, 13, 18, 8, 16, 1, 9, 6, 2, 7, 10, 14, 11, ...</td>\n",
       "      <td>[18, 6, 2]</td>\n",
       "      <td>6.0</td>\n",
       "      <td>[1.9, 3.0, 14.6]</td>\n",
       "      <td>27.4</td>\n",
       "      <td>[10.8, 59.6, 52.7]</td>\n",
       "      <td>47.5</td>\n",
       "      <td>352.1</td>\n",
       "      <td>1336.2</td>\n",
       "      <td>[[6, 18], [2, 18], [2, 6]]</td>\n",
       "    </tr>\n",
       "    <tr>\n",
       "      <th>202210040810</th>\n",
       "      <td>[3, 12, 4, 14, 13, 10, 11, 6, 7, 9, 2, 5, 1, 8]</td>\n",
       "      <td>[6, 12, 14]</td>\n",
       "      <td>12.9</td>\n",
       "      <td>[3.6, 8.7, 2.7]</td>\n",
       "      <td>224.6</td>\n",
       "      <td>[53.7, 16.7, 28.1]</td>\n",
       "      <td>356.1</td>\n",
       "      <td>466.8</td>\n",
       "      <td>4186.7</td>\n",
       "      <td>[[6, 12], [6, 14], [12, 14]]</td>\n",
       "    </tr>\n",
       "    <tr>\n",
       "      <th>202210040811</th>\n",
       "      <td>[8, 12, 11, 7, 1, 9, 5, 3, 2, 6, 13, 10, 4]</td>\n",
       "      <td>[1, 11, 13]</td>\n",
       "      <td>7.4</td>\n",
       "      <td>[2.8, 8.6, 10.8]</td>\n",
       "      <td>102.1</td>\n",
       "      <td>[29.7, 34.8, 65.6]</td>\n",
       "      <td>168.0</td>\n",
       "      <td>721.7</td>\n",
       "      <td>3767.0</td>\n",
       "      <td>[[1, 11], [1, 13], [11, 13]]</td>\n",
       "    </tr>\n",
       "    <tr>\n",
       "      <th>202210040812</th>\n",
       "      <td>[13, 15, 3, 8, 7, 10, 14, 9, 11, 6, 4, 2, 5, 1...</td>\n",
       "      <td>[15, 10, 3]</td>\n",
       "      <td>4.3</td>\n",
       "      <td>[1.8, 1.6, 4.5]</td>\n",
       "      <td>11.5</td>\n",
       "      <td>[4.9, 19.4, 14.7]</td>\n",
       "      <td>20.1</td>\n",
       "      <td>70.2</td>\n",
       "      <td>275.5</td>\n",
       "      <td>[[10, 15], [3, 15], [3, 10]]</td>\n",
       "    </tr>\n",
       "    <tr>\n",
       "      <th>202201020801</th>\n",
       "      <td>[7, 1, 5, 8, 3, 6, 2, 4]</td>\n",
       "      <td>[1, 5, 3]</td>\n",
       "      <td>7.1</td>\n",
       "      <td>[1.7, 1.1, 1.8]</td>\n",
       "      <td>6.6</td>\n",
       "      <td>[2.9, 7.0, 3.2]</td>\n",
       "      <td>17.7</td>\n",
       "      <td>13.5</td>\n",
       "      <td>82.9</td>\n",
       "      <td>[[1, 5], [1, 3], [3, 5]]</td>\n",
       "    </tr>\n",
       "    <tr>\n",
       "      <th>202201020802</th>\n",
       "      <td>[8, 7, 10, 14, 9, 1, 11, 13, 12, 3, 2, 4, 5, 6]</td>\n",
       "      <td>[10, 4, 9]</td>\n",
       "      <td>2.0</td>\n",
       "      <td>[1.3, 3.9, 35.8]</td>\n",
       "      <td>15.7</td>\n",
       "      <td>[7.5, 69.1, 218.2]</td>\n",
       "      <td>19.9</td>\n",
       "      <td>743.6</td>\n",
       "      <td>1917.6</td>\n",
       "      <td>[[4, 10], [9, 10], [4, 9]]</td>\n",
       "    </tr>\n",
       "    <tr>\n",
       "      <th>202201020803</th>\n",
       "      <td>[14, 4, 9, 11, 13, 7, 3, 1, 6, 10, 2, 5, 8, 12]</td>\n",
       "      <td>[11, 1, 4]</td>\n",
       "      <td>9.3</td>\n",
       "      <td>[3.6, 3.0, 2.2]</td>\n",
       "      <td>47.3</td>\n",
       "      <td>[15.7, 13.9, 9.5]</td>\n",
       "      <td>80.3</td>\n",
       "      <td>109.0</td>\n",
       "      <td>656.5</td>\n",
       "      <td>[[1, 11], [4, 11], [1, 4]]</td>\n",
       "    </tr>\n",
       "    <tr>\n",
       "      <th>202201020804</th>\n",
       "      <td>[6, 4, 15, 12, 5, 14, 9, 11, 1, 2, 13, 7, 10, ...</td>\n",
       "      <td>[12, 6, 11]</td>\n",
       "      <td>2.3</td>\n",
       "      <td>[1.3, 1.3, 6.2]</td>\n",
       "      <td>4.1</td>\n",
       "      <td>[2.1, 19.6, 21.6]</td>\n",
       "      <td>7.2</td>\n",
       "      <td>54.6</td>\n",
       "      <td>212.7</td>\n",
       "      <td>[[6, 12], [11, 12], [6, 11]]</td>\n",
       "    </tr>\n",
       "    <tr>\n",
       "      <th>202201020805</th>\n",
       "      <td>[14, 10, 3, 6, 8, 1, 5, 2, 11, 13, 9, 4, 7, 12]</td>\n",
       "      <td>[10, 3, 6]</td>\n",
       "      <td>2.5</td>\n",
       "      <td>[1.2, 2.1, 1.2]</td>\n",
       "      <td>16.1</td>\n",
       "      <td>[5.0, 1.7, 4.8]</td>\n",
       "      <td>21.5</td>\n",
       "      <td>13.8</td>\n",
       "      <td>74.0</td>\n",
       "      <td>[[3, 10], [6, 10], [3, 6]]</td>\n",
       "    </tr>\n",
       "    <tr>\n",
       "      <th>202201020806</th>\n",
       "      <td>[3, 10, 5, 8, 15, 11, 6, 13, 12, 16, 7, 1, 2, ...</td>\n",
       "      <td>[10, 11, 15]</td>\n",
       "      <td>13.1</td>\n",
       "      <td>[4.3, 2.6, 2.9]</td>\n",
       "      <td>50.1</td>\n",
       "      <td>[16.0, 18.1, 15.7]</td>\n",
       "      <td>97.9</td>\n",
       "      <td>147.7</td>\n",
       "      <td>941.5</td>\n",
       "      <td>[[10, 11], [10, 15], [11, 15]]</td>\n",
       "    </tr>\n",
       "    <tr>\n",
       "      <th>202201020807</th>\n",
       "      <td>[1, 14, 8, 11, 2, 3, 13, 5, 6, 12, 9, 4, 10, 7]</td>\n",
       "      <td>[11, 13, 5]</td>\n",
       "      <td>5.6</td>\n",
       "      <td>[2.1, 1.7, 3.0]</td>\n",
       "      <td>14.8</td>\n",
       "      <td>[5.1, 11.7, 9.6]</td>\n",
       "      <td>30.7</td>\n",
       "      <td>62.5</td>\n",
       "      <td>324.1</td>\n",
       "      <td>[[11, 13], [5, 11], [5, 13]]</td>\n",
       "    </tr>\n",
       "    <tr>\n",
       "      <th>202201020808</th>\n",
       "      <td>[13, 11, 12, 6, 4, 9, 1, 3, 7, 14, 10, 8, 5, 2]</td>\n",
       "      <td>[9, 12, 11]</td>\n",
       "      <td>56.2</td>\n",
       "      <td>[9.5, 1.4, 1.9]</td>\n",
       "      <td>73.7</td>\n",
       "      <td>[22.1, 34.1, 3.9]</td>\n",
       "      <td>242.3</td>\n",
       "      <td>84.0</td>\n",
       "      <td>1243.9</td>\n",
       "      <td>[[9, 12], [9, 11], [11, 12]]</td>\n",
       "    </tr>\n",
       "    <tr>\n",
       "      <th>202201020809</th>\n",
       "      <td>[12, 1, 9, 13, 14, 2, 6, 3, 10, 4, 5, 7, 11, 8]</td>\n",
       "      <td>[5, 14, 2]</td>\n",
       "      <td>43.3</td>\n",
       "      <td>[10.7, 3.8, 1.6]</td>\n",
       "      <td>281.2</td>\n",
       "      <td>[66.2, 24.8, 8.1]</td>\n",
       "      <td>606.9</td>\n",
       "      <td>255.2</td>\n",
       "      <td>2942.6</td>\n",
       "      <td>[[5, 14], [2, 5], [2, 14]]</td>\n",
       "    </tr>\n",
       "    <tr>\n",
       "      <th>202201020810</th>\n",
       "      <td>[3, 7, 1, 13, 8, 11, 6, 9, 12, 10, 5, 15, 2, 1...</td>\n",
       "      <td>[11, 7, 2]</td>\n",
       "      <td>16.8</td>\n",
       "      <td>[4.4, 1.8, 7.8]</td>\n",
       "      <td>41.5</td>\n",
       "      <td>[13.6, 56.4, 33.4]</td>\n",
       "      <td>95.9</td>\n",
       "      <td>410.7</td>\n",
       "      <td>3052.5</td>\n",
       "      <td>[[7, 11], [2, 11], [2, 7]]</td>\n",
       "    </tr>\n",
       "    <tr>\n",
       "      <th>202201020811</th>\n",
       "      <td>[7, 2, 3, 5, 4, 11, 8, 10, 9, 1, 6]</td>\n",
       "      <td>[5, 9, 1]</td>\n",
       "      <td>3.8</td>\n",
       "      <td>[1.3, 1.4, 3.7]</td>\n",
       "      <td>5.4</td>\n",
       "      <td>[2.5, 11.8, 11.8]</td>\n",
       "      <td>12.1</td>\n",
       "      <td>46.9</td>\n",
       "      <td>211.4</td>\n",
       "      <td>[[5, 9], [1, 5], [1, 9]]</td>\n",
       "    </tr>\n",
       "    <tr>\n",
       "      <th>202201020812</th>\n",
       "      <td>[7, 1, 12, 9, 6, 5, 11, 4, 8, 2, 14, 3, 10, 13]</td>\n",
       "      <td>[9, 12, 1]</td>\n",
       "      <td>2.8</td>\n",
       "      <td>[1.3, 1.6, 1.6]</td>\n",
       "      <td>9.8</td>\n",
       "      <td>[3.7, 3.0, 5.4]</td>\n",
       "      <td>14.7</td>\n",
       "      <td>16.3</td>\n",
       "      <td>63.4</td>\n",
       "      <td>[[9, 12], [1, 9], [1, 12]]</td>\n",
       "    </tr>\n",
       "  </tbody>\n",
       "</table>\n",
       "</div>"
      ],
      "text/plain": [
       "                                                      pred_list  \\\n",
       "202204030801        [13, 5, 9, 8, 10, 4, 1, 2, 11, 12, 3, 7, 6]   \n",
       "202204030802  [4, 16, 14, 2, 8, 10, 11, 3, 13, 17, 7, 9, 5, ...   \n",
       "202204030803  [3, 8, 6, 12, 1, 15, 2, 11, 7, 9, 14, 10, 13, ...   \n",
       "202204030804  [11, 1, 10, 13, 16, 6, 12, 5, 8, 2, 14, 17, 3,...   \n",
       "202204030805        [3, 9, 7, 4, 12, 8, 10, 13, 1, 6, 11, 5, 2]   \n",
       "202204030806  [15, 17, 18, 7, 16, 12, 9, 8, 10, 1, 14, 13, 1...   \n",
       "202204030807  [14, 13, 4, 15, 7, 5, 10, 9, 11, 12, 1, 3, 2, ...   \n",
       "202204030808  [13, 4, 7, 10, 11, 5, 9, 6, 8, 12, 1, 14, 2, 1...   \n",
       "202204030809    [8, 7, 10, 2, 13, 1, 12, 14, 4, 9, 6, 3, 11, 5]   \n",
       "202204030810  [1, 14, 5, 12, 6, 9, 10, 15, 3, 13, 11, 4, 2, ...   \n",
       "202204030811  [8, 14, 1, 4, 6, 18, 5, 9, 2, 16, 15, 10, 7, 1...   \n",
       "202204030812  [5, 17, 7, 8, 2, 1, 11, 15, 3, 6, 18, 16, 4, 1...   \n",
       "202210040801                        [8, 3, 2, 4, 7, 5, 9, 6, 1]   \n",
       "202210040802        [6, 9, 11, 7, 1, 13, 8, 3, 10, 5, 12, 2, 4]   \n",
       "202210040803  [3, 5, 10, 14, 13, 2, 12, 16, 9, 6, 15, 8, 11,...   \n",
       "202210040804  [17, 14, 18, 11, 10, 15, 2, 9, 6, 16, 3, 12, 7...   \n",
       "202210040805                [7, 5, 10, 1, 3, 9, 11, 2, 8, 4, 6]   \n",
       "202210040806  [11, 12, 13, 7, 3, 8, 2, 1, 15, 4, 9, 10, 5, 1...   \n",
       "202210040807  [16, 15, 7, 9, 11, 8, 5, 14, 12, 10, 13, 6, 4,...   \n",
       "202210040808                   [3, 2, 8, 4, 5, 6, 11, 7, 10, 1]   \n",
       "202210040809  [4, 13, 18, 8, 16, 1, 9, 6, 2, 7, 10, 14, 11, ...   \n",
       "202210040810    [3, 12, 4, 14, 13, 10, 11, 6, 7, 9, 2, 5, 1, 8]   \n",
       "202210040811        [8, 12, 11, 7, 1, 9, 5, 3, 2, 6, 13, 10, 4]   \n",
       "202210040812  [13, 15, 3, 8, 7, 10, 14, 9, 11, 6, 4, 2, 5, 1...   \n",
       "202201020801                           [7, 1, 5, 8, 3, 6, 2, 4]   \n",
       "202201020802    [8, 7, 10, 14, 9, 1, 11, 13, 12, 3, 2, 4, 5, 6]   \n",
       "202201020803    [14, 4, 9, 11, 13, 7, 3, 1, 6, 10, 2, 5, 8, 12]   \n",
       "202201020804  [6, 4, 15, 12, 5, 14, 9, 11, 1, 2, 13, 7, 10, ...   \n",
       "202201020805    [14, 10, 3, 6, 8, 1, 5, 2, 11, 13, 9, 4, 7, 12]   \n",
       "202201020806  [3, 10, 5, 8, 15, 11, 6, 13, 12, 16, 7, 1, 2, ...   \n",
       "202201020807    [1, 14, 8, 11, 2, 3, 13, 5, 6, 12, 9, 4, 10, 7]   \n",
       "202201020808    [13, 11, 12, 6, 4, 9, 1, 3, 7, 14, 10, 8, 5, 2]   \n",
       "202201020809    [12, 1, 9, 13, 14, 2, 6, 3, 10, 4, 5, 7, 11, 8]   \n",
       "202201020810  [3, 7, 1, 13, 8, 11, 6, 9, 12, 10, 5, 15, 2, 1...   \n",
       "202201020811                [7, 2, 3, 5, 4, 11, 8, 10, 9, 1, 6]   \n",
       "202201020812    [7, 1, 12, 9, 6, 5, 11, 4, 8, 2, 14, 3, 10, 13]   \n",
       "\n",
       "             actual_rank_list tansho_odds      fukusho_odds umaren_odds  \\\n",
       "202204030801       [10, 8, 9]         3.5   [1.7, 3.3, 3.5]        21.9   \n",
       "202204030802      [10, 3, 14]         5.3   [1.9, 7.2, 2.4]        79.5   \n",
       "202204030803        [3, 1, 6]         5.4   [2.0, 8.1, 9.9]        80.1   \n",
       "202204030804      [3, 13, 17]        51.1  [13.5, 8.6, 8.8]       908.8   \n",
       "202204030805        [6, 4, 1]         3.8   [1.7, 4.8, 4.2]        28.8   \n",
       "202204030806     [17, 10, 12]         2.5   [1.4, 8.3, 3.4]        48.4   \n",
       "202204030807      [14, 7, 10]         2.5   [1.4, 2.2, 5.7]         9.5   \n",
       "202204030808        [9, 4, 7]        15.5   [5.5, 3.5, 8.3]        40.1   \n",
       "202204030809       [12, 1, 2]         4.6   [1.9, 2.4, 3.3]        17.7   \n",
       "202204030810      [10, 14, 5]        22.4   [6.9, 8.2, 6.0]       187.3   \n",
       "202204030811      [6, 17, 18]        22.0   [6.8, 6.6, 3.6]       282.5   \n",
       "202204030812     [12, 17, 15]         6.0   [2.4, 4.5, 5.0]        47.6   \n",
       "202210040801        [6, 2, 7]        22.0   [2.5, 1.1, 1.1]        24.0   \n",
       "202210040802       [11, 6, 7]         2.7   [1.2, 1.2, 4.2]         3.4   \n",
       "202210040803     [14, 16, 13]         2.1   [1.2, 4.3, 3.7]        36.1   \n",
       "202210040804     [11, 17, 14]         3.2   [1.2, 1.2, 1.9]         4.3   \n",
       "202210040805       [10, 7, 6]       165.3  [29.9, 3.3, 2.3]       617.5   \n",
       "202210040806        [9, 5, 1]         5.8  [2.6, 17.9, 3.1]       244.9   \n",
       "202210040807      [11, 5, 13]         5.3   [1.9, 1.9, 5.1]        19.5   \n",
       "202210040808        [8, 3, 6]         2.8   [1.1, 1.1, 1.8]         1.9   \n",
       "202210040809       [18, 6, 2]         6.0  [1.9, 3.0, 14.6]        27.4   \n",
       "202210040810      [6, 12, 14]        12.9   [3.6, 8.7, 2.7]       224.6   \n",
       "202210040811      [1, 11, 13]         7.4  [2.8, 8.6, 10.8]       102.1   \n",
       "202210040812      [15, 10, 3]         4.3   [1.8, 1.6, 4.5]        11.5   \n",
       "202201020801        [1, 5, 3]         7.1   [1.7, 1.1, 1.8]         6.6   \n",
       "202201020802       [10, 4, 9]         2.0  [1.3, 3.9, 35.8]        15.7   \n",
       "202201020803       [11, 1, 4]         9.3   [3.6, 3.0, 2.2]        47.3   \n",
       "202201020804      [12, 6, 11]         2.3   [1.3, 1.3, 6.2]         4.1   \n",
       "202201020805       [10, 3, 6]         2.5   [1.2, 2.1, 1.2]        16.1   \n",
       "202201020806     [10, 11, 15]        13.1   [4.3, 2.6, 2.9]        50.1   \n",
       "202201020807      [11, 13, 5]         5.6   [2.1, 1.7, 3.0]        14.8   \n",
       "202201020808      [9, 12, 11]        56.2   [9.5, 1.4, 1.9]        73.7   \n",
       "202201020809       [5, 14, 2]        43.3  [10.7, 3.8, 1.6]       281.2   \n",
       "202201020810       [11, 7, 2]        16.8   [4.4, 1.8, 7.8]        41.5   \n",
       "202201020811        [5, 9, 1]         3.8   [1.3, 1.4, 3.7]         5.4   \n",
       "202201020812       [9, 12, 1]         2.8   [1.3, 1.6, 1.6]         9.8   \n",
       "\n",
       "                         wide_odds umatan_odds sanrenpuku_odds sanrentan_odds  \\\n",
       "202204030801      [5.8, 7.6, 14.2]        32.6            64.5          259.7   \n",
       "202204030802     [20.8, 6.6, 33.8]       112.0           160.3          976.7   \n",
       "202204030803   [23.0, 31.9, 104.9]       106.8           649.2         2468.9   \n",
       "202204030804  [171.7, 116.9, 77.5]      1698.1          4495.3        32267.6   \n",
       "202204030805    [12.2, 11.5, 22.9]        40.2           127.1          459.4   \n",
       "202204030806     [18.6, 7.5, 55.7]        69.4           151.8          535.7   \n",
       "202204030807     [4.5, 11.3, 22.3]        14.8            56.7          175.4   \n",
       "202204030808    [10.3, 23.8, 11.0]       128.6           168.1         1254.6   \n",
       "202204030809     [7.8, 10.4, 11.8]        35.7            56.6          255.1   \n",
       "202204030810    [51.3, 46.2, 58.2]       526.3          1058.8         6427.2   \n",
       "202204030811    [74.3, 45.2, 38.6]       579.3           913.5         7091.2   \n",
       "202204030812    [14.8, 16.9, 15.3]        87.3           137.1          653.1   \n",
       "202210040801       [5.9, 6.1, 1.5]        65.0            13.1          152.0   \n",
       "202210040802      [1.9, 10.1, 9.3]         6.3            22.2           71.6   \n",
       "202210040803     [14.9, 8.1, 61.5]        52.0           126.8          502.2   \n",
       "202210040804       [2.2, 5.5, 4.1]         9.5            15.2           59.6   \n",
       "202210040805  [138.0, 119.1, 10.1]      2199.6           885.8        11738.5   \n",
       "202210040806    [62.7, 10.3, 68.0]       360.7           634.7         3485.4   \n",
       "202210040807     [6.8, 16.6, 17.7]        42.6           118.0          546.9   \n",
       "202210040808       [1.4, 4.3, 4.0]         4.4             7.2           25.4   \n",
       "202210040809    [10.8, 59.6, 52.7]        47.5           352.1         1336.2   \n",
       "202210040810    [53.7, 16.7, 28.1]       356.1           466.8         4186.7   \n",
       "202210040811    [29.7, 34.8, 65.6]       168.0           721.7         3767.0   \n",
       "202210040812     [4.9, 19.4, 14.7]        20.1            70.2          275.5   \n",
       "202201020801       [2.9, 7.0, 3.2]        17.7            13.5           82.9   \n",
       "202201020802    [7.5, 69.1, 218.2]        19.9           743.6         1917.6   \n",
       "202201020803     [15.7, 13.9, 9.5]        80.3           109.0          656.5   \n",
       "202201020804     [2.1, 19.6, 21.6]         7.2            54.6          212.7   \n",
       "202201020805       [5.0, 1.7, 4.8]        21.5            13.8           74.0   \n",
       "202201020806    [16.0, 18.1, 15.7]        97.9           147.7          941.5   \n",
       "202201020807      [5.1, 11.7, 9.6]        30.7            62.5          324.1   \n",
       "202201020808     [22.1, 34.1, 3.9]       242.3            84.0         1243.9   \n",
       "202201020809     [66.2, 24.8, 8.1]       606.9           255.2         2942.6   \n",
       "202201020810    [13.6, 56.4, 33.4]        95.9           410.7         3052.5   \n",
       "202201020811     [2.5, 11.8, 11.8]        12.1            46.9          211.4   \n",
       "202201020812       [3.7, 3.0, 5.4]        14.7            16.3           63.4   \n",
       "\n",
       "                                   wide_comb  \n",
       "202204030801      [[8, 10], [9, 10], [8, 9]]  \n",
       "202204030802    [[3, 10], [10, 14], [3, 14]]  \n",
       "202204030803        [[1, 3], [3, 6], [1, 6]]  \n",
       "202204030804    [[3, 13], [3, 17], [13, 17]]  \n",
       "202204030805        [[4, 6], [1, 6], [1, 4]]  \n",
       "202204030806  [[10, 17], [12, 17], [10, 12]]  \n",
       "202204030807    [[7, 14], [10, 14], [7, 10]]  \n",
       "202204030808        [[4, 9], [7, 9], [4, 7]]  \n",
       "202204030809      [[1, 12], [2, 12], [1, 2]]  \n",
       "202204030810    [[10, 14], [5, 10], [5, 14]]  \n",
       "202204030811    [[6, 17], [6, 18], [17, 18]]  \n",
       "202204030812  [[12, 17], [12, 15], [15, 17]]  \n",
       "202210040801        [[2, 6], [6, 7], [2, 7]]  \n",
       "202210040802      [[6, 11], [7, 11], [6, 7]]  \n",
       "202210040803  [[14, 16], [13, 14], [13, 16]]  \n",
       "202210040804  [[11, 17], [11, 14], [14, 17]]  \n",
       "202210040805      [[7, 10], [6, 10], [6, 7]]  \n",
       "202210040806        [[5, 9], [1, 9], [1, 5]]  \n",
       "202210040807    [[5, 11], [11, 13], [5, 13]]  \n",
       "202210040808        [[3, 8], [6, 8], [3, 6]]  \n",
       "202210040809      [[6, 18], [2, 18], [2, 6]]  \n",
       "202210040810    [[6, 12], [6, 14], [12, 14]]  \n",
       "202210040811    [[1, 11], [1, 13], [11, 13]]  \n",
       "202210040812    [[10, 15], [3, 15], [3, 10]]  \n",
       "202201020801        [[1, 5], [1, 3], [3, 5]]  \n",
       "202201020802      [[4, 10], [9, 10], [4, 9]]  \n",
       "202201020803      [[1, 11], [4, 11], [1, 4]]  \n",
       "202201020804    [[6, 12], [11, 12], [6, 11]]  \n",
       "202201020805      [[3, 10], [6, 10], [3, 6]]  \n",
       "202201020806  [[10, 11], [10, 15], [11, 15]]  \n",
       "202201020807    [[11, 13], [5, 11], [5, 13]]  \n",
       "202201020808    [[9, 12], [9, 11], [11, 12]]  \n",
       "202201020809      [[5, 14], [2, 5], [2, 14]]  \n",
       "202201020810      [[7, 11], [2, 11], [2, 7]]  \n",
       "202201020811        [[5, 9], [1, 5], [1, 9]]  \n",
       "202201020812      [[9, 12], [1, 9], [1, 12]]  "
      ]
     },
     "execution_count": 41,
     "metadata": {},
     "output_type": "execute_result"
    }
   ],
   "source": [
    "all_results"
   ]
  },
  {
   "cell_type": "code",
   "execution_count": 24,
   "id": "0abe74b7",
   "metadata": {},
   "outputs": [
    {
     "name": "stdout",
     "output_type": "stream",
     "text": [
      "的中率 0.05555555555555555\n",
      "収益   -2810.0 円\n",
      "race dist {'01': 0, '02': 0, '03': 1, '04': 0, '05': 0, '06': 0, '07': 1, '08': 0, '09': 0, '10': 0, '11': 0, '12': 0}\n"
     ]
    }
   ],
   "source": [
    "calc_tansho(all_results,is_today=True)"
   ]
  },
  {
   "cell_type": "markdown",
   "id": "a59412d0",
   "metadata": {},
   "source": [
    "# previous params"
   ]
  },
  {
   "cell_type": "code",
   "execution_count": 16,
   "id": "a5ada4b0",
   "metadata": {},
   "outputs": [
    {
     "data": {
      "text/html": [
       "<div>\n",
       "<style scoped>\n",
       "    .dataframe tbody tr th:only-of-type {\n",
       "        vertical-align: middle;\n",
       "    }\n",
       "\n",
       "    .dataframe tbody tr th {\n",
       "        vertical-align: top;\n",
       "    }\n",
       "\n",
       "    .dataframe thead th {\n",
       "        text-align: right;\n",
       "    }\n",
       "</style>\n",
       "<table border=\"1\" class=\"dataframe\">\n",
       "  <thead>\n",
       "    <tr style=\"text-align: right;\">\n",
       "      <th></th>\n",
       "      <th>pred_list</th>\n",
       "      <th>actual_rank_list</th>\n",
       "      <th>tansho_odds</th>\n",
       "      <th>fukusho_odds</th>\n",
       "      <th>umaren_odds</th>\n",
       "      <th>wide_odds</th>\n",
       "      <th>umatan_odds</th>\n",
       "      <th>sanrenpuku_odds</th>\n",
       "      <th>sanrentan_odds</th>\n",
       "      <th>wide_comb</th>\n",
       "    </tr>\n",
       "  </thead>\n",
       "  <tbody>\n",
       "    <tr>\n",
       "      <th>202204030501</th>\n",
       "      <td>[15, 8, 14, 12, 2, 7, 9, 10, 6, 4, 11, 3, 1, 5...</td>\n",
       "      <td>[15, 8, 12]</td>\n",
       "      <td>3.0</td>\n",
       "      <td>[1.2, 1.1, 2.2]</td>\n",
       "      <td>2.8</td>\n",
       "      <td>[1.6, 4.7, 3.5]</td>\n",
       "      <td>7.3</td>\n",
       "      <td>8.3</td>\n",
       "      <td>38.0</td>\n",
       "      <td>[[8, 15], [12, 15], [8, 12]]</td>\n",
       "    </tr>\n",
       "    <tr>\n",
       "      <th>202204030502</th>\n",
       "      <td>[1, 15, 7, 13, 3, 14, 5, 10, 8, 11, 6, 2, 12, ...</td>\n",
       "      <td>[15, 5, 1]</td>\n",
       "      <td>5.8</td>\n",
       "      <td>[1.8, 6.8, 1.3]</td>\n",
       "      <td>88.7</td>\n",
       "      <td>[25.0, 3.0, 14.0]</td>\n",
       "      <td>170.0</td>\n",
       "      <td>50.2</td>\n",
       "      <td>435.9</td>\n",
       "      <td>[[5, 15], [1, 15], [1, 5]]</td>\n",
       "    </tr>\n",
       "    <tr>\n",
       "      <th>202204030503</th>\n",
       "      <td>[1, 7, 12, 9, 15, 5, 13, 14, 2, 4, 11, 3, 10, 8]</td>\n",
       "      <td>[7, 9, 14]</td>\n",
       "      <td>6.9</td>\n",
       "      <td>[2.1, 4.4, 3.2]</td>\n",
       "      <td>58.4</td>\n",
       "      <td>[16.5, 8.9, 25.5]</td>\n",
       "      <td>109.5</td>\n",
       "      <td>164.0</td>\n",
       "      <td>942.7</td>\n",
       "      <td>[[7, 9], [7, 14], [9, 14]]</td>\n",
       "    </tr>\n",
       "    <tr>\n",
       "      <th>202204030504</th>\n",
       "      <td>[3, 11, 10, 7, 6, 1, 4, 9, 8, 2, 5, 13, 14, 12]</td>\n",
       "      <td>[10, 13, 9]</td>\n",
       "      <td>5.6</td>\n",
       "      <td>[2.0, 6.3, 1.8]</td>\n",
       "      <td>82.4</td>\n",
       "      <td>[28.2, 5.6, 17.8]</td>\n",
       "      <td>124.4</td>\n",
       "      <td>93.0</td>\n",
       "      <td>706.4</td>\n",
       "      <td>[[10, 13], [9, 10], [9, 13]]</td>\n",
       "    </tr>\n",
       "    <tr>\n",
       "      <th>202204030505</th>\n",
       "      <td>[1, 2, 3, 4, 5, 6, 7, 8, 9, 10, 11, 12, 13]</td>\n",
       "      <td>[10, 2, 7]</td>\n",
       "      <td>7.5</td>\n",
       "      <td>[1.5, 1.8, 1.1]</td>\n",
       "      <td>31.1</td>\n",
       "      <td>[6.4, 2.5, 3.0]</td>\n",
       "      <td>58.0</td>\n",
       "      <td>9.3</td>\n",
       "      <td>106.7</td>\n",
       "      <td>[[2, 10], [7, 10], [2, 7]]</td>\n",
       "    </tr>\n",
       "    <tr>\n",
       "      <th>202204030506</th>\n",
       "      <td>[1, 2, 3, 4, 5, 6, 7, 8, 9, 10, 11, 12, 13, 14...</td>\n",
       "      <td>[2, 6, 11]</td>\n",
       "      <td>6.6</td>\n",
       "      <td>[1.9, 2.5, 1.4]</td>\n",
       "      <td>42.2</td>\n",
       "      <td>[12.3, 4.9, 5.5]</td>\n",
       "      <td>69.0</td>\n",
       "      <td>40.0</td>\n",
       "      <td>266.0</td>\n",
       "      <td>[[2, 6], [2, 11], [6, 11]]</td>\n",
       "    </tr>\n",
       "    <tr>\n",
       "      <th>202204030507</th>\n",
       "      <td>[18, 14, 15, 12, 16, 5, 13, 11, 10, 4, 3, 7, 2...</td>\n",
       "      <td>[12, 16, 4]</td>\n",
       "      <td>6.5</td>\n",
       "      <td>[2.0, 1.8, 2.2]</td>\n",
       "      <td>19.9</td>\n",
       "      <td>[6.8, 7.2, 7.5]</td>\n",
       "      <td>32.6</td>\n",
       "      <td>39.6</td>\n",
       "      <td>247.6</td>\n",
       "      <td>[[12, 16], [4, 12], [4, 16]]</td>\n",
       "    </tr>\n",
       "    <tr>\n",
       "      <th>202204030508</th>\n",
       "      <td>[1, 12, 8, 15, 9, 7, 13, 11, 4, 5, 10, 6, 14, ...</td>\n",
       "      <td>[9, 13, 12]</td>\n",
       "      <td>4.6</td>\n",
       "      <td>[2.0, 5.8, 1.7]</td>\n",
       "      <td>69.7</td>\n",
       "      <td>[20.4, 3.9, 13.2]</td>\n",
       "      <td>94.9</td>\n",
       "      <td>57.9</td>\n",
       "      <td>473.8</td>\n",
       "      <td>[[9, 13], [9, 12], [12, 13]]</td>\n",
       "    </tr>\n",
       "    <tr>\n",
       "      <th>202204030509</th>\n",
       "      <td>[14, 10, 6, 9, 4, 7, 11, 8, 12, 13, 2, 5, 1, 3...</td>\n",
       "      <td>[8, 13, 6]</td>\n",
       "      <td>1.7</td>\n",
       "      <td>[1.1, 4.6, 1.4]</td>\n",
       "      <td>23.8</td>\n",
       "      <td>[8.1, 2.1, 18.7]</td>\n",
       "      <td>29.8</td>\n",
       "      <td>32.5</td>\n",
       "      <td>136.6</td>\n",
       "      <td>[[8, 13], [6, 8], [6, 13]]</td>\n",
       "    </tr>\n",
       "    <tr>\n",
       "      <th>202204030510</th>\n",
       "      <td>[2, 7, 1, 13, 5, 15, 11, 12, 4, 6, 8, 3, 10, 9...</td>\n",
       "      <td>[13, 11, 5]</td>\n",
       "      <td>3.8</td>\n",
       "      <td>[1.5, 1.9, 2.2]</td>\n",
       "      <td>11.3</td>\n",
       "      <td>[4.5, 5.8, 8.3]</td>\n",
       "      <td>19.8</td>\n",
       "      <td>29.9</td>\n",
       "      <td>123.7</td>\n",
       "      <td>[[11, 13], [5, 13], [5, 11]]</td>\n",
       "    </tr>\n",
       "    <tr>\n",
       "      <th>202204030511</th>\n",
       "      <td>[10, 4, 7, 1, 8, 14, 5, 3, 6, 2, 11, 9, 13, 12...</td>\n",
       "      <td>[6, 14, 12]</td>\n",
       "      <td>6.6</td>\n",
       "      <td>[2.3, 2.5, 10.3]</td>\n",
       "      <td>28.3</td>\n",
       "      <td>[11.0, 56.1, 48.5]</td>\n",
       "      <td>58.7</td>\n",
       "      <td>439.0</td>\n",
       "      <td>2315.1</td>\n",
       "      <td>[[6, 14], [6, 12], [12, 14]]</td>\n",
       "    </tr>\n",
       "    <tr>\n",
       "      <th>202204030512</th>\n",
       "      <td>[5, 4, 6, 8, 12, 1, 18, 3, 15, 7, 10, 11, 14, ...</td>\n",
       "      <td>[4, 5, 2]</td>\n",
       "      <td>2.7</td>\n",
       "      <td>[1.5, 3.3, 7.1]</td>\n",
       "      <td>26.2</td>\n",
       "      <td>[9.4, 14.3, 73.1]</td>\n",
       "      <td>38.4</td>\n",
       "      <td>195.7</td>\n",
       "      <td>784.9</td>\n",
       "      <td>[[4, 5], [2, 4], [2, 5]]</td>\n",
       "    </tr>\n",
       "    <tr>\n",
       "      <th>202210040501</th>\n",
       "      <td>[7, 1, 6, 2, 4, 5, 3, 8]</td>\n",
       "      <td>[7, 2, 1]</td>\n",
       "      <td>3.4</td>\n",
       "      <td>[1.1, 1.1, 1.1]</td>\n",
       "      <td>2.7</td>\n",
       "      <td>[1.2, 1.9, 1.5]</td>\n",
       "      <td>7.0</td>\n",
       "      <td>2.7</td>\n",
       "      <td>15.5</td>\n",
       "      <td>[[2, 7], [1, 7], [1, 2]]</td>\n",
       "    </tr>\n",
       "    <tr>\n",
       "      <th>202210040502</th>\n",
       "      <td>[4, 2, 14, 12, 8, 6, 5, 1, 3, 10, 7, 9, 13, 11]</td>\n",
       "      <td>[4, 14, 3]</td>\n",
       "      <td>1.6</td>\n",
       "      <td>[1.1, 1.4, 16.3]</td>\n",
       "      <td>3.3</td>\n",
       "      <td>[1.8, 21.1, 66.7]</td>\n",
       "      <td>5.5</td>\n",
       "      <td>103.9</td>\n",
       "      <td>219.7</td>\n",
       "      <td>[[4, 14], [3, 4], [3, 14]]</td>\n",
       "    </tr>\n",
       "    <tr>\n",
       "      <th>202210040503</th>\n",
       "      <td>[15, 12, 10, 2, 9, 1, 14, 6, 16, 11, 4, 18, 7,...</td>\n",
       "      <td>[15, 12, 14]</td>\n",
       "      <td>1.7</td>\n",
       "      <td>[1.1, 2.5, 5.1]</td>\n",
       "      <td>8.5</td>\n",
       "      <td>[3.9, 8.2, 41.8]</td>\n",
       "      <td>11.7</td>\n",
       "      <td>69.8</td>\n",
       "      <td>175.6</td>\n",
       "      <td>[[12, 15], [14, 15], [12, 14]]</td>\n",
       "    </tr>\n",
       "    <tr>\n",
       "      <th>202210040504</th>\n",
       "      <td>[1, 9, 10, 16, 5, 4, 7, 6, 13, 2, 15, 8, 14, 3...</td>\n",
       "      <td>[5, 7, 1]</td>\n",
       "      <td>11.4</td>\n",
       "      <td>[2.7, 2.9, 1.4]</td>\n",
       "      <td>66.6</td>\n",
       "      <td>[22.2, 6.7, 7.0]</td>\n",
       "      <td>181.8</td>\n",
       "      <td>60.4</td>\n",
       "      <td>644.7</td>\n",
       "      <td>[[5, 7], [1, 5], [1, 7]]</td>\n",
       "    </tr>\n",
       "    <tr>\n",
       "      <th>202210040505</th>\n",
       "      <td>[1, 2, 3, 4, 5, 6, 7, 8, 9]</td>\n",
       "      <td>[2, 9, 3]</td>\n",
       "      <td>6.4</td>\n",
       "      <td>[1.7, 1.3, 7.0]</td>\n",
       "      <td>8.2</td>\n",
       "      <td>[3.6, 23.5, 22.6]</td>\n",
       "      <td>21.8</td>\n",
       "      <td>97.5</td>\n",
       "      <td>472.1</td>\n",
       "      <td>[[2, 9], [2, 3], [3, 9]]</td>\n",
       "    </tr>\n",
       "    <tr>\n",
       "      <th>202210040506</th>\n",
       "      <td>[4, 11, 10, 8, 17, 5, 12, 6, 15, 14, 16, 2, 9,...</td>\n",
       "      <td>[4, 5, 11]</td>\n",
       "      <td>2.1</td>\n",
       "      <td>[1.2, 2.4, 1.5]</td>\n",
       "      <td>12.1</td>\n",
       "      <td>[5.2, 2.4, 6.9]</td>\n",
       "      <td>17.6</td>\n",
       "      <td>16.7</td>\n",
       "      <td>76.7</td>\n",
       "      <td>[[4, 5], [4, 11], [5, 11]]</td>\n",
       "    </tr>\n",
       "    <tr>\n",
       "      <th>202210040507</th>\n",
       "      <td>[11, 7, 13, 12, 6, 8, 15, 10, 1, 2, 4, 3, 9, 1...</td>\n",
       "      <td>[7, 2, 1]</td>\n",
       "      <td>1.5</td>\n",
       "      <td>[1.1, 2.5, 1.6]</td>\n",
       "      <td>11.2</td>\n",
       "      <td>[4.9, 2.7, 10.0]</td>\n",
       "      <td>12.7</td>\n",
       "      <td>17.9</td>\n",
       "      <td>51.8</td>\n",
       "      <td>[[2, 7], [1, 7], [1, 2]]</td>\n",
       "    </tr>\n",
       "    <tr>\n",
       "      <th>202210040508</th>\n",
       "      <td>[5, 8, 13, 3, 1, 7, 4, 10, 2, 9, 11, 6, 12]</td>\n",
       "      <td>[9, 1, 8]</td>\n",
       "      <td>2.9</td>\n",
       "      <td>[1.4, 1.5, 4.4]</td>\n",
       "      <td>5.4</td>\n",
       "      <td>[2.6, 6.9, 12.1]</td>\n",
       "      <td>9.2</td>\n",
       "      <td>24.7</td>\n",
       "      <td>77.6</td>\n",
       "      <td>[[1, 9], [8, 9], [1, 8]]</td>\n",
       "    </tr>\n",
       "    <tr>\n",
       "      <th>202210040509</th>\n",
       "      <td>[3, 16, 5, 15, 10, 14, 13, 8, 4, 11, 17, 1, 12...</td>\n",
       "      <td>[16, 3, 10]</td>\n",
       "      <td>2.0</td>\n",
       "      <td>[1.1, 1.7, 3.3]</td>\n",
       "      <td>5.1</td>\n",
       "      <td>[2.4, 7.3, 10.7]</td>\n",
       "      <td>6.9</td>\n",
       "      <td>27.2</td>\n",
       "      <td>70.0</td>\n",
       "      <td>[[3, 16], [10, 16], [3, 10]]</td>\n",
       "    </tr>\n",
       "    <tr>\n",
       "      <th>202210040510</th>\n",
       "      <td>[6, 3, 8, 2, 5, 4, 7, 1, 9]</td>\n",
       "      <td>[8, 2, 6]</td>\n",
       "      <td>10.3</td>\n",
       "      <td>[2.8, 2.7, 1.5]</td>\n",
       "      <td>54.4</td>\n",
       "      <td>[11.3, 6.4, 7.7]</td>\n",
       "      <td>96.4</td>\n",
       "      <td>60.8</td>\n",
       "      <td>480.5</td>\n",
       "      <td>[[2, 8], [6, 8], [2, 6]]</td>\n",
       "    </tr>\n",
       "    <tr>\n",
       "      <th>202210040511</th>\n",
       "      <td>[2, 10, 4, 13, 6, 1, 9, 8, 7, 12, 5, 3, 14, 11]</td>\n",
       "      <td>[14, 13, 1]</td>\n",
       "      <td>9.1</td>\n",
       "      <td>[3.9, 2.0, 10.2]</td>\n",
       "      <td>31.1</td>\n",
       "      <td>[11.7, 54.6, 33.5]</td>\n",
       "      <td>56.2</td>\n",
       "      <td>307.8</td>\n",
       "      <td>1154.7</td>\n",
       "      <td>[[13, 14], [1, 14], [1, 13]]</td>\n",
       "    </tr>\n",
       "    <tr>\n",
       "      <th>202210040512</th>\n",
       "      <td>[8, 3, 2, 7, 1, 4, 5, 6]</td>\n",
       "      <td>[2, 1, 8]</td>\n",
       "      <td>5.7</td>\n",
       "      <td>[1.4, 1.5, 1.1]</td>\n",
       "      <td>18.5</td>\n",
       "      <td>[4.6, 2.2, 2.3]</td>\n",
       "      <td>37.5</td>\n",
       "      <td>6.9</td>\n",
       "      <td>87.1</td>\n",
       "      <td>[[1, 2], [2, 8], [1, 8]]</td>\n",
       "    </tr>\n",
       "    <tr>\n",
       "      <th>202201020501</th>\n",
       "      <td>[3, 5, 4, 7, 2, 6, 1]</td>\n",
       "      <td>[5, 3, 2]</td>\n",
       "      <td>1.2</td>\n",
       "      <td>[1.1, 1.4]</td>\n",
       "      <td>1.9</td>\n",
       "      <td>[1.2, 2.2, 2.5]</td>\n",
       "      <td>2.5</td>\n",
       "      <td>2.8</td>\n",
       "      <td>8.4</td>\n",
       "      <td>[[3, 5], [2, 5], [2, 3]]</td>\n",
       "    </tr>\n",
       "    <tr>\n",
       "      <th>202201020502</th>\n",
       "      <td>[8, 4, 7, 1, 6, 5, 2, 3]</td>\n",
       "      <td>[7, 4, 8]</td>\n",
       "      <td>5.1</td>\n",
       "      <td>[1.1, 1.1, 1.1]</td>\n",
       "      <td>4.7</td>\n",
       "      <td>[1.6, 1.5, 1.1]</td>\n",
       "      <td>12.0</td>\n",
       "      <td>2.0</td>\n",
       "      <td>18.3</td>\n",
       "      <td>[[4, 7], [7, 8], [4, 8]]</td>\n",
       "    </tr>\n",
       "    <tr>\n",
       "      <th>202201020503</th>\n",
       "      <td>[11, 10, 9, 3, 7, 1, 8, 2, 4, 5, 12, 6]</td>\n",
       "      <td>[7, 10, 8]</td>\n",
       "      <td>3.5</td>\n",
       "      <td>[1.3, 1.5, 1.8]</td>\n",
       "      <td>6.3</td>\n",
       "      <td>[2.2, 4.3, 4.3]</td>\n",
       "      <td>11.4</td>\n",
       "      <td>13.7</td>\n",
       "      <td>61.8</td>\n",
       "      <td>[[7, 10], [7, 8], [8, 10]]</td>\n",
       "    </tr>\n",
       "    <tr>\n",
       "      <th>202201020504</th>\n",
       "      <td>[1, 8, 6, 7, 2, 10, 13, 12, 5, 11, 3, 4, 9, 14]</td>\n",
       "      <td>[6, 8, 1]</td>\n",
       "      <td>7.7</td>\n",
       "      <td>[1.6, 1.1, 1.1]</td>\n",
       "      <td>7.2</td>\n",
       "      <td>[2.6, 3.7, 1.7]</td>\n",
       "      <td>23.3</td>\n",
       "      <td>6.7</td>\n",
       "      <td>53.8</td>\n",
       "      <td>[[6, 8], [1, 6], [1, 8]]</td>\n",
       "    </tr>\n",
       "    <tr>\n",
       "      <th>202201020505</th>\n",
       "      <td>[1, 2, 3, 4, 5, 6, 7]</td>\n",
       "      <td>[6, 3, 5]</td>\n",
       "      <td>5.3</td>\n",
       "      <td>[1.7, 1.1]</td>\n",
       "      <td>3.9</td>\n",
       "      <td>[1.7, 3.0, 1.8]</td>\n",
       "      <td>11.5</td>\n",
       "      <td>6.9</td>\n",
       "      <td>41.4</td>\n",
       "      <td>[[3, 6], [5, 6], [3, 5]]</td>\n",
       "    </tr>\n",
       "    <tr>\n",
       "      <th>202201020506</th>\n",
       "      <td>[10, 6, 7, 4, 8, 9, 11, 2, 5, 1, 14, 13, 12]</td>\n",
       "      <td>[7, 11, 10]</td>\n",
       "      <td>4.6</td>\n",
       "      <td>[1.6, 2.1, 2.2]</td>\n",
       "      <td>19.4</td>\n",
       "      <td>[7.1, 5.2, 7.8]</td>\n",
       "      <td>34.3</td>\n",
       "      <td>40.2</td>\n",
       "      <td>204.1</td>\n",
       "      <td>[[7, 11], [7, 10], [10, 11]]</td>\n",
       "    </tr>\n",
       "    <tr>\n",
       "      <th>202201020507</th>\n",
       "      <td>[7, 4, 1, 9, 11, 6, 8, 10, 13, 5, 2, 12, 14, 3]</td>\n",
       "      <td>[4, 10, 13]</td>\n",
       "      <td>1.5</td>\n",
       "      <td>[1.1, 1.6, 2.0]</td>\n",
       "      <td>4.6</td>\n",
       "      <td>[2.5, 3.6, 8.4]</td>\n",
       "      <td>5.7</td>\n",
       "      <td>16.5</td>\n",
       "      <td>35.7</td>\n",
       "      <td>[[4, 10], [4, 13], [10, 13]]</td>\n",
       "    </tr>\n",
       "    <tr>\n",
       "      <th>202201020508</th>\n",
       "      <td>[9, 12, 1, 5, 7, 6, 11, 8, 10, 4, 14, 2, 13, 3]</td>\n",
       "      <td>[9, 12, 7]</td>\n",
       "      <td>2.8</td>\n",
       "      <td>[1.2, 2.3, 1.3]</td>\n",
       "      <td>15.2</td>\n",
       "      <td>[4.6, 2.1, 6.2]</td>\n",
       "      <td>21.5</td>\n",
       "      <td>14.9</td>\n",
       "      <td>80.9</td>\n",
       "      <td>[[9, 12], [7, 9], [7, 12]]</td>\n",
       "    </tr>\n",
       "    <tr>\n",
       "      <th>202201020509</th>\n",
       "      <td>[2, 7, 13, 8, 12, 4, 5, 1, 9, 11, 6, 10, 14, 3]</td>\n",
       "      <td>[2, 4, 8]</td>\n",
       "      <td>4.0</td>\n",
       "      <td>[1.7, 5.2, 1.9]</td>\n",
       "      <td>56.8</td>\n",
       "      <td>[18.3, 3.2, 18.0]</td>\n",
       "      <td>90.3</td>\n",
       "      <td>68.5</td>\n",
       "      <td>474.7</td>\n",
       "      <td>[[2, 4], [2, 8], [4, 8]]</td>\n",
       "    </tr>\n",
       "    <tr>\n",
       "      <th>202201020510</th>\n",
       "      <td>[13, 6, 11, 10, 8, 1, 12, 2, 5, 4, 9, 3, 7, 14]</td>\n",
       "      <td>[12, 11, 13]</td>\n",
       "      <td>10.4</td>\n",
       "      <td>[3.4, 2.5, 1.9]</td>\n",
       "      <td>36.9</td>\n",
       "      <td>[14.0, 8.2, 6.4]</td>\n",
       "      <td>86.2</td>\n",
       "      <td>44.8</td>\n",
       "      <td>308.3</td>\n",
       "      <td>[[11, 12], [12, 13], [11, 13]]</td>\n",
       "    </tr>\n",
       "    <tr>\n",
       "      <th>202201020511</th>\n",
       "      <td>[10, 12, 11, 9, 5, 6, 3, 4, 1, 8, 13, 14, 7, 2]</td>\n",
       "      <td>[13, 8, 9]</td>\n",
       "      <td>5.0</td>\n",
       "      <td>[2.1, 6.3, 2.2]</td>\n",
       "      <td>70.5</td>\n",
       "      <td>[20.7, 7.4, 28.4]</td>\n",
       "      <td>111.0</td>\n",
       "      <td>136.6</td>\n",
       "      <td>712.3</td>\n",
       "      <td>[[8, 13], [9, 13], [8, 9]]</td>\n",
       "    </tr>\n",
       "    <tr>\n",
       "      <th>202201020512</th>\n",
       "      <td>[3, 6, 1, 5, 7, 10, 2, 13, 9, 8, 14, 11, 12, 4]</td>\n",
       "      <td>[5, 13, 9]</td>\n",
       "      <td>3.5</td>\n",
       "      <td>[2.0, 4.9, 3.7]</td>\n",
       "      <td>47.9</td>\n",
       "      <td>[17.0, 13.5, 36.5]</td>\n",
       "      <td>68.6</td>\n",
       "      <td>225.2</td>\n",
       "      <td>1081.1</td>\n",
       "      <td>[[5, 13], [5, 9], [9, 13]]</td>\n",
       "    </tr>\n",
       "  </tbody>\n",
       "</table>\n",
       "</div>"
      ],
      "text/plain": [
       "                                                      pred_list  \\\n",
       "202204030501  [15, 8, 14, 12, 2, 7, 9, 10, 6, 4, 11, 3, 1, 5...   \n",
       "202204030502  [1, 15, 7, 13, 3, 14, 5, 10, 8, 11, 6, 2, 12, ...   \n",
       "202204030503   [1, 7, 12, 9, 15, 5, 13, 14, 2, 4, 11, 3, 10, 8]   \n",
       "202204030504    [3, 11, 10, 7, 6, 1, 4, 9, 8, 2, 5, 13, 14, 12]   \n",
       "202204030505        [1, 2, 3, 4, 5, 6, 7, 8, 9, 10, 11, 12, 13]   \n",
       "202204030506  [1, 2, 3, 4, 5, 6, 7, 8, 9, 10, 11, 12, 13, 14...   \n",
       "202204030507  [18, 14, 15, 12, 16, 5, 13, 11, 10, 4, 3, 7, 2...   \n",
       "202204030508  [1, 12, 8, 15, 9, 7, 13, 11, 4, 5, 10, 6, 14, ...   \n",
       "202204030509  [14, 10, 6, 9, 4, 7, 11, 8, 12, 13, 2, 5, 1, 3...   \n",
       "202204030510  [2, 7, 1, 13, 5, 15, 11, 12, 4, 6, 8, 3, 10, 9...   \n",
       "202204030511  [10, 4, 7, 1, 8, 14, 5, 3, 6, 2, 11, 9, 13, 12...   \n",
       "202204030512  [5, 4, 6, 8, 12, 1, 18, 3, 15, 7, 10, 11, 14, ...   \n",
       "202210040501                           [7, 1, 6, 2, 4, 5, 3, 8]   \n",
       "202210040502    [4, 2, 14, 12, 8, 6, 5, 1, 3, 10, 7, 9, 13, 11]   \n",
       "202210040503  [15, 12, 10, 2, 9, 1, 14, 6, 16, 11, 4, 18, 7,...   \n",
       "202210040504  [1, 9, 10, 16, 5, 4, 7, 6, 13, 2, 15, 8, 14, 3...   \n",
       "202210040505                        [1, 2, 3, 4, 5, 6, 7, 8, 9]   \n",
       "202210040506  [4, 11, 10, 8, 17, 5, 12, 6, 15, 14, 16, 2, 9,...   \n",
       "202210040507  [11, 7, 13, 12, 6, 8, 15, 10, 1, 2, 4, 3, 9, 1...   \n",
       "202210040508        [5, 8, 13, 3, 1, 7, 4, 10, 2, 9, 11, 6, 12]   \n",
       "202210040509  [3, 16, 5, 15, 10, 14, 13, 8, 4, 11, 17, 1, 12...   \n",
       "202210040510                        [6, 3, 8, 2, 5, 4, 7, 1, 9]   \n",
       "202210040511    [2, 10, 4, 13, 6, 1, 9, 8, 7, 12, 5, 3, 14, 11]   \n",
       "202210040512                           [8, 3, 2, 7, 1, 4, 5, 6]   \n",
       "202201020501                              [3, 5, 4, 7, 2, 6, 1]   \n",
       "202201020502                           [8, 4, 7, 1, 6, 5, 2, 3]   \n",
       "202201020503            [11, 10, 9, 3, 7, 1, 8, 2, 4, 5, 12, 6]   \n",
       "202201020504    [1, 8, 6, 7, 2, 10, 13, 12, 5, 11, 3, 4, 9, 14]   \n",
       "202201020505                              [1, 2, 3, 4, 5, 6, 7]   \n",
       "202201020506       [10, 6, 7, 4, 8, 9, 11, 2, 5, 1, 14, 13, 12]   \n",
       "202201020507    [7, 4, 1, 9, 11, 6, 8, 10, 13, 5, 2, 12, 14, 3]   \n",
       "202201020508    [9, 12, 1, 5, 7, 6, 11, 8, 10, 4, 14, 2, 13, 3]   \n",
       "202201020509    [2, 7, 13, 8, 12, 4, 5, 1, 9, 11, 6, 10, 14, 3]   \n",
       "202201020510    [13, 6, 11, 10, 8, 1, 12, 2, 5, 4, 9, 3, 7, 14]   \n",
       "202201020511    [10, 12, 11, 9, 5, 6, 3, 4, 1, 8, 13, 14, 7, 2]   \n",
       "202201020512    [3, 6, 1, 5, 7, 10, 2, 13, 9, 8, 14, 11, 12, 4]   \n",
       "\n",
       "             actual_rank_list tansho_odds      fukusho_odds umaren_odds  \\\n",
       "202204030501      [15, 8, 12]         3.0   [1.2, 1.1, 2.2]         2.8   \n",
       "202204030502       [15, 5, 1]         5.8   [1.8, 6.8, 1.3]        88.7   \n",
       "202204030503       [7, 9, 14]         6.9   [2.1, 4.4, 3.2]        58.4   \n",
       "202204030504      [10, 13, 9]         5.6   [2.0, 6.3, 1.8]        82.4   \n",
       "202204030505       [10, 2, 7]         7.5   [1.5, 1.8, 1.1]        31.1   \n",
       "202204030506       [2, 6, 11]         6.6   [1.9, 2.5, 1.4]        42.2   \n",
       "202204030507      [12, 16, 4]         6.5   [2.0, 1.8, 2.2]        19.9   \n",
       "202204030508      [9, 13, 12]         4.6   [2.0, 5.8, 1.7]        69.7   \n",
       "202204030509       [8, 13, 6]         1.7   [1.1, 4.6, 1.4]        23.8   \n",
       "202204030510      [13, 11, 5]         3.8   [1.5, 1.9, 2.2]        11.3   \n",
       "202204030511      [6, 14, 12]         6.6  [2.3, 2.5, 10.3]        28.3   \n",
       "202204030512        [4, 5, 2]         2.7   [1.5, 3.3, 7.1]        26.2   \n",
       "202210040501        [7, 2, 1]         3.4   [1.1, 1.1, 1.1]         2.7   \n",
       "202210040502       [4, 14, 3]         1.6  [1.1, 1.4, 16.3]         3.3   \n",
       "202210040503     [15, 12, 14]         1.7   [1.1, 2.5, 5.1]         8.5   \n",
       "202210040504        [5, 7, 1]        11.4   [2.7, 2.9, 1.4]        66.6   \n",
       "202210040505        [2, 9, 3]         6.4   [1.7, 1.3, 7.0]         8.2   \n",
       "202210040506       [4, 5, 11]         2.1   [1.2, 2.4, 1.5]        12.1   \n",
       "202210040507        [7, 2, 1]         1.5   [1.1, 2.5, 1.6]        11.2   \n",
       "202210040508        [9, 1, 8]         2.9   [1.4, 1.5, 4.4]         5.4   \n",
       "202210040509      [16, 3, 10]         2.0   [1.1, 1.7, 3.3]         5.1   \n",
       "202210040510        [8, 2, 6]        10.3   [2.8, 2.7, 1.5]        54.4   \n",
       "202210040511      [14, 13, 1]         9.1  [3.9, 2.0, 10.2]        31.1   \n",
       "202210040512        [2, 1, 8]         5.7   [1.4, 1.5, 1.1]        18.5   \n",
       "202201020501        [5, 3, 2]         1.2        [1.1, 1.4]         1.9   \n",
       "202201020502        [7, 4, 8]         5.1   [1.1, 1.1, 1.1]         4.7   \n",
       "202201020503       [7, 10, 8]         3.5   [1.3, 1.5, 1.8]         6.3   \n",
       "202201020504        [6, 8, 1]         7.7   [1.6, 1.1, 1.1]         7.2   \n",
       "202201020505        [6, 3, 5]         5.3        [1.7, 1.1]         3.9   \n",
       "202201020506      [7, 11, 10]         4.6   [1.6, 2.1, 2.2]        19.4   \n",
       "202201020507      [4, 10, 13]         1.5   [1.1, 1.6, 2.0]         4.6   \n",
       "202201020508       [9, 12, 7]         2.8   [1.2, 2.3, 1.3]        15.2   \n",
       "202201020509        [2, 4, 8]         4.0   [1.7, 5.2, 1.9]        56.8   \n",
       "202201020510     [12, 11, 13]        10.4   [3.4, 2.5, 1.9]        36.9   \n",
       "202201020511       [13, 8, 9]         5.0   [2.1, 6.3, 2.2]        70.5   \n",
       "202201020512       [5, 13, 9]         3.5   [2.0, 4.9, 3.7]        47.9   \n",
       "\n",
       "                       wide_odds umatan_odds sanrenpuku_odds sanrentan_odds  \\\n",
       "202204030501     [1.6, 4.7, 3.5]         7.3             8.3           38.0   \n",
       "202204030502   [25.0, 3.0, 14.0]       170.0            50.2          435.9   \n",
       "202204030503   [16.5, 8.9, 25.5]       109.5           164.0          942.7   \n",
       "202204030504   [28.2, 5.6, 17.8]       124.4            93.0          706.4   \n",
       "202204030505     [6.4, 2.5, 3.0]        58.0             9.3          106.7   \n",
       "202204030506    [12.3, 4.9, 5.5]        69.0            40.0          266.0   \n",
       "202204030507     [6.8, 7.2, 7.5]        32.6            39.6          247.6   \n",
       "202204030508   [20.4, 3.9, 13.2]        94.9            57.9          473.8   \n",
       "202204030509    [8.1, 2.1, 18.7]        29.8            32.5          136.6   \n",
       "202204030510     [4.5, 5.8, 8.3]        19.8            29.9          123.7   \n",
       "202204030511  [11.0, 56.1, 48.5]        58.7           439.0         2315.1   \n",
       "202204030512   [9.4, 14.3, 73.1]        38.4           195.7          784.9   \n",
       "202210040501     [1.2, 1.9, 1.5]         7.0             2.7           15.5   \n",
       "202210040502   [1.8, 21.1, 66.7]         5.5           103.9          219.7   \n",
       "202210040503    [3.9, 8.2, 41.8]        11.7            69.8          175.6   \n",
       "202210040504    [22.2, 6.7, 7.0]       181.8            60.4          644.7   \n",
       "202210040505   [3.6, 23.5, 22.6]        21.8            97.5          472.1   \n",
       "202210040506     [5.2, 2.4, 6.9]        17.6            16.7           76.7   \n",
       "202210040507    [4.9, 2.7, 10.0]        12.7            17.9           51.8   \n",
       "202210040508    [2.6, 6.9, 12.1]         9.2            24.7           77.6   \n",
       "202210040509    [2.4, 7.3, 10.7]         6.9            27.2           70.0   \n",
       "202210040510    [11.3, 6.4, 7.7]        96.4            60.8          480.5   \n",
       "202210040511  [11.7, 54.6, 33.5]        56.2           307.8         1154.7   \n",
       "202210040512     [4.6, 2.2, 2.3]        37.5             6.9           87.1   \n",
       "202201020501     [1.2, 2.2, 2.5]         2.5             2.8            8.4   \n",
       "202201020502     [1.6, 1.5, 1.1]        12.0             2.0           18.3   \n",
       "202201020503     [2.2, 4.3, 4.3]        11.4            13.7           61.8   \n",
       "202201020504     [2.6, 3.7, 1.7]        23.3             6.7           53.8   \n",
       "202201020505     [1.7, 3.0, 1.8]        11.5             6.9           41.4   \n",
       "202201020506     [7.1, 5.2, 7.8]        34.3            40.2          204.1   \n",
       "202201020507     [2.5, 3.6, 8.4]         5.7            16.5           35.7   \n",
       "202201020508     [4.6, 2.1, 6.2]        21.5            14.9           80.9   \n",
       "202201020509   [18.3, 3.2, 18.0]        90.3            68.5          474.7   \n",
       "202201020510    [14.0, 8.2, 6.4]        86.2            44.8          308.3   \n",
       "202201020511   [20.7, 7.4, 28.4]       111.0           136.6          712.3   \n",
       "202201020512  [17.0, 13.5, 36.5]        68.6           225.2         1081.1   \n",
       "\n",
       "                                   wide_comb  \n",
       "202204030501    [[8, 15], [12, 15], [8, 12]]  \n",
       "202204030502      [[5, 15], [1, 15], [1, 5]]  \n",
       "202204030503      [[7, 9], [7, 14], [9, 14]]  \n",
       "202204030504    [[10, 13], [9, 10], [9, 13]]  \n",
       "202204030505      [[2, 10], [7, 10], [2, 7]]  \n",
       "202204030506      [[2, 6], [2, 11], [6, 11]]  \n",
       "202204030507    [[12, 16], [4, 12], [4, 16]]  \n",
       "202204030508    [[9, 13], [9, 12], [12, 13]]  \n",
       "202204030509      [[8, 13], [6, 8], [6, 13]]  \n",
       "202204030510    [[11, 13], [5, 13], [5, 11]]  \n",
       "202204030511    [[6, 14], [6, 12], [12, 14]]  \n",
       "202204030512        [[4, 5], [2, 4], [2, 5]]  \n",
       "202210040501        [[2, 7], [1, 7], [1, 2]]  \n",
       "202210040502      [[4, 14], [3, 4], [3, 14]]  \n",
       "202210040503  [[12, 15], [14, 15], [12, 14]]  \n",
       "202210040504        [[5, 7], [1, 5], [1, 7]]  \n",
       "202210040505        [[2, 9], [2, 3], [3, 9]]  \n",
       "202210040506      [[4, 5], [4, 11], [5, 11]]  \n",
       "202210040507        [[2, 7], [1, 7], [1, 2]]  \n",
       "202210040508        [[1, 9], [8, 9], [1, 8]]  \n",
       "202210040509    [[3, 16], [10, 16], [3, 10]]  \n",
       "202210040510        [[2, 8], [6, 8], [2, 6]]  \n",
       "202210040511    [[13, 14], [1, 14], [1, 13]]  \n",
       "202210040512        [[1, 2], [2, 8], [1, 8]]  \n",
       "202201020501        [[3, 5], [2, 5], [2, 3]]  \n",
       "202201020502        [[4, 7], [7, 8], [4, 8]]  \n",
       "202201020503      [[7, 10], [7, 8], [8, 10]]  \n",
       "202201020504        [[6, 8], [1, 6], [1, 8]]  \n",
       "202201020505        [[3, 6], [5, 6], [3, 5]]  \n",
       "202201020506    [[7, 11], [7, 10], [10, 11]]  \n",
       "202201020507    [[4, 10], [4, 13], [10, 13]]  \n",
       "202201020508      [[9, 12], [7, 9], [7, 12]]  \n",
       "202201020509        [[2, 4], [2, 8], [4, 8]]  \n",
       "202201020510  [[11, 12], [12, 13], [11, 13]]  \n",
       "202201020511      [[8, 13], [9, 13], [8, 9]]  \n",
       "202201020512      [[5, 13], [5, 9], [9, 13]]  "
      ]
     },
     "execution_count": 16,
     "metadata": {},
     "output_type": "execute_result"
    }
   ],
   "source": [
    "all_results\n"
   ]
  },
  {
   "cell_type": "markdown",
   "id": "fd8b97e7-5e69-4334-a268-c7a57eaa10d8",
   "metadata": {},
   "source": [
    "# 日付に注意"
   ]
  },
  {
   "cell_type": "code",
   "execution_count": 47,
   "id": "5e00c431-6a37-4f54-bfd3-7a1cc01780cc",
   "metadata": {},
   "outputs": [],
   "source": [
    "date = '2022/12/31'"
   ]
  },
  {
   "cell_type": "markdown",
   "id": "fd8ec390-bc7f-4821-8417-76382d034041",
   "metadata": {},
   "source": [
    "# Results scraping"
   ]
  },
  {
   "cell_type": "code",
   "execution_count": null,
   "id": "131add0a-4ac5-4133-b242-3fa2109a4762",
   "metadata": {
    "tags": []
   },
   "outputs": [],
   "source": [
    "# race_id_list = results.index.astype('str')\n",
    "\n",
    "results_tmp = Results.scrape(race_id_list)"
   ]
  },
  {
   "cell_type": "markdown",
   "id": "3c0ac189-894a-48ac-adb2-4e731640bc5c",
   "metadata": {},
   "source": [
    "# Horse_results scraping"
   ]
  },
  {
   "cell_type": "code",
   "execution_count": null,
   "id": "1fb495b3-1044-4b5a-afdc-cdf1b60aa6f8",
   "metadata": {},
   "outputs": [
    {
     "data": {
      "application/vnd.jupyter.widget-view+json": {
       "model_id": "2f67c5ecbbb54b5db5a3cdf6b3a71948",
       "version_major": 2,
       "version_minor": 0
      },
      "text/plain": [
       "  0%|          | 0/957 [00:00<?, ?it/s]"
      ]
     },
     "metadata": {},
     "output_type": "display_data"
    }
   ],
   "source": [
    "horse_id_list = results_tmp['horse_id'].astype(str).unique()\n",
    "horse_results_tmp = HorseResults.scrape(horse_id_list)\n",
    "\n",
    "# save_path = '/Users/rince/Desktop/Horse/Data/horse_2020.csv'"
   ]
  },
  {
   "cell_type": "markdown",
   "id": "c1569216-aa8f-40a3-8303-5d54a442b00e",
   "metadata": {},
   "source": [
    "# Peds scraping"
   ]
  },
  {
   "cell_type": "code",
   "execution_count": null,
   "id": "56d56e6b-7a60-4721-a111-892aafa204d9",
   "metadata": {},
   "outputs": [
    {
     "data": {
      "application/vnd.jupyter.widget-view+json": {
       "model_id": "8796656526984e2289a92a5558c2a25a",
       "version_major": 2,
       "version_minor": 0
      },
      "text/plain": [
       "  0%|          | 0/957 [00:00<?, ?it/s]"
      ]
     },
     "metadata": {},
     "output_type": "display_data"
    },
    {
     "data": {
      "application/vnd.jupyter.widget-view+json": {
       "model_id": "f3af4a3654994ea790bdc64109bf6e84",
       "version_major": 2,
       "version_minor": 0
      },
      "text/plain": [
       "  0%|          | 0/957 [00:00<?, ?it/s]"
      ]
     },
     "metadata": {},
     "output_type": "display_data"
    }
   ],
   "source": [
    "peds_2021 = Peds.scrape(horse_id_list)\n",
    "pe_2021 = Peds(peds_2021)\n",
    "pe_2021.regularize_peds()\n",
    "peds_tmp = pe_2021.peds_re"
   ]
  },
  {
   "cell_type": "markdown",
   "id": "2d1db0da-3505-4825-8408-e7dd58205c96",
   "metadata": {},
   "source": [
    "# Return scraping"
   ]
  },
  {
   "cell_type": "code",
   "execution_count": null,
   "id": "56a4d97d-94cc-477f-b643-5144c7173613",
   "metadata": {},
   "outputs": [
    {
     "data": {
      "application/vnd.jupyter.widget-view+json": {
       "model_id": "4986b5e48c6a4a9eb5c63b08d270ce9c",
       "version_major": 2,
       "version_minor": 0
      },
      "text/plain": [
       "  0%|          | 0/72 [00:00<?, ?it/s]"
      ]
     },
     "metadata": {},
     "output_type": "display_data"
    }
   ],
   "source": [
    "returns_tmp = Return.scrape(race_id_list)\n"
   ]
  },
  {
   "cell_type": "markdown",
   "id": "6e175b9a-1a2d-4d5d-a5e2-e771c86dd8d2",
   "metadata": {},
   "source": [
    "# update"
   ]
  },
  {
   "cell_type": "code",
   "execution_count": null,
   "id": "428fa2b8-2058-4c1d-af05-ec10e9f3768d",
   "metadata": {},
   "outputs": [],
   "source": [
    "new_results = update_data(load_csv(path_win+'results.csv'),results_tmp)\n",
    "new_horse_results = update_data(load_csv(path_win+'horse_results.csv'),horse_results_tmp)\n",
    "new_peds = update_data(load_csv(path_win+'peds.csv'),peds_tmp)\n",
    "returns = load_csv(path_win+'return.csv')\n",
    "returns.rename(columns={'0':0,'1':1,'2':2,'3':3},inplace=True)\n",
    "returns_tmp.rename(columns={'0':0,'1':1,'2':2,'3':3},inplace=True)\n",
    "new_return = update_data(returns,returns_tmp)\n"
   ]
  },
  {
   "cell_type": "markdown",
   "id": "d77364dd-545a-43d4-97aa-070ca0595356",
   "metadata": {},
   "source": [
    "# save"
   ]
  },
  {
   "cell_type": "code",
   "execution_count": null,
   "id": "875dc8e7-f696-4b78-933d-4f62f3603430",
   "metadata": {},
   "outputs": [],
   "source": [
    "new_results.to_csv(path_win+'results.csv')\n",
    "new_horse_results.to_csv(path_win+'horse_results.csv')\n",
    "new_peds.to_csv(path_win+'peds.csv')\n",
    "new_return.to_csv(path_win+'return.csv')"
   ]
  },
  {
   "cell_type": "markdown",
   "id": "4bb0ca11-eae4-4d5e-b833-3184f6e85f85",
   "metadata": {},
   "source": [
    "# 重要度"
   ]
  },
  {
   "cell_type": "code",
   "execution_count": null,
   "id": "c64f0ed3-8651-4105-aa14-83bfa45b20c9",
   "metadata": {
    "tags": []
   },
   "outputs": [],
   "source": [
    "importances = pd.DataFrame(\n",
    "{'features' : x_train.columns, 'importances' : lgb_rank.feature_importance()})\n",
    "print(importances.sort_values('importances', ascending=False)[:30])"
   ]
  },
  {
   "cell_type": "markdown",
   "id": "d5dc1142-ff9b-4568-80b8-18ef0d9010c1",
   "metadata": {},
   "source": [
    "# fastText"
   ]
  },
  {
   "cell_type": "markdown",
   "id": "ea29d7bf-5052-44dc-ac80-dea59ed65444",
   "metadata": {},
   "source": [
    "流れ\n",
    "1. fasttext用の血統データの学習データを作る (血統の情報のみ, index ヘッダはいらない)\n",
    "2. fasttext学習\n",
    "3. 学習モデルを使って, 血統データをベクトル化\n",
    "4. ベクトル化して r.data_cに concat\n",
    "5. 学習\n"
   ]
  },
  {
   "cell_type": "code",
   "execution_count": null,
   "id": "1952670c",
   "metadata": {},
   "outputs": [],
   "source": []
  }
 ],
 "metadata": {
  "kernelspec": {
   "display_name": "Python 3",
   "language": "python",
   "name": "python3"
  },
  "language_info": {
   "codemirror_mode": {
    "name": "ipython",
    "version": 3
   },
   "file_extension": ".py",
   "mimetype": "text/x-python",
   "name": "python",
   "nbconvert_exporter": "python",
   "pygments_lexer": "ipython3",
   "version": "3.9.13"
  },
  "vscode": {
   "interpreter": {
    "hash": "d6ca01a9d29b8f49b2398e47ff0a4f0d82a4b97eff954d8fa800ff949016a671"
   }
  }
 },
 "nbformat": 4,
 "nbformat_minor": 5
}
