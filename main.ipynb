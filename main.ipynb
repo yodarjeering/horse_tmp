{
 "cells": [
  {
   "cell_type": "markdown",
   "id": "f58e1898",
   "metadata": {},
   "source": [
    "# めちゃめちゃ参考文献"
   ]
  },
  {
   "attachments": {},
   "cell_type": "markdown",
   "id": "b061d1ae",
   "metadata": {},
   "source": [
    "https://www.youtube.com/@user-ej3zj6kv9z\n",
    "\n",
    "そーすこーどとかほぼパクリなので, 使用の際は気を付けて"
   ]
  },
  {
   "cell_type": "markdown",
   "id": "b9bc3441",
   "metadata": {},
   "source": [
    "# import"
   ]
  },
  {
   "cell_type": "code",
   "execution_count": 3,
   "id": "fa116d3b-51ac-42de-bf7a-fb55eb148689",
   "metadata": {},
   "outputs": [
    {
     "name": "stdout",
     "output_type": "stream",
     "text": [
      "The autoreload extension is already loaded. To reload it, use:\n",
      "  %reload_ext autoreload\n",
      "The autoreload extension is already loaded. To reload it, use:\n",
      "  %reload_ext autoreload\n"
     ]
    }
   ],
   "source": [
    "%load_ext autoreload\n",
    "import pandas as pd\n",
    "from tqdm.notebook import tqdm \n",
    "from graphviz import *\n",
    "import lightgbm as lgb\n",
    "import pickle\n",
    "from my_modules.constants import LocalPaths,Master\n",
    "from my_modules import prepare,funcs,preprocess,simulator,training\n",
    "import time"
   ]
  },
  {
   "attachments": {},
   "cell_type": "markdown",
   "id": "40e0c26b",
   "metadata": {},
   "source": [
    "#  データロード ※更新2023/02/02"
   ]
  },
  {
   "cell_type": "code",
   "execution_count": 4,
   "id": "38db6e4c",
   "metadata": {},
   "outputs": [],
   "source": [
    "race_results = pd.read_csv(LocalPaths.RESULTS_PATH,index_col=0)\n",
    "horse_results = pd.read_csv(LocalPaths.HORSE_RESULTS_PATH,index_col=0)\n",
    "peds = pd.read_csv(LocalPaths.PEDS_PATH,index_col=0)\n",
    "peds.fillna('nan',inplace=True) # 何回やってもロードすると, nanが出る\n",
    "return_tables = pd.read_csv(LocalPaths.RETURN_PATH,index_col=0)\n",
    "return_tables.rename(columns={'0':0,'1':1,'2':2,'3':3},inplace=True)# 毎回読み込むごとに, strに変換されてしまう"
   ]
  },
  {
   "cell_type": "markdown",
   "id": "6955cb4f",
   "metadata": {},
   "source": [
    "# データ収集"
   ]
  },
  {
   "cell_type": "code",
   "execution_count": 7,
   "id": "f437f137",
   "metadata": {},
   "outputs": [
    {
     "name": "stdout",
     "output_type": "stream",
     "text": [
      "getting race date from 2023-01-01 to 2023-02-01\n"
     ]
    },
    {
     "name": "stderr",
     "output_type": "stream",
     "text": [
      "100%|██████████| 1/1 [00:01<00:00,  1.15s/it]\n"
     ]
    }
   ],
   "source": [
    "# toの月は含まないので注意\n",
    "kaisai_date_list = prepare.scrape_kaisai_date(from_=\"2023-01-01\",to_='2023-02-01')"
   ]
  },
  {
   "cell_type": "code",
   "execution_count": null,
   "id": "6435ec7a",
   "metadata": {},
   "outputs": [],
   "source": [
    "race_id_list = prepare.scrape_race_id_list(kaisai_date_list)"
   ]
  },
  {
   "cell_type": "code",
   "execution_count": 35,
   "id": "0ce0d8af",
   "metadata": {},
   "outputs": [
    {
     "data": {
      "application/vnd.jupyter.widget-view+json": {
       "model_id": "c1e0dae23a0f4a32bd8d33d91b0cc4b9",
       "version_major": 2,
       "version_minor": 0
      },
      "text/plain": [
       "HBox(children=(FloatProgress(value=0.0, max=302.0), HTML(value='')))"
      ]
     },
     "metadata": {},
     "output_type": "display_data"
    },
    {
     "name": "stdout",
     "output_type": "stream",
     "text": [
      "\n"
     ]
    }
   ],
   "source": [
    "# データ収集\n",
    "new_return_tables = prepare.scrape_return_tables(race_id_list)\n",
    "# データ更新\n",
    "return_tables = pd.read_csv(LocalPaths.RETURN_PATH,index_col=0)\n",
    "return_tables.rename(columns={'0':0,'1':1,'2':2,'3':3},inplace=True)\n",
    "new_return_tables.rename(columns={'0':0,'1':1,'2':2,'3':3},inplace=True)\n",
    "update_return_tables = funcs.update_data(return_tables,new_return_tables)\n",
    "update_return_tables.to_csv(LocalPaths.RETURN_PATH)\n"
   ]
  },
  {
   "cell_type": "code",
   "execution_count": 61,
   "id": "3a7072cb",
   "metadata": {},
   "outputs": [
    {
     "data": {
      "application/vnd.jupyter.widget-view+json": {
       "model_id": "31e35f06a690485d8bcec63e08692798",
       "version_major": 2,
       "version_minor": 0
      },
      "text/plain": [
       "HBox(children=(FloatProgress(value=0.0, max=8938.0), HTML(value='')))"
      ]
     },
     "metadata": {},
     "output_type": "display_data"
    },
    {
     "name": "stdout",
     "output_type": "stream",
     "text": [
      "\n"
     ]
    }
   ],
   "source": [
    "# データ収集\n",
    "new_race_results = prepare.scrape_race_results(race_id_list)\n",
    "# データ更新\n",
    "race__results = pd.read_csv(LocalPaths.RESULTS_PATH,index_col=0)\n",
    "update_race_results = funcs.update_data(race_results,new_race_results)\n",
    "update_race_results.to_csv(LocalPaths.RESULTS_PATH)"
   ]
  },
  {
   "cell_type": "code",
   "execution_count": 62,
   "id": "b767d920",
   "metadata": {},
   "outputs": [
    {
     "data": {
      "application/vnd.jupyter.widget-view+json": {
       "model_id": "eedfc0c033164bb0b4786c8437c52cc6",
       "version_major": 2,
       "version_minor": 0
      },
      "text/plain": [
       "HBox(children=(FloatProgress(value=0.0, max=18956.0), HTML(value='')))"
      ]
     },
     "metadata": {},
     "output_type": "display_data"
    },
    {
     "name": "stdout",
     "output_type": "stream",
     "text": [
      "\n"
     ]
    }
   ],
   "source": [
    "# データ収集\n",
    "horse_id_list = new_race_results['horse_id'].unique()\n",
    "new_horse_results = prepare.scrape_horse_results(horse_id_list)\n",
    "# データ更新\n",
    "horse_results = pd.read_csv(LocalPaths.HORSE_RESULTS_PATH,index_col=0)\n",
    "update_horse_results = funcs.update_data(horse_results,new_horse_results)\n",
    "update_horse_results.to_csv(LocalPaths.HORSE_RESULTS_PATH)"
   ]
  },
  {
   "cell_type": "code",
   "execution_count": 63,
   "id": "f84f80fa",
   "metadata": {},
   "outputs": [
    {
     "data": {
      "application/vnd.jupyter.widget-view+json": {
       "model_id": "a444454b9d6743dea56ddd4ce4aa93cf",
       "version_major": 2,
       "version_minor": 0
      },
      "text/plain": [
       "HBox(children=(FloatProgress(value=0.0, max=18956.0), HTML(value='')))"
      ]
     },
     "metadata": {},
     "output_type": "display_data"
    },
    {
     "name": "stdout",
     "output_type": "stream",
     "text": [
      "\n"
     ]
    }
   ],
   "source": [
    "# データ収集\n",
    "new_peds = prepare.scrape_peds(horse_id_list)\n",
    "# データ更新\n",
    "peds = pd.read_csv(LocalPaths.PEDS_PATH,index_col=0)\n",
    "update_peds = funcs.update_data(peds,new_peds)\n",
    "update_peds.to_csv(LocalPaths.PEDS_PATH)"
   ]
  },
  {
   "cell_type": "markdown",
   "id": "e3ae4c5c",
   "metadata": {},
   "source": [
    "# データ形式"
   ]
  },
  {
   "attachments": {},
   "cell_type": "markdown",
   "id": "d12d53a3",
   "metadata": {},
   "source": [
    "### データ　見た目こんな感じ"
   ]
  },
  {
   "attachments": {},
   "cell_type": "markdown",
   "id": "8e1ee0b8",
   "metadata": {},
   "source": [
    "## race_results ※更新\n",
    "trainer_id, owner_id を追加\n",
    "過去のcsvファイルと異なるので, 注意"
   ]
  },
  {
   "cell_type": "code",
   "execution_count": 4,
   "id": "ab78b420",
   "metadata": {},
   "outputs": [
    {
     "data": {
      "text/html": [
       "<div>\n",
       "<style scoped>\n",
       "    .dataframe tbody tr th:only-of-type {\n",
       "        vertical-align: middle;\n",
       "    }\n",
       "\n",
       "    .dataframe tbody tr th {\n",
       "        vertical-align: top;\n",
       "    }\n",
       "\n",
       "    .dataframe thead th {\n",
       "        text-align: right;\n",
       "    }\n",
       "</style>\n",
       "<table border=\"1\" class=\"dataframe\">\n",
       "  <thead>\n",
       "    <tr style=\"text-align: right;\">\n",
       "      <th></th>\n",
       "      <th>着順</th>\n",
       "      <th>枠番</th>\n",
       "      <th>馬番</th>\n",
       "      <th>馬名</th>\n",
       "      <th>性齢</th>\n",
       "      <th>斤量</th>\n",
       "      <th>騎手</th>\n",
       "      <th>タイム</th>\n",
       "      <th>着差</th>\n",
       "      <th>単勝</th>\n",
       "      <th>...</th>\n",
       "      <th>調教師</th>\n",
       "      <th>course_len</th>\n",
       "      <th>weather</th>\n",
       "      <th>race_type</th>\n",
       "      <th>ground_state</th>\n",
       "      <th>date</th>\n",
       "      <th>horse_id</th>\n",
       "      <th>jockey_id</th>\n",
       "      <th>trainer_id</th>\n",
       "      <th>owner_id</th>\n",
       "    </tr>\n",
       "  </thead>\n",
       "  <tbody>\n",
       "    <tr>\n",
       "      <th>202306010101</th>\n",
       "      <td>1</td>\n",
       "      <td>7</td>\n",
       "      <td>14</td>\n",
       "      <td>シュバルツガイスト</td>\n",
       "      <td>牡3</td>\n",
       "      <td>56</td>\n",
       "      <td>武豊</td>\n",
       "      <td>1:12.6</td>\n",
       "      <td>NaN</td>\n",
       "      <td>1.8</td>\n",
       "      <td>...</td>\n",
       "      <td>[東] 国枝栄</td>\n",
       "      <td>1200</td>\n",
       "      <td>晴</td>\n",
       "      <td>ダート</td>\n",
       "      <td>良</td>\n",
       "      <td>2023年1月5日</td>\n",
       "      <td>2020103575</td>\n",
       "      <td>666</td>\n",
       "      <td>399</td>\n",
       "      <td>356803</td>\n",
       "    </tr>\n",
       "    <tr>\n",
       "      <th>202306010101</th>\n",
       "      <td>2</td>\n",
       "      <td>3</td>\n",
       "      <td>5</td>\n",
       "      <td>ジェイケイファイン</td>\n",
       "      <td>牡3</td>\n",
       "      <td>56</td>\n",
       "      <td>内田博幸</td>\n",
       "      <td>1:12.9</td>\n",
       "      <td>1.3/4</td>\n",
       "      <td>7.4</td>\n",
       "      <td>...</td>\n",
       "      <td>[東] 奥平雅士</td>\n",
       "      <td>1200</td>\n",
       "      <td>晴</td>\n",
       "      <td>ダート</td>\n",
       "      <td>良</td>\n",
       "      <td>2023年1月5日</td>\n",
       "      <td>2020107073</td>\n",
       "      <td>422</td>\n",
       "      <td>1074</td>\n",
       "      <td>702009</td>\n",
       "    </tr>\n",
       "    <tr>\n",
       "      <th>202306010101</th>\n",
       "      <td>3</td>\n",
       "      <td>1</td>\n",
       "      <td>1</td>\n",
       "      <td>レディアス</td>\n",
       "      <td>牝3</td>\n",
       "      <td>54</td>\n",
       "      <td>津村明秀</td>\n",
       "      <td>1:12.9</td>\n",
       "      <td>クビ</td>\n",
       "      <td>36.1</td>\n",
       "      <td>...</td>\n",
       "      <td>[東] 鈴木慎太</td>\n",
       "      <td>1200</td>\n",
       "      <td>晴</td>\n",
       "      <td>ダート</td>\n",
       "      <td>良</td>\n",
       "      <td>2023年1月5日</td>\n",
       "      <td>2020102562</td>\n",
       "      <td>1092</td>\n",
       "      <td>1179</td>\n",
       "      <td>763033</td>\n",
       "    </tr>\n",
       "    <tr>\n",
       "      <th>202306010101</th>\n",
       "      <td>4</td>\n",
       "      <td>8</td>\n",
       "      <td>15</td>\n",
       "      <td>ハローマイラブリー</td>\n",
       "      <td>牝3</td>\n",
       "      <td>54</td>\n",
       "      <td>三浦皇成</td>\n",
       "      <td>1:13.4</td>\n",
       "      <td>3</td>\n",
       "      <td>4.2</td>\n",
       "      <td>...</td>\n",
       "      <td>[東] 伊坂重信</td>\n",
       "      <td>1200</td>\n",
       "      <td>晴</td>\n",
       "      <td>ダート</td>\n",
       "      <td>良</td>\n",
       "      <td>2023年1月5日</td>\n",
       "      <td>2020106345</td>\n",
       "      <td>1122</td>\n",
       "      <td>1177</td>\n",
       "      <td>729005</td>\n",
       "    </tr>\n",
       "    <tr>\n",
       "      <th>202306010101</th>\n",
       "      <td>5</td>\n",
       "      <td>5</td>\n",
       "      <td>9</td>\n",
       "      <td>ベアカワイコチャン</td>\n",
       "      <td>牝3</td>\n",
       "      <td>54</td>\n",
       "      <td>松岡正海</td>\n",
       "      <td>1:13.9</td>\n",
       "      <td>3</td>\n",
       "      <td>7.9</td>\n",
       "      <td>...</td>\n",
       "      <td>[東] 杉浦宏昭</td>\n",
       "      <td>1200</td>\n",
       "      <td>晴</td>\n",
       "      <td>ダート</td>\n",
       "      <td>良</td>\n",
       "      <td>2023年1月5日</td>\n",
       "      <td>2020100039</td>\n",
       "      <td>1085</td>\n",
       "      <td>1008</td>\n",
       "      <td>372033</td>\n",
       "    </tr>\n",
       "  </tbody>\n",
       "</table>\n",
       "<p>5 rows × 22 columns</p>\n",
       "</div>"
      ],
      "text/plain": [
       "             着順  枠番  馬番         馬名  性齢  斤量    騎手     タイム     着差    単勝  ...  \\\n",
       "202306010101  1   7  14  シュバルツガイスト  牡3  56    武豊  1:12.6    NaN   1.8  ...   \n",
       "202306010101  2   3   5  ジェイケイファイン  牡3  56  内田博幸  1:12.9  1.3/4   7.4  ...   \n",
       "202306010101  3   1   1      レディアス  牝3  54  津村明秀  1:12.9     クビ  36.1  ...   \n",
       "202306010101  4   8  15  ハローマイラブリー  牝3  54  三浦皇成  1:13.4      3   4.2  ...   \n",
       "202306010101  5   5   9  ベアカワイコチャン  牝3  54  松岡正海  1:13.9      3   7.9  ...   \n",
       "\n",
       "                   調教師 course_len weather  race_type ground_state       date  \\\n",
       "202306010101   [東] 国枝栄       1200       晴        ダート            良  2023年1月5日   \n",
       "202306010101  [東] 奥平雅士       1200       晴        ダート            良  2023年1月5日   \n",
       "202306010101  [東] 鈴木慎太       1200       晴        ダート            良  2023年1月5日   \n",
       "202306010101  [東] 伊坂重信       1200       晴        ダート            良  2023年1月5日   \n",
       "202306010101  [東] 杉浦宏昭       1200       晴        ダート            良  2023年1月5日   \n",
       "\n",
       "                horse_id jockey_id  trainer_id  owner_id  \n",
       "202306010101  2020103575       666         399    356803  \n",
       "202306010101  2020107073       422        1074    702009  \n",
       "202306010101  2020102562      1092        1179    763033  \n",
       "202306010101  2020106345      1122        1177    729005  \n",
       "202306010101  2020100039      1085        1008    372033  \n",
       "\n",
       "[5 rows x 22 columns]"
      ]
     },
     "execution_count": 4,
     "metadata": {},
     "output_type": "execute_result"
    }
   ],
   "source": [
    "\"\"\"\n",
    "    レース結果を記録したテーブル\n",
    "    results.index : Int64Index, index は race_id\n",
    "    index だけでは一意にレコードが求まらないので, 注意\n",
    "\"\"\"\n",
    "race_results.head() # index : race_id"
   ]
  },
  {
   "cell_type": "code",
   "execution_count": 7,
   "id": "323f2e08",
   "metadata": {},
   "outputs": [
    {
     "data": {
      "text/html": [
       "<div>\n",
       "<style scoped>\n",
       "    .dataframe tbody tr th:only-of-type {\n",
       "        vertical-align: middle;\n",
       "    }\n",
       "\n",
       "    .dataframe tbody tr th {\n",
       "        vertical-align: top;\n",
       "    }\n",
       "\n",
       "    .dataframe thead th {\n",
       "        text-align: right;\n",
       "    }\n",
       "</style>\n",
       "<table border=\"1\" class=\"dataframe\">\n",
       "  <thead>\n",
       "    <tr style=\"text-align: right;\">\n",
       "      <th></th>\n",
       "      <th>日付</th>\n",
       "      <th>開催</th>\n",
       "      <th>天気</th>\n",
       "      <th>R</th>\n",
       "      <th>レース名</th>\n",
       "      <th>映像</th>\n",
       "      <th>頭数</th>\n",
       "      <th>枠番</th>\n",
       "      <th>馬番</th>\n",
       "      <th>オッズ</th>\n",
       "      <th>...</th>\n",
       "      <th>着差</th>\n",
       "      <th>ﾀｲﾑ指数</th>\n",
       "      <th>通過</th>\n",
       "      <th>ペース</th>\n",
       "      <th>上り</th>\n",
       "      <th>馬体重</th>\n",
       "      <th>厩舎ｺﾒﾝﾄ</th>\n",
       "      <th>備考</th>\n",
       "      <th>勝ち馬(2着馬)</th>\n",
       "      <th>賞金</th>\n",
       "    </tr>\n",
       "  </thead>\n",
       "  <tbody>\n",
       "    <tr>\n",
       "      <th>2017105800</th>\n",
       "      <td>2021/07/08</td>\n",
       "      <td>名古屋</td>\n",
       "      <td>曇</td>\n",
       "      <td>7.0</td>\n",
       "      <td>C12組</td>\n",
       "      <td>NaN</td>\n",
       "      <td>10.0</td>\n",
       "      <td>4.0</td>\n",
       "      <td>4.0</td>\n",
       "      <td>6.6</td>\n",
       "      <td>...</td>\n",
       "      <td>NaN</td>\n",
       "      <td>**</td>\n",
       "      <td>4-3</td>\n",
       "      <td>0.0-39.5</td>\n",
       "      <td>NaN</td>\n",
       "      <td>479(-1)</td>\n",
       "      <td>NaN</td>\n",
       "      <td>NaN</td>\n",
       "      <td>ナツミフルーリー</td>\n",
       "      <td>NaN</td>\n",
       "    </tr>\n",
       "    <tr>\n",
       "      <th>2017105800</th>\n",
       "      <td>2021/06/30</td>\n",
       "      <td>名古屋</td>\n",
       "      <td>曇</td>\n",
       "      <td>5.0</td>\n",
       "      <td>C14組</td>\n",
       "      <td>NaN</td>\n",
       "      <td>10.0</td>\n",
       "      <td>3.0</td>\n",
       "      <td>3.0</td>\n",
       "      <td>12.2</td>\n",
       "      <td>...</td>\n",
       "      <td>0.7</td>\n",
       "      <td>**</td>\n",
       "      <td>5-6-5</td>\n",
       "      <td>0.0-40.3</td>\n",
       "      <td>39.4</td>\n",
       "      <td>480(-4)</td>\n",
       "      <td>NaN</td>\n",
       "      <td>NaN</td>\n",
       "      <td>マルカブレーブ</td>\n",
       "      <td>10.2</td>\n",
       "    </tr>\n",
       "    <tr>\n",
       "      <th>2017105800</th>\n",
       "      <td>2021/06/16</td>\n",
       "      <td>名古屋</td>\n",
       "      <td>雨</td>\n",
       "      <td>5.0</td>\n",
       "      <td>美穂ちゃんバースデイ</td>\n",
       "      <td>NaN</td>\n",
       "      <td>11.0</td>\n",
       "      <td>2.0</td>\n",
       "      <td>2.0</td>\n",
       "      <td>13.5</td>\n",
       "      <td>...</td>\n",
       "      <td>2.7</td>\n",
       "      <td>**</td>\n",
       "      <td>10-10-8</td>\n",
       "      <td>0.0-38.2</td>\n",
       "      <td>38.4</td>\n",
       "      <td>484(+3)</td>\n",
       "      <td>NaN</td>\n",
       "      <td>NaN</td>\n",
       "      <td>タイキスピネル</td>\n",
       "      <td>2.6</td>\n",
       "    </tr>\n",
       "    <tr>\n",
       "      <th>2017105800</th>\n",
       "      <td>2021/06/03</td>\n",
       "      <td>名古屋</td>\n",
       "      <td>晴</td>\n",
       "      <td>6.0</td>\n",
       "      <td>C14組</td>\n",
       "      <td>NaN</td>\n",
       "      <td>10.0</td>\n",
       "      <td>8.0</td>\n",
       "      <td>9.0</td>\n",
       "      <td>3.8</td>\n",
       "      <td>...</td>\n",
       "      <td>1.0</td>\n",
       "      <td>**</td>\n",
       "      <td>3-4-4</td>\n",
       "      <td>0.0-39.6</td>\n",
       "      <td>40.1</td>\n",
       "      <td>481(-6)</td>\n",
       "      <td>NaN</td>\n",
       "      <td>NaN</td>\n",
       "      <td>トーホウボッカ</td>\n",
       "      <td>NaN</td>\n",
       "    </tr>\n",
       "    <tr>\n",
       "      <th>2017105800</th>\n",
       "      <td>2021/05/19</td>\n",
       "      <td>名古屋</td>\n",
       "      <td>雨</td>\n",
       "      <td>5.0</td>\n",
       "      <td>C15組</td>\n",
       "      <td>NaN</td>\n",
       "      <td>11.0</td>\n",
       "      <td>8.0</td>\n",
       "      <td>11.0</td>\n",
       "      <td>29.8</td>\n",
       "      <td>...</td>\n",
       "      <td>0.5</td>\n",
       "      <td>**</td>\n",
       "      <td>3-3-3</td>\n",
       "      <td>0.0-38.4</td>\n",
       "      <td>38.6</td>\n",
       "      <td>487(0)</td>\n",
       "      <td>NaN</td>\n",
       "      <td>NaN</td>\n",
       "      <td>キングリアリティー</td>\n",
       "      <td>10.2</td>\n",
       "    </tr>\n",
       "  </tbody>\n",
       "</table>\n",
       "<p>5 rows × 28 columns</p>\n",
       "</div>"
      ],
      "text/plain": [
       "                    日付   開催 天気    R        レース名  映像    頭数   枠番    馬番   オッズ  \\\n",
       "2017105800  2021/07/08  名古屋  曇  7.0        C12組 NaN  10.0  4.0   4.0   6.6   \n",
       "2017105800  2021/06/30  名古屋  曇  5.0        C14組 NaN  10.0  3.0   3.0  12.2   \n",
       "2017105800  2021/06/16  名古屋  雨  5.0  美穂ちゃんバースデイ NaN  11.0  2.0   2.0  13.5   \n",
       "2017105800  2021/06/03  名古屋  晴  6.0        C14組 NaN  10.0  8.0   9.0   3.8   \n",
       "2017105800  2021/05/19  名古屋  雨  5.0        C15組 NaN  11.0  8.0  11.0  29.8   \n",
       "\n",
       "            ...   着差 ﾀｲﾑ指数       通過       ペース    上り      馬体重 厩舎ｺﾒﾝﾄ  備考  \\\n",
       "2017105800  ...  NaN    **      4-3  0.0-39.5   NaN  479(-1)    NaN NaN   \n",
       "2017105800  ...  0.7    **    5-6-5  0.0-40.3  39.4  480(-4)    NaN NaN   \n",
       "2017105800  ...  2.7    **  10-10-8  0.0-38.2  38.4  484(+3)    NaN NaN   \n",
       "2017105800  ...  1.0    **    3-4-4  0.0-39.6  40.1  481(-6)    NaN NaN   \n",
       "2017105800  ...  0.5    **    3-3-3  0.0-38.4  38.6   487(0)    NaN NaN   \n",
       "\n",
       "             勝ち馬(2着馬)    賞金  \n",
       "2017105800   ナツミフルーリー   NaN  \n",
       "2017105800    マルカブレーブ  10.2  \n",
       "2017105800    タイキスピネル   2.6  \n",
       "2017105800    トーホウボッカ   NaN  \n",
       "2017105800  キングリアリティー  10.2  \n",
       "\n",
       "[5 rows x 28 columns]"
      ]
     },
     "execution_count": 7,
     "metadata": {},
     "output_type": "execute_result"
    }
   ],
   "source": [
    "\"\"\" \n",
    "    馬の過去の全戦績を記したテーブル\n",
    "    horse_results.index : Int64Index, index は horse_id\n",
    "    indexはhorse_id\n",
    "    こちらも, index だけでは一意にレコードが定まらないので注意\n",
    "\"\"\"\n",
    "horse_results.head()"
   ]
  },
  {
   "cell_type": "code",
   "execution_count": 8,
   "id": "6b0b4287",
   "metadata": {},
   "outputs": [
    {
     "data": {
      "text/html": [
       "<div>\n",
       "<style scoped>\n",
       "    .dataframe tbody tr th:only-of-type {\n",
       "        vertical-align: middle;\n",
       "    }\n",
       "\n",
       "    .dataframe tbody tr th {\n",
       "        vertical-align: top;\n",
       "    }\n",
       "\n",
       "    .dataframe thead th {\n",
       "        text-align: right;\n",
       "    }\n",
       "</style>\n",
       "<table border=\"1\" class=\"dataframe\">\n",
       "  <thead>\n",
       "    <tr style=\"text-align: right;\">\n",
       "      <th></th>\n",
       "      <th>peds_0</th>\n",
       "      <th>peds_1</th>\n",
       "      <th>peds_2</th>\n",
       "      <th>peds_3</th>\n",
       "      <th>peds_4</th>\n",
       "      <th>peds_5</th>\n",
       "      <th>peds_6</th>\n",
       "      <th>peds_7</th>\n",
       "      <th>peds_8</th>\n",
       "      <th>peds_9</th>\n",
       "      <th>...</th>\n",
       "      <th>peds_52</th>\n",
       "      <th>peds_53</th>\n",
       "      <th>peds_54</th>\n",
       "      <th>peds_55</th>\n",
       "      <th>peds_56</th>\n",
       "      <th>peds_57</th>\n",
       "      <th>peds_58</th>\n",
       "      <th>peds_59</th>\n",
       "      <th>peds_60</th>\n",
       "      <th>peds_61</th>\n",
       "    </tr>\n",
       "  </thead>\n",
       "  <tbody>\n",
       "    <tr>\n",
       "      <th>2017100590</th>\n",
       "      <td>クロフネ</td>\n",
       "      <td>ハッピーティア</td>\n",
       "      <td>フレンチデピュティ</td>\n",
       "      <td>ブルーアヴェニュー</td>\n",
       "      <td>ホワイトマズル</td>\n",
       "      <td>ハッピーチケット</td>\n",
       "      <td>DeputyMinister</td>\n",
       "      <td>Mitterand</td>\n",
       "      <td>ClassicGoGo</td>\n",
       "      <td>ElizaBlue</td>\n",
       "      <td>...</td>\n",
       "      <td>Tyrant</td>\n",
       "      <td>FlightTable</td>\n",
       "      <td>Halo</td>\n",
       "      <td>WishingWell</td>\n",
       "      <td>Lyphard</td>\n",
       "      <td>Prodice</td>\n",
       "      <td>Herbager</td>\n",
       "      <td>SilverCoin</td>\n",
       "      <td>チャイナロック</td>\n",
       "      <td>ソシアルバターフライ</td>\n",
       "    </tr>\n",
       "    <tr>\n",
       "      <th>2017106441</th>\n",
       "      <td>スピルバーグ</td>\n",
       "      <td>ミュージー</td>\n",
       "      <td>ディープインパクト</td>\n",
       "      <td>プリンセスオリビア</td>\n",
       "      <td>ElPrado</td>\n",
       "      <td>Foible</td>\n",
       "      <td>サンデーサイレンス</td>\n",
       "      <td>ウインドインハーヘア</td>\n",
       "      <td>Lycius</td>\n",
       "      <td>DanceImage</td>\n",
       "      <td>...</td>\n",
       "      <td>TomFool</td>\n",
       "      <td>Ghazni</td>\n",
       "      <td>Nasrullah</td>\n",
       "      <td>Lalun</td>\n",
       "      <td>PrinceJohn</td>\n",
       "      <td>NileLily</td>\n",
       "      <td>Turnto</td>\n",
       "      <td>YourGame</td>\n",
       "      <td>RestlessNative</td>\n",
       "      <td>EnchantedEve</td>\n",
       "    </tr>\n",
       "    <tr>\n",
       "      <th>2017106225</th>\n",
       "      <td>ケープブランコ</td>\n",
       "      <td>ヒラボクキャロル</td>\n",
       "      <td>Galileo</td>\n",
       "      <td>LaurelDelight</td>\n",
       "      <td>ダンスインザダーク</td>\n",
       "      <td>チョウカイキャロル</td>\n",
       "      <td>SadlersWells</td>\n",
       "      <td>アーバンシー</td>\n",
       "      <td>Presidium</td>\n",
       "      <td>Foudroyer</td>\n",
       "      <td>...</td>\n",
       "      <td>KeytotheMint</td>\n",
       "      <td>NativePartner</td>\n",
       "      <td>HailtoReason</td>\n",
       "      <td>Bramalea</td>\n",
       "      <td>Graustark</td>\n",
       "      <td>GoldenTrail</td>\n",
       "      <td>RaiseaNative</td>\n",
       "      <td>GoldDigger</td>\n",
       "      <td>VaguelyNoble</td>\n",
       "      <td>SleekDancer</td>\n",
       "    </tr>\n",
       "    <tr>\n",
       "      <th>2014105693</th>\n",
       "      <td>キンシャサノキセキ</td>\n",
       "      <td>マイワイルドローズ</td>\n",
       "      <td>フジキセキ</td>\n",
       "      <td>ケルトシャーン</td>\n",
       "      <td>WildAgain</td>\n",
       "      <td>RoseofMull</td>\n",
       "      <td>サンデーサイレンス</td>\n",
       "      <td>ミルレーサー</td>\n",
       "      <td>PleasantColony</td>\n",
       "      <td>Featherhill</td>\n",
       "      <td>...</td>\n",
       "      <td>Dante</td>\n",
       "      <td>Clovelly</td>\n",
       "      <td>SwordDancer</td>\n",
       "      <td>Kerala</td>\n",
       "      <td>Buckpasser</td>\n",
       "      <td>Intriguing</td>\n",
       "      <td>Ribot</td>\n",
       "      <td>Pocahontas</td>\n",
       "      <td>DarkStar</td>\n",
       "      <td>Vulcania</td>\n",
       "    </tr>\n",
       "    <tr>\n",
       "      <th>2013101632</th>\n",
       "      <td>メイショウサムソン</td>\n",
       "      <td>シルクヴァルキリー</td>\n",
       "      <td>オペラハウス</td>\n",
       "      <td>マイヴィヴィアン</td>\n",
       "      <td>マーベラスサンデー</td>\n",
       "      <td>シルクフレアー</td>\n",
       "      <td>SadlersWells</td>\n",
       "      <td>Colorspin</td>\n",
       "      <td>ダンシングブレーヴ</td>\n",
       "      <td>ウイルプリンセス</td>\n",
       "      <td>...</td>\n",
       "      <td>LaughAloud</td>\n",
       "      <td>HoldMeClose</td>\n",
       "      <td>Nearctic</td>\n",
       "      <td>Natalma</td>\n",
       "      <td>AdmiralsVoyage</td>\n",
       "      <td>Petitioner</td>\n",
       "      <td>RaiseaNative</td>\n",
       "      <td>SweetTooth</td>\n",
       "      <td>ノノアルコ</td>\n",
       "      <td>Mortefontaine</td>\n",
       "    </tr>\n",
       "  </tbody>\n",
       "</table>\n",
       "<p>5 rows × 62 columns</p>\n",
       "</div>"
      ],
      "text/plain": [
       "               peds_0     peds_1     peds_2         peds_3     peds_4  \\\n",
       "2017100590       クロフネ    ハッピーティア  フレンチデピュティ      ブルーアヴェニュー    ホワイトマズル   \n",
       "2017106441     スピルバーグ      ミュージー  ディープインパクト      プリンセスオリビア    ElPrado   \n",
       "2017106225    ケープブランコ   ヒラボクキャロル    Galileo  LaurelDelight  ダンスインザダーク   \n",
       "2014105693  キンシャサノキセキ  マイワイルドローズ      フジキセキ        ケルトシャーン  WildAgain   \n",
       "2013101632  メイショウサムソン  シルクヴァルキリー     オペラハウス       マイヴィヴィアン  マーベラスサンデー   \n",
       "\n",
       "                peds_5          peds_6      peds_7          peds_8  \\\n",
       "2017100590    ハッピーチケット  DeputyMinister   Mitterand     ClassicGoGo   \n",
       "2017106441      Foible       サンデーサイレンス  ウインドインハーヘア          Lycius   \n",
       "2017106225   チョウカイキャロル    SadlersWells      アーバンシー       Presidium   \n",
       "2014105693  RoseofMull       サンデーサイレンス      ミルレーサー  PleasantColony   \n",
       "2013101632     シルクフレアー    SadlersWells   Colorspin       ダンシングブレーヴ   \n",
       "\n",
       "                 peds_9  ...       peds_52        peds_53       peds_54  \\\n",
       "2017100590    ElizaBlue  ...        Tyrant    FlightTable          Halo   \n",
       "2017106441   DanceImage  ...       TomFool         Ghazni     Nasrullah   \n",
       "2017106225    Foudroyer  ...  KeytotheMint  NativePartner  HailtoReason   \n",
       "2014105693  Featherhill  ...         Dante       Clovelly   SwordDancer   \n",
       "2013101632     ウイルプリンセス  ...    LaughAloud    HoldMeClose      Nearctic   \n",
       "\n",
       "                peds_55         peds_56      peds_57       peds_58  \\\n",
       "2017100590  WishingWell         Lyphard      Prodice      Herbager   \n",
       "2017106441        Lalun      PrinceJohn     NileLily        Turnto   \n",
       "2017106225     Bramalea       Graustark  GoldenTrail  RaiseaNative   \n",
       "2014105693       Kerala      Buckpasser   Intriguing         Ribot   \n",
       "2013101632      Natalma  AdmiralsVoyage   Petitioner  RaiseaNative   \n",
       "\n",
       "               peds_59         peds_60        peds_61  \n",
       "2017100590  SilverCoin         チャイナロック     ソシアルバターフライ  \n",
       "2017106441    YourGame  RestlessNative   EnchantedEve  \n",
       "2017106225  GoldDigger    VaguelyNoble    SleekDancer  \n",
       "2014105693  Pocahontas        DarkStar       Vulcania  \n",
       "2013101632  SweetTooth           ノノアルコ  Mortefontaine  \n",
       "\n",
       "[5 rows x 62 columns]"
      ]
     },
     "execution_count": 8,
     "metadata": {},
     "output_type": "execute_result"
    }
   ],
   "source": [
    "\"\"\" \n",
    "    馬の血統データ\n",
    "    peds.index : Int64Index, index は horse_id\n",
    "    カタカナ, 英字が混じっているので, 注意\n",
    "\"\"\"\n",
    "peds.head() # 5世代分の血統データ"
   ]
  },
  {
   "cell_type": "code",
   "execution_count": 12,
   "id": "95fe9a86",
   "metadata": {},
   "outputs": [
    {
     "data": {
      "text/html": [
       "<div>\n",
       "<style scoped>\n",
       "    .dataframe tbody tr th:only-of-type {\n",
       "        vertical-align: middle;\n",
       "    }\n",
       "\n",
       "    .dataframe tbody tr th {\n",
       "        vertical-align: top;\n",
       "    }\n",
       "\n",
       "    .dataframe thead th {\n",
       "        text-align: right;\n",
       "    }\n",
       "</style>\n",
       "<table border=\"1\" class=\"dataframe\">\n",
       "  <thead>\n",
       "    <tr style=\"text-align: right;\">\n",
       "      <th></th>\n",
       "      <th>0</th>\n",
       "      <th>1</th>\n",
       "      <th>2</th>\n",
       "      <th>3</th>\n",
       "    </tr>\n",
       "  </thead>\n",
       "  <tbody>\n",
       "    <tr>\n",
       "      <th>202001010101</th>\n",
       "      <td>単勝</td>\n",
       "      <td>6</td>\n",
       "      <td>1600</td>\n",
       "      <td>3</td>\n",
       "    </tr>\n",
       "    <tr>\n",
       "      <th>202001010101</th>\n",
       "      <td>複勝</td>\n",
       "      <td>6br2</td>\n",
       "      <td>490br130</td>\n",
       "      <td>4br2</td>\n",
       "    </tr>\n",
       "    <tr>\n",
       "      <th>202001010101</th>\n",
       "      <td>馬連</td>\n",
       "      <td>2 - 6</td>\n",
       "      <td>1410</td>\n",
       "      <td>4</td>\n",
       "    </tr>\n",
       "    <tr>\n",
       "      <th>202001010101</th>\n",
       "      <td>ワイド</td>\n",
       "      <td>2 - 6br3 - 6br2 - 3</td>\n",
       "      <td>150br170br110</td>\n",
       "      <td>3br4br1</td>\n",
       "    </tr>\n",
       "    <tr>\n",
       "      <th>202001010101</th>\n",
       "      <td>馬単</td>\n",
       "      <td>6 → 2</td>\n",
       "      <td>3920</td>\n",
       "      <td>9</td>\n",
       "    </tr>\n",
       "  </tbody>\n",
       "</table>\n",
       "</div>"
      ],
      "text/plain": [
       "                0                    1              2        3\n",
       "202001010101   単勝                    6           1600        3\n",
       "202001010101   複勝                 6br2       490br130     4br2\n",
       "202001010101   馬連                2 - 6           1410        4\n",
       "202001010101  ワイド  2 - 6br3 - 6br2 - 3  150br170br110  3br4br1\n",
       "202001010101   馬単                6 → 2           3920        9"
      ]
     },
     "execution_count": 12,
     "metadata": {},
     "output_type": "execute_result"
    }
   ],
   "source": [
    "\"\"\" \n",
    "    return_tables レースの払い戻し金額が記されたテーブル\n",
    "    return_tables.index : Int64Index, index は race_id\n",
    "    こちらも, index では一意にレコードが定まらない\n",
    "    カラムの\n",
    "        0 : 払い戻し種別\n",
    "        1 : 馬番, \n",
    "            ex) 6 なら 馬番6が払い戻し対象\n",
    "        2 : 払い戻し金額 (単位 : 円, 100円賭けた時の払い戻し金額), \n",
    "            ex) 複勝で カラム(2) が 490br130 なら, 馬番6の払い戻しが 490円 馬番2が130円\n",
    "        3 : 多分人気度を表してる, 使ってないから dont care\n",
    "\"\"\"\n",
    "return_tables.head()"
   ]
  },
  {
   "cell_type": "markdown",
   "id": "d537a25d",
   "metadata": {},
   "source": [
    "# データ前処理"
   ]
  },
  {
   "cell_type": "code",
   "execution_count": 40,
   "id": "97ea7c25",
   "metadata": {},
   "outputs": [],
   "source": [
    "%autoreload"
   ]
  },
  {
   "cell_type": "code",
   "execution_count": 41,
   "id": "10ee1f44",
   "metadata": {},
   "outputs": [
    {
     "data": {
      "application/vnd.jupyter.widget-view+json": {
       "model_id": "16e14b8474784a578f7ff8bc6cec550b",
       "version_major": 2,
       "version_minor": 0
      },
      "text/plain": [
       "HBox(children=(FloatProgress(value=0.0, max=20388.0), HTML(value='')))"
      ]
     },
     "metadata": {},
     "output_type": "display_data"
    },
    {
     "name": "stdout",
     "output_type": "stream",
     "text": [
      "\n",
      "finish regularize\n"
     ]
    }
   ],
   "source": [
    "race_results_processor = preprocess.RaceResults(race_results)\n",
    "horse_results_processor = preprocess.HorseResults(horse_results)\n",
    "peds_processor = preprocess.Peds(peds) # <= 結構時間かかる\n",
    "\n",
    "race_results_processor.preprocessing()\n",
    "horse_results_processor.preprocessing()\n",
    "peds_processor.preprocessing()\n"
   ]
  },
  {
   "cell_type": "markdown",
   "id": "c9ff57ad",
   "metadata": {},
   "source": [
    "# データマージ"
   ]
  },
  {
   "cell_type": "code",
   "execution_count": 43,
   "id": "c92183ab",
   "metadata": {},
   "outputs": [],
   "source": [
    "%autoreload"
   ]
  },
  {
   "cell_type": "code",
   "execution_count": 44,
   "id": "98e12edc",
   "metadata": {},
   "outputs": [
    {
     "data": {
      "application/vnd.jupyter.widget-view+json": {
       "model_id": "4b06c5fd935042a1ad0c6cf543c7d438",
       "version_major": 2,
       "version_minor": 0
      },
      "text/plain": [
       "HBox(children=(FloatProgress(value=0.0, max=291.0), HTML(value='')))"
      ]
     },
     "metadata": {},
     "output_type": "display_data"
    },
    {
     "name": "stdout",
     "output_type": "stream",
     "text": [
      "\n"
     ]
    },
    {
     "data": {
      "application/vnd.jupyter.widget-view+json": {
       "model_id": "f548550cfbe1434bb1aa6d65e2e39a76",
       "version_major": 2,
       "version_minor": 0
      },
      "text/plain": [
       "HBox(children=(FloatProgress(value=0.0, max=291.0), HTML(value='')))"
      ]
     },
     "metadata": {},
     "output_type": "display_data"
    },
    {
     "name": "stdout",
     "output_type": "stream",
     "text": [
      "\n"
     ]
    },
    {
     "data": {
      "application/vnd.jupyter.widget-view+json": {
       "model_id": "7f622a2c41854e009bf401fda5ee5eb8",
       "version_major": 2,
       "version_minor": 0
      },
      "text/plain": [
       "HBox(children=(FloatProgress(value=0.0, max=291.0), HTML(value='')))"
      ]
     },
     "metadata": {},
     "output_type": "display_data"
    },
    {
     "name": "stdout",
     "output_type": "stream",
     "text": [
      "\n"
     ]
    }
   ],
   "source": [
    "data_merger = preprocess.DataMerger(\n",
    "    race_results_processor,\n",
    "    horse_results_processor,\n",
    "    peds_processor\n",
    ")\n",
    "\n",
    "data_merger.merge()\n",
    "# no peds list が出力されたら, 該当のhorse_idをscrapeしなおした方が良い"
   ]
  },
  {
   "cell_type": "markdown",
   "id": "89ad41c1",
   "metadata": {},
   "source": [
    "# 学習データ作成"
   ]
  },
  {
   "cell_type": "code",
   "execution_count": 59,
   "id": "1e0209b5",
   "metadata": {},
   "outputs": [],
   "source": [
    "%autoreload"
   ]
  },
  {
   "cell_type": "code",
   "execution_count": 60,
   "id": "3268c767",
   "metadata": {},
   "outputs": [
    {
     "name": "stdout",
     "output_type": "stream",
     "text": [
      "--finish categorize id--\n",
      "--finish categorize peds--\n",
      "--finish dumminize--\n",
      "--finish add cosin--\n"
     ]
    }
   ],
   "source": [
    "make_train_data = preprocess.MakeTrainData(data_merger)\n",
    "# ----- 特徴量は, メソッド形式で追加\n",
    "make_train_data.categorize_id()\n",
    "make_train_data.categorize_peds()\n",
    "make_train_data.dumminize() \n",
    "make_train_data.add_date_cosin()\n",
    "processed_df = make_train_data.get_processed_df()\n"
   ]
  },
  {
   "attachments": {},
   "cell_type": "markdown",
   "id": "3be005b8",
   "metadata": {},
   "source": [
    "# 正解ラベルの変更, 訓練,テスト スプリット"
   ]
  },
  {
   "cell_type": "code",
   "execution_count": 64,
   "id": "f3f456cb",
   "metadata": {},
   "outputs": [],
   "source": [
    "%autoreload"
   ]
  },
  {
   "cell_type": "code",
   "execution_count": 145,
   "id": "ab062719",
   "metadata": {},
   "outputs": [],
   "source": [
    "# 正解ラベルの変更\n",
    "# rank学習は, 上位に予測したいラベルに重み付けをする\n",
    "\n",
    "\"\"\"\n",
    "    label_type : 'bin' => 上位3着が 1, それ以外が 0\n",
    "    label_type : 'bias_top3' => 上位3着 [10,5,3] それ以外は0\n",
    "    label_type : 'bias_all' => [10,5,3,2,2,1,1,....,0]\n",
    "\"\"\"\n",
    "processed_df = funcs.change_answer_label(processed_df,label_type='bias_top3')\n",
    "x_train,y_train,x_test,y_test = funcs.make_data(processed_df,test_size=0.3)"
   ]
  },
  {
   "cell_type": "code",
   "execution_count": 14,
   "id": "3a1a7f8b",
   "metadata": {},
   "outputs": [
    {
     "data": {
      "text/html": [
       "<div>\n",
       "<style scoped>\n",
       "    .dataframe tbody tr th:only-of-type {\n",
       "        vertical-align: middle;\n",
       "    }\n",
       "\n",
       "    .dataframe tbody tr th {\n",
       "        vertical-align: top;\n",
       "    }\n",
       "\n",
       "    .dataframe thead th {\n",
       "        text-align: right;\n",
       "    }\n",
       "</style>\n",
       "<table border=\"1\" class=\"dataframe\">\n",
       "  <thead>\n",
       "    <tr style=\"text-align: right;\">\n",
       "      <th></th>\n",
       "      <th>枠番</th>\n",
       "      <th>馬番</th>\n",
       "      <th>斤量</th>\n",
       "      <th>course_len</th>\n",
       "      <th>horse_id</th>\n",
       "      <th>jockey_id</th>\n",
       "      <th>trainer_id</th>\n",
       "      <th>owner_id</th>\n",
       "      <th>年齢</th>\n",
       "      <th>体重</th>\n",
       "      <th>...</th>\n",
       "      <th>開催_06</th>\n",
       "      <th>開催_07</th>\n",
       "      <th>開催_10</th>\n",
       "      <th>開催_05</th>\n",
       "      <th>開催_04</th>\n",
       "      <th>開催_08</th>\n",
       "      <th>開催_09</th>\n",
       "      <th>開催_01</th>\n",
       "      <th>開催_03</th>\n",
       "      <th>開催_02</th>\n",
       "    </tr>\n",
       "  </thead>\n",
       "  <tbody>\n",
       "    <tr>\n",
       "      <th>202008010103</th>\n",
       "      <td>7</td>\n",
       "      <td>13</td>\n",
       "      <td>54.0</td>\n",
       "      <td>14.0</td>\n",
       "      <td>5602</td>\n",
       "      <td>6</td>\n",
       "      <td>175</td>\n",
       "      <td>902</td>\n",
       "      <td>3</td>\n",
       "      <td>462</td>\n",
       "      <td>...</td>\n",
       "      <td>0</td>\n",
       "      <td>0</td>\n",
       "      <td>0</td>\n",
       "      <td>0</td>\n",
       "      <td>0</td>\n",
       "      <td>1</td>\n",
       "      <td>0</td>\n",
       "      <td>0</td>\n",
       "      <td>0</td>\n",
       "      <td>0</td>\n",
       "    </tr>\n",
       "    <tr>\n",
       "      <th>202008010103</th>\n",
       "      <td>5</td>\n",
       "      <td>10</td>\n",
       "      <td>53.0</td>\n",
       "      <td>14.0</td>\n",
       "      <td>4230</td>\n",
       "      <td>121</td>\n",
       "      <td>128</td>\n",
       "      <td>522</td>\n",
       "      <td>3</td>\n",
       "      <td>494</td>\n",
       "      <td>...</td>\n",
       "      <td>0</td>\n",
       "      <td>0</td>\n",
       "      <td>0</td>\n",
       "      <td>0</td>\n",
       "      <td>0</td>\n",
       "      <td>1</td>\n",
       "      <td>0</td>\n",
       "      <td>0</td>\n",
       "      <td>0</td>\n",
       "      <td>0</td>\n",
       "    </tr>\n",
       "    <tr>\n",
       "      <th>202008010103</th>\n",
       "      <td>4</td>\n",
       "      <td>8</td>\n",
       "      <td>54.0</td>\n",
       "      <td>14.0</td>\n",
       "      <td>4537</td>\n",
       "      <td>21</td>\n",
       "      <td>182</td>\n",
       "      <td>302</td>\n",
       "      <td>3</td>\n",
       "      <td>494</td>\n",
       "      <td>...</td>\n",
       "      <td>0</td>\n",
       "      <td>0</td>\n",
       "      <td>0</td>\n",
       "      <td>0</td>\n",
       "      <td>0</td>\n",
       "      <td>1</td>\n",
       "      <td>0</td>\n",
       "      <td>0</td>\n",
       "      <td>0</td>\n",
       "      <td>0</td>\n",
       "    </tr>\n",
       "    <tr>\n",
       "      <th>202008010103</th>\n",
       "      <td>1</td>\n",
       "      <td>1</td>\n",
       "      <td>54.0</td>\n",
       "      <td>14.0</td>\n",
       "      <td>6040</td>\n",
       "      <td>23</td>\n",
       "      <td>1</td>\n",
       "      <td>1239</td>\n",
       "      <td>3</td>\n",
       "      <td>486</td>\n",
       "      <td>...</td>\n",
       "      <td>0</td>\n",
       "      <td>0</td>\n",
       "      <td>0</td>\n",
       "      <td>0</td>\n",
       "      <td>0</td>\n",
       "      <td>1</td>\n",
       "      <td>0</td>\n",
       "      <td>0</td>\n",
       "      <td>0</td>\n",
       "      <td>0</td>\n",
       "    </tr>\n",
       "    <tr>\n",
       "      <th>202008010103</th>\n",
       "      <td>3</td>\n",
       "      <td>6</td>\n",
       "      <td>54.0</td>\n",
       "      <td>14.0</td>\n",
       "      <td>7100</td>\n",
       "      <td>155</td>\n",
       "      <td>83</td>\n",
       "      <td>33</td>\n",
       "      <td>3</td>\n",
       "      <td>450</td>\n",
       "      <td>...</td>\n",
       "      <td>0</td>\n",
       "      <td>0</td>\n",
       "      <td>0</td>\n",
       "      <td>0</td>\n",
       "      <td>0</td>\n",
       "      <td>1</td>\n",
       "      <td>0</td>\n",
       "      <td>0</td>\n",
       "      <td>0</td>\n",
       "      <td>0</td>\n",
       "    </tr>\n",
       "  </tbody>\n",
       "</table>\n",
       "<p>5 rows × 184 columns</p>\n",
       "</div>"
      ],
      "text/plain": [
       "              枠番  馬番    斤量  course_len horse_id jockey_id trainer_id owner_id  \\\n",
       "202008010103   7  13  54.0        14.0     5602         6        175      902   \n",
       "202008010103   5  10  53.0        14.0     4230       121        128      522   \n",
       "202008010103   4   8  54.0        14.0     4537        21        182      302   \n",
       "202008010103   1   1  54.0        14.0     6040        23          1     1239   \n",
       "202008010103   3   6  54.0        14.0     7100       155         83       33   \n",
       "\n",
       "              年齢   体重  ...  開催_06  開催_07  開催_10  開催_05  開催_04  開催_08  開催_09  \\\n",
       "202008010103   3  462  ...      0      0      0      0      0      1      0   \n",
       "202008010103   3  494  ...      0      0      0      0      0      1      0   \n",
       "202008010103   3  494  ...      0      0      0      0      0      1      0   \n",
       "202008010103   3  486  ...      0      0      0      0      0      1      0   \n",
       "202008010103   3  450  ...      0      0      0      0      0      1      0   \n",
       "\n",
       "              開催_01  開催_03  開催_02  \n",
       "202008010103      0      0      0  \n",
       "202008010103      0      0      0  \n",
       "202008010103      0      0      0  \n",
       "202008010103      0      0      0  \n",
       "202008010103      0      0      0  \n",
       "\n",
       "[5 rows x 184 columns]"
      ]
     },
     "execution_count": 14,
     "metadata": {},
     "output_type": "execute_result"
    }
   ],
   "source": [
    "x_train.head()"
   ]
  },
  {
   "cell_type": "code",
   "execution_count": 146,
   "id": "bbe5c508",
   "metadata": {},
   "outputs": [
    {
     "data": {
      "text/plain": [
       "202008010103    10\n",
       "202008010103     5\n",
       "202008010103     3\n",
       "202008010103     0\n",
       "202008010103     0\n",
       "Name: rank, dtype: int64"
      ]
     },
     "execution_count": 146,
     "metadata": {},
     "output_type": "execute_result"
    }
   ],
   "source": [
    "y_train.head()"
   ]
  },
  {
   "attachments": {},
   "cell_type": "markdown",
   "id": "f2b93f88",
   "metadata": {},
   "source": [
    "# rank学習の時の訓練のデータセット\n",
    "訓練だけ, このような形式 <br>\n",
    "予測は　x_train の形式で良い"
   ]
  },
  {
   "cell_type": "code",
   "execution_count": 147,
   "id": "8f96814a",
   "metadata": {},
   "outputs": [],
   "source": [
    "train_query = x_train.groupby(x_train.index).size()\n",
    "test_query = x_test.groupby(x_test.index).size()\n",
    "train = lgb.Dataset(x_train, y_train, group=train_query)\n",
    "test = lgb.Dataset(x_test, y_test, reference=train, group=test_query)"
   ]
  },
  {
   "cell_type": "markdown",
   "id": "fca06f83",
   "metadata": {},
   "source": [
    "# ランク学習"
   ]
  },
  {
   "cell_type": "markdown",
   "id": "7d01b25f",
   "metadata": {},
   "source": [
    "### 主なパラメタ"
   ]
  },
  {
   "cell_type": "code",
   "execution_count": null,
   "id": "5d4286b0",
   "metadata": {},
   "outputs": [],
   "source": [
    "\n",
    "\"\"\"\n",
    "1 \"label_gain\" : hp.choice('label_gain',range(1,2)),\n",
    "    例えば3位までのランキングを学習する場合\n",
    "    は1位のgainは3, 2位のgainは1, 3位のgainは0となることがわかります。\n",
    "    もし、1位のgainを大きくしたい場合はlabel_gain=\"0,1,5\"などと設定することで\n",
    "    目的関数に対する順位の影響を操作することができるよ\n",
    "    うになっています。\n",
    "\n",
    "2 n_estimators == num_iterations==num_boost_round\n",
    "    default = 100\n",
    "    0 <= numiterations \n",
    "\n",
    "3 num_leaves\n",
    "    1 <= num_leaves <= 131072\n",
    "    default = 31\n",
    "    大きいほど過学習寄り\n",
    "\n",
    "4 'lambdarank_truncation_level'\n",
    "    default = 20\n",
    "    ラムダの計算をいくつのサンプルまで使用するかを決めるパラメータのようです。LightGBMで最適化するには、\n",
    "    損失関数の1階微分(ラムダ)と2階微分がレコード毎に必要になります。\n",
    "    同じクエリ内の全てのペアで関連度が上位の対象から計算されたラムダと、下位の対象のラムダの差分を計算する過程で、\n",
    "    いくつまでのペアを使用するか指定するパラメータのようです。\n",
    "\n",
    "5 'min_child_samples'\n",
    "    default = 20\n",
    "    1枚の葉に含まれる最小データ数(小さいほど過学習寄り)\n",
    "\n",
    "6 ' feature_fraction' == 'colsample_bytree'\n",
    "    ランダムに選択する特徴量の割合\n",
    "\n",
    "7 'reg_alpha'(scikit-learn api) == 'lambda_l1'(training api)\n",
    "    l1 正則化項の係数, 小さいほど過学習寄り\n",
    "    float 0 ~ 10**7\n",
    "    \n",
    "8 'reg_lambda' == 'lambda_l2'\n",
    "\n",
    "9 'subsample' == 'bagging_fraction'\n",
    "    各決定木においてランダムに抽出されるサンプルの割合\n",
    "    大きいほど過学習寄り\n",
    "    default = 1\n",
    "\n",
    "10 'subsample_freq' == 'bagging_freq'\n",
    "    ここで指定したイテレーション事に bagging を実施\n",
    "    int 0 ~ 10**7\n",
    "    大きいほど過学習寄り, 0 の場合は bagging されない\n",
    "\n",
    "※ --------  bagging とは ---------\n",
    "    独立に多数の弱学習機を作って多数決をとったものを出力とするような手法のこと\n",
    "\n",
    "\n",
    "\"\"\""
   ]
  },
  {
   "cell_type": "markdown",
   "id": "21a02a45",
   "metadata": {},
   "source": [
    "### 学習"
   ]
  },
  {
   "cell_type": "code",
   "execution_count": 148,
   "id": "c895357f",
   "metadata": {},
   "outputs": [],
   "source": [
    "base_params = {\n",
    "        'metric': 'ndcg',          # 評価指標  \n",
    "        'objective': 'lambdarank', # ランク学習\n",
    "        'ndcg_eval_at': [1,2,3],   # 上位3着を考慮\n",
    "        'boosting_type': 'gbdt',   # gradient based dicision tree\n",
    "        'random_state': 777,       # 乱数 seed 固定\n",
    "        'force_col_wise':True,     # cpu だとメモリ効率が良くなるらしい\n",
    "        'verbosity':-1             # マイナスで, 非表示\n",
    "            }\n",
    "\n",
    "# ------------注意事項------------\n",
    "#  valid_set 入れていると, 1本目の木作成時に過学習扱いされて, そこで学習停止してしまうので注意\n",
    "#  valid_set は grid search の時だけでいい?\n",
    "\n",
    "lgb_rank = lgb.train(\n",
    "    base_params,\n",
    "    train,\n",
    "    # valid_sets=test,          <= 例によって使わない\n",
    "    # valid_names=['valid'],\n",
    "    # early_stopping_rounds=100,\n",
    "    )"
   ]
  },
  {
   "cell_type": "code",
   "execution_count": 235,
   "id": "751bca16",
   "metadata": {},
   "outputs": [
    {
     "name": "stdout",
     "output_type": "stream",
     "text": [
      "num_trees    : 100\n",
      "num_features : 185\n"
     ]
    }
   ],
   "source": [
    "print(\"num_trees    :\",lgb_rank.num_trees())\n",
    "print(\"num_features :\",lgb_rank.num_feature())\n"
   ]
  },
  {
   "cell_type": "code",
   "execution_count": 23,
   "id": "c16f21dd",
   "metadata": {},
   "outputs": [
    {
     "data": {
      "text/html": [
       "<div>\n",
       "<style scoped>\n",
       "    .dataframe tbody tr th:only-of-type {\n",
       "        vertical-align: middle;\n",
       "    }\n",
       "\n",
       "    .dataframe tbody tr th {\n",
       "        vertical-align: top;\n",
       "    }\n",
       "\n",
       "    .dataframe thead th {\n",
       "        text-align: right;\n",
       "    }\n",
       "</style>\n",
       "<table border=\"1\" class=\"dataframe\">\n",
       "  <thead>\n",
       "    <tr style=\"text-align: right;\">\n",
       "      <th></th>\n",
       "      <th>tree_index</th>\n",
       "      <th>node_depth</th>\n",
       "      <th>node_index</th>\n",
       "      <th>left_child</th>\n",
       "      <th>right_child</th>\n",
       "      <th>parent_index</th>\n",
       "      <th>split_feature</th>\n",
       "      <th>split_gain</th>\n",
       "      <th>threshold</th>\n",
       "      <th>decision_type</th>\n",
       "      <th>missing_direction</th>\n",
       "      <th>missing_type</th>\n",
       "      <th>value</th>\n",
       "      <th>weight</th>\n",
       "      <th>count</th>\n",
       "    </tr>\n",
       "  </thead>\n",
       "  <tbody>\n",
       "    <tr>\n",
       "      <th>0</th>\n",
       "      <td>0</td>\n",
       "      <td>1</td>\n",
       "      <td>0-S0</td>\n",
       "      <td>0-S3</td>\n",
       "      <td>0-S1</td>\n",
       "      <td>None</td>\n",
       "      <td>jockey_id</td>\n",
       "      <td>93.925301</td>\n",
       "      <td>0||2||3||13||26||32||35||40||42||43||44||45||5...</td>\n",
       "      <td>==</td>\n",
       "      <td>right</td>\n",
       "      <td>NaN</td>\n",
       "      <td>0.000000</td>\n",
       "      <td>0.0000</td>\n",
       "      <td>3494</td>\n",
       "    </tr>\n",
       "    <tr>\n",
       "      <th>1</th>\n",
       "      <td>0</td>\n",
       "      <td>2</td>\n",
       "      <td>0-S3</td>\n",
       "      <td>0-S26</td>\n",
       "      <td>0-S4</td>\n",
       "      <td>0-S0</td>\n",
       "      <td>trainer_id</td>\n",
       "      <td>18.386400</td>\n",
       "      <td>1||5||22||51||61||65||79||80||96||118||125||13...</td>\n",
       "      <td>==</td>\n",
       "      <td>right</td>\n",
       "      <td>NaN</td>\n",
       "      <td>0.063918</td>\n",
       "      <td>106.8770</td>\n",
       "      <td>1277</td>\n",
       "    </tr>\n",
       "    <tr>\n",
       "      <th>2</th>\n",
       "      <td>0</td>\n",
       "      <td>3</td>\n",
       "      <td>0-S26</td>\n",
       "      <td>0-S27</td>\n",
       "      <td>0-L27</td>\n",
       "      <td>0-S3</td>\n",
       "      <td>n_horse</td>\n",
       "      <td>3.318000</td>\n",
       "      <td>14.5</td>\n",
       "      <td>&lt;=</td>\n",
       "      <td>left</td>\n",
       "      <td>None</td>\n",
       "      <td>0.117499</td>\n",
       "      <td>38.0982</td>\n",
       "      <td>237</td>\n",
       "    </tr>\n",
       "    <tr>\n",
       "      <th>3</th>\n",
       "      <td>0</td>\n",
       "      <td>4</td>\n",
       "      <td>0-S27</td>\n",
       "      <td>0-L0</td>\n",
       "      <td>0-L28</td>\n",
       "      <td>0-S26</td>\n",
       "      <td>peds_57</td>\n",
       "      <td>3.470220</td>\n",
       "      <td>386.5</td>\n",
       "      <td>&lt;=</td>\n",
       "      <td>left</td>\n",
       "      <td>None</td>\n",
       "      <td>0.102035</td>\n",
       "      <td>11.0048</td>\n",
       "      <td>102</td>\n",
       "    </tr>\n",
       "    <tr>\n",
       "      <th>4</th>\n",
       "      <td>0</td>\n",
       "      <td>5</td>\n",
       "      <td>0-L0</td>\n",
       "      <td>None</td>\n",
       "      <td>None</td>\n",
       "      <td>0-S27</td>\n",
       "      <td>None</td>\n",
       "      <td>NaN</td>\n",
       "      <td>None</td>\n",
       "      <td>None</td>\n",
       "      <td>None</td>\n",
       "      <td>None</td>\n",
       "      <td>0.142623</td>\n",
       "      <td>7.2285</td>\n",
       "      <td>59</td>\n",
       "    </tr>\n",
       "  </tbody>\n",
       "</table>\n",
       "</div>"
      ],
      "text/plain": [
       "   tree_index  node_depth node_index left_child right_child parent_index  \\\n",
       "0           0           1       0-S0       0-S3        0-S1         None   \n",
       "1           0           2       0-S3      0-S26        0-S4         0-S0   \n",
       "2           0           3      0-S26      0-S27       0-L27         0-S3   \n",
       "3           0           4      0-S27       0-L0       0-L28        0-S26   \n",
       "4           0           5       0-L0       None        None        0-S27   \n",
       "\n",
       "  split_feature  split_gain  \\\n",
       "0     jockey_id   93.925301   \n",
       "1    trainer_id   18.386400   \n",
       "2       n_horse    3.318000   \n",
       "3       peds_57    3.470220   \n",
       "4          None         NaN   \n",
       "\n",
       "                                           threshold decision_type  \\\n",
       "0  0||2||3||13||26||32||35||40||42||43||44||45||5...            ==   \n",
       "1  1||5||22||51||61||65||79||80||96||118||125||13...            ==   \n",
       "2                                               14.5            <=   \n",
       "3                                              386.5            <=   \n",
       "4                                               None          None   \n",
       "\n",
       "  missing_direction missing_type     value    weight  count  \n",
       "0             right          NaN  0.000000    0.0000   3494  \n",
       "1             right          NaN  0.063918  106.8770   1277  \n",
       "2              left         None  0.117499   38.0982    237  \n",
       "3              left         None  0.102035   11.0048    102  \n",
       "4              None         None  0.142623    7.2285     59  "
      ]
     },
     "execution_count": 23,
     "metadata": {},
     "output_type": "execute_result"
    }
   ],
   "source": [
    "lgb_rank.trees_to_dataframe().head()"
   ]
  },
  {
   "cell_type": "markdown",
   "id": "e306b47d",
   "metadata": {},
   "source": [
    "### 可視化"
   ]
  },
  {
   "cell_type": "code",
   "execution_count": 82,
   "id": "d7972a87",
   "metadata": {},
   "outputs": [
    {
     "data": {
      "image/png": "[encoded data removed]",
      "text/plain": [
       "<Figure size 5760x5760 with 1 Axes>"
      ]
     },
     "metadata": {},
     "output_type": "display_data"
    }
   ],
   "source": [
    "import matplotlib.pyplot as plt\n",
    "import matplotlib\n",
    "\n",
    "matplotlib.rcParams['figure.figsize'] = [40, 40]\n",
    "fig, ax = plt.subplots(figsize=(80, 80), facecolor=\"w\")\n",
    "# 可視化したい木の番号\n",
    "tree_index = 0 \n",
    "lgb.plot_tree(\n",
    "    booster=lgb_rank,\n",
    "    tree_index=tree_index,\n",
    "    show_info='internal_value',\n",
    "    ax=ax \n",
    "    )\n",
    "plt.show()\n"
   ]
  },
  {
   "cell_type": "markdown",
   "id": "c3d65958",
   "metadata": {},
   "source": [
    "## 特徴量重要度"
   ]
  },
  {
   "cell_type": "code",
   "execution_count": 149,
   "id": "fa680e87",
   "metadata": {},
   "outputs": [
    {
     "name": "stdout",
     "output_type": "stream",
     "text": [
      "                          features  importances\n",
      "4                         horse_id         1033\n",
      "97                          peds_1          386\n",
      "101                         peds_5          230\n",
      "157                        peds_61          149\n",
      "109                        peds_13          131\n",
      "7                         owner_id          129\n",
      "125                        peds_29          114\n",
      "5                        jockey_id          112\n",
      "6                       trainer_id          112\n",
      "156                        peds_60          108\n",
      "124                        peds_28           42\n",
      "155                        peds_59           40\n",
      "108                        peds_12           40\n",
      "13                           賞金_5R           38\n",
      "100                         peds_4           25\n",
      "27                 賞金_race_type_5R           23\n",
      "123                        peds_27           17\n",
      "153                        peds_57           17\n",
      "96                          peds_0           17\n",
      "20                賞金_course_len_5R           14\n",
      "149                        peds_53           12\n",
      "107                        peds_11           12\n",
      "12                           着順_5R           10\n",
      "121                        peds_25           10\n",
      "26                 着順_race_type_5R            9\n",
      "19                着順_course_len_5R            8\n",
      "34                        賞金_開催_5R            7\n",
      "90                      賞金_開催_allR            7\n",
      "62                        賞金_開催_9R            6\n",
      "76              賞金_course_len_allR            5\n",
      "33                        着順_開催_5R            5\n",
      "55                 賞金_race_type_9R            5\n",
      "28                 着差_race_type_5R            5\n",
      "54                 着順_race_type_9R            5\n",
      "148                        peds_52            5\n",
      "10                            体重変化            5\n",
      "9                               体重            5\n",
      "105                         peds_9            4\n",
      "152                        peds_56            4\n",
      "14                           着差_5R            4\n",
      "82               着順_race_type_allR            4\n",
      "184                     date_cosin            4\n",
      "93           first_to_rank_開催_allR            3\n",
      "1                               馬番            3\n",
      "65             first_to_rank_開催_9R            3\n",
      "64              first_corner_開催_9R            3\n",
      "159                      weather_曇            3\n",
      "0                               枠番            3\n",
      "35                        着差_開催_5R            3\n",
      "25     final_to_rank_course_len_5R            3\n",
      "48                賞金_course_len_9R            2\n",
      "31     first_to_final_race_type_5R            2\n",
      "83               賞金_race_type_allR            2\n",
      "79   first_to_rank_course_len_allR            2\n",
      "89                      着順_開催_allR            2\n",
      "40                           着順_9R            2\n",
      "74              final_to_rank_allR            2\n",
      "38            first_to_final_開催_5R            2\n",
      "70                         着差_allR            2\n",
      "68                         着順_allR            2\n"
     ]
    }
   ],
   "source": [
    "funcs.plot_importances(lgb_rank,x_train,n_display=60)"
   ]
  },
  {
   "cell_type": "markdown",
   "id": "27efe69c",
   "metadata": {},
   "source": [
    "# grid search"
   ]
  },
  {
   "cell_type": "code",
   "execution_count": 72,
   "id": "32108465",
   "metadata": {},
   "outputs": [],
   "source": [
    "processed_df = make_train_data.get_processed_df()\n",
    "\n",
    "# 訓練用, 検証用, simulation用のデータに分割\n",
    "x_base,y_base,x_test,y_test = funcs.make_data(processed_df,test_size=0.3)\n",
    "# test_index_list = x_test.index\n",
    "x_train,y_train,x_valid,y_valid = funcs.make_data(processed_df.loc[x_base.index],test_size=0.2)\n",
    "\n",
    "# データ作成\n",
    "train_query = x_train.groupby(x_train.index).size()\n",
    "valid_query = x_valid.groupby(x_valid.index).size()\n",
    "\n",
    "params = {}\n",
    "params['feature_pre_filter'] = False # <= これしないと, lambda_l1/min_data_in_leaf の学習できない\n",
    "train = lgb.Dataset(x_train, y_train, group=train_query,params=params, free_raw_data=False)\n",
    "valid = lgb.Dataset(x_valid, y_valid, reference=train, group=valid_query, params=params, free_raw_data=False)\n",
    "\n"
   ]
  },
  {
   "cell_type": "markdown",
   "id": "41b141bb",
   "metadata": {},
   "source": [
    "### hyperopt版"
   ]
  },
  {
   "cell_type": "code",
   "execution_count": 98,
   "id": "ace959b6",
   "metadata": {},
   "outputs": [],
   "source": [
    "%autoreload"
   ]
  },
  {
   "cell_type": "code",
   "execution_count": null,
   "id": "a2379c88",
   "metadata": {},
   "outputs": [],
   "source": [
    "from hyperopt import Trials\n",
    "\n",
    "trials = Trials()\n",
    "best_params = training.optimize(trials,train,valid)\n",
    "print(\"-------------------------------------------\")\n",
    "print(best_params )\n",
    "\n",
    "\"\"\" 探索するパラメタは\n",
    "    \n",
    "    └─my_modules\n",
    "        |\n",
    "        └─training\n",
    "            └─_tune_hyper_opt.py <= ここに記述してある\n",
    "    \n",
    "    追加で探索 or 選択したい特徴量があれば, 適宜記述しなおすこと\n",
    "\"\"\""
   ]
  },
  {
   "cell_type": "markdown",
   "id": "0d5c0da4",
   "metadata": {},
   "source": [
    "### optuna版"
   ]
  },
  {
   "cell_type": "code",
   "execution_count": null,
   "id": "dea7b4b8",
   "metadata": {},
   "outputs": [],
   "source": [
    "\n",
    "# ---------------- optuna版は探索したい特徴量を適当にセットするだけ ---------\n",
    "\n",
    "import optuna.integration.lightgbm as lgb_o\n",
    "\n",
    "lgbm_params = {\n",
    "        'metric': 'ndcg',\n",
    "        'objective': 'lambdarank',\n",
    "        'ndcg_eval_at': [1,2,3],\n",
    "        'boosting_type': 'gbdt',\n",
    "        'random_state': 777,\n",
    "        'force_col_wise':True,\n",
    "        # ---------- 探索範囲\n",
    "        'lambdarank_truncation_level': 10,\n",
    "        'learning_rate': 0.02273417953255777,\n",
    "        'num_iterations': 100,\n",
    "        'num_leaves': 42,\n",
    "        'lambda_l1': 9.59114819426556,\n",
    "        'lambda_l2': 0.011569741116509751,\n",
    "        'feature_fraction': 0.7,\n",
    "        'bagging_fraction': 1.0,\n",
    "        'bagging_freq': 0,\n",
    "        'min_data_in_leaf': 20,\n",
    "}\n",
    "\n",
    "lgb_rank_o = lgb_o.train(\n",
    "        lgbm_params,\n",
    "        train_set=train,\n",
    "        valid_sets=valid,\n",
    "        valid_names=['valid'],\n",
    "        early_stopping_rounds=100\n",
    "        )\n",
    "\n",
    "best_params = lgb_rank_o.params\n",
    "best_params.pop('early_stopping_round')\n",
    "print(best_params)\n",
    "\n",
    "# 27 min かかった"
   ]
  },
  {
   "cell_type": "code",
   "execution_count": 100,
   "id": "8c45458c",
   "metadata": {},
   "outputs": [
    {
     "data": {
      "text/plain": [
       "{'colsample_bytree': 0.4705236576332061,\n",
       " 'lambdarank_truncation_level': 14.0,\n",
       " 'learning_rate': 0.023174436767163235,\n",
       " 'min_child_samples': 2.0,\n",
       " 'reg_alpha': 0.06546289411822655,\n",
       " 'reg_lambda': 303.4518855514689,\n",
       " 'subsample': 0.6574504757400097,\n",
       " 'subsample_freq': 18.0}"
      ]
     },
     "execution_count": 100,
     "metadata": {},
     "output_type": "execute_result"
    }
   ],
   "source": [
    "best_params"
   ]
  },
  {
   "cell_type": "code",
   "execution_count": 106,
   "id": "ef78fd3e",
   "metadata": {},
   "outputs": [],
   "source": [
    "for idx,key in enumerate(base_params):\n",
    "    best_params[key] = base_params[key]\n",
    "\n",
    "best_params['lambdarank_truncation_level'] = int(best_params['lambdarank_truncation_level'])\n",
    "best_params['subsample_freq'] = int(best_params['subsample_freq'])\n",
    "best_params['min_child_samples'] = int(best_params['min_child_samples'])"
   ]
  },
  {
   "attachments": {},
   "cell_type": "markdown",
   "id": "0ad70252",
   "metadata": {},
   "source": [
    "# best_params で 再学習"
   ]
  },
  {
   "cell_type": "code",
   "execution_count": 107,
   "id": "6be3bc5a",
   "metadata": {},
   "outputs": [],
   "source": [
    "\n",
    "# best_params で再び学習\n",
    "lgb_rank = lgb.train(\n",
    "    best_params,\n",
    "    train,\n",
    "    )\n"
   ]
  },
  {
   "cell_type": "code",
   "execution_count": 108,
   "id": "c9b33c46",
   "metadata": {},
   "outputs": [
    {
     "name": "stdout",
     "output_type": "stream",
     "text": [
      "                         features  importances\n",
      "4                        horse_id          801\n",
      "97                         peds_1          396\n",
      "109                       peds_13          193\n",
      "101                        peds_5          188\n",
      "7                        owner_id          168\n",
      "125                       peds_29          159\n",
      "157                       peds_61          147\n",
      "156                       peds_60           98\n",
      "6                      trainer_id           91\n",
      "5                       jockey_id           82\n",
      "124                       peds_28           60\n",
      "155                       peds_59           55\n",
      "11                        n_horse           52\n",
      "108                       peds_12           42\n",
      "100                        peds_4           34\n",
      "123                       peds_27           33\n",
      "121                       peds_25           31\n",
      "96                         peds_0           27\n",
      "153                       peds_57           23\n",
      "107                       peds_11           22\n",
      "55                賞金_race_type_9R           20\n",
      "27                賞金_race_type_5R           19\n",
      "141                       peds_45           14\n",
      "149                       peds_53           14\n",
      "117                       peds_21           13\n",
      "16               first_to_rank_5R           13\n",
      "12                          着順_5R           13\n",
      "105                        peds_9           13\n",
      "154                       peds_58           12\n",
      "152                       peds_56           12\n",
      "14                          着差_5R           11\n",
      "58     first_to_rank_race_type_9R           11\n",
      "30     first_to_rank_race_type_5R           10\n",
      "148                       peds_52           10\n",
      "140                       peds_44            9\n",
      "32     final_to_rank_race_type_5R            9\n",
      "22     first_corner_course_len_5R            8\n",
      "99                         peds_3            8\n",
      "122                       peds_26            5\n",
      "29      first_corner_race_type_5R            5\n",
      "151                       peds_55            5\n",
      "60     final_to_rank_race_type_9R            5\n",
      "44               first_to_rank_9R            5\n",
      "120                       peds_24            4\n",
      "23    first_to_rank_course_len_5R            4\n",
      "93          first_to_rank_開催_allR            3\n",
      "138                       peds_42            3\n",
      "145                       peds_49            3\n",
      "88   final_to_rank_race_type_allR            3\n",
      "40                          着順_9R            3\n",
      "42                          着差_9R            2\n",
      "51    first_to_rank_course_len_9R            2\n",
      "116                       peds_20            2\n",
      "54                着順_race_type_9R            2\n",
      "82              着順_race_type_allR            2\n",
      "68                        着順_allR            2\n",
      "62                       賞金_開催_9R            2\n",
      "21               着差_course_len_5R            2\n",
      "104                        peds_8            1\n",
      "70                        着差_allR            1\n"
     ]
    }
   ],
   "source": [
    "funcs.plot_importances(lgb_rank,x_train,n_display=60)"
   ]
  },
  {
   "cell_type": "markdown",
   "id": "9c53cf64",
   "metadata": {},
   "source": [
    "# 精度とシミュレーション"
   ]
  },
  {
   "cell_type": "code",
   "execution_count": 155,
   "id": "e0b7b13c",
   "metadata": {},
   "outputs": [],
   "source": [
    "%autoreload"
   ]
  },
  {
   "cell_type": "code",
   "execution_count": 150,
   "id": "defd053c",
   "metadata": {},
   "outputs": [
    {
     "data": {
      "application/vnd.jupyter.widget-view+json": {
       "model_id": "6f208b5fee0b4fea8245de1d58ceb681",
       "version_major": 2,
       "version_minor": 0
      },
      "text/plain": [
       "HBox(children=(FloatProgress(value=0.0, max=2772.0), HTML(value='')))"
      ]
     },
     "metadata": {},
     "output_type": "display_data"
    },
    {
     "name": "stdout",
     "output_type": "stream",
     "text": [
      "\n"
     ]
    }
   ],
   "source": [
    "test_race_index = list(set(x_test.index))\n",
    "my_simulator = simulator.Simulator(lgb_rank)\n",
    "result_df = my_simulator.get_result_df(processed_df.loc[test_race_index],return_tables) # 結構時間かかる"
   ]
  },
  {
   "cell_type": "code",
   "execution_count": 152,
   "id": "61c11d57",
   "metadata": {},
   "outputs": [],
   "source": [
    "%autoreload"
   ]
  },
  {
   "cell_type": "code",
   "execution_count": 153,
   "id": "79220de6",
   "metadata": {},
   "outputs": [
    {
     "name": "stdout",
     "output_type": "stream",
     "text": [
      "収益               :       -63430.00 円\n",
      "平均収益           :          -22.88 円\n",
      "回収率             :           77.12 %\n",
      "的中率             :           19.95 %\n",
      "odds filter 的中率 :           19.95 %\n",
      "レース数           :            2772\n",
      "賭けた点数         :               0\n",
      "race dist {'01': 66, '02': 52, '03': 59, '04': 49, '05': 48, '06': 53, '07': 45, '08': 36, '09': 31, '10': 38, '11': 34, '12': 42}\n",
      "race type dist {'new_horse': 0, 'not_win': 0, 'won1': 0, 'won2': 0, 'won3': 0, 'open': 0, 'g1': 0, 'g2': 0, 'g3': 0, 'obstacle': 0}\n"
     ]
    }
   ],
   "source": [
    "detail_dict = funcs.calc_(\n",
    "    result_df,\n",
    "    kaime='tansho',    # 買い方, 'fukusho', 'wide', ... 一通り, 買い方準備した\n",
    "    odds_alpha=1,      # この閾値以上のオッズだったら買う, どの買い目でも単勝オッズで判断する点に注意\n",
    "    bet=100,           # 何円賭けるか\n",
    "    is_all=True,       # 全レースに賭けるか, False なら round_list のレースにしか賭けない\n",
    "    round_list=['05'], # ここのレース番号に賭ける\n",
    "    verbose=True       # 可視化するか否か\n",
    "    )"
   ]
  },
  {
   "attachments": {},
   "cell_type": "markdown",
   "id": "a241d093",
   "metadata": {},
   "source": [
    "## 最適買い目　探索"
   ]
  },
  {
   "cell_type": "code",
   "execution_count": 156,
   "id": "4e8afb2f",
   "metadata": {},
   "outputs": [
    {
     "name": "stdout",
     "output_type": "stream",
     "text": [
      "---------------------\n",
      "01\n",
      "odds_alpha             :             20\n",
      "best_prf               :       -1300.00 円\n",
      "best_mean_prf          :        -100.00 円\n",
      "best_recovery_rate     :          94.37 %\n",
      "best_accuracy          :           0.00 %\n",
      "best_filtered_accuracy :           0.00 %\n",
      "total race_num         :            231\n",
      "filterd_race_num       :             13\n",
      "bought_num           :              0\n",
      "---------------------\n",
      "02\n",
      "odds_alpha             :              7\n",
      "best_prf               :       -1300.00 円\n",
      "best_mean_prf          :         -22.03 円\n",
      "best_recovery_rate     :          94.40 %\n",
      "best_accuracy          :           2.16 %\n",
      "best_filtered_accuracy :           8.47 %\n",
      "total race_num         :            232\n",
      "filterd_race_num       :             59\n",
      "bought_num           :              0\n",
      "---------------------\n",
      "03\n",
      "odds_alpha             :             15\n",
      "best_prf               :        5350.00 円\n",
      "best_mean_prf          :         191.07 円\n",
      "best_recovery_rate     :         123.06 %\n",
      "best_accuracy          :           1.29 %\n",
      "best_filtered_accuracy :          10.71 %\n",
      "total race_num         :            232\n",
      "filterd_race_num       :             28\n",
      "bought_num           :              0\n",
      "---------------------\n",
      "04\n",
      "odds_alpha             :             12\n",
      "best_prf               :         820.00 円\n",
      "best_mean_prf          :          22.16 円\n",
      "best_recovery_rate     :         103.53 %\n",
      "best_accuracy          :           1.29 %\n",
      "best_filtered_accuracy :           8.11 %\n",
      "total race_num         :            232\n",
      "filterd_race_num       :             37\n",
      "bought_num           :              0\n",
      "---------------------\n",
      "05\n",
      "odds_alpha             :             19\n",
      "best_prf               :       -1900.00 円\n",
      "best_mean_prf          :        -100.00 円\n",
      "best_recovery_rate     :          91.74 %\n",
      "best_accuracy          :           0.00 %\n",
      "best_filtered_accuracy :           0.00 %\n",
      "total race_num         :            230\n",
      "filterd_race_num       :             19\n",
      "bought_num           :              0\n",
      "---------------------\n",
      "06\n",
      "odds_alpha             :             13\n",
      "best_prf               :        2800.00 円\n",
      "best_mean_prf          :          71.79 円\n",
      "best_recovery_rate     :         112.17 %\n",
      "best_accuracy          :           1.74 %\n",
      "best_filtered_accuracy :          10.26 %\n",
      "total race_num         :            230\n",
      "filterd_race_num       :             39\n",
      "bought_num           :              0\n",
      "---------------------\n",
      "07\n",
      "odds_alpha             :             20\n",
      "best_prf               :       -1800.00 円\n",
      "best_mean_prf          :         -46.15 円\n",
      "best_recovery_rate     :          92.17 %\n",
      "best_accuracy          :           0.43 %\n",
      "best_filtered_accuracy :           2.56 %\n",
      "total race_num         :            230\n",
      "filterd_race_num       :             39\n",
      "bought_num           :              0\n",
      "---------------------\n",
      "08\n",
      "odds_alpha             :             19\n",
      "best_prf               :        2840.00 円\n",
      "best_mean_prf          :          71.00 円\n",
      "best_recovery_rate     :         112.29 %\n",
      "best_accuracy          :           1.30 %\n",
      "best_filtered_accuracy :           7.50 %\n",
      "total race_num         :            231\n",
      "filterd_race_num       :             40\n",
      "bought_num           :              0\n",
      "---------------------\n",
      "09\n",
      "odds_alpha             :             20\n",
      "best_prf               :       -3300.00 円\n",
      "best_mean_prf          :        -100.00 円\n",
      "best_recovery_rate     :          85.71 %\n",
      "best_accuracy          :           0.00 %\n",
      "best_filtered_accuracy :           0.00 %\n",
      "total race_num         :            231\n",
      "filterd_race_num       :             33\n",
      "bought_num           :              0\n",
      "---------------------\n",
      "10\n",
      "odds_alpha             :              6\n",
      "best_prf               :       -1380.00 円\n",
      "best_mean_prf          :         -11.69 円\n",
      "best_recovery_rate     :          94.03 %\n",
      "best_accuracy          :           4.33 %\n",
      "best_filtered_accuracy :           8.47 %\n",
      "total race_num         :            231\n",
      "filterd_race_num       :            118\n",
      "bought_num           :              0\n",
      "---------------------\n",
      "11\n",
      "odds_alpha             :              8\n",
      "best_prf               :       -2370.00 円\n",
      "best_mean_prf          :         -26.04 円\n",
      "best_recovery_rate     :          89.74 %\n",
      "best_accuracy          :           3.03 %\n",
      "best_filtered_accuracy :           7.69 %\n",
      "total race_num         :            231\n",
      "filterd_race_num       :             91\n",
      "bought_num           :              0\n",
      "---------------------\n",
      "12\n",
      "odds_alpha             :             18\n",
      "best_prf               :       -2060.00 円\n",
      "best_mean_prf          :         -52.82 円\n",
      "best_recovery_rate     :          91.08 %\n",
      "best_accuracy          :           0.43 %\n",
      "best_filtered_accuracy :           2.56 %\n",
      "total race_num         :            231\n",
      "filterd_race_num       :             39\n",
      "bought_num           :              0\n"
     ]
    }
   ],
   "source": [
    "funcs.show_best_kaime(result_df,'tansho')"
   ]
  },
  {
   "cell_type": "code",
   "execution_count": 157,
   "id": "5790033e",
   "metadata": {},
   "outputs": [
    {
     "name": "stdout",
     "output_type": "stream",
     "text": [
      "---------------------\n",
      "01\n",
      "odds_alpha             :             13\n",
      "best_prf               :        -250.00 円\n",
      "best_mean_prf          :         -11.36 円\n",
      "best_recovery_rate     :          98.92 %\n",
      "best_accuracy          :           2.16 %\n",
      "best_filtered_accuracy :          22.73 %\n",
      "total race_num         :            231\n",
      "filterd_race_num       :             22\n",
      "bought_num             :              0\n",
      "---------------------\n",
      "02\n",
      "odds_alpha             :              7\n",
      "best_prf               :       -1140.00 円\n",
      "best_mean_prf          :         -19.32 円\n",
      "best_recovery_rate     :          95.09 %\n",
      "best_accuracy          :           7.76 %\n",
      "best_filtered_accuracy :          30.51 %\n",
      "total race_num         :            232\n",
      "filterd_race_num       :             59\n",
      "bought_num             :              0\n",
      "---------------------\n",
      "03\n",
      "odds_alpha             :             19\n",
      "best_prf               :        3090.00 円\n",
      "best_mean_prf          :         147.14 円\n",
      "best_recovery_rate     :         113.32 %\n",
      "best_accuracy          :           2.59 %\n",
      "best_filtered_accuracy :          28.57 %\n",
      "total race_num         :            232\n",
      "filterd_race_num       :             21\n",
      "bought_num             :              0\n",
      "---------------------\n",
      "04\n",
      "odds_alpha             :             15\n",
      "best_prf               :        3200.00 円\n",
      "best_mean_prf          :         123.08 円\n",
      "best_recovery_rate     :         113.79 %\n",
      "best_accuracy          :           2.59 %\n",
      "best_filtered_accuracy :          23.08 %\n",
      "total race_num         :            232\n",
      "filterd_race_num       :             26\n",
      "bought_num             :              0\n",
      "---------------------\n",
      "05\n",
      "odds_alpha             :             15\n",
      "best_prf               :       -1310.00 円\n",
      "best_mean_prf          :         -52.40 円\n",
      "best_recovery_rate     :          94.30 %\n",
      "best_accuracy          :           1.30 %\n",
      "best_filtered_accuracy :          12.00 %\n",
      "total race_num         :            230\n",
      "filterd_race_num       :             25\n",
      "bought_num             :              0\n",
      "---------------------\n",
      "06\n",
      "odds_alpha             :             13\n",
      "best_prf               :        -540.00 円\n",
      "best_mean_prf          :         -13.85 円\n",
      "best_recovery_rate     :          97.65 %\n",
      "best_accuracy          :           3.91 %\n",
      "best_filtered_accuracy :          23.08 %\n",
      "total race_num         :            230\n",
      "filterd_race_num       :             39\n",
      "bought_num             :              0\n",
      "---------------------\n",
      "07\n",
      "odds_alpha             :             20\n",
      "best_prf               :       -1870.00 円\n",
      "best_mean_prf          :         -47.95 円\n",
      "best_recovery_rate     :          91.87 %\n",
      "best_accuracy          :           1.74 %\n",
      "best_filtered_accuracy :          10.26 %\n",
      "total race_num         :            230\n",
      "filterd_race_num       :             39\n",
      "bought_num             :              0\n",
      "---------------------\n",
      "08\n",
      "odds_alpha             :             19\n",
      "best_prf               :         180.00 円\n",
      "best_mean_prf          :           4.50 円\n",
      "best_recovery_rate     :         100.78 %\n",
      "best_accuracy          :           2.60 %\n",
      "best_filtered_accuracy :          15.00 %\n",
      "total race_num         :            231\n",
      "filterd_race_num       :             40\n",
      "bought_num             :              0\n",
      "---------------------\n",
      "09\n",
      "odds_alpha             :             10\n",
      "best_prf               :       -1150.00 円\n",
      "best_mean_prf          :         -18.25 円\n",
      "best_recovery_rate     :          95.02 %\n",
      "best_accuracy          :           6.06 %\n",
      "best_filtered_accuracy :          22.22 %\n",
      "total race_num         :            231\n",
      "filterd_race_num       :             63\n",
      "bought_num             :              0\n",
      "---------------------\n",
      "10\n",
      "odds_alpha             :             20\n",
      "best_prf               :        -960.00 円\n",
      "best_mean_prf          :         -24.62 円\n",
      "best_recovery_rate     :          95.84 %\n",
      "best_accuracy          :           2.16 %\n",
      "best_filtered_accuracy :          12.82 %\n",
      "total race_num         :            231\n",
      "filterd_race_num       :             39\n",
      "bought_num             :              0\n",
      "---------------------\n",
      "11\n",
      "odds_alpha             :              8\n",
      "best_prf               :        4590.00 円\n",
      "best_mean_prf          :          50.44 円\n",
      "best_recovery_rate     :         119.87 %\n",
      "best_accuracy          :           9.96 %\n",
      "best_filtered_accuracy :          25.27 %\n",
      "total race_num         :            231\n",
      "filterd_race_num       :             91\n",
      "bought_num             :              0\n",
      "---------------------\n",
      "12\n",
      "odds_alpha             :             16\n",
      "best_prf               :       -1710.00 円\n",
      "best_mean_prf          :         -41.71 円\n",
      "best_recovery_rate     :          92.60 %\n",
      "best_accuracy          :           2.60 %\n",
      "best_filtered_accuracy :          14.63 %\n",
      "total race_num         :            231\n",
      "filterd_race_num       :             41\n",
      "bought_num             :              0\n"
     ]
    }
   ],
   "source": [
    "%autoreload\n",
    "funcs.show_best_kaime(result_df,'fukusho')\n"
   ]
  },
  {
   "cell_type": "code",
   "execution_count": 158,
   "id": "0e3d0b3f",
   "metadata": {},
   "outputs": [
    {
     "name": "stdout",
     "output_type": "stream",
     "text": [
      "---------------------\n",
      "01\n",
      "odds_alpha             :              4\n",
      "best_prf               :        1980.00 円\n",
      "best_mean_prf          :          28.29 円\n",
      "best_recovery_rate     :         108.57 %\n",
      "best_accuracy          :           4.33 %\n",
      "best_filtered_accuracy :          14.29 %\n",
      "total race_num         :            231\n",
      "filterd_race_num       :             70\n",
      "bought_num             :              0\n",
      "---------------------\n",
      "02\n",
      "odds_alpha             :              4\n",
      "best_prf               :        6340.00 円\n",
      "best_mean_prf          :          84.53 円\n",
      "best_recovery_rate     :         127.33 %\n",
      "best_accuracy          :           6.03 %\n",
      "best_filtered_accuracy :          18.67 %\n",
      "total race_num         :            232\n",
      "filterd_race_num       :             75\n",
      "bought_num             :              0\n",
      "---------------------\n",
      "03\n",
      "odds_alpha             :             17\n",
      "best_prf               :        -400.00 円\n",
      "best_mean_prf          :        -100.00 円\n",
      "best_recovery_rate     :          98.28 %\n",
      "best_accuracy          :           0.00 %\n",
      "best_filtered_accuracy :           0.00 %\n",
      "total race_num         :            232\n",
      "filterd_race_num       :              4\n",
      "bought_num             :              0\n",
      "---------------------\n",
      "04\n",
      "odds_alpha             :             10\n",
      "best_prf               :        1640.00 円\n",
      "best_mean_prf          :         205.00 円\n",
      "best_recovery_rate     :         107.07 %\n",
      "best_accuracy          :           0.43 %\n",
      "best_filtered_accuracy :          12.50 %\n",
      "total race_num         :            232\n",
      "filterd_race_num       :              8\n",
      "bought_num             :              0\n",
      "---------------------\n",
      "05\n",
      "odds_alpha             :             16\n",
      "best_prf               :           0.00 円\n",
      "best_mean_prf          :          -1.00 円\n",
      "best_recovery_rate     :         100.00 %\n",
      "best_accuracy          :           0.00 %\n",
      "best_filtered_accuracy :        -100.00 %\n",
      "total race_num         :            230\n",
      "filterd_race_num       :              0\n",
      "bought_num             :              0\n",
      "---------------------\n",
      "06\n",
      "odds_alpha             :             20\n",
      "best_prf               :        -500.00 円\n",
      "best_mean_prf          :        -100.00 円\n",
      "best_recovery_rate     :          97.83 %\n",
      "best_accuracy          :           0.00 %\n",
      "best_filtered_accuracy :           0.00 %\n",
      "total race_num         :            230\n",
      "filterd_race_num       :              5\n",
      "bought_num             :              0\n",
      "---------------------\n",
      "07\n",
      "odds_alpha             :             20\n",
      "best_prf               :       -1100.00 円\n",
      "best_mean_prf          :        -100.00 円\n",
      "best_recovery_rate     :          95.22 %\n",
      "best_accuracy          :           0.00 %\n",
      "best_filtered_accuracy :           0.00 %\n",
      "total race_num         :            230\n",
      "filterd_race_num       :             11\n",
      "bought_num             :              0\n",
      "---------------------\n",
      "08\n",
      "odds_alpha             :              5\n",
      "best_prf               :        -300.00 円\n",
      "best_mean_prf          :          -4.17 円\n",
      "best_recovery_rate     :          98.70 %\n",
      "best_accuracy          :           3.46 %\n",
      "best_filtered_accuracy :          11.11 %\n",
      "total race_num         :            231\n",
      "filterd_race_num       :             72\n",
      "bought_num             :              0\n",
      "---------------------\n",
      "09\n",
      "odds_alpha             :             20\n",
      "best_prf               :        -600.00 円\n",
      "best_mean_prf          :        -100.00 円\n",
      "best_recovery_rate     :          97.40 %\n",
      "best_accuracy          :           0.00 %\n",
      "best_filtered_accuracy :           0.00 %\n",
      "total race_num         :            231\n",
      "filterd_race_num       :              6\n",
      "bought_num             :              0\n",
      "---------------------\n",
      "10\n",
      "odds_alpha             :             16\n",
      "best_prf               :        2250.00 円\n",
      "best_mean_prf          :         140.62 円\n",
      "best_recovery_rate     :         109.74 %\n",
      "best_accuracy          :           0.43 %\n",
      "best_filtered_accuracy :           6.25 %\n",
      "total race_num         :            231\n",
      "filterd_race_num       :             16\n",
      "bought_num             :              0\n",
      "---------------------\n",
      "11\n",
      "odds_alpha             :             12\n",
      "best_prf               :       40450.00 円\n",
      "best_mean_prf          :        1444.64 円\n",
      "best_recovery_rate     :         275.11 %\n",
      "best_accuracy          :           0.87 %\n",
      "best_filtered_accuracy :           7.14 %\n",
      "total race_num         :            231\n",
      "filterd_race_num       :             28\n",
      "bought_num             :              0\n",
      "---------------------\n",
      "12\n",
      "odds_alpha             :              9\n",
      "best_prf               :        3590.00 円\n",
      "best_mean_prf          :         128.21 円\n",
      "best_recovery_rate     :         115.54 %\n",
      "best_accuracy          :           0.87 %\n",
      "best_filtered_accuracy :           7.14 %\n",
      "total race_num         :            231\n",
      "filterd_race_num       :             28\n",
      "bought_num             :              0\n"
     ]
    }
   ],
   "source": [
    "funcs.show_best_kaime(result_df,'wide')\n"
   ]
  },
  {
   "cell_type": "code",
   "execution_count": 159,
   "id": "5adb5971",
   "metadata": {},
   "outputs": [
    {
     "name": "stdout",
     "output_type": "stream",
     "text": [
      "---------------------\n",
      "01\n",
      "odds_alpha             :              4\n",
      "best_prf               :       16810.00 円\n",
      "best_mean_prf          :         240.14 円\n",
      "best_recovery_rate     :         172.77 %\n",
      "best_accuracy          :           2.16 %\n",
      "best_filtered_accuracy :           7.14 %\n",
      "total race_num         :            231\n",
      "filterd_race_num       :             70\n",
      "bought_num             :              0\n",
      "---------------------\n",
      "02\n",
      "odds_alpha             :             15\n",
      "best_prf               :           0.00 円\n",
      "best_mean_prf          :          -1.00 円\n",
      "best_recovery_rate     :         100.00 %\n",
      "best_accuracy          :           0.00 %\n",
      "best_filtered_accuracy :        -100.00 %\n",
      "total race_num         :            232\n",
      "filterd_race_num       :              0\n",
      "bought_num             :              0\n",
      "---------------------\n",
      "03\n",
      "odds_alpha             :             17\n",
      "best_prf               :        -400.00 円\n",
      "best_mean_prf          :        -100.00 円\n",
      "best_recovery_rate     :          98.28 %\n",
      "best_accuracy          :           0.00 %\n",
      "best_filtered_accuracy :           0.00 %\n",
      "total race_num         :            232\n",
      "filterd_race_num       :              4\n",
      "bought_num             :              0\n",
      "---------------------\n",
      "04\n",
      "odds_alpha             :              6\n",
      "best_prf               :         610.00 円\n",
      "best_mean_prf          :          19.68 円\n",
      "best_recovery_rate     :         102.63 %\n",
      "best_accuracy          :           0.43 %\n",
      "best_filtered_accuracy :           3.23 %\n",
      "total race_num         :            232\n",
      "filterd_race_num       :             31\n",
      "bought_num             :              0\n",
      "---------------------\n",
      "05\n",
      "odds_alpha             :             16\n",
      "best_prf               :           0.00 円\n",
      "best_mean_prf          :          -1.00 円\n",
      "best_recovery_rate     :         100.00 %\n",
      "best_accuracy          :           0.00 %\n",
      "best_filtered_accuracy :        -100.00 %\n",
      "total race_num         :            230\n",
      "filterd_race_num       :              0\n",
      "bought_num             :              0\n",
      "---------------------\n",
      "06\n",
      "odds_alpha             :             20\n",
      "best_prf               :        -500.00 円\n",
      "best_mean_prf          :        -100.00 円\n",
      "best_recovery_rate     :          97.83 %\n",
      "best_accuracy          :           0.00 %\n",
      "best_filtered_accuracy :           0.00 %\n",
      "total race_num         :            230\n",
      "filterd_race_num       :              5\n",
      "bought_num             :              0\n",
      "---------------------\n",
      "07\n",
      "odds_alpha             :             20\n",
      "best_prf               :       -1100.00 円\n",
      "best_mean_prf          :        -100.00 円\n",
      "best_recovery_rate     :          95.22 %\n",
      "best_accuracy          :           0.00 %\n",
      "best_filtered_accuracy :           0.00 %\n",
      "total race_num         :            230\n",
      "filterd_race_num       :             11\n",
      "bought_num             :              0\n",
      "---------------------\n",
      "08\n",
      "odds_alpha             :              6\n",
      "best_prf               :        2070.00 円\n",
      "best_mean_prf          :          42.24 円\n",
      "best_recovery_rate     :         108.96 %\n",
      "best_accuracy          :           0.87 %\n",
      "best_filtered_accuracy :           4.08 %\n",
      "total race_num         :            231\n",
      "filterd_race_num       :             49\n",
      "bought_num             :              0\n",
      "---------------------\n",
      "09\n",
      "odds_alpha             :              4\n",
      "best_prf               :        2420.00 円\n",
      "best_mean_prf          :          25.74 円\n",
      "best_recovery_rate     :         110.48 %\n",
      "best_accuracy          :           1.30 %\n",
      "best_filtered_accuracy :           3.19 %\n",
      "total race_num         :            231\n",
      "filterd_race_num       :             94\n",
      "bought_num             :              0\n",
      "---------------------\n",
      "10\n",
      "odds_alpha             :             19\n",
      "best_prf               :       -1200.00 円\n",
      "best_mean_prf          :        -100.00 円\n",
      "best_recovery_rate     :          94.81 %\n",
      "best_accuracy          :           0.00 %\n",
      "best_filtered_accuracy :           0.00 %\n",
      "total race_num         :            231\n",
      "filterd_race_num       :             12\n",
      "bought_num             :              0\n",
      "---------------------\n",
      "11\n",
      "odds_alpha             :             19\n",
      "best_prf               :       -1100.00 円\n",
      "best_mean_prf          :        -100.00 円\n",
      "best_recovery_rate     :          95.24 %\n",
      "best_accuracy          :           0.00 %\n",
      "best_filtered_accuracy :           0.00 %\n",
      "total race_num         :            231\n",
      "filterd_race_num       :             11\n",
      "bought_num             :              0\n",
      "---------------------\n",
      "12\n",
      "odds_alpha             :             14\n",
      "best_prf               :        8900.00 円\n",
      "best_mean_prf          :         890.00 円\n",
      "best_recovery_rate     :         138.53 %\n",
      "best_accuracy          :           0.43 %\n",
      "best_filtered_accuracy :          10.00 %\n",
      "total race_num         :            231\n",
      "filterd_race_num       :             10\n",
      "bought_num             :              0\n"
     ]
    }
   ],
   "source": [
    "\n",
    "funcs.show_best_kaime(result_df,'umaren')\n"
   ]
  },
  {
   "cell_type": "code",
   "execution_count": 160,
   "id": "3f2278d4",
   "metadata": {},
   "outputs": [
    {
     "name": "stdout",
     "output_type": "stream",
     "text": [
      "---------------------\n",
      "01\n",
      "odds_alpha             :             16\n",
      "best_prf               :           0.00 円\n",
      "best_mean_prf          :          -1.00 円\n",
      "best_recovery_rate     :         100.00 %\n",
      "best_accuracy          :           0.00 %\n",
      "best_filtered_accuracy :        -100.00 %\n",
      "total race_num         :            231\n",
      "filterd_race_num       :              0\n",
      "bought_num             :              0\n",
      "---------------------\n",
      "02\n",
      "odds_alpha             :              5\n",
      "best_prf               :        4000.00 円\n",
      "best_mean_prf          :         142.86 円\n",
      "best_recovery_rate     :         117.24 %\n",
      "best_accuracy          :           0.43 %\n",
      "best_filtered_accuracy :           3.57 %\n",
      "total race_num         :            232\n",
      "filterd_race_num       :             28\n",
      "bought_num             :             28\n",
      "---------------------\n",
      "03\n",
      "odds_alpha             :              2\n",
      "best_prf               :        4520.00 円\n",
      "best_mean_prf          :          25.54 円\n",
      "best_recovery_rate     :         119.48 %\n",
      "best_accuracy          :           4.31 %\n",
      "best_filtered_accuracy :           5.65 %\n",
      "total race_num         :            232\n",
      "filterd_race_num       :            177\n",
      "bought_num             :            177\n",
      "---------------------\n",
      "04\n",
      "odds_alpha             :              4\n",
      "best_prf               :       12230.00 円\n",
      "best_mean_prf          :         214.56 円\n",
      "best_recovery_rate     :         152.72 %\n",
      "best_accuracy          :           0.43 %\n",
      "best_filtered_accuracy :           1.75 %\n",
      "total race_num         :            232\n",
      "filterd_race_num       :             57\n",
      "bought_num             :             57\n",
      "---------------------\n",
      "05\n",
      "odds_alpha             :              4\n",
      "best_prf               :        2510.00 円\n",
      "best_mean_prf          :          51.22 円\n",
      "best_recovery_rate     :         110.91 %\n",
      "best_accuracy          :           0.87 %\n",
      "best_filtered_accuracy :           4.08 %\n",
      "total race_num         :            230\n",
      "filterd_race_num       :             49\n",
      "bought_num             :             49\n",
      "---------------------\n",
      "06\n",
      "odds_alpha             :             19\n",
      "best_prf               :        -300.00 円\n",
      "best_mean_prf          :        -100.00 円\n",
      "best_recovery_rate     :          98.70 %\n",
      "best_accuracy          :           0.00 %\n",
      "best_filtered_accuracy :           0.00 %\n",
      "total race_num         :            230\n",
      "filterd_race_num       :              3\n",
      "bought_num             :              3\n",
      "---------------------\n",
      "07\n",
      "odds_alpha             :             14\n",
      "best_prf               :        -200.00 円\n",
      "best_mean_prf          :        -100.00 円\n",
      "best_recovery_rate     :          99.13 %\n",
      "best_accuracy          :           0.00 %\n",
      "best_filtered_accuracy :           0.00 %\n",
      "total race_num         :            230\n",
      "filterd_race_num       :              2\n",
      "bought_num             :              2\n",
      "---------------------\n",
      "08\n",
      "odds_alpha             :             20\n",
      "best_prf               :           0.00 円\n",
      "best_mean_prf          :          -1.00 円\n",
      "best_recovery_rate     :         100.00 %\n",
      "best_accuracy          :           0.00 %\n",
      "best_filtered_accuracy :        -100.00 %\n",
      "total race_num         :            231\n",
      "filterd_race_num       :              0\n",
      "bought_num             :              0\n",
      "---------------------\n",
      "09\n",
      "odds_alpha             :              4\n",
      "best_prf               :        5570.00 円\n",
      "best_mean_prf          :          76.30 円\n",
      "best_recovery_rate     :         124.11 %\n",
      "best_accuracy          :           0.87 %\n",
      "best_filtered_accuracy :           2.74 %\n",
      "total race_num         :            231\n",
      "filterd_race_num       :             73\n",
      "bought_num             :             73\n",
      "---------------------\n",
      "10\n",
      "odds_alpha             :             19\n",
      "best_prf               :        -400.00 円\n",
      "best_mean_prf          :        -100.00 円\n",
      "best_recovery_rate     :          98.27 %\n",
      "best_accuracy          :           0.00 %\n",
      "best_filtered_accuracy :           0.00 %\n",
      "total race_num         :            231\n",
      "filterd_race_num       :              4\n",
      "bought_num             :              4\n",
      "---------------------\n",
      "11\n",
      "odds_alpha             :             20\n",
      "best_prf               :        -100.00 円\n",
      "best_mean_prf          :        -100.00 円\n",
      "best_recovery_rate     :          99.57 %\n",
      "best_accuracy          :           0.00 %\n",
      "best_filtered_accuracy :           0.00 %\n",
      "total race_num         :            231\n",
      "filterd_race_num       :              1\n",
      "bought_num             :              1\n",
      "---------------------\n",
      "12\n",
      "odds_alpha             :             17\n",
      "best_prf               :        -200.00 円\n",
      "best_mean_prf          :        -100.00 円\n",
      "best_recovery_rate     :          99.13 %\n",
      "best_accuracy          :           0.00 %\n",
      "best_filtered_accuracy :           0.00 %\n",
      "total race_num         :            231\n",
      "filterd_race_num       :              2\n",
      "bought_num             :              2\n"
     ]
    }
   ],
   "source": [
    "%autoreload\n",
    "funcs.show_best_kaime(result_df,'sanrenpuku_box')\n"
   ]
  },
  {
   "cell_type": "code",
   "execution_count": 161,
   "id": "9605ee82",
   "metadata": {},
   "outputs": [
    {
     "name": "stdout",
     "output_type": "stream",
     "text": [
      "---------------------\n",
      "01\n",
      "odds_alpha             :              7\n",
      "best_prf               :       16290.00 円\n",
      "best_mean_prf          :         173.30 円\n",
      "best_recovery_rate     :         170.52 %\n",
      "best_accuracy          :           0.87 %\n",
      "best_filtered_accuracy :           2.13 %\n",
      "total race_num         :            231\n",
      "filterd_race_num       :             94\n",
      "bought_num             :             94\n",
      "---------------------\n",
      "02\n",
      "odds_alpha             :             15\n",
      "best_prf               :           0.00 円\n",
      "best_mean_prf          :           0.00 円\n",
      "best_recovery_rate     :         100.00 %\n",
      "best_accuracy          :           0.00 %\n",
      "best_filtered_accuracy :           0.00 %\n",
      "total race_num         :            232\n",
      "filterd_race_num       :             18\n",
      "bought_num             :             18\n",
      "---------------------\n",
      "03\n",
      "odds_alpha             :             17\n",
      "best_prf               :        -600.00 円\n",
      "best_mean_prf          :         -50.00 円\n",
      "best_recovery_rate     :          97.41 %\n",
      "best_accuracy          :           0.00 %\n",
      "best_filtered_accuracy :           0.00 %\n",
      "total race_num         :            232\n",
      "filterd_race_num       :             12\n",
      "bought_num             :             12\n",
      "---------------------\n",
      "04\n",
      "odds_alpha             :              4\n",
      "best_prf               :       12860.00 円\n",
      "best_mean_prf          :          43.59 円\n",
      "best_recovery_rate     :         155.43 %\n",
      "best_accuracy          :           1.72 %\n",
      "best_filtered_accuracy :           1.36 %\n",
      "total race_num         :            232\n",
      "filterd_race_num       :            295\n",
      "bought_num             :            295\n",
      "---------------------\n",
      "05\n",
      "odds_alpha             :             16\n",
      "best_prf               :           0.00 円\n",
      "best_mean_prf          :           0.00 円\n",
      "best_recovery_rate     :         100.00 %\n",
      "best_accuracy          :           0.00 %\n",
      "best_filtered_accuracy :           0.00 %\n",
      "total race_num         :            230\n",
      "filterd_race_num       :             15\n",
      "bought_num             :             15\n",
      "---------------------\n",
      "06\n",
      "odds_alpha             :             20\n",
      "best_prf               :       -1100.00 円\n",
      "best_mean_prf          :         -52.38 円\n",
      "best_recovery_rate     :          95.22 %\n",
      "best_accuracy          :           0.00 %\n",
      "best_filtered_accuracy :           0.00 %\n",
      "total race_num         :            230\n",
      "filterd_race_num       :             21\n",
      "bought_num             :             21\n",
      "---------------------\n",
      "07\n",
      "odds_alpha             :             20\n",
      "best_prf               :       -1500.00 円\n",
      "best_mean_prf          :         -46.88 円\n",
      "best_recovery_rate     :          93.48 %\n",
      "best_accuracy          :           0.00 %\n",
      "best_filtered_accuracy :           0.00 %\n",
      "total race_num         :            230\n",
      "filterd_race_num       :             32\n",
      "bought_num             :             32\n",
      "---------------------\n",
      "08\n",
      "odds_alpha             :              8\n",
      "best_prf               :        -500.00 円\n",
      "best_mean_prf          :          -4.13 円\n",
      "best_recovery_rate     :          97.84 %\n",
      "best_accuracy          :           0.87 %\n",
      "best_filtered_accuracy :           1.65 %\n",
      "total race_num         :            231\n",
      "filterd_race_num       :            121\n",
      "bought_num             :            121\n",
      "---------------------\n",
      "09\n",
      "odds_alpha             :             20\n",
      "best_prf               :        -800.00 円\n",
      "best_mean_prf          :         -32.00 円\n",
      "best_recovery_rate     :          96.54 %\n",
      "best_accuracy          :           0.00 %\n",
      "best_filtered_accuracy :           0.00 %\n",
      "total race_num         :            231\n",
      "filterd_race_num       :             25\n",
      "bought_num             :             25\n",
      "---------------------\n",
      "10\n",
      "odds_alpha             :             19\n",
      "best_prf               :       -2000.00 円\n",
      "best_mean_prf          :         -50.00 円\n",
      "best_recovery_rate     :          91.34 %\n",
      "best_accuracy          :           0.00 %\n",
      "best_filtered_accuracy :           0.00 %\n",
      "total race_num         :            231\n",
      "filterd_race_num       :             40\n",
      "bought_num             :             40\n",
      "---------------------\n",
      "11\n",
      "odds_alpha             :             20\n",
      "best_prf               :       -1300.00 円\n",
      "best_mean_prf          :         -35.14 円\n",
      "best_recovery_rate     :          94.37 %\n",
      "best_accuracy          :           0.00 %\n",
      "best_filtered_accuracy :           0.00 %\n",
      "total race_num         :            231\n",
      "filterd_race_num       :             37\n",
      "bought_num             :             37\n",
      "---------------------\n",
      "12\n",
      "odds_alpha             :              5\n",
      "best_prf               :        2740.00 円\n",
      "best_mean_prf          :          10.50 円\n",
      "best_recovery_rate     :         111.86 %\n",
      "best_accuracy          :           1.30 %\n",
      "best_filtered_accuracy :           1.15 %\n",
      "total race_num         :            231\n",
      "filterd_race_num       :            261\n",
      "bought_num             :            261\n"
     ]
    }
   ],
   "source": [
    "\n",
    "funcs.show_best_kaime(result_df,'umaren_box')"
   ]
  },
  {
   "cell_type": "code",
   "execution_count": 162,
   "id": "a46a8c72",
   "metadata": {},
   "outputs": [
    {
     "name": "stdout",
     "output_type": "stream",
     "text": [
      "---------------------\n",
      "01\n",
      "odds_alpha             :              7\n",
      "best_prf               :        -170.00 円\n",
      "best_mean_prf          :          -1.81 円\n",
      "best_recovery_rate     :          99.26 %\n",
      "best_accuracy          :           1.30 %\n",
      "best_filtered_accuracy :           3.19 %\n",
      "total race_num         :            231\n",
      "filterd_race_num       :             94\n",
      "bought_num             :             94\n",
      "---------------------\n",
      "02\n",
      "odds_alpha             :              5\n",
      "best_prf               :        6160.00 円\n",
      "best_mean_prf          :          32.42 円\n",
      "best_recovery_rate     :         126.55 %\n",
      "best_accuracy          :           5.17 %\n",
      "best_filtered_accuracy :           6.32 %\n",
      "total race_num         :            232\n",
      "filterd_race_num       :            190\n",
      "bought_num             :            190\n",
      "---------------------\n",
      "03\n",
      "odds_alpha             :             17\n",
      "best_prf               :        2080.00 円\n",
      "best_mean_prf          :         173.33 円\n",
      "best_recovery_rate     :         108.97 %\n",
      "best_accuracy          :           0.43 %\n",
      "best_filtered_accuracy :           8.33 %\n",
      "total race_num         :            232\n",
      "filterd_race_num       :             12\n",
      "bought_num             :             12\n",
      "---------------------\n",
      "04\n",
      "odds_alpha             :              4\n",
      "best_prf               :        4130.00 円\n",
      "best_mean_prf          :          14.00 円\n",
      "best_recovery_rate     :         117.80 %\n",
      "best_accuracy          :           7.76 %\n",
      "best_filtered_accuracy :           6.10 %\n",
      "total race_num         :            232\n",
      "filterd_race_num       :            295\n",
      "bought_num             :            295\n",
      "---------------------\n",
      "05\n",
      "odds_alpha             :             16\n",
      "best_prf               :           0.00 円\n",
      "best_mean_prf          :           0.00 円\n",
      "best_recovery_rate     :         100.00 %\n",
      "best_accuracy          :           0.00 %\n",
      "best_filtered_accuracy :           0.00 %\n",
      "total race_num         :            230\n",
      "filterd_race_num       :             15\n",
      "bought_num             :             15\n",
      "---------------------\n",
      "06\n",
      "odds_alpha             :             10\n",
      "best_prf               :        3650.00 円\n",
      "best_mean_prf          :          47.40 円\n",
      "best_recovery_rate     :         115.87 %\n",
      "best_accuracy          :           1.30 %\n",
      "best_filtered_accuracy :           3.90 %\n",
      "total race_num         :            230\n",
      "filterd_race_num       :             77\n",
      "bought_num             :             77\n",
      "---------------------\n",
      "07\n",
      "odds_alpha             :             20\n",
      "best_prf               :       -1500.00 円\n",
      "best_mean_prf          :         -46.88 円\n",
      "best_recovery_rate     :          93.48 %\n",
      "best_accuracy          :           0.00 %\n",
      "best_filtered_accuracy :           0.00 %\n",
      "total race_num         :            230\n",
      "filterd_race_num       :             32\n",
      "bought_num             :             32\n",
      "---------------------\n",
      "08\n",
      "odds_alpha             :             20\n",
      "best_prf               :        -600.00 円\n",
      "best_mean_prf          :         -20.69 円\n",
      "best_recovery_rate     :          97.40 %\n",
      "best_accuracy          :           0.00 %\n",
      "best_filtered_accuracy :           0.00 %\n",
      "total race_num         :            231\n",
      "filterd_race_num       :             29\n",
      "bought_num             :             29\n",
      "---------------------\n",
      "09\n",
      "odds_alpha             :             20\n",
      "best_prf               :        -800.00 円\n",
      "best_mean_prf          :         -32.00 円\n",
      "best_recovery_rate     :          96.54 %\n",
      "best_accuracy          :           0.00 %\n",
      "best_filtered_accuracy :           0.00 %\n",
      "total race_num         :            231\n",
      "filterd_race_num       :             25\n",
      "bought_num             :             25\n",
      "---------------------\n",
      "10\n",
      "odds_alpha             :              8\n",
      "best_prf               :        1170.00 円\n",
      "best_mean_prf          :           6.57 円\n",
      "best_recovery_rate     :         105.06 %\n",
      "best_accuracy          :           1.30 %\n",
      "best_filtered_accuracy :           1.69 %\n",
      "total race_num         :            231\n",
      "filterd_race_num       :            178\n",
      "bought_num             :            178\n",
      "---------------------\n",
      "11\n",
      "odds_alpha             :             12\n",
      "best_prf               :       38170.00 円\n",
      "best_mean_prf          :         350.18 円\n",
      "best_recovery_rate     :         265.24 %\n",
      "best_accuracy          :           1.30 %\n",
      "best_filtered_accuracy :           2.75 %\n",
      "total race_num         :            231\n",
      "filterd_race_num       :            109\n",
      "bought_num             :            109\n",
      "---------------------\n",
      "12\n",
      "odds_alpha             :              9\n",
      "best_prf               :        -820.00 円\n",
      "best_mean_prf          :          -8.45 円\n",
      "best_recovery_rate     :          96.45 %\n",
      "best_accuracy          :           0.43 %\n",
      "best_filtered_accuracy :           1.03 %\n",
      "total race_num         :            231\n",
      "filterd_race_num       :             97\n",
      "bought_num             :             97\n"
     ]
    }
   ],
   "source": [
    "\n",
    "funcs.show_best_kaime(result_df,'wide_box')"
   ]
  },
  {
   "cell_type": "code",
   "execution_count": 163,
   "id": "61a72404",
   "metadata": {},
   "outputs": [
    {
     "name": "stdout",
     "output_type": "stream",
     "text": [
      "---------------------\n",
      "01\n",
      "odds_alpha             :              3\n",
      "best_prf               :        7260.00 円\n",
      "best_mean_prf          :          50.42 円\n",
      "best_recovery_rate     :         131.43 %\n",
      "best_accuracy          :           3.90 %\n",
      "best_filtered_accuracy :           6.25 %\n",
      "total race_num         :            231\n",
      "filterd_race_num       :            144\n",
      "bought_num             :              0\n",
      "---------------------\n",
      "02\n",
      "odds_alpha             :             20\n",
      "best_prf               :       -1800.00 円\n",
      "best_mean_prf          :        -100.00 円\n",
      "best_recovery_rate     :          92.24 %\n",
      "best_accuracy          :           0.00 %\n",
      "best_filtered_accuracy :           0.00 %\n",
      "total race_num         :            232\n",
      "filterd_race_num       :             18\n",
      "bought_num             :              0\n",
      "---------------------\n",
      "03\n",
      "odds_alpha             :             19\n",
      "best_prf               :       -2100.00 円\n",
      "best_mean_prf          :        -100.00 円\n",
      "best_recovery_rate     :          90.95 %\n",
      "best_accuracy          :           0.00 %\n",
      "best_filtered_accuracy :           0.00 %\n",
      "total race_num         :            232\n",
      "filterd_race_num       :             21\n",
      "bought_num             :              0\n",
      "---------------------\n",
      "04\n",
      "odds_alpha             :             12\n",
      "best_prf               :        -330.00 円\n",
      "best_mean_prf          :          -8.92 円\n",
      "best_recovery_rate     :          98.58 %\n",
      "best_accuracy          :           0.43 %\n",
      "best_filtered_accuracy :           2.70 %\n",
      "total race_num         :            232\n",
      "filterd_race_num       :             37\n",
      "bought_num             :              0\n",
      "---------------------\n",
      "05\n",
      "odds_alpha             :              6\n",
      "best_prf               :        -110.00 円\n",
      "best_mean_prf          :          -1.49 円\n",
      "best_recovery_rate     :          99.52 %\n",
      "best_accuracy          :           0.87 %\n",
      "best_filtered_accuracy :           2.70 %\n",
      "total race_num         :            230\n",
      "filterd_race_num       :             74\n",
      "bought_num             :              0\n",
      "---------------------\n",
      "06\n",
      "odds_alpha             :              7\n",
      "best_prf               :        6230.00 円\n",
      "best_mean_prf          :          86.53 円\n",
      "best_recovery_rate     :         127.09 %\n",
      "best_accuracy          :           1.30 %\n",
      "best_filtered_accuracy :           4.17 %\n",
      "total race_num         :            230\n",
      "filterd_race_num       :             72\n",
      "bought_num             :              0\n",
      "---------------------\n",
      "07\n",
      "odds_alpha             :             20\n",
      "best_prf               :       -3900.00 円\n",
      "best_mean_prf          :        -100.00 円\n",
      "best_recovery_rate     :          83.04 %\n",
      "best_accuracy          :           0.00 %\n",
      "best_filtered_accuracy :           0.00 %\n",
      "total race_num         :            230\n",
      "filterd_race_num       :             39\n",
      "bought_num             :              0\n",
      "---------------------\n",
      "08\n",
      "odds_alpha             :              6\n",
      "best_prf               :        3360.00 円\n",
      "best_mean_prf          :          32.00 円\n",
      "best_recovery_rate     :         114.55 %\n",
      "best_accuracy          :           0.87 %\n",
      "best_filtered_accuracy :           1.90 %\n",
      "total race_num         :            231\n",
      "filterd_race_num       :            105\n",
      "bought_num             :              0\n",
      "---------------------\n",
      "09\n",
      "odds_alpha             :              2\n",
      "best_prf               :       -1170.00 円\n",
      "best_mean_prf          :          -5.74 円\n",
      "best_recovery_rate     :          94.94 %\n",
      "best_accuracy          :           3.03 %\n",
      "best_filtered_accuracy :           3.43 %\n",
      "total race_num         :            231\n",
      "filterd_race_num       :            204\n",
      "bought_num             :              0\n",
      "---------------------\n",
      "10\n",
      "odds_alpha             :             20\n",
      "best_prf               :       -3900.00 円\n",
      "best_mean_prf          :        -100.00 円\n",
      "best_recovery_rate     :          83.12 %\n",
      "best_accuracy          :           0.00 %\n",
      "best_filtered_accuracy :           0.00 %\n",
      "total race_num         :            231\n",
      "filterd_race_num       :             39\n",
      "bought_num             :              0\n",
      "---------------------\n",
      "11\n",
      "odds_alpha             :             11\n",
      "best_prf               :       -2220.00 円\n",
      "best_mean_prf          :         -36.39 円\n",
      "best_recovery_rate     :          90.39 %\n",
      "best_accuracy          :           0.43 %\n",
      "best_filtered_accuracy :           1.64 %\n",
      "total race_num         :            231\n",
      "filterd_race_num       :             61\n",
      "bought_num             :              0\n",
      "---------------------\n",
      "12\n",
      "odds_alpha             :             18\n",
      "best_prf               :       21140.00 円\n",
      "best_mean_prf          :         542.05 円\n",
      "best_recovery_rate     :         191.52 %\n",
      "best_accuracy          :           0.43 %\n",
      "best_filtered_accuracy :           2.56 %\n",
      "total race_num         :            231\n",
      "filterd_race_num       :             39\n",
      "bought_num             :              0\n"
     ]
    }
   ],
   "source": [
    "\n",
    "funcs.show_best_kaime(result_df,'umatan')\n"
   ]
  },
  {
   "cell_type": "code",
   "execution_count": 164,
   "id": "9745f04b",
   "metadata": {},
   "outputs": [
    {
     "name": "stdout",
     "output_type": "stream",
     "text": [
      "---------------------\n",
      "01\n",
      "odds_alpha             :             20\n",
      "best_prf               :       -1300.00 円\n",
      "best_mean_prf          :        -100.00 円\n",
      "best_recovery_rate     :          94.37 %\n",
      "best_accuracy          :           0.00 %\n",
      "best_filtered_accuracy :           0.00 %\n",
      "total race_num         :            231\n",
      "filterd_race_num       :             13\n",
      "bought_num             :              0\n",
      "---------------------\n",
      "02\n",
      "odds_alpha             :             20\n",
      "best_prf               :       -1800.00 円\n",
      "best_mean_prf          :        -100.00 円\n",
      "best_recovery_rate     :          92.24 %\n",
      "best_accuracy          :           0.00 %\n",
      "best_filtered_accuracy :           0.00 %\n",
      "total race_num         :            232\n",
      "filterd_race_num       :             18\n",
      "bought_num             :              0\n",
      "---------------------\n",
      "03\n",
      "odds_alpha             :             19\n",
      "best_prf               :       -2100.00 円\n",
      "best_mean_prf          :        -100.00 円\n",
      "best_recovery_rate     :          90.95 %\n",
      "best_accuracy          :           0.00 %\n",
      "best_filtered_accuracy :           0.00 %\n",
      "total race_num         :            232\n",
      "filterd_race_num       :             21\n",
      "bought_num             :              0\n",
      "---------------------\n",
      "04\n",
      "odds_alpha             :             20\n",
      "best_prf               :       -1600.00 円\n",
      "best_mean_prf          :        -100.00 円\n",
      "best_recovery_rate     :          93.10 %\n",
      "best_accuracy          :           0.00 %\n",
      "best_filtered_accuracy :           0.00 %\n",
      "total race_num         :            232\n",
      "filterd_race_num       :             16\n",
      "bought_num             :              0\n",
      "---------------------\n",
      "05\n",
      "odds_alpha             :              6\n",
      "best_prf               :       22220.00 円\n",
      "best_mean_prf          :         300.27 円\n",
      "best_recovery_rate     :         196.61 %\n",
      "best_accuracy          :           0.43 %\n",
      "best_filtered_accuracy :           1.35 %\n",
      "total race_num         :            230\n",
      "filterd_race_num       :             74\n",
      "bought_num             :              0\n",
      "---------------------\n",
      "06\n",
      "odds_alpha             :             20\n",
      "best_prf               :       -2000.00 円\n",
      "best_mean_prf          :        -100.00 円\n",
      "best_recovery_rate     :          91.30 %\n",
      "best_accuracy          :           0.00 %\n",
      "best_filtered_accuracy :           0.00 %\n",
      "total race_num         :            230\n",
      "filterd_race_num       :             20\n",
      "bought_num             :              0\n",
      "---------------------\n",
      "07\n",
      "odds_alpha             :             20\n",
      "best_prf               :       -3900.00 円\n",
      "best_mean_prf          :        -100.00 円\n",
      "best_recovery_rate     :          83.04 %\n",
      "best_accuracy          :           0.00 %\n",
      "best_filtered_accuracy :           0.00 %\n",
      "total race_num         :            230\n",
      "filterd_race_num       :             39\n",
      "bought_num             :              0\n",
      "---------------------\n",
      "08\n",
      "odds_alpha             :             20\n",
      "best_prf               :       -3900.00 円\n",
      "best_mean_prf          :        -100.00 円\n",
      "best_recovery_rate     :          83.12 %\n",
      "best_accuracy          :           0.00 %\n",
      "best_filtered_accuracy :           0.00 %\n",
      "total race_num         :            231\n",
      "filterd_race_num       :             39\n",
      "bought_num             :              0\n",
      "---------------------\n",
      "09\n",
      "odds_alpha             :              4\n",
      "best_prf               :       33370.00 円\n",
      "best_mean_prf          :         236.67 円\n",
      "best_recovery_rate     :         244.46 %\n",
      "best_accuracy          :           0.43 %\n",
      "best_filtered_accuracy :           0.71 %\n",
      "total race_num         :            231\n",
      "filterd_race_num       :            141\n",
      "bought_num             :              0\n",
      "---------------------\n",
      "10\n",
      "odds_alpha             :             20\n",
      "best_prf               :       -3900.00 円\n",
      "best_mean_prf          :        -100.00 円\n",
      "best_recovery_rate     :          83.12 %\n",
      "best_accuracy          :           0.00 %\n",
      "best_filtered_accuracy :           0.00 %\n",
      "total race_num         :            231\n",
      "filterd_race_num       :             39\n",
      "bought_num             :              0\n",
      "---------------------\n",
      "11\n",
      "odds_alpha             :             20\n",
      "best_prf               :       -3100.00 円\n",
      "best_mean_prf          :        -100.00 円\n",
      "best_recovery_rate     :          86.58 %\n",
      "best_accuracy          :           0.00 %\n",
      "best_filtered_accuracy :           0.00 %\n",
      "total race_num         :            231\n",
      "filterd_race_num       :             31\n",
      "bought_num             :              0\n",
      "---------------------\n",
      "12\n",
      "odds_alpha             :             20\n",
      "best_prf               :       -3400.00 円\n",
      "best_mean_prf          :        -100.00 円\n",
      "best_recovery_rate     :          85.28 %\n",
      "best_accuracy          :           0.00 %\n",
      "best_filtered_accuracy :           0.00 %\n",
      "total race_num         :            231\n",
      "filterd_race_num       :             34\n",
      "bought_num             :              0\n"
     ]
    }
   ],
   "source": [
    "\n",
    "funcs.show_best_kaime(result_df,'sanrentan')\n"
   ]
  },
  {
   "cell_type": "code",
   "execution_count": 165,
   "id": "8129a1bb",
   "metadata": {},
   "outputs": [
    {
     "name": "stdout",
     "output_type": "stream",
     "text": [
      "---------------------\n",
      "01\n",
      "odds_alpha             :             16\n",
      "best_prf               :           0.00 円\n",
      "best_mean_prf          :          -1.00 円\n",
      "best_recovery_rate     :         100.00 %\n",
      "best_accuracy          :           0.00 %\n",
      "best_filtered_accuracy :        -100.00 %\n",
      "total race_num         :            231\n",
      "filterd_race_num       :              0\n",
      "bought_num             :              0\n",
      "---------------------\n",
      "02\n",
      "odds_alpha             :              5\n",
      "best_prf               :        4000.00 円\n",
      "best_mean_prf          :         142.86 円\n",
      "best_recovery_rate     :         117.24 %\n",
      "best_accuracy          :           0.43 %\n",
      "best_filtered_accuracy :           3.57 %\n",
      "total race_num         :            232\n",
      "filterd_race_num       :             28\n",
      "bought_num             :              0\n",
      "---------------------\n",
      "03\n",
      "odds_alpha             :              2\n",
      "best_prf               :        4520.00 円\n",
      "best_mean_prf          :          25.54 円\n",
      "best_recovery_rate     :         119.48 %\n",
      "best_accuracy          :           4.31 %\n",
      "best_filtered_accuracy :           5.65 %\n",
      "total race_num         :            232\n",
      "filterd_race_num       :            177\n",
      "bought_num             :              0\n",
      "---------------------\n",
      "04\n",
      "odds_alpha             :              4\n",
      "best_prf               :       12230.00 円\n",
      "best_mean_prf          :         214.56 円\n",
      "best_recovery_rate     :         152.72 %\n",
      "best_accuracy          :           0.43 %\n",
      "best_filtered_accuracy :           1.75 %\n",
      "total race_num         :            232\n",
      "filterd_race_num       :             57\n",
      "bought_num             :              0\n",
      "---------------------\n",
      "05\n",
      "odds_alpha             :              4\n",
      "best_prf               :        2510.00 円\n",
      "best_mean_prf          :          51.22 円\n",
      "best_recovery_rate     :         110.91 %\n",
      "best_accuracy          :           0.87 %\n",
      "best_filtered_accuracy :           4.08 %\n",
      "total race_num         :            230\n",
      "filterd_race_num       :             49\n",
      "bought_num             :              0\n",
      "---------------------\n",
      "06\n",
      "odds_alpha             :             19\n",
      "best_prf               :        -300.00 円\n",
      "best_mean_prf          :        -100.00 円\n",
      "best_recovery_rate     :          98.70 %\n",
      "best_accuracy          :           0.00 %\n",
      "best_filtered_accuracy :           0.00 %\n",
      "total race_num         :            230\n",
      "filterd_race_num       :              3\n",
      "bought_num             :              0\n",
      "---------------------\n",
      "07\n",
      "odds_alpha             :             14\n",
      "best_prf               :        -200.00 円\n",
      "best_mean_prf          :        -100.00 円\n",
      "best_recovery_rate     :          99.13 %\n",
      "best_accuracy          :           0.00 %\n",
      "best_filtered_accuracy :           0.00 %\n",
      "total race_num         :            230\n",
      "filterd_race_num       :              2\n",
      "bought_num             :              0\n",
      "---------------------\n",
      "08\n",
      "odds_alpha             :             20\n",
      "best_prf               :           0.00 円\n",
      "best_mean_prf          :          -1.00 円\n",
      "best_recovery_rate     :         100.00 %\n",
      "best_accuracy          :           0.00 %\n",
      "best_filtered_accuracy :        -100.00 %\n",
      "total race_num         :            231\n",
      "filterd_race_num       :              0\n",
      "bought_num             :              0\n",
      "---------------------\n",
      "09\n",
      "odds_alpha             :              4\n",
      "best_prf               :        5570.00 円\n",
      "best_mean_prf          :          76.30 円\n",
      "best_recovery_rate     :         124.11 %\n",
      "best_accuracy          :           0.87 %\n",
      "best_filtered_accuracy :           2.74 %\n",
      "total race_num         :            231\n",
      "filterd_race_num       :             73\n",
      "bought_num             :              0\n",
      "---------------------\n",
      "10\n",
      "odds_alpha             :             19\n",
      "best_prf               :        -400.00 円\n",
      "best_mean_prf          :        -100.00 円\n",
      "best_recovery_rate     :          98.27 %\n",
      "best_accuracy          :           0.00 %\n",
      "best_filtered_accuracy :           0.00 %\n",
      "total race_num         :            231\n",
      "filterd_race_num       :              4\n",
      "bought_num             :              0\n",
      "---------------------\n",
      "11\n",
      "odds_alpha             :             20\n",
      "best_prf               :        -100.00 円\n",
      "best_mean_prf          :        -100.00 円\n",
      "best_recovery_rate     :          99.57 %\n",
      "best_accuracy          :           0.00 %\n",
      "best_filtered_accuracy :           0.00 %\n",
      "total race_num         :            231\n",
      "filterd_race_num       :              1\n",
      "bought_num             :              0\n",
      "---------------------\n",
      "12\n",
      "odds_alpha             :             17\n",
      "best_prf               :        -200.00 円\n",
      "best_mean_prf          :        -100.00 円\n",
      "best_recovery_rate     :          99.13 %\n",
      "best_accuracy          :           0.00 %\n",
      "best_filtered_accuracy :           0.00 %\n",
      "total race_num         :            231\n",
      "filterd_race_num       :              2\n",
      "bought_num             :              0\n"
     ]
    }
   ],
   "source": [
    "\n",
    "\n",
    "funcs.show_best_kaime(result_df,'sanrenpuku')\n"
   ]
  },
  {
   "attachments": {},
   "cell_type": "markdown",
   "id": "ff135d8f-2a18-4583-8747-68c2938e6b79",
   "metadata": {},
   "source": [
    "# race 前日準備"
   ]
  },
  {
   "cell_type": "code",
   "execution_count": null,
   "id": "f126e894",
   "metadata": {},
   "outputs": [],
   "source": [
    "# race_id を取得\n",
    "race_id_list = prepare.scrape_race_id_list(['20230305']) # <= yyyymmdd で開催されるレースの日付を入力\n",
    "\n",
    "#出走するhorse_idの取得\n",
    "horse_id_list = prepare.scrape_horse_id_list(race_id_list)\n",
    "\n"
   ]
  },
  {
   "cell_type": "code",
   "execution_count": 113,
   "id": "d348f198",
   "metadata": {},
   "outputs": [
    {
     "data": {
      "application/vnd.jupyter.widget-view+json": {
       "model_id": "3fc31cf5d30040aca9b9b51f61738fb6",
       "version_major": 2,
       "version_minor": 0
      },
      "text/plain": [
       "HBox(children=(FloatProgress(value=0.0, max=24.0), HTML(value='')))"
      ]
     },
     "metadata": {},
     "output_type": "display_data"
    },
    {
     "name": "stdout",
     "output_type": "stream",
     "text": [
      "\n"
     ]
    }
   ],
   "source": [
    "# race_results データ収集\n",
    "new_race_results = prepare.scrape_race_results(race_id_list)\n",
    "# データ更新\n",
    "race__results = pd.read_csv(LocalPaths.RESULTS_PATH,index_col=0)\n",
    "update_race_results = funcs.update_data(race_results,new_race_results)\n",
    "update_race_results.to_csv(LocalPaths.RESULTS_PATH)"
   ]
  },
  {
   "cell_type": "code",
   "execution_count": 114,
   "id": "7704dd16",
   "metadata": {},
   "outputs": [
    {
     "data": {
      "application/vnd.jupyter.widget-view+json": {
       "model_id": "e6c168ad24c64a8e977ca775a80f6011",
       "version_major": 2,
       "version_minor": 0
      },
      "text/plain": [
       "HBox(children=(FloatProgress(value=0.0, max=335.0), HTML(value='')))"
      ]
     },
     "metadata": {},
     "output_type": "display_data"
    },
    {
     "name": "stdout",
     "output_type": "stream",
     "text": [
      "\n"
     ]
    }
   ],
   "source": [
    "# horse_results データ収集\n",
    "new_horse_results = prepare.scrape_horse_results(horse_id_list)\n",
    "# データ更新\n",
    "horse_results = pd.read_csv(LocalPaths.HORSE_RESULTS_PATH,index_col=0)\n",
    "update_horse_results = funcs.update_data(horse_results,new_horse_results)\n",
    "update_horse_results.to_csv(LocalPaths.HORSE_RESULTS_PATH)"
   ]
  },
  {
   "cell_type": "code",
   "execution_count": null,
   "id": "6bcdc401",
   "metadata": {},
   "outputs": [],
   "source": [
    "# peds データ収集\n",
    "new_peds = prepare.scrape_peds(horse_id_list)\n",
    "# データ更新\n",
    "peds = pd.read_csv(LocalPaths.PEDS_PATH,index_col=0)\n",
    "update_peds = funcs.update_data(peds,new_peds)\n",
    "update_peds.to_csv(LocalPaths.PEDS_PATH)"
   ]
  },
  {
   "cell_type": "code",
   "execution_count": null,
   "id": "ddec9f59",
   "metadata": {},
   "outputs": [],
   "source": [
    "# データ更新\n",
    "race_results = pd.read_csv(LocalPaths.RESULTS_PATH,index_col=0)\n",
    "horse_results = pd.read_csv(LocalPaths.HORSE_RESULTS_PATH,index_col=0)\n",
    "peds = pd.read_csv(LocalPaths.PEDS_PATH,index_col=0)\n",
    "peds.fillna('nan',inplace=True) # 何回やってもロードすると, nanが出る\n",
    "return_tables = pd.read_csv(LocalPaths.RETURN_PATH,index_col=0)\n",
    "return_tables.rename(columns={'0':0,'1':1,'2':2,'3':3},inplace=True)# 毎回読み込むごとに, strに変換されてしまう"
   ]
  },
  {
   "cell_type": "code",
   "execution_count": null,
   "id": "15f708fa",
   "metadata": {},
   "outputs": [
    {
     "data": {
      "application/vnd.jupyter.widget-view+json": {
       "model_id": "8010e8c0c83f41e5a8e1cb28b0416bd3",
       "version_major": 2,
       "version_minor": 0
      },
      "text/plain": [
       "HBox(children=(FloatProgress(value=0.0, max=20388.0), HTML(value='')))"
      ]
     },
     "metadata": {},
     "output_type": "display_data"
    },
    {
     "name": "stdout",
     "output_type": "stream",
     "text": [
      "\n",
      "finish regularize\n"
     ]
    },
    {
     "data": {
      "application/vnd.jupyter.widget-view+json": {
       "model_id": "66f98bb7b75640aaa861f741c4bc53e3",
       "version_major": 2,
       "version_minor": 0
      },
      "text/plain": [
       "HBox(children=(FloatProgress(value=0.0, max=291.0), HTML(value='')))"
      ]
     },
     "metadata": {},
     "output_type": "display_data"
    },
    {
     "name": "stdout",
     "output_type": "stream",
     "text": [
      "\n"
     ]
    },
    {
     "data": {
      "application/vnd.jupyter.widget-view+json": {
       "model_id": "0ff3ee0c434a4ca98fc6d9dce7aba0cb",
       "version_major": 2,
       "version_minor": 0
      },
      "text/plain": [
       "HBox(children=(FloatProgress(value=0.0, max=291.0), HTML(value='')))"
      ]
     },
     "metadata": {},
     "output_type": "display_data"
    },
    {
     "name": "stdout",
     "output_type": "stream",
     "text": [
      "\n"
     ]
    },
    {
     "data": {
      "application/vnd.jupyter.widget-view+json": {
       "model_id": "6a9313f955974f0b99d4e1ddf4356841",
       "version_major": 2,
       "version_minor": 0
      },
      "text/plain": [
       "HBox(children=(FloatProgress(value=0.0, max=291.0), HTML(value='')))"
      ]
     },
     "metadata": {},
     "output_type": "display_data"
    },
    {
     "name": "stdout",
     "output_type": "stream",
     "text": [
      "\n",
      "--finish categorize id--\n",
      "--finish categorize peds--\n",
      "--finish dumminize--\n"
     ]
    }
   ],
   "source": [
    "# -------前処理\n",
    "race_results_processor = preprocess.RaceResults(race_results)\n",
    "horse_results_processor = preprocess.HorseResults(horse_results)\n",
    "peds_processor = preprocess.Peds(peds) # <= 結構時間かかる\n",
    "\n",
    "race_results_processor.preprocessing()\n",
    "horse_results_processor.preprocessing()\n",
    "peds_processor.preprocessing()\n",
    "\n",
    "# -------データマージ\n",
    "data_merger = preprocess.DataMerger(\n",
    "    race_results_processor,\n",
    "    horse_results_processor,\n",
    "    peds_processor\n",
    ")\n",
    "data_merger.merge()\n",
    "\n",
    "# -------訓練データ作成\n",
    "make_train_data = preprocess.MakeTrainData(data_merger)\n",
    "make_train_data.categorize_id()\n",
    "make_train_data.categorize_peds()\n",
    "make_train_data.dumminize() \n",
    "make_train_data.add_date_cosin()\n",
    "processed_df = make_train_data.get_processed_df()\n"
   ]
  },
  {
   "cell_type": "markdown",
   "id": "4e9f7946",
   "metadata": {},
   "source": [
    "# AI 作成"
   ]
  },
  {
   "cell_type": "code",
   "execution_count": null,
   "id": "e292241f",
   "metadata": {},
   "outputs": [
    {
     "data": {
      "text/plain": [
       "202306010111    10\n",
       "202306010111     5\n",
       "202306010111     3\n",
       "202306010111     0\n",
       "202306010111     0\n",
       "Name: rank, dtype: int64"
      ]
     },
     "execution_count": 17,
     "metadata": {},
     "output_type": "execute_result"
    }
   ],
   "source": [
    "processed_df = make_train_data.get_processed_df()\n",
    "processed_df['rank'].head()"
   ]
  },
  {
   "cell_type": "code",
   "execution_count": null,
   "id": "aee7b172",
   "metadata": {},
   "outputs": [],
   "source": [
    "processed_df = make_train_data.get_processed_df()\n",
    "processed_df = funcs.change_answer_label(processed_df,label_type='bias_top3')\n",
    "# 新馬のカテゴリ変数も学習に使いたいので, 訓練データを100%使う\n",
    "x_train,y_train,_,_ = funcs.make_data(processed_df,test_size=0)\n",
    "\n",
    "train_query = x_train.groupby(x_train.index).size()\n",
    "params = {}\n",
    "params['feature_pre_filter'] = False # <= これしないと, lambda_l1/min_data_in_leaf の学習できない\n",
    "train_set = lgb.Dataset(x_train, y_train, group=train_query,params=params)\n",
    "\n",
    "lgbm_params = {\n",
    "        'metric': 'ndcg',          # 評価指標  \n",
    "        'objective': 'lambdarank', # ランク学習\n",
    "        'ndcg_eval_at': [1,2,3],   # 上位3着を考慮\n",
    "        'boosting_type': 'gbdt',   # gradient based dicision tree\n",
    "        'random_state': 777,       # 乱数 seed 固定\n",
    "        'force_col_wise':True,     # cpu だとメモリ効率が良くなるらしい\n",
    "        'verbosity':-1             # マイナスで, 非表示\n",
    "            }\n",
    "\n",
    "# ------------注意事項------------\n",
    "#  valid_set 入れていると, 1本目の木作成時に過学習扱いされて, そこで学習停止してしまうので注意\n",
    "#  valid_set は grid search の時だけでいい?\n",
    "\n",
    "lgb_rank = lgb.train(\n",
    "    # lgbm_params,\n",
    "    best_params, # <= 最適 params をセット\n",
    "    train,\n",
    "    )"
   ]
  },
  {
   "cell_type": "code",
   "execution_count": null,
   "id": "3dcb7c9f",
   "metadata": {},
   "outputs": [
    {
     "name": "stdout",
     "output_type": "stream",
     "text": [
      "                           features  importances\n",
      "4                          horse_id         2106\n",
      "7                          owner_id          293\n",
      "6                        trainer_id          179\n",
      "5                         jockey_id          126\n",
      "13                            賞金_5R           35\n",
      "27                  賞金_race_type_5R           25\n",
      "34                         賞金_開催_5R           16\n",
      "12                            着順_5R           13\n",
      "20                 賞金_course_len_5R           11\n",
      "9                                体重            9\n",
      "10                             体重変化            8\n",
      "90                       賞金_開催_allR            8\n",
      "14                            着差_5R            8\n",
      "41                            賞金_9R            7\n",
      "19                 着順_course_len_5R            7\n",
      "26                  着順_race_type_5R            7\n",
      "54                  着順_race_type_9R            7\n",
      "82                着順_race_type_allR            6\n",
      "28                  着差_race_type_5R            6\n",
      "35                         着差_開催_5R            5\n",
      "24     first_to_final_course_len_5R            5\n",
      "75               着順_course_len_allR            5\n",
      "33                         着順_開催_5R            5\n",
      "55                  賞金_race_type_9R            4\n",
      "0                                枠番            4\n",
      "66             first_to_final_開催_9R            3\n",
      "68                          着順_allR            3\n",
      "49                 着差_course_len_9R            3\n",
      "1                                馬番            3\n",
      "80   first_to_final_course_len_allR            3\n",
      "43                  first_corner_9R            3\n",
      "84                着差_race_type_allR            3\n",
      "40                            着順_9R            3\n",
      "69                          賞金_allR            3\n",
      "32       final_to_rank_race_type_5R            2\n",
      "17                first_to_final_5R            2\n",
      "76               賞金_course_len_allR            2\n",
      "52     first_to_final_course_len_9R            2\n",
      "2                                斤量            2\n",
      "50       first_corner_course_len_9R            2\n",
      "94           first_to_final_開催_allR            2\n",
      "47                 着順_course_len_9R            2\n",
      "70                          着差_allR            2\n",
      "56                  着差_race_type_9R            2\n",
      "89                       着順_開催_allR            2\n",
      "15                  first_corner_5R            2\n",
      "39              final_to_rank_開催_5R            2\n",
      "61                         着順_開催_9R            2\n",
      "87    first_to_final_race_type_allR            2\n",
      "71                first_corner_allR            2\n",
      "63                         着差_開催_9R            2\n",
      "169                  ground_state_重            1\n",
      "135                         peds_39            1\n",
      "74               final_to_rank_allR            1\n",
      "168                 ground_state_稍重            1\n",
      "91                       着差_開催_allR            1\n",
      "124                         peds_28            1\n",
      "77               着差_course_len_allR            1\n",
      "78     first_corner_course_len_allR            1\n",
      "81    final_to_rank_course_len_allR            1\n"
     ]
    }
   ],
   "source": [
    "funcs.plot_importances(lgb_rank, x_train,n_display=60)"
   ]
  },
  {
   "attachments": {},
   "cell_type": "markdown",
   "id": "8047138a",
   "metadata": {},
   "source": [
    "# 当日予測 (特徴量に 体重データ使ってない場合)"
   ]
  },
  {
   "cell_type": "code",
   "execution_count": 166,
   "id": "9bd28019",
   "metadata": {},
   "outputs": [
    {
     "name": "stdout",
     "output_type": "stream",
     "text": [
      "\n",
      "\n"
     ]
    },
    {
     "name": "stderr",
     "output_type": "stream",
     "text": [
      "[WDM] - ====== WebDriver manager ======\n",
      "[WDM] - Current google-chrome version is 110.0.5481\n",
      "[WDM] - Get LATEST driver version for 110.0.5481\n",
      "[WDM] - Driver [/Users/rince/.wdm/drivers/chromedriver/mac64/110.0.5481.77/chromedriver] found in cache\n"
     ]
    },
    {
     "name": "stdout",
     "output_type": "stream",
     "text": [
      "getting race_id_list\n",
      "scraping: https://race.netkeiba.com/top/race_list.html?kaisai_date=20230305\n"
     ]
    }
   ],
   "source": [
    "target_race_id_list, target_race_time_list = prepare.scrape_race_id_race_time_list('20230305')"
   ]
  },
  {
   "cell_type": "code",
   "execution_count": 168,
   "id": "96deb879",
   "metadata": {},
   "outputs": [],
   "source": [
    "%autoreload"
   ]
  },
  {
   "cell_type": "code",
   "execution_count": 178,
   "id": "6cf50aea",
   "metadata": {},
   "outputs": [
    {
     "name": "stdout",
     "output_type": "stream",
     "text": [
      "\n",
      "\n"
     ]
    },
    {
     "name": "stderr",
     "output_type": "stream",
     "text": [
      "[WDM] - ====== WebDriver manager ======\n",
      "[WDM] - Current google-chrome version is 110.0.5481\n",
      "[WDM] - Get LATEST driver version for 110.0.5481\n",
      "[WDM] - Driver [/Users/rince/.wdm/drivers/chromedriver/mac64/110.0.5481.77/chromedriver] found in cache\n"
     ]
    },
    {
     "data": {
      "application/vnd.jupyter.widget-view+json": {
       "model_id": "5cffb3282a4743afbef9425a0ea6917f",
       "version_major": 2,
       "version_minor": 0
      },
      "text/plain": [
       "HBox(children=(FloatProgress(value=0.0, max=1.0), HTML(value='')))"
      ]
     },
     "metadata": {},
     "output_type": "display_data"
    },
    {
     "name": "stdout",
     "output_type": "stream",
     "text": [
      "\n"
     ]
    },
    {
     "data": {
      "application/vnd.jupyter.widget-view+json": {
       "model_id": "78ee03e74c5144db854cfd6519734a08",
       "version_major": 2,
       "version_minor": 0
      },
      "text/plain": [
       "HBox(children=(FloatProgress(value=0.0, max=1.0), HTML(value='')))"
      ]
     },
     "metadata": {},
     "output_type": "display_data"
    },
    {
     "name": "stdout",
     "output_type": "stream",
     "text": [
      "\n"
     ]
    },
    {
     "data": {
      "application/vnd.jupyter.widget-view+json": {
       "model_id": "6152e3e68ee34f7d8b2b14367bd21d50",
       "version_major": 2,
       "version_minor": 0
      },
      "text/plain": [
       "HBox(children=(FloatProgress(value=0.0, max=1.0), HTML(value='')))"
      ]
     },
     "metadata": {},
     "output_type": "display_data"
    },
    {
     "name": "stdout",
     "output_type": "stream",
     "text": [
      "\n",
      "--finish categorize id--\n",
      "--finish categorize peds--\n",
      "--finish dumminize--\n",
      "--finish add cosin--\n",
      "中山01R 10:05発走 \n",
      "              馬番    scores\n",
      "202306020401  16 -0.754086\n",
      "202306020401  15 -0.861880\n",
      "202306020401   3 -1.329538\n",
      "202306020401  12 -1.565889\n",
      "202306020401   8 -1.749815\n",
      "202306020401   5 -1.803284\n",
      "202306020401   2 -2.306572\n",
      "202306020401   6 -2.950677\n",
      "202306020401  13 -3.553234\n",
      "202306020401  14 -3.613767\n",
      "202306020401   1 -3.666560\n",
      "202306020401  10 -3.878418\n",
      "202306020401   7 -4.034802\n",
      "202306020401   9 -4.154068\n",
      "202306020401   4 -4.243221\n",
      "202306020401  11 -4.424635\n",
      "\n",
      "\n"
     ]
    },
    {
     "name": "stderr",
     "output_type": "stream",
     "text": [
      "[WDM] - ====== WebDriver manager ======\n",
      "[WDM] - Current google-chrome version is 110.0.5481\n",
      "[WDM] - Get LATEST driver version for 110.0.5481\n",
      "[WDM] - Driver [/Users/rince/.wdm/drivers/chromedriver/mac64/110.0.5481.77/chromedriver] found in cache\n"
     ]
    },
    {
     "data": {
      "application/vnd.jupyter.widget-view+json": {
       "model_id": "df07222d676e4224828c8ab94ae35ec7",
       "version_major": 2,
       "version_minor": 0
      },
      "text/plain": [
       "HBox(children=(FloatProgress(value=0.0, max=1.0), HTML(value='')))"
      ]
     },
     "metadata": {},
     "output_type": "display_data"
    },
    {
     "name": "stdout",
     "output_type": "stream",
     "text": [
      "\n"
     ]
    },
    {
     "data": {
      "application/vnd.jupyter.widget-view+json": {
       "model_id": "20dd3ae1371d429785693ebf79e9b8e8",
       "version_major": 2,
       "version_minor": 0
      },
      "text/plain": [
       "HBox(children=(FloatProgress(value=0.0, max=1.0), HTML(value='')))"
      ]
     },
     "metadata": {},
     "output_type": "display_data"
    },
    {
     "name": "stdout",
     "output_type": "stream",
     "text": [
      "\n"
     ]
    },
    {
     "data": {
      "application/vnd.jupyter.widget-view+json": {
       "model_id": "b68c2f13c3144f1fa5e150acccf6e4a7",
       "version_major": 2,
       "version_minor": 0
      },
      "text/plain": [
       "HBox(children=(FloatProgress(value=0.0, max=1.0), HTML(value='')))"
      ]
     },
     "metadata": {},
     "output_type": "display_data"
    },
    {
     "name": "stdout",
     "output_type": "stream",
     "text": [
      "\n",
      "--finish categorize id--\n",
      "race_id : 202306020402\n",
      "y contains previously unseen labels: 'エアワルツ'\n",
      "\n",
      "\n"
     ]
    },
    {
     "name": "stderr",
     "output_type": "stream",
     "text": [
      "[WDM] - ====== WebDriver manager ======\n",
      "[WDM] - Current google-chrome version is 110.0.5481\n",
      "[WDM] - Get LATEST driver version for 110.0.5481\n",
      "[WDM] - Driver [/Users/rince/.wdm/drivers/chromedriver/mac64/110.0.5481.77/chromedriver] found in cache\n"
     ]
    },
    {
     "data": {
      "application/vnd.jupyter.widget-view+json": {
       "model_id": "3ed68ad14cf144b199359a2f76f9832f",
       "version_major": 2,
       "version_minor": 0
      },
      "text/plain": [
       "HBox(children=(FloatProgress(value=0.0, max=1.0), HTML(value='')))"
      ]
     },
     "metadata": {},
     "output_type": "display_data"
    },
    {
     "name": "stdout",
     "output_type": "stream",
     "text": [
      "\n"
     ]
    },
    {
     "data": {
      "application/vnd.jupyter.widget-view+json": {
       "model_id": "4b79bb1d157f42d0a44b9562da531f31",
       "version_major": 2,
       "version_minor": 0
      },
      "text/plain": [
       "HBox(children=(FloatProgress(value=0.0, max=1.0), HTML(value='')))"
      ]
     },
     "metadata": {},
     "output_type": "display_data"
    },
    {
     "name": "stdout",
     "output_type": "stream",
     "text": [
      "\n"
     ]
    },
    {
     "data": {
      "application/vnd.jupyter.widget-view+json": {
       "model_id": "264336e9efcf400790a4f41323f1d317",
       "version_major": 2,
       "version_minor": 0
      },
      "text/plain": [
       "HBox(children=(FloatProgress(value=0.0, max=1.0), HTML(value='')))"
      ]
     },
     "metadata": {},
     "output_type": "display_data"
    },
    {
     "name": "stdout",
     "output_type": "stream",
     "text": [
      "\n",
      "--finish categorize id--\n",
      "--finish categorize peds--\n",
      "--finish dumminize--\n",
      "--finish add cosin--\n",
      "中山03R 11:05発走 \n",
      "              馬番    scores\n",
      "202306020403   7  0.166938\n",
      "202306020403   6 -0.240287\n",
      "202306020403   5 -0.388510\n",
      "202306020403   4 -0.702889\n",
      "202306020403   1 -1.625753\n",
      "202306020403  11 -1.828944\n",
      "202306020403  15 -2.167359\n",
      "202306020403   9 -2.222964\n",
      "202306020403   3 -2.243160\n",
      "202306020403  12 -2.297608\n",
      "202306020403  14 -2.553185\n",
      "202306020403  10 -2.574687\n",
      "202306020403   8 -2.876252\n",
      "202306020403   2 -2.977180\n",
      "202306020403  13 -3.055340\n",
      "202306020403  16 -3.648861\n",
      "\n",
      "\n"
     ]
    },
    {
     "name": "stderr",
     "output_type": "stream",
     "text": [
      "[WDM] - ====== WebDriver manager ======\n",
      "[WDM] - Current google-chrome version is 110.0.5481\n",
      "[WDM] - Get LATEST driver version for 110.0.5481\n",
      "[WDM] - Driver [/Users/rince/.wdm/drivers/chromedriver/mac64/110.0.5481.77/chromedriver] found in cache\n"
     ]
    },
    {
     "data": {
      "application/vnd.jupyter.widget-view+json": {
       "model_id": "5c208109e5154bb7b29870b602ebda50",
       "version_major": 2,
       "version_minor": 0
      },
      "text/plain": [
       "HBox(children=(FloatProgress(value=0.0, max=1.0), HTML(value='')))"
      ]
     },
     "metadata": {},
     "output_type": "display_data"
    },
    {
     "name": "stdout",
     "output_type": "stream",
     "text": [
      "\n"
     ]
    },
    {
     "data": {
      "application/vnd.jupyter.widget-view+json": {
       "model_id": "cfbc22a919b340978448fcedc7168073",
       "version_major": 2,
       "version_minor": 0
      },
      "text/plain": [
       "HBox(children=(FloatProgress(value=0.0, max=1.0), HTML(value='')))"
      ]
     },
     "metadata": {},
     "output_type": "display_data"
    },
    {
     "name": "stdout",
     "output_type": "stream",
     "text": [
      "\n"
     ]
    },
    {
     "data": {
      "application/vnd.jupyter.widget-view+json": {
       "model_id": "8ceafd9583dc4f2a946835c64fafa60b",
       "version_major": 2,
       "version_minor": 0
      },
      "text/plain": [
       "HBox(children=(FloatProgress(value=0.0, max=1.0), HTML(value='')))"
      ]
     },
     "metadata": {},
     "output_type": "display_data"
    },
    {
     "name": "stdout",
     "output_type": "stream",
     "text": [
      "\n",
      "--finish categorize id--\n",
      "--finish categorize peds--\n",
      "--finish dumminize--\n",
      "--finish add cosin--\n",
      "中山04R 11:35発走 \n",
      "              馬番    scores\n",
      "202306020404   9 -1.046115\n",
      "202306020404   3 -1.259968\n",
      "202306020404  12 -1.321917\n",
      "202306020404  14 -1.409575\n",
      "202306020404  13 -1.517029\n",
      "202306020404   1 -1.589498\n",
      "202306020404  16 -1.741507\n",
      "202306020404  10 -1.788161\n",
      "202306020404   5 -1.834077\n",
      "202306020404   8 -2.066710\n",
      "202306020404   6 -2.490072\n",
      "202306020404  11 -2.730744\n",
      "202306020404  15 -2.858027\n",
      "202306020404   2 -3.286275\n",
      "202306020404   4 -3.454040\n",
      "202306020404   7 -4.222931\n",
      "\n",
      "\n"
     ]
    },
    {
     "name": "stderr",
     "output_type": "stream",
     "text": [
      "[WDM] - ====== WebDriver manager ======\n",
      "[WDM] - Current google-chrome version is 110.0.5481\n",
      "[WDM] - Get LATEST driver version for 110.0.5481\n",
      "[WDM] - Driver [/Users/rince/.wdm/drivers/chromedriver/mac64/110.0.5481.77/chromedriver] found in cache\n"
     ]
    },
    {
     "data": {
      "application/vnd.jupyter.widget-view+json": {
       "model_id": "8e41cdd9cb2b40389941ff41694a62ee",
       "version_major": 2,
       "version_minor": 0
      },
      "text/plain": [
       "HBox(children=(FloatProgress(value=0.0, max=1.0), HTML(value='')))"
      ]
     },
     "metadata": {},
     "output_type": "display_data"
    },
    {
     "name": "stdout",
     "output_type": "stream",
     "text": [
      "\n"
     ]
    },
    {
     "data": {
      "application/vnd.jupyter.widget-view+json": {
       "model_id": "c209cd959bdb47cdb586aea03b1defe0",
       "version_major": 2,
       "version_minor": 0
      },
      "text/plain": [
       "HBox(children=(FloatProgress(value=0.0, max=1.0), HTML(value='')))"
      ]
     },
     "metadata": {},
     "output_type": "display_data"
    },
    {
     "name": "stdout",
     "output_type": "stream",
     "text": [
      "\n"
     ]
    },
    {
     "data": {
      "application/vnd.jupyter.widget-view+json": {
       "model_id": "7fc38a8a01504dd6a4989bdfaef3178c",
       "version_major": 2,
       "version_minor": 0
      },
      "text/plain": [
       "HBox(children=(FloatProgress(value=0.0, max=1.0), HTML(value='')))"
      ]
     },
     "metadata": {},
     "output_type": "display_data"
    },
    {
     "name": "stdout",
     "output_type": "stream",
     "text": [
      "\n",
      "--finish categorize id--\n",
      "race_id : 202306020405\n",
      "y contains previously unseen labels: 'フィーユドノワール'\n",
      "\n",
      "\n"
     ]
    },
    {
     "name": "stderr",
     "output_type": "stream",
     "text": [
      "[WDM] - ====== WebDriver manager ======\n",
      "[WDM] - Current google-chrome version is 110.0.5481\n",
      "[WDM] - Get LATEST driver version for 110.0.5481\n",
      "[WDM] - Driver [/Users/rince/.wdm/drivers/chromedriver/mac64/110.0.5481.77/chromedriver] found in cache\n"
     ]
    },
    {
     "data": {
      "application/vnd.jupyter.widget-view+json": {
       "model_id": "60731faa3fb049b38f1f32f4c20238e9",
       "version_major": 2,
       "version_minor": 0
      },
      "text/plain": [
       "HBox(children=(FloatProgress(value=0.0, max=1.0), HTML(value='')))"
      ]
     },
     "metadata": {},
     "output_type": "display_data"
    },
    {
     "name": "stdout",
     "output_type": "stream",
     "text": [
      "\n"
     ]
    },
    {
     "data": {
      "application/vnd.jupyter.widget-view+json": {
       "model_id": "049f9f2ba2894ff09fbb46a43833bcf2",
       "version_major": 2,
       "version_minor": 0
      },
      "text/plain": [
       "HBox(children=(FloatProgress(value=0.0, max=1.0), HTML(value='')))"
      ]
     },
     "metadata": {},
     "output_type": "display_data"
    },
    {
     "name": "stdout",
     "output_type": "stream",
     "text": [
      "\n"
     ]
    },
    {
     "data": {
      "application/vnd.jupyter.widget-view+json": {
       "model_id": "e5ec40322e9146efae36a7bb5ae5e778",
       "version_major": 2,
       "version_minor": 0
      },
      "text/plain": [
       "HBox(children=(FloatProgress(value=0.0, max=1.0), HTML(value='')))"
      ]
     },
     "metadata": {},
     "output_type": "display_data"
    },
    {
     "name": "stdout",
     "output_type": "stream",
     "text": [
      "\n",
      "--finish categorize id--\n",
      "race_id : 202306020406\n",
      "y contains previously unseen labels: 'キョウエイポズナン'\n",
      "\n",
      "\n"
     ]
    },
    {
     "name": "stderr",
     "output_type": "stream",
     "text": [
      "[WDM] - ====== WebDriver manager ======\n",
      "[WDM] - Current google-chrome version is 110.0.5481\n",
      "[WDM] - Get LATEST driver version for 110.0.5481\n",
      "[WDM] - Driver [/Users/rince/.wdm/drivers/chromedriver/mac64/110.0.5481.77/chromedriver] found in cache\n"
     ]
    },
    {
     "data": {
      "application/vnd.jupyter.widget-view+json": {
       "model_id": "0651104d74db4ac7a2992f4383dbc326",
       "version_major": 2,
       "version_minor": 0
      },
      "text/plain": [
       "HBox(children=(FloatProgress(value=0.0, max=1.0), HTML(value='')))"
      ]
     },
     "metadata": {},
     "output_type": "display_data"
    },
    {
     "name": "stdout",
     "output_type": "stream",
     "text": [
      "\n"
     ]
    },
    {
     "data": {
      "application/vnd.jupyter.widget-view+json": {
       "model_id": "d0d76b6fd058466db88d1d8250179a41",
       "version_major": 2,
       "version_minor": 0
      },
      "text/plain": [
       "HBox(children=(FloatProgress(value=0.0, max=1.0), HTML(value='')))"
      ]
     },
     "metadata": {},
     "output_type": "display_data"
    },
    {
     "name": "stdout",
     "output_type": "stream",
     "text": [
      "\n"
     ]
    },
    {
     "data": {
      "application/vnd.jupyter.widget-view+json": {
       "model_id": "f3ae81858f6e49dcb7b07719cafb2f84",
       "version_major": 2,
       "version_minor": 0
      },
      "text/plain": [
       "HBox(children=(FloatProgress(value=0.0, max=1.0), HTML(value='')))"
      ]
     },
     "metadata": {},
     "output_type": "display_data"
    },
    {
     "name": "stdout",
     "output_type": "stream",
     "text": [
      "\n",
      "--finish categorize id--\n",
      "--finish categorize peds--\n",
      "--finish dumminize--\n",
      "--finish add cosin--\n",
      "中山07R 13:25発走 \n",
      "              馬番    scores\n",
      "202306020407  13  0.243466\n",
      "202306020407  11  0.206192\n",
      "202306020407  12 -0.639597\n",
      "202306020407   1 -0.697333\n",
      "202306020407   7 -0.919391\n",
      "202306020407  15 -0.924877\n",
      "202306020407   3 -1.022353\n",
      "202306020407   5 -1.458606\n",
      "202306020407  14 -1.472548\n",
      "202306020407  16 -1.574363\n",
      "202306020407  10 -1.582571\n",
      "202306020407   6 -1.912202\n",
      "202306020407   2 -2.844086\n",
      "202306020407   4 -2.978621\n",
      "202306020407   8 -3.497340\n",
      "202306020407   9 -3.661795\n",
      "\n",
      "\n"
     ]
    },
    {
     "name": "stderr",
     "output_type": "stream",
     "text": [
      "[WDM] - ====== WebDriver manager ======\n",
      "[WDM] - Current google-chrome version is 110.0.5481\n",
      "[WDM] - Get LATEST driver version for 110.0.5481\n",
      "[WDM] - Driver [/Users/rince/.wdm/drivers/chromedriver/mac64/110.0.5481.77/chromedriver] found in cache\n"
     ]
    },
    {
     "data": {
      "application/vnd.jupyter.widget-view+json": {
       "model_id": "b194995d073546419a329d861b552d51",
       "version_major": 2,
       "version_minor": 0
      },
      "text/plain": [
       "HBox(children=(FloatProgress(value=0.0, max=1.0), HTML(value='')))"
      ]
     },
     "metadata": {},
     "output_type": "display_data"
    },
    {
     "name": "stdout",
     "output_type": "stream",
     "text": [
      "\n"
     ]
    },
    {
     "data": {
      "application/vnd.jupyter.widget-view+json": {
       "model_id": "4d5e2dd1ead343958e8505e91707bf5e",
       "version_major": 2,
       "version_minor": 0
      },
      "text/plain": [
       "HBox(children=(FloatProgress(value=0.0, max=1.0), HTML(value='')))"
      ]
     },
     "metadata": {},
     "output_type": "display_data"
    },
    {
     "name": "stdout",
     "output_type": "stream",
     "text": [
      "\n"
     ]
    },
    {
     "data": {
      "application/vnd.jupyter.widget-view+json": {
       "model_id": "64d1e6dcfca14ceea901c5f38cfb16d4",
       "version_major": 2,
       "version_minor": 0
      },
      "text/plain": [
       "HBox(children=(FloatProgress(value=0.0, max=1.0), HTML(value='')))"
      ]
     },
     "metadata": {},
     "output_type": "display_data"
    },
    {
     "name": "stdout",
     "output_type": "stream",
     "text": [
      "\n",
      "--finish categorize id--\n",
      "--finish categorize peds--\n",
      "--finish dumminize--\n",
      "--finish add cosin--\n",
      "中山08R 14:01発走 \n",
      "              馬番    scores\n",
      "202306020408   3  1.086436\n",
      "202306020408  14  0.493928\n",
      "202306020408   6  0.140609\n",
      "202306020408   8 -0.472345\n",
      "202306020408   2 -0.501701\n",
      "202306020408  12 -0.923274\n",
      "202306020408  10 -0.958904\n",
      "202306020408  13 -1.128231\n",
      "202306020408   1 -1.178857\n",
      "202306020408  15 -1.350144\n",
      "202306020408   7 -1.403316\n",
      "202306020408  11 -1.563657\n",
      "202306020408   5 -1.578877\n",
      "202306020408   9 -2.110780\n",
      "202306020408   4 -2.216712\n",
      "\n",
      "\n"
     ]
    },
    {
     "name": "stderr",
     "output_type": "stream",
     "text": [
      "[WDM] - ====== WebDriver manager ======\n",
      "[WDM] - Current google-chrome version is 110.0.5481\n",
      "[WDM] - Get LATEST driver version for 110.0.5481\n",
      "[WDM] - Driver [/Users/rince/.wdm/drivers/chromedriver/mac64/110.0.5481.77/chromedriver] found in cache\n"
     ]
    },
    {
     "data": {
      "application/vnd.jupyter.widget-view+json": {
       "model_id": "61470e9eed1c478182f8fb9611fc1447",
       "version_major": 2,
       "version_minor": 0
      },
      "text/plain": [
       "HBox(children=(FloatProgress(value=0.0, max=1.0), HTML(value='')))"
      ]
     },
     "metadata": {},
     "output_type": "display_data"
    },
    {
     "name": "stdout",
     "output_type": "stream",
     "text": [
      "\n"
     ]
    },
    {
     "data": {
      "application/vnd.jupyter.widget-view+json": {
       "model_id": "23f9e7d0c24d441db2dd5b3987f5415a",
       "version_major": 2,
       "version_minor": 0
      },
      "text/plain": [
       "HBox(children=(FloatProgress(value=0.0, max=1.0), HTML(value='')))"
      ]
     },
     "metadata": {},
     "output_type": "display_data"
    },
    {
     "name": "stdout",
     "output_type": "stream",
     "text": [
      "\n"
     ]
    },
    {
     "data": {
      "application/vnd.jupyter.widget-view+json": {
       "model_id": "8a4cd5f61483450f979c1d76a9f2ee40",
       "version_major": 2,
       "version_minor": 0
      },
      "text/plain": [
       "HBox(children=(FloatProgress(value=0.0, max=1.0), HTML(value='')))"
      ]
     },
     "metadata": {},
     "output_type": "display_data"
    },
    {
     "name": "stdout",
     "output_type": "stream",
     "text": [
      "\n",
      "--finish categorize id--\n",
      "--finish categorize peds--\n",
      "--finish dumminize--\n",
      "--finish add cosin--\n",
      "中山09R 14:35発走 \n",
      "              馬番    scores\n",
      "202306020409   7  0.810890\n",
      "202306020409   5  0.302990\n",
      "202306020409  11  0.210947\n",
      "202306020409  10 -0.089637\n",
      "202306020409  12 -0.146025\n",
      "202306020409   3 -0.322857\n",
      "202306020409   9 -0.586730\n",
      "202306020409   6 -0.634181\n",
      "202306020409  13 -0.722808\n",
      "202306020409  16 -0.885649\n",
      "202306020409  17 -1.129577\n",
      "202306020409   2 -1.155759\n",
      "202306020409  14 -1.222252\n",
      "202306020409  18 -1.335366\n",
      "202306020409   8 -1.660144\n",
      "202306020409  15 -1.706202\n",
      "202306020409   4 -1.709481\n",
      "202306020409   1 -2.757771\n",
      "\n",
      "\n"
     ]
    },
    {
     "name": "stderr",
     "output_type": "stream",
     "text": [
      "[WDM] - ====== WebDriver manager ======\n",
      "[WDM] - Current google-chrome version is 110.0.5481\n",
      "[WDM] - Get LATEST driver version for 110.0.5481\n",
      "[WDM] - Driver [/Users/rince/.wdm/drivers/chromedriver/mac64/110.0.5481.77/chromedriver] found in cache\n"
     ]
    },
    {
     "data": {
      "application/vnd.jupyter.widget-view+json": {
       "model_id": "27b99c96b3f84d5ea43e2cb41dfe9528",
       "version_major": 2,
       "version_minor": 0
      },
      "text/plain": [
       "HBox(children=(FloatProgress(value=0.0, max=1.0), HTML(value='')))"
      ]
     },
     "metadata": {},
     "output_type": "display_data"
    },
    {
     "name": "stdout",
     "output_type": "stream",
     "text": [
      "\n"
     ]
    },
    {
     "data": {
      "application/vnd.jupyter.widget-view+json": {
       "model_id": "c19b13231ee24adabc2e9d63f843f98c",
       "version_major": 2,
       "version_minor": 0
      },
      "text/plain": [
       "HBox(children=(FloatProgress(value=0.0, max=1.0), HTML(value='')))"
      ]
     },
     "metadata": {},
     "output_type": "display_data"
    },
    {
     "name": "stdout",
     "output_type": "stream",
     "text": [
      "\n"
     ]
    },
    {
     "data": {
      "application/vnd.jupyter.widget-view+json": {
       "model_id": "602bd4bfd0a641a9983b6e956c085e4c",
       "version_major": 2,
       "version_minor": 0
      },
      "text/plain": [
       "HBox(children=(FloatProgress(value=0.0, max=1.0), HTML(value='')))"
      ]
     },
     "metadata": {},
     "output_type": "display_data"
    },
    {
     "name": "stdout",
     "output_type": "stream",
     "text": [
      "\n",
      "--finish categorize id--\n",
      "--finish categorize peds--\n",
      "--finish dumminize--\n",
      "--finish add cosin--\n",
      "中山10R 15:10発走 \n",
      "              馬番    scores\n",
      "202306020410  10  0.750567\n",
      "202306020410  12  0.336816\n",
      "202306020410  16  0.324089\n",
      "202306020410   3  0.035340\n",
      "202306020410  11 -0.018404\n",
      "202306020410  14 -0.056825\n",
      "202306020410  13 -0.291135\n",
      "202306020410   6 -0.425906\n",
      "202306020410   8 -1.483652\n",
      "202306020410   9 -1.504676\n",
      "202306020410   4 -1.859225\n",
      "202306020410   7 -1.985147\n",
      "202306020410   5 -2.152367\n",
      "202306020410   2 -2.858990\n",
      "202306020410   1 -3.527332\n",
      "202306020410  15 -3.747883\n",
      "\n",
      "\n"
     ]
    },
    {
     "name": "stderr",
     "output_type": "stream",
     "text": [
      "[WDM] - ====== WebDriver manager ======\n",
      "[WDM] - Current google-chrome version is 110.0.5481\n",
      "[WDM] - Get LATEST driver version for 110.0.5481\n",
      "[WDM] - Driver [/Users/rince/.wdm/drivers/chromedriver/mac64/110.0.5481.77/chromedriver] found in cache\n"
     ]
    },
    {
     "data": {
      "application/vnd.jupyter.widget-view+json": {
       "model_id": "719201dcfde449528ef3d258ba40b256",
       "version_major": 2,
       "version_minor": 0
      },
      "text/plain": [
       "HBox(children=(FloatProgress(value=0.0, max=1.0), HTML(value='')))"
      ]
     },
     "metadata": {},
     "output_type": "display_data"
    },
    {
     "name": "stdout",
     "output_type": "stream",
     "text": [
      "\n"
     ]
    },
    {
     "data": {
      "application/vnd.jupyter.widget-view+json": {
       "model_id": "f6cc19cacf754866a2d774840a6fd5ed",
       "version_major": 2,
       "version_minor": 0
      },
      "text/plain": [
       "HBox(children=(FloatProgress(value=0.0, max=1.0), HTML(value='')))"
      ]
     },
     "metadata": {},
     "output_type": "display_data"
    },
    {
     "name": "stdout",
     "output_type": "stream",
     "text": [
      "\n"
     ]
    },
    {
     "data": {
      "application/vnd.jupyter.widget-view+json": {
       "model_id": "a8bfe4b4d44145049b6f527985b47e9b",
       "version_major": 2,
       "version_minor": 0
      },
      "text/plain": [
       "HBox(children=(FloatProgress(value=0.0, max=1.0), HTML(value='')))"
      ]
     },
     "metadata": {},
     "output_type": "display_data"
    },
    {
     "name": "stdout",
     "output_type": "stream",
     "text": [
      "\n",
      "--finish categorize id--\n",
      "race_id : 202306020411\n",
      "y contains previously unseen labels: 'パルティトゥーラ'\n",
      "\n",
      "\n"
     ]
    },
    {
     "name": "stderr",
     "output_type": "stream",
     "text": [
      "[WDM] - ====== WebDriver manager ======\n",
      "[WDM] - Current google-chrome version is 110.0.5481\n",
      "[WDM] - Get LATEST driver version for 110.0.5481\n",
      "[WDM] - Driver [/Users/rince/.wdm/drivers/chromedriver/mac64/110.0.5481.77/chromedriver] found in cache\n"
     ]
    },
    {
     "data": {
      "application/vnd.jupyter.widget-view+json": {
       "model_id": "1f342b04b94a4160893c59f3792f4edf",
       "version_major": 2,
       "version_minor": 0
      },
      "text/plain": [
       "HBox(children=(FloatProgress(value=0.0, max=1.0), HTML(value='')))"
      ]
     },
     "metadata": {},
     "output_type": "display_data"
    },
    {
     "name": "stdout",
     "output_type": "stream",
     "text": [
      "\n"
     ]
    },
    {
     "data": {
      "application/vnd.jupyter.widget-view+json": {
       "model_id": "8cc318181f2e434bb08e20c98787d218",
       "version_major": 2,
       "version_minor": 0
      },
      "text/plain": [
       "HBox(children=(FloatProgress(value=0.0, max=1.0), HTML(value='')))"
      ]
     },
     "metadata": {},
     "output_type": "display_data"
    },
    {
     "name": "stdout",
     "output_type": "stream",
     "text": [
      "\n"
     ]
    },
    {
     "data": {
      "application/vnd.jupyter.widget-view+json": {
       "model_id": "9cbaae6a6837470386b0f704a6c31bd3",
       "version_major": 2,
       "version_minor": 0
      },
      "text/plain": [
       "HBox(children=(FloatProgress(value=0.0, max=1.0), HTML(value='')))"
      ]
     },
     "metadata": {},
     "output_type": "display_data"
    },
    {
     "name": "stdout",
     "output_type": "stream",
     "text": [
      "\n",
      "--finish categorize id--\n",
      "--finish categorize peds--\n",
      "--finish dumminize--\n",
      "--finish add cosin--\n",
      "中山12R 16:25発走 \n",
      "              馬番    scores\n",
      "202306020412  12 -0.073567\n",
      "202306020412   9 -0.200929\n",
      "202306020412  14 -0.353280\n",
      "202306020412  10 -0.375890\n",
      "202306020412   3 -0.708663\n",
      "202306020412  13 -0.885448\n",
      "202306020412   5 -0.913827\n",
      "202306020412   8 -1.221259\n",
      "202306020412  16 -1.265633\n",
      "202306020412   6 -1.279780\n",
      "202306020412   4 -1.388257\n",
      "202306020412   1 -1.394082\n",
      "202306020412   2 -1.469388\n",
      "202306020412  15 -1.629666\n",
      "202306020412   7 -2.207558\n",
      "202306020412  11 -2.520821\n",
      "\n",
      "\n"
     ]
    },
    {
     "name": "stderr",
     "output_type": "stream",
     "text": [
      "[WDM] - ====== WebDriver manager ======\n",
      "[WDM] - Current google-chrome version is 110.0.5481\n",
      "[WDM] - Get LATEST driver version for 110.0.5481\n",
      "[WDM] - Driver [/Users/rince/.wdm/drivers/chromedriver/mac64/110.0.5481.77/chromedriver] found in cache\n"
     ]
    },
    {
     "data": {
      "application/vnd.jupyter.widget-view+json": {
       "model_id": "494c729d9ab747d193e4d0e60e267992",
       "version_major": 2,
       "version_minor": 0
      },
      "text/plain": [
       "HBox(children=(FloatProgress(value=0.0, max=1.0), HTML(value='')))"
      ]
     },
     "metadata": {},
     "output_type": "display_data"
    },
    {
     "name": "stdout",
     "output_type": "stream",
     "text": [
      "\n"
     ]
    },
    {
     "data": {
      "application/vnd.jupyter.widget-view+json": {
       "model_id": "edde3ccb7e1042df9add4b734c177301",
       "version_major": 2,
       "version_minor": 0
      },
      "text/plain": [
       "HBox(children=(FloatProgress(value=0.0, max=1.0), HTML(value='')))"
      ]
     },
     "metadata": {},
     "output_type": "display_data"
    },
    {
     "name": "stdout",
     "output_type": "stream",
     "text": [
      "\n"
     ]
    },
    {
     "data": {
      "application/vnd.jupyter.widget-view+json": {
       "model_id": "b48fb60e4b4b45ea86220ede2166d744",
       "version_major": 2,
       "version_minor": 0
      },
      "text/plain": [
       "HBox(children=(FloatProgress(value=0.0, max=1.0), HTML(value='')))"
      ]
     },
     "metadata": {},
     "output_type": "display_data"
    },
    {
     "name": "stdout",
     "output_type": "stream",
     "text": [
      "\n",
      "--finish categorize id--\n",
      "--finish categorize peds--\n",
      "--finish dumminize--\n",
      "--finish add cosin--\n",
      "阪神01R 09:50発走 \n",
      "              馬番    scores\n",
      "202309010801   6 -1.283674\n",
      "202309010801   8 -1.291264\n",
      "202309010801  14 -1.424385\n",
      "202309010801   7 -1.428214\n",
      "202309010801   1 -2.052975\n",
      "202309010801  11 -2.141213\n",
      "202309010801   2 -2.234423\n",
      "202309010801   4 -2.350393\n",
      "202309010801  13 -2.364852\n",
      "202309010801   5 -2.482201\n",
      "202309010801  10 -2.643696\n",
      "202309010801  15 -2.770409\n",
      "202309010801   3 -2.794724\n",
      "202309010801   9 -3.417422\n",
      "202309010801  12 -4.606130\n",
      "\n",
      "\n"
     ]
    },
    {
     "name": "stderr",
     "output_type": "stream",
     "text": [
      "[WDM] - ====== WebDriver manager ======\n",
      "[WDM] - Current google-chrome version is 110.0.5481\n",
      "[WDM] - Get LATEST driver version for 110.0.5481\n",
      "[WDM] - Driver [/Users/rince/.wdm/drivers/chromedriver/mac64/110.0.5481.77/chromedriver] found in cache\n"
     ]
    },
    {
     "data": {
      "application/vnd.jupyter.widget-view+json": {
       "model_id": "10aa53b7a3ad46388e9dd68d29156db1",
       "version_major": 2,
       "version_minor": 0
      },
      "text/plain": [
       "HBox(children=(FloatProgress(value=0.0, max=1.0), HTML(value='')))"
      ]
     },
     "metadata": {},
     "output_type": "display_data"
    },
    {
     "name": "stdout",
     "output_type": "stream",
     "text": [
      "\n"
     ]
    },
    {
     "data": {
      "application/vnd.jupyter.widget-view+json": {
       "model_id": "7c4c6b30c3834c07b40e19fca2f60f1e",
       "version_major": 2,
       "version_minor": 0
      },
      "text/plain": [
       "HBox(children=(FloatProgress(value=0.0, max=1.0), HTML(value='')))"
      ]
     },
     "metadata": {},
     "output_type": "display_data"
    },
    {
     "name": "stdout",
     "output_type": "stream",
     "text": [
      "\n"
     ]
    },
    {
     "data": {
      "application/vnd.jupyter.widget-view+json": {
       "model_id": "6a0b355446bb404ab8f48454fe84d979",
       "version_major": 2,
       "version_minor": 0
      },
      "text/plain": [
       "HBox(children=(FloatProgress(value=0.0, max=1.0), HTML(value='')))"
      ]
     },
     "metadata": {},
     "output_type": "display_data"
    },
    {
     "name": "stdout",
     "output_type": "stream",
     "text": [
      "\n",
      "--finish categorize id--\n",
      "race_id : 202309010802\n",
      "y contains previously unseen labels: 'エレメンツ'\n",
      "\n",
      "\n"
     ]
    },
    {
     "name": "stderr",
     "output_type": "stream",
     "text": [
      "[WDM] - ====== WebDriver manager ======\n",
      "[WDM] - Current google-chrome version is 110.0.5481\n",
      "[WDM] - Get LATEST driver version for 110.0.5481\n",
      "[WDM] - Driver [/Users/rince/.wdm/drivers/chromedriver/mac64/110.0.5481.77/chromedriver] found in cache\n"
     ]
    },
    {
     "data": {
      "application/vnd.jupyter.widget-view+json": {
       "model_id": "072396f487c3458c9ca6e9f5c48ca4f8",
       "version_major": 2,
       "version_minor": 0
      },
      "text/plain": [
       "HBox(children=(FloatProgress(value=0.0, max=1.0), HTML(value='')))"
      ]
     },
     "metadata": {},
     "output_type": "display_data"
    },
    {
     "name": "stdout",
     "output_type": "stream",
     "text": [
      "\n"
     ]
    },
    {
     "data": {
      "application/vnd.jupyter.widget-view+json": {
       "model_id": "480d12fa5984463b92323b6a0173aaaf",
       "version_major": 2,
       "version_minor": 0
      },
      "text/plain": [
       "HBox(children=(FloatProgress(value=0.0, max=1.0), HTML(value='')))"
      ]
     },
     "metadata": {},
     "output_type": "display_data"
    },
    {
     "name": "stdout",
     "output_type": "stream",
     "text": [
      "\n"
     ]
    },
    {
     "data": {
      "application/vnd.jupyter.widget-view+json": {
       "model_id": "415bb79ebeda4a02ba44c788fe204a14",
       "version_major": 2,
       "version_minor": 0
      },
      "text/plain": [
       "HBox(children=(FloatProgress(value=0.0, max=1.0), HTML(value='')))"
      ]
     },
     "metadata": {},
     "output_type": "display_data"
    },
    {
     "name": "stdout",
     "output_type": "stream",
     "text": [
      "\n",
      "--finish categorize id--\n",
      "race_id : 202309010803\n",
      "y contains previously unseen labels: 'レゲウーマン'\n",
      "\n",
      "\n"
     ]
    },
    {
     "name": "stderr",
     "output_type": "stream",
     "text": [
      "[WDM] - ====== WebDriver manager ======\n",
      "[WDM] - Current google-chrome version is 110.0.5481\n",
      "[WDM] - Get LATEST driver version for 110.0.5481\n",
      "[WDM] - Driver [/Users/rince/.wdm/drivers/chromedriver/mac64/110.0.5481.77/chromedriver] found in cache\n"
     ]
    },
    {
     "data": {
      "application/vnd.jupyter.widget-view+json": {
       "model_id": "94a4db6533704b87a4f484e2cc518295",
       "version_major": 2,
       "version_minor": 0
      },
      "text/plain": [
       "HBox(children=(FloatProgress(value=0.0, max=1.0), HTML(value='')))"
      ]
     },
     "metadata": {},
     "output_type": "display_data"
    },
    {
     "name": "stdout",
     "output_type": "stream",
     "text": [
      "\n"
     ]
    },
    {
     "data": {
      "application/vnd.jupyter.widget-view+json": {
       "model_id": "468297a731e845199066a97498f5acd4",
       "version_major": 2,
       "version_minor": 0
      },
      "text/plain": [
       "HBox(children=(FloatProgress(value=0.0, max=1.0), HTML(value='')))"
      ]
     },
     "metadata": {},
     "output_type": "display_data"
    },
    {
     "name": "stdout",
     "output_type": "stream",
     "text": [
      "\n"
     ]
    },
    {
     "data": {
      "application/vnd.jupyter.widget-view+json": {
       "model_id": "af5cf99e844f4a7aaa1bea90283d3b9c",
       "version_major": 2,
       "version_minor": 0
      },
      "text/plain": [
       "HBox(children=(FloatProgress(value=0.0, max=1.0), HTML(value='')))"
      ]
     },
     "metadata": {},
     "output_type": "display_data"
    },
    {
     "name": "stdout",
     "output_type": "stream",
     "text": [
      "\n",
      "--finish categorize id--\n",
      "--finish categorize peds--\n",
      "--finish dumminize--\n",
      "--finish add cosin--\n",
      "阪神04R 11:20発走 \n",
      "              馬番    scores\n",
      "202309010804   4 -0.176545\n",
      "202309010804   2 -0.617407\n",
      "202309010804   9 -0.869622\n",
      "202309010804   8 -1.156049\n",
      "202309010804   6 -1.205013\n",
      "202309010804   7 -1.219765\n",
      "202309010804   1 -1.513204\n",
      "202309010804  10 -2.068644\n",
      "202309010804   3 -2.515973\n",
      "202309010804   5 -2.800396\n",
      "\n",
      "\n"
     ]
    },
    {
     "name": "stderr",
     "output_type": "stream",
     "text": [
      "[WDM] - ====== WebDriver manager ======\n",
      "[WDM] - Current google-chrome version is 110.0.5481\n",
      "[WDM] - Get LATEST driver version for 110.0.5481\n",
      "[WDM] - Driver [/Users/rince/.wdm/drivers/chromedriver/mac64/110.0.5481.77/chromedriver] found in cache\n"
     ]
    },
    {
     "data": {
      "application/vnd.jupyter.widget-view+json": {
       "model_id": "57e3e99890954848b29b332c142457dd",
       "version_major": 2,
       "version_minor": 0
      },
      "text/plain": [
       "HBox(children=(FloatProgress(value=0.0, max=1.0), HTML(value='')))"
      ]
     },
     "metadata": {},
     "output_type": "display_data"
    },
    {
     "name": "stdout",
     "output_type": "stream",
     "text": [
      "\n"
     ]
    },
    {
     "data": {
      "application/vnd.jupyter.widget-view+json": {
       "model_id": "5e75ecffdf9a4713b33546e326e1c8a2",
       "version_major": 2,
       "version_minor": 0
      },
      "text/plain": [
       "HBox(children=(FloatProgress(value=0.0, max=1.0), HTML(value='')))"
      ]
     },
     "metadata": {},
     "output_type": "display_data"
    },
    {
     "name": "stdout",
     "output_type": "stream",
     "text": [
      "\n"
     ]
    },
    {
     "data": {
      "application/vnd.jupyter.widget-view+json": {
       "model_id": "f9253fbfb4f9450daf67c562c02a4253",
       "version_major": 2,
       "version_minor": 0
      },
      "text/plain": [
       "HBox(children=(FloatProgress(value=0.0, max=1.0), HTML(value='')))"
      ]
     },
     "metadata": {},
     "output_type": "display_data"
    },
    {
     "name": "stdout",
     "output_type": "stream",
     "text": [
      "\n",
      "--finish categorize id--\n",
      "race_id : 202309010805\n",
      "y contains previously unseen labels: 'ハコダテダリア'\n",
      "\n",
      "\n"
     ]
    },
    {
     "name": "stderr",
     "output_type": "stream",
     "text": [
      "[WDM] - ====== WebDriver manager ======\n",
      "[WDM] - Current google-chrome version is 110.0.5481\n",
      "[WDM] - Get LATEST driver version for 110.0.5481\n",
      "[WDM] - Driver [/Users/rince/.wdm/drivers/chromedriver/mac64/110.0.5481.77/chromedriver] found in cache\n"
     ]
    },
    {
     "data": {
      "application/vnd.jupyter.widget-view+json": {
       "model_id": "1bac0152bc10476a84fa13c417b61aa9",
       "version_major": 2,
       "version_minor": 0
      },
      "text/plain": [
       "HBox(children=(FloatProgress(value=0.0, max=1.0), HTML(value='')))"
      ]
     },
     "metadata": {},
     "output_type": "display_data"
    },
    {
     "name": "stdout",
     "output_type": "stream",
     "text": [
      "\n"
     ]
    },
    {
     "data": {
      "application/vnd.jupyter.widget-view+json": {
       "model_id": "4b1fbf0971474367927a223f233251f1",
       "version_major": 2,
       "version_minor": 0
      },
      "text/plain": [
       "HBox(children=(FloatProgress(value=0.0, max=1.0), HTML(value='')))"
      ]
     },
     "metadata": {},
     "output_type": "display_data"
    },
    {
     "name": "stdout",
     "output_type": "stream",
     "text": [
      "\n"
     ]
    },
    {
     "data": {
      "application/vnd.jupyter.widget-view+json": {
       "model_id": "7812ed0a07594da2b580fe070babafc8",
       "version_major": 2,
       "version_minor": 0
      },
      "text/plain": [
       "HBox(children=(FloatProgress(value=0.0, max=1.0), HTML(value='')))"
      ]
     },
     "metadata": {},
     "output_type": "display_data"
    },
    {
     "name": "stdout",
     "output_type": "stream",
     "text": [
      "\n",
      "--finish categorize id--\n",
      "--finish categorize peds--\n",
      "--finish dumminize--\n",
      "--finish add cosin--\n",
      "阪神06R 12:40発走 \n",
      "              馬番    scores\n",
      "202309010806   1 -1.003899\n",
      "202309010806   9 -1.105054\n",
      "202309010806   7 -1.184775\n",
      "202309010806   8 -1.679978\n",
      "202309010806   5 -1.859237\n",
      "202309010806   4 -2.040967\n",
      "202309010806   3 -2.108642\n",
      "202309010806   6 -3.337414\n",
      "202309010806   2 -3.378682\n",
      "\n",
      "\n"
     ]
    },
    {
     "name": "stderr",
     "output_type": "stream",
     "text": [
      "[WDM] - ====== WebDriver manager ======\n",
      "[WDM] - Current google-chrome version is 110.0.5481\n",
      "[WDM] - Get LATEST driver version for 110.0.5481\n",
      "[WDM] - Driver [/Users/rince/.wdm/drivers/chromedriver/mac64/110.0.5481.77/chromedriver] found in cache\n"
     ]
    },
    {
     "data": {
      "application/vnd.jupyter.widget-view+json": {
       "model_id": "40dae42da6974a169cd42c56fd3d5aa2",
       "version_major": 2,
       "version_minor": 0
      },
      "text/plain": [
       "HBox(children=(FloatProgress(value=0.0, max=1.0), HTML(value='')))"
      ]
     },
     "metadata": {},
     "output_type": "display_data"
    },
    {
     "name": "stdout",
     "output_type": "stream",
     "text": [
      "\n"
     ]
    },
    {
     "data": {
      "application/vnd.jupyter.widget-view+json": {
       "model_id": "96a8dedfda0548f4a9ff21784e0b2186",
       "version_major": 2,
       "version_minor": 0
      },
      "text/plain": [
       "HBox(children=(FloatProgress(value=0.0, max=1.0), HTML(value='')))"
      ]
     },
     "metadata": {},
     "output_type": "display_data"
    },
    {
     "name": "stdout",
     "output_type": "stream",
     "text": [
      "\n"
     ]
    },
    {
     "data": {
      "application/vnd.jupyter.widget-view+json": {
       "model_id": "6495b4c229684208b0b9c32eb17ba1bd",
       "version_major": 2,
       "version_minor": 0
      },
      "text/plain": [
       "HBox(children=(FloatProgress(value=0.0, max=1.0), HTML(value='')))"
      ]
     },
     "metadata": {},
     "output_type": "display_data"
    },
    {
     "name": "stdout",
     "output_type": "stream",
     "text": [
      "\n",
      "--finish categorize id--\n",
      "--finish categorize peds--\n",
      "--finish dumminize--\n",
      "--finish add cosin--\n",
      "阪神07R 13:15発走 \n",
      "              馬番    scores\n",
      "202309010807   6 -0.036734\n",
      "202309010807  11 -0.650420\n",
      "202309010807  14 -0.753021\n",
      "202309010807  15 -0.860514\n",
      "202309010807  16 -1.102953\n",
      "202309010807   4 -1.132184\n",
      "202309010807   8 -1.298670\n",
      "202309010807   7 -1.536912\n",
      "202309010807   5 -1.777177\n",
      "202309010807   3 -1.819180\n",
      "202309010807  12 -2.225872\n",
      "202309010807   9 -2.572188\n",
      "202309010807  10 -2.738052\n",
      "202309010807   2 -2.841786\n",
      "202309010807  17 -2.869956\n",
      "202309010807  13 -2.999504\n",
      "202309010807   1 -3.346892\n",
      "\n",
      "\n"
     ]
    },
    {
     "name": "stderr",
     "output_type": "stream",
     "text": [
      "[WDM] - ====== WebDriver manager ======\n",
      "[WDM] - Current google-chrome version is 110.0.5481\n",
      "[WDM] - Get LATEST driver version for 110.0.5481\n",
      "[WDM] - Driver [/Users/rince/.wdm/drivers/chromedriver/mac64/110.0.5481.77/chromedriver] found in cache\n"
     ]
    },
    {
     "data": {
      "application/vnd.jupyter.widget-view+json": {
       "model_id": "abc67a046a0a4a87a0a17f4f1e60c613",
       "version_major": 2,
       "version_minor": 0
      },
      "text/plain": [
       "HBox(children=(FloatProgress(value=0.0, max=1.0), HTML(value='')))"
      ]
     },
     "metadata": {},
     "output_type": "display_data"
    },
    {
     "name": "stdout",
     "output_type": "stream",
     "text": [
      "\n"
     ]
    },
    {
     "data": {
      "application/vnd.jupyter.widget-view+json": {
       "model_id": "78f80323a1ba4f239c9e50fd0b5346a3",
       "version_major": 2,
       "version_minor": 0
      },
      "text/plain": [
       "HBox(children=(FloatProgress(value=0.0, max=1.0), HTML(value='')))"
      ]
     },
     "metadata": {},
     "output_type": "display_data"
    },
    {
     "name": "stdout",
     "output_type": "stream",
     "text": [
      "\n"
     ]
    },
    {
     "data": {
      "application/vnd.jupyter.widget-view+json": {
       "model_id": "22d1a16748fd491b8c1f75fd8723febc",
       "version_major": 2,
       "version_minor": 0
      },
      "text/plain": [
       "HBox(children=(FloatProgress(value=0.0, max=1.0), HTML(value='')))"
      ]
     },
     "metadata": {},
     "output_type": "display_data"
    },
    {
     "name": "stdout",
     "output_type": "stream",
     "text": [
      "\n",
      "--finish categorize id--\n",
      "race_id : 202309010808\n",
      "y contains previously unseen labels: 'スターオブロゼッタ'\n",
      "\n",
      "\n"
     ]
    },
    {
     "name": "stderr",
     "output_type": "stream",
     "text": [
      "[WDM] - ====== WebDriver manager ======\n",
      "[WDM] - Current google-chrome version is 110.0.5481\n",
      "[WDM] - Get LATEST driver version for 110.0.5481\n",
      "[WDM] - Driver [/Users/rince/.wdm/drivers/chromedriver/mac64/110.0.5481.77/chromedriver] found in cache\n"
     ]
    },
    {
     "data": {
      "application/vnd.jupyter.widget-view+json": {
       "model_id": "105f34ab4cdb430e98984f801e969e82",
       "version_major": 2,
       "version_minor": 0
      },
      "text/plain": [
       "HBox(children=(FloatProgress(value=0.0, max=1.0), HTML(value='')))"
      ]
     },
     "metadata": {},
     "output_type": "display_data"
    },
    {
     "name": "stdout",
     "output_type": "stream",
     "text": [
      "\n"
     ]
    },
    {
     "data": {
      "application/vnd.jupyter.widget-view+json": {
       "model_id": "5b13c61a890b46cfbe808cea68fcd262",
       "version_major": 2,
       "version_minor": 0
      },
      "text/plain": [
       "HBox(children=(FloatProgress(value=0.0, max=1.0), HTML(value='')))"
      ]
     },
     "metadata": {},
     "output_type": "display_data"
    },
    {
     "name": "stdout",
     "output_type": "stream",
     "text": [
      "\n"
     ]
    },
    {
     "data": {
      "application/vnd.jupyter.widget-view+json": {
       "model_id": "164050f3532c460ca81e25f1caad2942",
       "version_major": 2,
       "version_minor": 0
      },
      "text/plain": [
       "HBox(children=(FloatProgress(value=0.0, max=1.0), HTML(value='')))"
      ]
     },
     "metadata": {},
     "output_type": "display_data"
    },
    {
     "name": "stdout",
     "output_type": "stream",
     "text": [
      "\n",
      "--finish categorize id--\n",
      "--finish categorize peds--\n",
      "--finish dumminize--\n",
      "--finish add cosin--\n",
      "阪神09R 14:25発走 \n",
      "              馬番    scores\n",
      "202309010809   5  0.369978\n",
      "202309010809   8  0.005565\n",
      "202309010809   3 -0.449259\n",
      "202309010809   7 -0.724720\n",
      "202309010809   1 -0.988082\n",
      "202309010809   9 -1.001115\n",
      "202309010809   6 -1.530473\n",
      "202309010809  10 -1.633786\n",
      "202309010809   4 -1.713404\n",
      "202309010809   2 -1.718243\n",
      "202309010809  11 -1.746994\n",
      "202309010809  12 -2.153350\n",
      "\n",
      "\n"
     ]
    },
    {
     "name": "stderr",
     "output_type": "stream",
     "text": [
      "[WDM] - ====== WebDriver manager ======\n",
      "[WDM] - Current google-chrome version is 110.0.5481\n",
      "[WDM] - Get LATEST driver version for 110.0.5481\n",
      "[WDM] - Driver [/Users/rince/.wdm/drivers/chromedriver/mac64/110.0.5481.77/chromedriver] found in cache\n"
     ]
    },
    {
     "data": {
      "application/vnd.jupyter.widget-view+json": {
       "model_id": "4f079bb4f6c44ba3876523a363d16d8c",
       "version_major": 2,
       "version_minor": 0
      },
      "text/plain": [
       "HBox(children=(FloatProgress(value=0.0, max=1.0), HTML(value='')))"
      ]
     },
     "metadata": {},
     "output_type": "display_data"
    },
    {
     "name": "stdout",
     "output_type": "stream",
     "text": [
      "\n"
     ]
    },
    {
     "data": {
      "application/vnd.jupyter.widget-view+json": {
       "model_id": "04ec940f70374cc484e420766c42408b",
       "version_major": 2,
       "version_minor": 0
      },
      "text/plain": [
       "HBox(children=(FloatProgress(value=0.0, max=1.0), HTML(value='')))"
      ]
     },
     "metadata": {},
     "output_type": "display_data"
    },
    {
     "name": "stdout",
     "output_type": "stream",
     "text": [
      "\n"
     ]
    },
    {
     "data": {
      "application/vnd.jupyter.widget-view+json": {
       "model_id": "c397a81128134d888a8cf81410ce7d0c",
       "version_major": 2,
       "version_minor": 0
      },
      "text/plain": [
       "HBox(children=(FloatProgress(value=0.0, max=1.0), HTML(value='')))"
      ]
     },
     "metadata": {},
     "output_type": "display_data"
    },
    {
     "name": "stdout",
     "output_type": "stream",
     "text": [
      "\n",
      "--finish categorize id--\n",
      "--finish categorize peds--\n",
      "--finish dumminize--\n",
      "--finish add cosin--\n",
      "阪神10R 15:01発走 \n",
      "              馬番    scores\n",
      "202309010810   8 -0.044267\n",
      "202309010810   3 -0.574168\n",
      "202309010810   2 -0.845531\n",
      "202309010810  10 -1.183331\n",
      "202309010810   7 -1.201678\n",
      "202309010810   5 -1.284695\n",
      "202309010810   4 -1.390492\n",
      "202309010810   9 -1.692341\n",
      "202309010810   1 -2.058875\n",
      "202309010810   6 -2.172067\n",
      "\n",
      "\n"
     ]
    },
    {
     "name": "stderr",
     "output_type": "stream",
     "text": [
      "[WDM] - ====== WebDriver manager ======\n",
      "[WDM] - Current google-chrome version is 110.0.5481\n",
      "[WDM] - Get LATEST driver version for 110.0.5481\n",
      "[WDM] - Driver [/Users/rince/.wdm/drivers/chromedriver/mac64/110.0.5481.77/chromedriver] found in cache\n"
     ]
    },
    {
     "data": {
      "application/vnd.jupyter.widget-view+json": {
       "model_id": "2f7484c2244246e4a75a583ab975d00e",
       "version_major": 2,
       "version_minor": 0
      },
      "text/plain": [
       "HBox(children=(FloatProgress(value=0.0, max=1.0), HTML(value='')))"
      ]
     },
     "metadata": {},
     "output_type": "display_data"
    },
    {
     "name": "stdout",
     "output_type": "stream",
     "text": [
      "\n"
     ]
    },
    {
     "data": {
      "application/vnd.jupyter.widget-view+json": {
       "model_id": "03f4cd746eb648038d62bf076a25af9c",
       "version_major": 2,
       "version_minor": 0
      },
      "text/plain": [
       "HBox(children=(FloatProgress(value=0.0, max=1.0), HTML(value='')))"
      ]
     },
     "metadata": {},
     "output_type": "display_data"
    },
    {
     "name": "stdout",
     "output_type": "stream",
     "text": [
      "\n"
     ]
    },
    {
     "data": {
      "application/vnd.jupyter.widget-view+json": {
       "model_id": "aa0faa1b340441bead3f3979630608a3",
       "version_major": 2,
       "version_minor": 0
      },
      "text/plain": [
       "HBox(children=(FloatProgress(value=0.0, max=1.0), HTML(value='')))"
      ]
     },
     "metadata": {},
     "output_type": "display_data"
    },
    {
     "name": "stdout",
     "output_type": "stream",
     "text": [
      "\n",
      "--finish categorize id--\n",
      "--finish categorize peds--\n",
      "--finish dumminize--\n",
      "--finish add cosin--\n",
      "阪神11R 15:35発走 \n",
      "              馬番    scores\n",
      "202309010811   4  0.663103\n",
      "202309010811   7  0.568877\n",
      "202309010811  16  0.497141\n",
      "202309010811   6  0.323164\n",
      "202309010811  15 -0.019735\n",
      "202309010811  13 -0.118199\n",
      "202309010811   1 -0.328411\n",
      "202309010811   9 -0.416667\n",
      "202309010811  11 -0.511280\n",
      "202309010811   8 -0.926376\n",
      "202309010811  10 -1.010458\n",
      "202309010811  14 -1.119745\n",
      "202309010811   5 -2.227013\n",
      "202309010811   3 -2.369974\n",
      "202309010811   2 -2.418918\n",
      "202309010811  12 -2.707379\n",
      "\n",
      "\n"
     ]
    },
    {
     "name": "stderr",
     "output_type": "stream",
     "text": [
      "[WDM] - ====== WebDriver manager ======\n",
      "[WDM] - Current google-chrome version is 110.0.5481\n",
      "[WDM] - Get LATEST driver version for 110.0.5481\n",
      "[WDM] - Driver [/Users/rince/.wdm/drivers/chromedriver/mac64/110.0.5481.77/chromedriver] found in cache\n"
     ]
    },
    {
     "data": {
      "application/vnd.jupyter.widget-view+json": {
       "model_id": "82406e639e5b4e37b0c4089baae15611",
       "version_major": 2,
       "version_minor": 0
      },
      "text/plain": [
       "HBox(children=(FloatProgress(value=0.0, max=1.0), HTML(value='')))"
      ]
     },
     "metadata": {},
     "output_type": "display_data"
    },
    {
     "name": "stdout",
     "output_type": "stream",
     "text": [
      "\n"
     ]
    },
    {
     "data": {
      "application/vnd.jupyter.widget-view+json": {
       "model_id": "8c76a8f0885940f3947ba881f91ff650",
       "version_major": 2,
       "version_minor": 0
      },
      "text/plain": [
       "HBox(children=(FloatProgress(value=0.0, max=1.0), HTML(value='')))"
      ]
     },
     "metadata": {},
     "output_type": "display_data"
    },
    {
     "name": "stdout",
     "output_type": "stream",
     "text": [
      "\n"
     ]
    },
    {
     "data": {
      "application/vnd.jupyter.widget-view+json": {
       "model_id": "d8c520224eb649e7a26df22fe033cf3a",
       "version_major": 2,
       "version_minor": 0
      },
      "text/plain": [
       "HBox(children=(FloatProgress(value=0.0, max=1.0), HTML(value='')))"
      ]
     },
     "metadata": {},
     "output_type": "display_data"
    },
    {
     "name": "stdout",
     "output_type": "stream",
     "text": [
      "\n",
      "--finish categorize id--\n",
      "--finish categorize peds--\n",
      "--finish dumminize--\n",
      "--finish add cosin--\n",
      "阪神12R 16:10発走 \n",
      "              馬番    scores\n",
      "202309010812  12  0.424995\n",
      "202309010812   1 -0.092918\n",
      "202309010812   7 -0.285946\n",
      "202309010812  15 -0.343224\n",
      "202309010812   4 -0.514815\n",
      "202309010812   3 -0.584244\n",
      "202309010812   9 -0.608403\n",
      "202309010812  14 -0.856433\n",
      "202309010812   6 -0.866457\n",
      "202309010812   2 -1.490800\n",
      "202309010812   8 -1.527342\n",
      "202309010812  10 -1.556607\n",
      "202309010812  13 -1.720696\n",
      "202309010812  11 -1.746237\n",
      "202309010812  16 -1.882470\n",
      "202309010812   5 -1.919368\n"
     ]
    }
   ],
   "source": [
    "today = '2023/03/05'\n",
    "X_list = []\n",
    "data_c_list = []\n",
    "\n",
    "for race_id, race_time in zip(target_race_id_list,target_race_time_list):\n",
    "    \n",
    "    try:\n",
    "        #------出馬表をスクレイピング\n",
    "        shutuba_data = prepare.scrape_shutuba_table(race_id, today)\n",
    "\n",
    "        #------出馬表データ前処理\n",
    "        shutuba_processeor = preprocess.ShutubaData(shutuba_data,race_results)\n",
    "        shutuba_processeor.preprocessing()\n",
    "\n",
    "        #-------出馬表データマージ\n",
    "        shutuba_data_merger = preprocess.DataMerger(\n",
    "            shutuba_processeor,\n",
    "            horse_results_processor,\n",
    "            peds_processor\n",
    "        )\n",
    "        shutuba_data_merger.merge()\n",
    "\n",
    "        #-------lgb入力用データ作成\n",
    "        COLUMNS = x_train.columns\n",
    "        predict_data = preprocess.MakePredictData(shutuba_data_merger,COLUMNS)\n",
    "        # 訓練時の　label_encoder で各種カテゴリデータをラベルエンコーディングする\n",
    "        predict_data.set_lable_encoder(\n",
    "            make_train_data.le_horse,\n",
    "            make_train_data.le_jockey,\n",
    "            make_train_data.le_trainer,\n",
    "            make_train_data.le_owner,\n",
    "            make_train_data.le_peds_dict \n",
    "        )\n",
    "        predict_data.categorize_id()\n",
    "        predict_data.categorize_peds()\n",
    "        predict_data.dumminize() \n",
    "        predict_data.add_date_cosin() \n",
    "        processed_df = predict_data.get_processed_df()\n",
    "\n",
    "\n",
    "        # data_c : simulation用データ\n",
    "        data_c = processed_df.copy()\n",
    "        X = processed_df.drop(['単勝'],axis=1)\n",
    "        X = pd.DataFrame(X,columns=COLUMNS)\n",
    "        X_list.append(X)\n",
    "        \n",
    "\n",
    "\n",
    "\n",
    "        #-------予測\n",
    "        scores = pd.Series(lgb_rank.predict(X),index=X.index)\n",
    "        pred = X[['馬番']].copy()\n",
    "        pred['scores'] = scores\n",
    "        pred = pred.sort_values('scores',ascending=False)\n",
    "        \n",
    "        #--------当日データ検証用\n",
    "        X['単勝'] = data_c['単勝']\n",
    "        data_c_list.append(X)\n",
    "\n",
    "        i=0\n",
    "        for num in list(Master.PLACE_DICT.values()):\n",
    "            if num == race_id[4:6]:\n",
    "                print(list(Master.PLACE_DICT)[i]+race_id[10:12] + 'R ' + race_time + '発走 ' )\n",
    "                break\n",
    "            i+=1\n",
    "        print(pred)\n",
    "    except Exception as e:\n",
    "        print(\"race_id :\",race_id)\n",
    "        print(e)\n",
    "\n",
    "    time.sleep(5)\n",
    "    "
   ]
  },
  {
   "cell_type": "markdown",
   "id": "77222c1e",
   "metadata": {},
   "source": [
    "# 当日データのsimulation"
   ]
  },
  {
   "cell_type": "code",
   "execution_count": 179,
   "id": "c1c765f7",
   "metadata": {},
   "outputs": [],
   "source": [
    "#------エラーでたrace対策\n",
    "target_race_id_list = []\n",
    "for data_c in data_c_list:\n",
    "    race_id = data_c.index[0]\n",
    "    target_race_id_list.append(race_id)"
   ]
  },
  {
   "cell_type": "code",
   "execution_count": 180,
   "id": "dfc8ae06",
   "metadata": {},
   "outputs": [],
   "source": [
    "ts = simulator.TodaySimulator(lgb_rank)\n",
    "return_table_today = ts.return_table_today(target_race_id_list)\n",
    "result_df_today_rank = ts.get_result_df(data_c_list, return_table_today, target_race_id_list)\n"
   ]
  },
  {
   "cell_type": "code",
   "execution_count": 193,
   "id": "099e30ee",
   "metadata": {},
   "outputs": [
    {
     "data": {
      "text/html": [
       "<div>\n",
       "<style scoped>\n",
       "    .dataframe tbody tr th:only-of-type {\n",
       "        vertical-align: middle;\n",
       "    }\n",
       "\n",
       "    .dataframe tbody tr th {\n",
       "        vertical-align: top;\n",
       "    }\n",
       "\n",
       "    .dataframe thead th {\n",
       "        text-align: right;\n",
       "    }\n",
       "</style>\n",
       "<table border=\"1\" class=\"dataframe\">\n",
       "  <thead>\n",
       "    <tr style=\"text-align: right;\">\n",
       "      <th></th>\n",
       "      <th>pred_list</th>\n",
       "      <th>actual_rank_list</th>\n",
       "      <th>tansho_odds</th>\n",
       "      <th>fukusho_odds</th>\n",
       "      <th>umaren_odds</th>\n",
       "      <th>wide_odds</th>\n",
       "      <th>umatan_odds</th>\n",
       "      <th>sanrenpuku_odds</th>\n",
       "      <th>sanrentan_odds</th>\n",
       "      <th>wide_comb</th>\n",
       "      <th>odds_list</th>\n",
       "    </tr>\n",
       "  </thead>\n",
       "  <tbody>\n",
       "    <tr>\n",
       "      <th>202306020401</th>\n",
       "      <td>[16, 15, 3, 12, 8, 5, 2, 6, 13, 14, 1, 10, 7, ...</td>\n",
       "      <td>[3, 1, 8]</td>\n",
       "      <td>10</td>\n",
       "      <td>[5.1, 32.0, 7.6]</td>\n",
       "      <td>282.9</td>\n",
       "      <td>[53.3, 12.4, 96.9]</td>\n",
       "      <td>579.9</td>\n",
       "      <td>910.6</td>\n",
       "      <td>5282.3</td>\n",
       "      <td>[[1, 3], [3, 8], [1, 8]]</td>\n",
       "      <td>[1.5, 245.5, 10.0, 5.3, 15.0, 40.2, 35.7, 30.5...</td>\n",
       "    </tr>\n",
       "    <tr>\n",
       "      <th>202306020403</th>\n",
       "      <td>[7, 6, 5, 4, 1, 11, 15, 9, 3, 12, 14, 10, 8, 2...</td>\n",
       "      <td>[12, 6, 4]</td>\n",
       "      <td>6</td>\n",
       "      <td>[1.8, 1.4, 8.0]</td>\n",
       "      <td>8.1</td>\n",
       "      <td>[3.9, 31.2, 20.8]</td>\n",
       "      <td>20.4</td>\n",
       "      <td>89</td>\n",
       "      <td>415.8</td>\n",
       "      <td>[[6, 12], [4, 12], [4, 6]]</td>\n",
       "      <td>[3.4, 2.7, 49.6, 54.9, 33.6, 5.0, 152.8, 44.9,...</td>\n",
       "    </tr>\n",
       "    <tr>\n",
       "      <th>202306020404</th>\n",
       "      <td>[9, 3, 12, 14, 13, 1, 16, 10, 5, 8, 6, 11, 15,...</td>\n",
       "      <td>[16, 9, 13]</td>\n",
       "      <td>7</td>\n",
       "      <td>[2.1, 1.4, 3.1]</td>\n",
       "      <td>9.8</td>\n",
       "      <td>[3.7, 16.1, 7.7]</td>\n",
       "      <td>22.9</td>\n",
       "      <td>52.6</td>\n",
       "      <td>215.1</td>\n",
       "      <td>[[9, 16], [13, 16], [9, 13]]</td>\n",
       "      <td>[2.4, 5.8, 67.9, 73.0, 21.8, 30.1, 7.0, 8.1, 1...</td>\n",
       "    </tr>\n",
       "    <tr>\n",
       "      <th>202306020407</th>\n",
       "      <td>[13, 11, 12, 1, 7, 15, 3, 5, 14, 16, 10, 6, 2,...</td>\n",
       "      <td>[3, 12, 7]</td>\n",
       "      <td>27.1</td>\n",
       "      <td>[6.7, 2.4, 4.6]</td>\n",
       "      <td>71.4</td>\n",
       "      <td>[21.1, 36.2, 15.0]</td>\n",
       "      <td>186.4</td>\n",
       "      <td>244.8</td>\n",
       "      <td>1524.7</td>\n",
       "      <td>[[3, 12], [3, 7], [7, 12]]</td>\n",
       "      <td>[4.3, 2.5, 5.2, 8.3, 14.5, 55.8, 27.1, 66.4, 4...</td>\n",
       "    </tr>\n",
       "    <tr>\n",
       "      <th>202306020408</th>\n",
       "      <td>[3, 14, 6, 8, 2, 12, 10, 13, 1, 15, 7, 11, 5, ...</td>\n",
       "      <td>[5, 6, 7]</td>\n",
       "      <td>3.6</td>\n",
       "      <td>[1.6, 3.1, 3.1]</td>\n",
       "      <td>18</td>\n",
       "      <td>[7.5, 7.4, 16.2]</td>\n",
       "      <td>32.1</td>\n",
       "      <td>56.1</td>\n",
       "      <td>253.3</td>\n",
       "      <td>[[5, 6], [5, 7], [6, 7]]</td>\n",
       "      <td>[14.5, 224.2, 10.7, 7.1, 4.4, 38.5, 16.3, 42.4...</td>\n",
       "    </tr>\n",
       "    <tr>\n",
       "      <th>202306020409</th>\n",
       "      <td>[7, 5, 11, 10, 12, 3, 9, 6, 13, 16, 17, 2, 14,...</td>\n",
       "      <td>[14, 7, 12]</td>\n",
       "      <td>3.5</td>\n",
       "      <td>[1.5, 1.5, 2.4]</td>\n",
       "      <td>9.4</td>\n",
       "      <td>[4.0, 5.3, 9.4]</td>\n",
       "      <td>17.2</td>\n",
       "      <td>21.6</td>\n",
       "      <td>72.2</td>\n",
       "      <td>[[7, 14], [12, 14], [7, 12]]</td>\n",
       "      <td>[4.5, 10.4, 85.6, 18.5, 7.7, 7.5, 117.3, 7.0, ...</td>\n",
       "    </tr>\n",
       "    <tr>\n",
       "      <th>202306020410</th>\n",
       "      <td>[10, 12, 16, 3, 11, 14, 13, 6, 8, 9, 4, 7, 5, ...</td>\n",
       "      <td>[13, 9, 3]</td>\n",
       "      <td>5.4</td>\n",
       "      <td>[1.7, 1.4, 1.9]</td>\n",
       "      <td>9</td>\n",
       "      <td>[3.9, 6.7, 3.6]</td>\n",
       "      <td>20.9</td>\n",
       "      <td>15</td>\n",
       "      <td>89.8</td>\n",
       "      <td>[[9, 13], [3, 13], [3, 9]]</td>\n",
       "      <td>[17.8, 29.3, 17.4, 5.9, 4.3, 15.9, 5.4, 43.6, ...</td>\n",
       "    </tr>\n",
       "    <tr>\n",
       "      <th>202306020412</th>\n",
       "      <td>[12, 9, 14, 10, 3, 13, 5, 8, 16, 6, 4, 1, 2, 1...</td>\n",
       "      <td>[7, 12, 3]</td>\n",
       "      <td>7</td>\n",
       "      <td>[2.5, 1.3, 4.8]</td>\n",
       "      <td>8.1</td>\n",
       "      <td>[4.1, 34.9, 10.8]</td>\n",
       "      <td>23.7</td>\n",
       "      <td>78.6</td>\n",
       "      <td>437.5</td>\n",
       "      <td>[[7, 12], [3, 7], [3, 12]]</td>\n",
       "      <td>[1.9, 32.2, 8.7, 121.1, 24.9, 6.7, 68.3, 64.8,...</td>\n",
       "    </tr>\n",
       "    <tr>\n",
       "      <th>202309010801</th>\n",
       "      <td>[6, 8, 14, 7, 1, 11, 2, 4, 13, 5, 10, 15, 3, 9...</td>\n",
       "      <td>[8, 7, 15]</td>\n",
       "      <td>1.6</td>\n",
       "      <td>[1.1, 2.8, 2.0]</td>\n",
       "      <td>11.4</td>\n",
       "      <td>[5.3, 4.5, 14.7]</td>\n",
       "      <td>16.1</td>\n",
       "      <td>35.3</td>\n",
       "      <td>111.2</td>\n",
       "      <td>[[7, 8], [8, 15], [7, 15]]</td>\n",
       "      <td>[4.7, 1.6, 38.4, 14.2, 283.4, 35.4, 31.3, 140....</td>\n",
       "    </tr>\n",
       "    <tr>\n",
       "      <th>202309010804</th>\n",
       "      <td>[4, 2, 9, 8, 6, 7, 1, 10, 3, 5]</td>\n",
       "      <td>[1, 6, 10]</td>\n",
       "      <td>12.7</td>\n",
       "      <td>[3.8, 12.7, 9.0]</td>\n",
       "      <td>160.7</td>\n",
       "      <td>[46.3, 28.0, 71.1]</td>\n",
       "      <td>291.3</td>\n",
       "      <td>781.5</td>\n",
       "      <td>4480.3</td>\n",
       "      <td>[[1, 6], [1, 10], [6, 10]]</td>\n",
       "      <td>[21.0, 2.4, 2.7, 12.2, 58.2, 6.3, 12.7, 33.4, ...</td>\n",
       "    </tr>\n",
       "    <tr>\n",
       "      <th>202309010806</th>\n",
       "      <td>[1, 9, 7, 8, 5, 4, 3, 6, 2]</td>\n",
       "      <td>[8, 3, 4]</td>\n",
       "      <td>13.9</td>\n",
       "      <td>[3.6, 1.1, 3.8]</td>\n",
       "      <td>12.2</td>\n",
       "      <td>[4.7, 31.6, 7.4]</td>\n",
       "      <td>39.2</td>\n",
       "      <td>50.7</td>\n",
       "      <td>423.1</td>\n",
       "      <td>[[3, 8], [4, 8], [3, 4]]</td>\n",
       "      <td>[3.4, 18.3, 6.4, 13.9, 9.2, 26.6, 1.9, 146.9, ...</td>\n",
       "    </tr>\n",
       "    <tr>\n",
       "      <th>202309010807</th>\n",
       "      <td>[6, 11, 14, 15, 16, 4, 8, 7, 5, 3, 12, 9, 10, ...</td>\n",
       "      <td>[16, 6, 12]</td>\n",
       "      <td>5.9</td>\n",
       "      <td>[2.1, 2.0, 4.9]</td>\n",
       "      <td>17.4</td>\n",
       "      <td>[7.2, 22.3, 15.3]</td>\n",
       "      <td>33.4</td>\n",
       "      <td>118</td>\n",
       "      <td>499.4</td>\n",
       "      <td>[[6, 16], [12, 16], [6, 12]]</td>\n",
       "      <td>[4.9, 32.6, 2.7, 31.7, 5.9, 12.3, 15.3, 9.2, 1...</td>\n",
       "    </tr>\n",
       "    <tr>\n",
       "      <th>202309010809</th>\n",
       "      <td>[5, 8, 3, 7, 1, 9, 6, 10, 4, 2, 11, 12]</td>\n",
       "      <td>[8, 5, 9]</td>\n",
       "      <td>60.7</td>\n",
       "      <td>[12.3, 3.2, 1.9]</td>\n",
       "      <td>196.6</td>\n",
       "      <td>[52.2, 29.4, 8.1]</td>\n",
       "      <td>601.2</td>\n",
       "      <td>252.7</td>\n",
       "      <td>3135.4</td>\n",
       "      <td>[[5, 8], [8, 9], [5, 9]]</td>\n",
       "      <td>[7.7, 60.7, 5.8, 12.2, 4.4, 4.9, 11.0, 8.8, 16...</td>\n",
       "    </tr>\n",
       "    <tr>\n",
       "      <th>202309010810</th>\n",
       "      <td>[8, 3, 2, 10, 7, 5, 4, 9, 1, 6]</td>\n",
       "      <td>[4, 1, 5]</td>\n",
       "      <td>12</td>\n",
       "      <td>[3.3, 2.2, 3.4]</td>\n",
       "      <td>33.5</td>\n",
       "      <td>[9.3, 20.2, 9.5]</td>\n",
       "      <td>77.4</td>\n",
       "      <td>111.2</td>\n",
       "      <td>696.7</td>\n",
       "      <td>[[1, 4], [4, 5], [1, 5]]</td>\n",
       "      <td>[3.5, 14.4, 88.0, 2.9, 6.2, 15.3, 12.0, 18.2, ...</td>\n",
       "    </tr>\n",
       "    <tr>\n",
       "      <th>202309010811</th>\n",
       "      <td>[4, 7, 16, 6, 15, 13, 1, 9, 11, 8, 10, 14, 5, ...</td>\n",
       "      <td>[16, 9, 10]</td>\n",
       "      <td>18.4</td>\n",
       "      <td>[3.9, 1.7, 2.3]</td>\n",
       "      <td>48</td>\n",
       "      <td>[14.7, 23.0, 6.4]</td>\n",
       "      <td>131.2</td>\n",
       "      <td>110.9</td>\n",
       "      <td>1020.6</td>\n",
       "      <td>[[9, 16], [10, 16], [9, 10]]</td>\n",
       "      <td>[26.1, 7.6, 18.4, 6.7, 57.9, 6.1, 13.8, 3.6, 1...</td>\n",
       "    </tr>\n",
       "    <tr>\n",
       "      <th>202309010812</th>\n",
       "      <td>[12, 1, 7, 15, 4, 3, 9, 14, 6, 2, 8, 10, 13, 1...</td>\n",
       "      <td>[8, 6, 12]</td>\n",
       "      <td>4.8</td>\n",
       "      <td>[1.8, 1.3, 2.1]</td>\n",
       "      <td>6.4</td>\n",
       "      <td>[3.2, 6.9, 4.2]</td>\n",
       "      <td>14.5</td>\n",
       "      <td>18.2</td>\n",
       "      <td>84.2</td>\n",
       "      <td>[[6, 8], [8, 12], [6, 12]]</td>\n",
       "      <td>[9.1, 57.6, 4.9, 25.4, 214.9, 38.1, 10.9, 46.7...</td>\n",
       "    </tr>\n",
       "  </tbody>\n",
       "</table>\n",
       "</div>"
      ],
      "text/plain": [
       "                                                      pred_list  \\\n",
       "202306020401  [16, 15, 3, 12, 8, 5, 2, 6, 13, 14, 1, 10, 7, ...   \n",
       "202306020403  [7, 6, 5, 4, 1, 11, 15, 9, 3, 12, 14, 10, 8, 2...   \n",
       "202306020404  [9, 3, 12, 14, 13, 1, 16, 10, 5, 8, 6, 11, 15,...   \n",
       "202306020407  [13, 11, 12, 1, 7, 15, 3, 5, 14, 16, 10, 6, 2,...   \n",
       "202306020408  [3, 14, 6, 8, 2, 12, 10, 13, 1, 15, 7, 11, 5, ...   \n",
       "202306020409  [7, 5, 11, 10, 12, 3, 9, 6, 13, 16, 17, 2, 14,...   \n",
       "202306020410  [10, 12, 16, 3, 11, 14, 13, 6, 8, 9, 4, 7, 5, ...   \n",
       "202306020412  [12, 9, 14, 10, 3, 13, 5, 8, 16, 6, 4, 1, 2, 1...   \n",
       "202309010801  [6, 8, 14, 7, 1, 11, 2, 4, 13, 5, 10, 15, 3, 9...   \n",
       "202309010804                    [4, 2, 9, 8, 6, 7, 1, 10, 3, 5]   \n",
       "202309010806                        [1, 9, 7, 8, 5, 4, 3, 6, 2]   \n",
       "202309010807  [6, 11, 14, 15, 16, 4, 8, 7, 5, 3, 12, 9, 10, ...   \n",
       "202309010809            [5, 8, 3, 7, 1, 9, 6, 10, 4, 2, 11, 12]   \n",
       "202309010810                    [8, 3, 2, 10, 7, 5, 4, 9, 1, 6]   \n",
       "202309010811  [4, 7, 16, 6, 15, 13, 1, 9, 11, 8, 10, 14, 5, ...   \n",
       "202309010812  [12, 1, 7, 15, 4, 3, 9, 14, 6, 2, 8, 10, 13, 1...   \n",
       "\n",
       "             actual_rank_list tansho_odds      fukusho_odds umaren_odds  \\\n",
       "202306020401        [3, 1, 8]          10  [5.1, 32.0, 7.6]       282.9   \n",
       "202306020403       [12, 6, 4]           6   [1.8, 1.4, 8.0]         8.1   \n",
       "202306020404      [16, 9, 13]           7   [2.1, 1.4, 3.1]         9.8   \n",
       "202306020407       [3, 12, 7]        27.1   [6.7, 2.4, 4.6]        71.4   \n",
       "202306020408        [5, 6, 7]         3.6   [1.6, 3.1, 3.1]          18   \n",
       "202306020409      [14, 7, 12]         3.5   [1.5, 1.5, 2.4]         9.4   \n",
       "202306020410       [13, 9, 3]         5.4   [1.7, 1.4, 1.9]           9   \n",
       "202306020412       [7, 12, 3]           7   [2.5, 1.3, 4.8]         8.1   \n",
       "202309010801       [8, 7, 15]         1.6   [1.1, 2.8, 2.0]        11.4   \n",
       "202309010804       [1, 6, 10]        12.7  [3.8, 12.7, 9.0]       160.7   \n",
       "202309010806        [8, 3, 4]        13.9   [3.6, 1.1, 3.8]        12.2   \n",
       "202309010807      [16, 6, 12]         5.9   [2.1, 2.0, 4.9]        17.4   \n",
       "202309010809        [8, 5, 9]        60.7  [12.3, 3.2, 1.9]       196.6   \n",
       "202309010810        [4, 1, 5]          12   [3.3, 2.2, 3.4]        33.5   \n",
       "202309010811      [16, 9, 10]        18.4   [3.9, 1.7, 2.3]          48   \n",
       "202309010812       [8, 6, 12]         4.8   [1.8, 1.3, 2.1]         6.4   \n",
       "\n",
       "                       wide_odds umatan_odds sanrenpuku_odds sanrentan_odds  \\\n",
       "202306020401  [53.3, 12.4, 96.9]       579.9           910.6         5282.3   \n",
       "202306020403   [3.9, 31.2, 20.8]        20.4              89          415.8   \n",
       "202306020404    [3.7, 16.1, 7.7]        22.9            52.6          215.1   \n",
       "202306020407  [21.1, 36.2, 15.0]       186.4           244.8         1524.7   \n",
       "202306020408    [7.5, 7.4, 16.2]        32.1            56.1          253.3   \n",
       "202306020409     [4.0, 5.3, 9.4]        17.2            21.6           72.2   \n",
       "202306020410     [3.9, 6.7, 3.6]        20.9              15           89.8   \n",
       "202306020412   [4.1, 34.9, 10.8]        23.7            78.6          437.5   \n",
       "202309010801    [5.3, 4.5, 14.7]        16.1            35.3          111.2   \n",
       "202309010804  [46.3, 28.0, 71.1]       291.3           781.5         4480.3   \n",
       "202309010806    [4.7, 31.6, 7.4]        39.2            50.7          423.1   \n",
       "202309010807   [7.2, 22.3, 15.3]        33.4             118          499.4   \n",
       "202309010809   [52.2, 29.4, 8.1]       601.2           252.7         3135.4   \n",
       "202309010810    [9.3, 20.2, 9.5]        77.4           111.2          696.7   \n",
       "202309010811   [14.7, 23.0, 6.4]       131.2           110.9         1020.6   \n",
       "202309010812     [3.2, 6.9, 4.2]        14.5            18.2           84.2   \n",
       "\n",
       "                                 wide_comb  \\\n",
       "202306020401      [[1, 3], [3, 8], [1, 8]]   \n",
       "202306020403    [[6, 12], [4, 12], [4, 6]]   \n",
       "202306020404  [[9, 16], [13, 16], [9, 13]]   \n",
       "202306020407    [[3, 12], [3, 7], [7, 12]]   \n",
       "202306020408      [[5, 6], [5, 7], [6, 7]]   \n",
       "202306020409  [[7, 14], [12, 14], [7, 12]]   \n",
       "202306020410    [[9, 13], [3, 13], [3, 9]]   \n",
       "202306020412    [[7, 12], [3, 7], [3, 12]]   \n",
       "202309010801    [[7, 8], [8, 15], [7, 15]]   \n",
       "202309010804    [[1, 6], [1, 10], [6, 10]]   \n",
       "202309010806      [[3, 8], [4, 8], [3, 4]]   \n",
       "202309010807  [[6, 16], [12, 16], [6, 12]]   \n",
       "202309010809      [[5, 8], [8, 9], [5, 9]]   \n",
       "202309010810      [[1, 4], [4, 5], [1, 5]]   \n",
       "202309010811  [[9, 16], [10, 16], [9, 10]]   \n",
       "202309010812    [[6, 8], [8, 12], [6, 12]]   \n",
       "\n",
       "                                                      odds_list  \n",
       "202306020401  [1.5, 245.5, 10.0, 5.3, 15.0, 40.2, 35.7, 30.5...  \n",
       "202306020403  [3.4, 2.7, 49.6, 54.9, 33.6, 5.0, 152.8, 44.9,...  \n",
       "202306020404  [2.4, 5.8, 67.9, 73.0, 21.8, 30.1, 7.0, 8.1, 1...  \n",
       "202306020407  [4.3, 2.5, 5.2, 8.3, 14.5, 55.8, 27.1, 66.4, 4...  \n",
       "202306020408  [14.5, 224.2, 10.7, 7.1, 4.4, 38.5, 16.3, 42.4...  \n",
       "202306020409  [4.5, 10.4, 85.6, 18.5, 7.7, 7.5, 117.3, 7.0, ...  \n",
       "202306020410  [17.8, 29.3, 17.4, 5.9, 4.3, 15.9, 5.4, 43.6, ...  \n",
       "202306020412  [1.9, 32.2, 8.7, 121.1, 24.9, 6.7, 68.3, 64.8,...  \n",
       "202309010801  [4.7, 1.6, 38.4, 14.2, 283.4, 35.4, 31.3, 140....  \n",
       "202309010804  [21.0, 2.4, 2.7, 12.2, 58.2, 6.3, 12.7, 33.4, ...  \n",
       "202309010806  [3.4, 18.3, 6.4, 13.9, 9.2, 26.6, 1.9, 146.9, ...  \n",
       "202309010807  [4.9, 32.6, 2.7, 31.7, 5.9, 12.3, 15.3, 9.2, 1...  \n",
       "202309010809  [7.7, 60.7, 5.8, 12.2, 4.4, 4.9, 11.0, 8.8, 16...  \n",
       "202309010810  [3.5, 14.4, 88.0, 2.9, 6.2, 15.3, 12.0, 18.2, ...  \n",
       "202309010811  [26.1, 7.6, 18.4, 6.7, 57.9, 6.1, 13.8, 3.6, 1...  \n",
       "202309010812  [9.1, 57.6, 4.9, 25.4, 214.9, 38.1, 10.9, 46.7...  "
      ]
     },
     "execution_count": 193,
     "metadata": {},
     "output_type": "execute_result"
    }
   ],
   "source": [
    "result_df_today_rank"
   ]
  },
  {
   "cell_type": "code",
   "execution_count": 185,
   "id": "1952670c",
   "metadata": {},
   "outputs": [
    {
     "name": "stdout",
     "output_type": "stream",
     "text": [
      "収益               :        -1600.00 円\n",
      "平均収益           :         -100.00 円\n",
      "回収率             :            0.00 %\n",
      "的中率             :            0.00 %\n",
      "odds filter 的中率 :            0.00 %\n",
      "レース数           :              16\n",
      "賭けた点数         :               0\n",
      "race dist {'01': 0, '02': 0, '03': 0, '04': 0, '05': 0, '06': 0, '07': 0, '08': 0, '09': 0, '10': 0, '11': 0, '12': 0}\n",
      "race type dist {'new_horse': 0, 'not_win': 0, 'won1': 0, 'won2': 0, 'won3': 0, 'open': 0, 'g1': 0, 'g2': 0, 'g3': 0, 'obstacle': 0}\n"
     ]
    }
   ],
   "source": [
    "detail_dict_tansho  = funcs.calc_(result_df_today_rank,kaime='tansho',odds_alpha=1,is_all=True,round_list=['01'])\n"
   ]
  },
  {
   "cell_type": "code",
   "execution_count": 181,
   "id": "76510d83",
   "metadata": {},
   "outputs": [
    {
     "name": "stdout",
     "output_type": "stream",
     "text": [
      "収益               :         -450.00 円\n",
      "平均収益           :          -28.12 円\n",
      "回収率             :           71.88 %\n",
      "的中率             :           37.50 %\n",
      "odds filter 的中率 :           37.50 %\n",
      "レース数           :              16\n",
      "賭けた点数         :               0\n",
      "race dist {'01': 0, '02': 0, '03': 0, '04': 1, '05': 0, '06': 0, '07': 1, '08': 0, '09': 2, '10': 0, '11': 0, '12': 2}\n",
      "race type dist {'new_horse': 0, 'not_win': 0, 'won1': 0, 'won2': 0, 'won3': 0, 'open': 0, 'g1': 0, 'g2': 0, 'g3': 0, 'obstacle': 0}\n"
     ]
    }
   ],
   "source": [
    "\n",
    "detail_dict_fukusho  = funcs.calc_(result_df_today_rank,kaime='fukusho',odds_alpha=1,is_all=True,round_list=['12'])"
   ]
  },
  {
   "cell_type": "code",
   "execution_count": 182,
   "id": "c8347def",
   "metadata": {},
   "outputs": [
    {
     "name": "stdout",
     "output_type": "stream",
     "text": [
      "収益               :         3620.00 円\n",
      "平均収益           :          226.25 円\n",
      "回収率             :          326.25 %\n",
      "的中率             :            6.25 %\n",
      "odds filter 的中率 :            6.25 %\n",
      "レース数           :              16\n",
      "賭けた点数         :               0\n",
      "race dist {'01': 0, '02': 0, '03': 0, '04': 0, '05': 0, '06': 0, '07': 0, '08': 0, '09': 1, '10': 0, '11': 0, '12': 0}\n",
      "race type dist {'new_horse': 0, 'not_win': 0, 'won1': 0, 'won2': 0, 'won3': 0, 'open': 0, 'g1': 0, 'g2': 0, 'g3': 0, 'obstacle': 0}\n"
     ]
    }
   ],
   "source": [
    "detail_dict_wide  = funcs.calc_(result_df_today_rank,kaime='wide',odds_alpha=1,is_all=True,round_list=['01'])"
   ]
  },
  {
   "cell_type": "code",
   "execution_count": 186,
   "id": "8e058e42",
   "metadata": {},
   "outputs": [
    {
     "name": "stdout",
     "output_type": "stream",
     "text": [
      "収益               :          420.00 円\n",
      "平均収益           :            8.75 円\n",
      "回収率             :          126.25 %\n",
      "的中率             :            6.25 %\n",
      "odds filter 的中率 :            2.08 %\n",
      "賭けた点数の回収率 :          108.75 %\n",
      "賭けた点数の的中率 :            2.08 %\n",
      "レース数           :              16\n",
      "賭けた点数         :              48\n",
      "race dist {'01': 0, '02': 0, '03': 0, '04': 0, '05': 0, '06': 0, '07': 0, '08': 0, '09': 1, '10': 0, '11': 0, '12': 0}\n",
      "race type dist {'new_horse': 0, 'not_win': 0, 'won1': 0, 'won2': 0, 'won3': 0, 'open': 0, 'g1': 0, 'g2': 0, 'g3': 0, 'obstacle': 0}\n"
     ]
    }
   ],
   "source": [
    "detail_dict_wide_box  = funcs.calc_(result_df_today_rank,kaime='wide_box',odds_alpha=1,is_all=True,round_list=['01'],num_buy=3)"
   ]
  },
  {
   "cell_type": "code",
   "execution_count": 187,
   "id": "c50d3874",
   "metadata": {},
   "outputs": [
    {
     "name": "stdout",
     "output_type": "stream",
     "text": [
      "収益               :        18060.00 円\n",
      "平均収益           :         1128.75 円\n",
      "回収率             :         1228.75 %\n",
      "的中率             :            6.25 %\n",
      "odds filter 的中率 :            6.25 %\n",
      "レース数           :              16\n",
      "賭けた点数         :               0\n",
      "race dist {'01': 0, '02': 0, '03': 0, '04': 0, '05': 0, '06': 0, '07': 0, '08': 0, '09': 1, '10': 0, '11': 0, '12': 0}\n",
      "race type dist {'new_horse': 0, 'not_win': 0, 'won1': 0, 'won2': 0, 'won3': 0, 'open': 0, 'g1': 0, 'g2': 0, 'g3': 0, 'obstacle': 0}\n"
     ]
    }
   ],
   "source": [
    "# バケモノ馬連当ててる\n",
    "detail_dict_umaren  = funcs.calc_(result_df_today_rank,kaime='umaren',odds_alpha=1,is_all=True,round_list=['01'])"
   ]
  },
  {
   "cell_type": "code",
   "execution_count": 188,
   "id": "03c8c25a",
   "metadata": {},
   "outputs": [
    {
     "name": "stdout",
     "output_type": "stream",
     "text": [
      "収益               :        -1600.00 円\n",
      "平均収益           :         -100.00 円\n",
      "回収率             :            0.00 %\n",
      "的中率             :            0.00 %\n",
      "odds filter 的中率 :            0.00 %\n",
      "レース数           :              16\n",
      "賭けた点数         :               0\n",
      "race dist {'01': 0, '02': 0, '03': 0, '04': 0, '05': 0, '06': 0, '07': 0, '08': 0, '09': 0, '10': 0, '11': 0, '12': 0}\n",
      "race type dist {'new_horse': 0, 'not_win': 0, 'won1': 0, 'won2': 0, 'won3': 0, 'open': 0, 'g1': 0, 'g2': 0, 'g3': 0, 'obstacle': 0}\n"
     ]
    }
   ],
   "source": [
    "\n",
    "detail_dict_umatan  = funcs.calc_(result_df_today_rank,kaime='umatan',odds_alpha=1,is_all=True,round_list=['01'])"
   ]
  },
  {
   "cell_type": "code",
   "execution_count": 189,
   "id": "f4932d85",
   "metadata": {},
   "outputs": [
    {
     "name": "stdout",
     "output_type": "stream",
     "text": [
      "収益               :        14860.00 円\n",
      "平均収益           :          309.58 円\n",
      "回収率             :         1028.75 %\n",
      "的中率             :            6.25 %\n",
      "odds filter 的中率 :            2.08 %\n",
      "賭けた点数の回収率 :          409.58 %\n",
      "賭けた点数の的中率 :            2.08 %\n",
      "レース数           :              16\n",
      "賭けた点数         :              48\n",
      "race dist {'01': 0, '02': 0, '03': 0, '04': 0, '05': 0, '06': 0, '07': 0, '08': 0, '09': 1, '10': 0, '11': 0, '12': 0}\n",
      "race type dist {'new_horse': 0, 'not_win': 0, 'won1': 0, 'won2': 0, 'won3': 0, 'open': 0, 'g1': 0, 'g2': 0, 'g3': 0, 'obstacle': 0}\n"
     ]
    }
   ],
   "source": [
    "\n",
    "detail_dict_umaren_box  = funcs.calc_(result_df_today_rank,kaime='umaren_box',odds_alpha=1,is_all=True,round_list=['01'],num_buy=3)"
   ]
  },
  {
   "cell_type": "code",
   "execution_count": 190,
   "id": "08121fa3",
   "metadata": {},
   "outputs": [
    {
     "name": "stdout",
     "output_type": "stream",
     "text": [
      "収益               :        -1600.00 円\n",
      "平均収益           :         -100.00 円\n",
      "回収率             :            0.00 %\n",
      "的中率             :            0.00 %\n",
      "odds filter 的中率 :            0.00 %\n",
      "レース数           :              16\n",
      "賭けた点数         :               0\n",
      "race dist {'01': 0, '02': 0, '03': 0, '04': 0, '05': 0, '06': 0, '07': 0, '08': 0, '09': 0, '10': 0, '11': 0, '12': 0}\n",
      "race type dist {'new_horse': 0, 'not_win': 0, 'won1': 0, 'won2': 0, 'won3': 0, 'open': 0, 'g1': 0, 'g2': 0, 'g3': 0, 'obstacle': 0}\n"
     ]
    }
   ],
   "source": [
    "\n",
    "detail_dict_sanrenpuku  = funcs.calc_(result_df_today_rank,kaime='sanrenpuku',odds_alpha=1,is_all=True,round_list=['01'])"
   ]
  },
  {
   "cell_type": "code",
   "execution_count": 191,
   "id": "c9f57078",
   "metadata": {},
   "outputs": [
    {
     "name": "stdout",
     "output_type": "stream",
     "text": [
      "収益               :        -6730.00 円\n",
      "平均収益           :          -21.03 円\n",
      "回収率             :         -320.62 %\n",
      "的中率             :            6.25 %\n",
      "odds filter 的中率 :            0.31 %\n",
      "賭けた点数の回収率 :           78.97 %\n",
      "賭けた点数の的中率 :            0.31 %\n",
      "レース数           :              16\n",
      "賭けた点数         :             320\n",
      "race dist {'01': 0, '02': 0, '03': 0, '04': 0, '05': 0, '06': 0, '07': 0, '08': 0, '09': 1, '10': 0, '11': 0, '12': 0}\n",
      "race type dist {'new_horse': 0, 'not_win': 0, 'won1': 0, 'won2': 0, 'won3': 0, 'open': 0, 'g1': 0, 'g2': 0, 'g3': 0, 'obstacle': 0}\n"
     ]
    }
   ],
   "source": [
    "\n",
    "detail_dict_sanrenpuku_box  = funcs.calc_(result_df_today_rank,kaime='sanrenpuku_box',odds_alpha=1,is_all=True,round_list=['01'],num_buy=6)"
   ]
  },
  {
   "cell_type": "code",
   "execution_count": 192,
   "id": "ef03552e",
   "metadata": {},
   "outputs": [
    {
     "name": "stdout",
     "output_type": "stream",
     "text": [
      "収益               :        -1600.00 円\n",
      "平均収益           :         -100.00 円\n",
      "回収率             :            0.00 %\n",
      "的中率             :            0.00 %\n",
      "odds filter 的中率 :            0.00 %\n",
      "レース数           :              16\n",
      "賭けた点数         :               0\n",
      "race dist {'01': 0, '02': 0, '03': 0, '04': 0, '05': 0, '06': 0, '07': 0, '08': 0, '09': 0, '10': 0, '11': 0, '12': 0}\n",
      "race type dist {'new_horse': 0, 'not_win': 0, 'won1': 0, 'won2': 0, 'won3': 0, 'open': 0, 'g1': 0, 'g2': 0, 'g3': 0, 'obstacle': 0}\n"
     ]
    }
   ],
   "source": [
    "\n",
    "detail_dict_sanrentan  = funcs.calc_(result_df_today_rank,kaime='sanrentan',odds_alpha=1,is_all=True,round_list=['01'])"
   ]
  },
  {
   "cell_type": "markdown",
   "id": "3efe416a",
   "metadata": {},
   "source": [
    "# 当日予測 (特徴量に体重データ使っている場合)"
   ]
  },
  {
   "cell_type": "code",
   "execution_count": null,
   "id": "287f11c8",
   "metadata": {},
   "outputs": [],
   "source": []
  }
 ],
 "metadata": {
  "kernelspec": {
   "display_name": "Python 3.7.2 64-bit",
   "language": "python",
   "name": "python3"
  },
  "language_info": {
   "codemirror_mode": {
    "name": "ipython",
    "version": 3
   },
   "file_extension": ".py",
   "mimetype": "text/x-python",
   "name": "python",
   "nbconvert_exporter": "python",
   "pygments_lexer": "ipython3",
   "version": "3.7.2"
  },
  "vscode": {
   "interpreter": {
    "hash": "aee8b7b246df8f9039afb4144a1f6fd8d2ca17a180786b69acc140d282b71a49"
   }
  }
 },
 "nbformat": 4,
 "nbformat_minor": 5
}
