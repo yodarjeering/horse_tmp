{
 "cells": [
  {
   "cell_type": "markdown",
   "metadata": {},
   "source": [
    "# モジュールインポート"
   ]
  },
  {
   "cell_type": "code",
   "execution_count": 4,
   "metadata": {},
   "outputs": [
    {
     "name": "stdout",
     "output_type": "stream",
     "text": [
      "The autoreload extension is already loaded. To reload it, use:\n",
      "  %reload_ext autoreload\n"
     ]
    }
   ],
   "source": [
    "%load_ext autoreload\n",
    "import pandas as pd\n",
    "from tqdm.auto import tqdm\n",
    "from graphviz import *\n",
    "import lightgbm as lgb\n",
    "from my_modules import prepare\n",
    "import requests\n",
    "from bs4 import BeautifulSoup\n",
    "import re\n",
    "import time\n"
   ]
  },
  {
   "cell_type": "markdown",
   "metadata": {},
   "source": [
    "# ディレクトリ構成"
   ]
  },
  {
   "cell_type": "raw",
   "metadata": {},
   "source": [
    "├── Data\n",
    "│   ├── horse_results.csv\n",
    "│   ├── peds.csv\n",
    "│   ├── results.csv\n",
    "│   └── return.csv\n",
    "├── debug.ipynb   <============このファイルの場所\n",
    "├── main.ipynb\n",
    "├── my_library\n",
    "│   └── horse.py\n",
    "├── my_modules\n",
    "│   ├── constants\n",
    "│   │   ├── __init__.py\n",
    "│   │   ├── _local_path.py\n",
    "│   │   ├── _master.py\n",
    "│   │   ├── _results_cols.py\n",
    "│   │   └── _url_path.py\n",
    "│   ├── funcs\n",
    "│   │   ├── __init__.py\n",
    "│   │   ├── _calc.py\n",
    "│   │   ├── _plot_importance.py\n",
    "│   │   ├── _process_data.py\n",
    "│   │   └── _show_best_kaime.py\n",
    "│   ├── prepare\n",
    "│   │   ├── __init__.py\n",
    "│   │   ├── _prepare_chrome_driver.py\n",
    "│   │   ├── _scrape_csv.py\n",
    "│   │   ├── _scrape_race_id_list.py\n",
    "│   │   ├── _scrape_shutuba_table.py\n",
    "│   │   └── _scrape_today_info.py\n",
    "│   ├── preprocess\n",
    "│   │   ├── __init__.py\n",
    "│   │   ├── _data_merger.py\n",
    "│   │   ├── _make_predict_data.py\n",
    "│   │   ├── _make_train_data.py\n",
    "│   │   ├── _process_horse_results.py\n",
    "│   │   ├── _process_peds.py\n",
    "│   │   ├── _process_race_results.py\n",
    "│   │   ├── _process_return.py\n",
    "│   │   └── _process_shutuba_data.py\n",
    "│   ├── simulator\n",
    "│   │   ├── __init__.py\n",
    "│   │   └── _simulator.py\n",
    "│   └── training\n",
    "│       ├── __init__.py\n",
    "│       ├── _learn.py\n",
    "│       └── _tune_hyper_opt.py\n",
    "├── readme.md\n",
    "├── readme.pdf\n",
    "└── readme.pptx"
   ]
  },
  {
   "cell_type": "markdown",
   "metadata": {},
   "source": [
    "# ワイの環境"
   ]
  },
  {
   "cell_type": "code",
   "execution_count": 8,
   "metadata": {},
   "outputs": [
    {
     "name": "stdout",
     "output_type": "stream",
     "text": [
      "Python 3.10.12\n"
     ]
    }
   ],
   "source": [
    "!python --version"
   ]
  },
  {
   "cell_type": "code",
   "execution_count": 7,
   "metadata": {},
   "outputs": [
    {
     "name": "stdout",
     "output_type": "stream",
     "text": [
      "Package                 Version\n",
      "----------------------- ---------\n",
      "absl-py                 1.4.0\n",
      "alembic                 1.11.1\n",
      "appnope                 0.1.2\n",
      "asttokens               2.0.5\n",
      "astunparse              1.6.3\n",
      "async-generator         1.10\n",
      "attrs                   23.1.0\n",
      "backcall                0.2.0\n",
      "beautifulsoup4          4.12.2\n",
      "boltons                 23.0.0\n",
      "brotlipy                0.7.0\n",
      "cachetools              5.3.1\n",
      "certifi                 2023.7.22\n",
      "cffi                    1.15.1\n",
      "charset-normalizer      2.0.4\n",
      "cloudpickle             2.2.1\n",
      "cmaes                   0.10.0\n",
      "colorlog                6.7.0\n",
      "conda                   23.7.2\n",
      "conda-content-trust     0.1.3\n",
      "conda-package-handling  2.2.0\n",
      "conda_package_streaming 0.9.0\n",
      "contourpy               1.1.0\n",
      "cryptography            39.0.1\n",
      "cycler                  0.11.0\n",
      "debugpy                 1.6.7\n",
      "decorator               5.1.1\n",
      "dill                    0.3.6\n",
      "et-xmlfile              1.1.0\n",
      "exceptiongroup          1.1.1\n",
      "executing               0.8.3\n",
      "flatbuffers             23.5.26\n",
      "fonttools               4.40.0\n",
      "future                  0.18.3\n",
      "gast                    0.4.0\n",
      "google-auth             2.21.0\n",
      "google-auth-oauthlib    1.0.0\n",
      "google-pasta            0.2.0\n",
      "graphviz                0.20.1\n",
      "grpcio                  1.56.0\n",
      "h11                     0.14.0\n",
      "h5py                    3.9.0\n",
      "html5lib                1.1\n",
      "hyperopt                0.2.7\n",
      "idna                    3.4\n",
      "ipykernel               6.15.0\n",
      "ipython                 8.12.2\n",
      "japanize-matplotlib     1.1.3\n",
      "jax                     0.4.13\n",
      "jedi                    0.18.1\n",
      "joblib                  1.3.2\n",
      "jsonpatch               1.32\n",
      "jsonpointer             2.1\n",
      "jupyter_client          8.1.0\n",
      "jupyter_core            5.3.0\n",
      "keras                   2.12.0\n",
      "kiwisolver              1.4.4\n",
      "libclang                16.0.0\n",
      "lightgbm                4.0.0\n",
      "lxml                    4.9.2\n",
      "Mako                    1.2.4\n",
      "Markdown                3.4.3\n",
      "MarkupSafe              2.1.3\n",
      "matplotlib              3.7.1\n",
      "matplotlib-inline       0.1.6\n",
      "ml-dtypes               0.2.0\n",
      "nest-asyncio            1.5.6\n",
      "networkx                3.1\n",
      "numpy                   1.25.2\n",
      "oauthlib                3.2.2\n",
      "openpyxl                3.1.2\n",
      "opt-einsum              3.3.0\n",
      "optuna                  3.3.0\n",
      "outcome                 1.2.0\n",
      "packaging               23.0\n",
      "pandas                  2.0.3\n",
      "parso                   0.8.3\n",
      "pexpect                 4.8.0\n",
      "pickleshare             0.7.5\n",
      "Pillow                  9.5.0\n",
      "pip                     23.3.1\n",
      "platformdirs            2.5.2\n",
      "pluggy                  1.0.0\n",
      "prompt-toolkit          3.0.36\n",
      "protobuf                4.23.3\n",
      "psutil                  5.9.0\n",
      "ptyprocess              0.7.0\n",
      "pure-eval               0.2.2\n",
      "py4j                    0.10.9.7\n",
      "pyasn1                  0.5.0\n",
      "pyasn1-modules          0.3.0\n",
      "pycosat                 0.6.4\n",
      "pycparser               2.21\n",
      "Pygments                2.15.1\n",
      "pyOpenSSL               23.2.0\n",
      "pyparsing               3.1.0\n",
      "PySocks                 1.7.1\n",
      "python-dateutil         2.8.2\n",
      "python-dotenv           1.0.0\n",
      "pytz                    2023.3\n",
      "PyYAML                  6.0\n",
      "pyzmq                   25.1.0\n",
      "requests                2.31.0\n",
      "requests-oauthlib       1.3.1\n",
      "rsa                     4.9\n",
      "ruamel.yaml             0.17.21\n",
      "ruamel.yaml.clib        0.2.6\n",
      "scikit-learn            1.3.0\n",
      "scipy                   1.11.1\n",
      "selenium                4.11.2\n",
      "setuptools              65.6.3\n",
      "six                     1.16.0\n",
      "sniffio                 1.3.0\n",
      "sortedcontainers        2.4.0\n",
      "soupsieve               2.4\n",
      "SQLAlchemy              2.0.17\n",
      "stack-data              0.2.0\n",
      "tensorboard             2.12.3\n",
      "tensorboard-data-server 0.7.1\n",
      "tensorflow-estimator    2.12.0\n",
      "tensorflow-macos        2.12.0\n",
      "tensorflow-metal        1.0.1\n",
      "termcolor               2.3.0\n",
      "threadpoolctl           3.2.0\n",
      "toolz                   0.12.0\n",
      "tornado                 6.3.2\n",
      "tqdm                    4.65.0\n",
      "traitlets               5.7.1\n",
      "trio                    0.22.0\n",
      "trio-websocket          0.10.3\n",
      "typing_extensions       4.7.1\n",
      "tzdata                  2023.3\n",
      "urllib3                 1.26.16\n",
      "wcwidth                 0.2.5\n",
      "webdriver-manager       4.0.0\n",
      "webencodings            0.5.1\n",
      "Werkzeug                2.3.6\n",
      "wheel                   0.38.4\n",
      "wrapt                   1.14.1\n",
      "wsproto                 1.2.0\n",
      "zstandard               0.19.0\n",
      "\n",
      "\u001b[1m[\u001b[0m\u001b[34;49mnotice\u001b[0m\u001b[1;39;49m]\u001b[0m\u001b[39;49m A new release of pip is available: \u001b[0m\u001b[31;49m23.3.1\u001b[0m\u001b[39;49m -> \u001b[0m\u001b[32;49m23.3.2\u001b[0m\n",
      "\u001b[1m[\u001b[0m\u001b[34;49mnotice\u001b[0m\u001b[1;39;49m]\u001b[0m\u001b[39;49m To update, run: \u001b[0m\u001b[32;49mpip install --upgrade pip\u001b[0m\n"
     ]
    }
   ],
   "source": [
    "!python -m pip list"
   ]
  },
  {
   "cell_type": "markdown",
   "metadata": {},
   "source": [
    "# PC 環境\n",
    "\n",
    "<li>OS : Mac OS Sonoma 14.2.1</li>\n",
    "<li>Chip : Apple M2 Pro</li>"
   ]
  },
  {
   "cell_type": "markdown",
   "metadata": {},
   "source": [
    "# テスト用 race_id_list"
   ]
  },
  {
   "cell_type": "code",
   "execution_count": 11,
   "metadata": {},
   "outputs": [
    {
     "name": "stdout",
     "output_type": "stream",
     "text": [
      "getting race date from 2023-01-01 to 2023-02-01\n"
     ]
    },
    {
     "name": "stderr",
     "output_type": "stream",
     "text": [
      "100%|██████████| 1/1 [00:01<00:00,  1.29s/it]\n"
     ]
    },
    {
     "name": "stdout",
     "output_type": "stream",
     "text": [
      "getting race_id_list\n"
     ]
    },
    {
     "name": "stderr",
     "output_type": "stream",
     "text": [
      "  0%|          | 0/10 [00:00<?, ?it/s]"
     ]
    },
    {
     "name": "stdout",
     "output_type": "stream",
     "text": [
      "scraping: https://race.netkeiba.com/top/race_list.html?kaisai_date=20230105\n"
     ]
    },
    {
     "name": "stderr",
     "output_type": "stream",
     "text": [
      " 10%|█         | 1/10 [00:13<01:58, 13.13s/it]"
     ]
    },
    {
     "name": "stdout",
     "output_type": "stream",
     "text": [
      "scraping: https://race.netkeiba.com/top/race_list.html?kaisai_date=20230107\n"
     ]
    },
    {
     "name": "stderr",
     "output_type": "stream",
     "text": [
      " 20%|██        | 2/10 [00:13<00:45,  5.74s/it]"
     ]
    },
    {
     "name": "stdout",
     "output_type": "stream",
     "text": [
      "scraping: https://race.netkeiba.com/top/race_list.html?kaisai_date=20230108\n"
     ]
    },
    {
     "name": "stderr",
     "output_type": "stream",
     "text": [
      " 30%|███       | 3/10 [00:14<00:23,  3.37s/it]"
     ]
    },
    {
     "name": "stdout",
     "output_type": "stream",
     "text": [
      "scraping: https://race.netkeiba.com/top/race_list.html?kaisai_date=20230109\n"
     ]
    },
    {
     "name": "stderr",
     "output_type": "stream",
     "text": [
      " 40%|████      | 4/10 [00:14<00:13,  2.24s/it]"
     ]
    },
    {
     "name": "stdout",
     "output_type": "stream",
     "text": [
      "scraping: https://race.netkeiba.com/top/race_list.html?kaisai_date=20230114\n"
     ]
    },
    {
     "name": "stderr",
     "output_type": "stream",
     "text": [
      " 50%|█████     | 5/10 [00:15<00:08,  1.66s/it]"
     ]
    },
    {
     "name": "stdout",
     "output_type": "stream",
     "text": [
      "scraping: https://race.netkeiba.com/top/race_list.html?kaisai_date=20230115\n"
     ]
    },
    {
     "name": "stderr",
     "output_type": "stream",
     "text": [
      " 60%|██████    | 6/10 [00:16<00:05,  1.31s/it]"
     ]
    },
    {
     "name": "stdout",
     "output_type": "stream",
     "text": [
      "scraping: https://race.netkeiba.com/top/race_list.html?kaisai_date=20230121\n"
     ]
    },
    {
     "name": "stderr",
     "output_type": "stream",
     "text": [
      " 70%|███████   | 7/10 [00:18<00:04,  1.60s/it]"
     ]
    },
    {
     "name": "stdout",
     "output_type": "stream",
     "text": [
      "scraping: https://race.netkeiba.com/top/race_list.html?kaisai_date=20230122\n"
     ]
    },
    {
     "name": "stderr",
     "output_type": "stream",
     "text": [
      " 80%|████████  | 8/10 [00:18<00:02,  1.28s/it]"
     ]
    },
    {
     "name": "stdout",
     "output_type": "stream",
     "text": [
      "scraping: https://race.netkeiba.com/top/race_list.html?kaisai_date=20230128\n"
     ]
    },
    {
     "name": "stderr",
     "output_type": "stream",
     "text": [
      " 90%|█████████ | 9/10 [00:19<00:01,  1.12s/it]"
     ]
    },
    {
     "name": "stdout",
     "output_type": "stream",
     "text": [
      "scraping: https://race.netkeiba.com/top/race_list.html?kaisai_date=20230129\n"
     ]
    },
    {
     "name": "stderr",
     "output_type": "stream",
     "text": [
      "100%|██████████| 10/10 [00:23<00:00,  2.40s/it]\n"
     ]
    }
   ],
   "source": [
    "kaisai_date_list = prepare.scrape_kaisai_date(from_=\"2023-01-01\",to_='2023-02-01')\n",
    "race_id_list = prepare.scrape_race_id_list(kaisai_date_list)"
   ]
  },
  {
   "cell_type": "markdown",
   "metadata": {},
   "source": [
    "# デバグ対象関数"
   ]
  },
  {
   "cell_type": "code",
   "execution_count": 13,
   "metadata": {},
   "outputs": [],
   "source": [
    "SLEEP_TIME = 5 # サーバに負担をかけないよう, SLEEP _TIME だけ待つ\n",
    "\n",
    "def scrape_race_results(race_id_list:list):\n",
    "        #race_idをkeyにしてDataFrame型を格納\n",
    "        # race_id : int\n",
    "        race_results = {}\n",
    "        for race_id in tqdm(race_id_list):\n",
    "            time.sleep(SLEEP_TIME)\n",
    "            print(\"race_id\",race_id)\n",
    "            try:\n",
    "                url = \"https://db.netkeiba.com/race/\" + str(race_id)\n",
    "                #メインとなるテーブルデータを取得\n",
    "                df = pd.read_html(url)[0]\n",
    "                html = requests.get(url)\n",
    "                html.encoding = \"EUC-JP\"\n",
    "                soup = BeautifulSoup(html.text, \"html.parser\")\n",
    "\n",
    "                #天候、レースの種類、コースの長さ、馬場の状態、日付をスクレイピング\n",
    "                texts = (\n",
    "                    soup.find(\"div\", attrs={\"class\": \"data_intro\"}).find_all(\"p\")[0].text\n",
    "                    + soup.find(\"div\", attrs={\"class\": \"data_intro\"}).find_all(\"p\")[1].text\n",
    "                )\n",
    "                info = re.findall(r'\\w+', texts)\n",
    "                for text in info:\n",
    "                    if text in [\"芝\", \"ダート\"]:\n",
    "                        df[\"race_type\"] = [text] * len(df)\n",
    "                    if \"障\" in text:\n",
    "                        df[\"race_type\"] = [\"障害\"] * len(df)\n",
    "                    if \"m\" in text:\n",
    "                        df[\"course_len\"] = [int(re.findall(r\"\\d+\", text)[0])] * len(df)\n",
    "                    if text in [\"良\", \"稍重\", \"重\", \"不良\"]:\n",
    "                        df[\"ground_state\"] = [text] * len(df)\n",
    "                    if text in [\"曇\", \"晴\", \"雨\", \"小雨\", \"小雪\", \"雪\"]:\n",
    "                        df[\"weather\"] = [text] * len(df)\n",
    "                    if \"年\" in text:\n",
    "                        df[\"date\"] = [text] * len(df)\n",
    "\n",
    "                #馬ID、騎手ID, owner_id, trainer_idをスクレイピング\n",
    "                horse_id_list = []\n",
    "                horse_a_list = soup.find(\"table\", attrs={\"summary\": \"レース結果\"}).find_all(\n",
    "                    \"a\",\n",
    "                    attrs={\"href\": re.compile(\"^/horse\")}\n",
    "                )\n",
    "                for a in horse_a_list:\n",
    "                    horse_id = re.findall(r\"\\d+\", a[\"href\"])\n",
    "                    horse_id_list.append(horse_id[0])\n",
    "                jockey_id_list = []\n",
    "                jockey_a_list = soup.find(\"table\", attrs={\"summary\": \"レース結果\"}).find_all(\n",
    "                    \"a\", attrs={\"href\": re.compile(\"^/jockey\")}\n",
    "                )\n",
    "                for a in jockey_a_list:\n",
    "                    jockey_id = re.findall(r\"\\d+\", a[\"href\"])\n",
    "                    jockey_id_list.append(jockey_id[0])\n",
    "\n",
    "                ############\n",
    "                trainer_id_list = []\n",
    "                trainer_a_list = soup.find(\"table\", attrs={\"summary\": \"レース結果\"}).find_all(\n",
    "                    \"a\", attrs={\"href\": re.compile(\"^/trainer\")}\n",
    "                )\n",
    "                for a in trainer_a_list:\n",
    "                    trainer_id = re.findall(r\"\\d+\", a[\"href\"])\n",
    "                    trainer_id_list.append(trainer_id[0])\n",
    "                \n",
    "                ###########\n",
    "                owner_id_list = []\n",
    "                owner_a_list = soup.find(\"table\", attrs={\"summary\": \"レース結果\"}).find_all(\n",
    "                    \"a\", attrs={\"href\": re.compile(\"^/owner\")}\n",
    "                )\n",
    "                for a in owner_a_list:\n",
    "                    owner_id = re.findall(r\"\\d+\", a[\"href\"])\n",
    "                    owner_id_list.append(owner_id[0])\n",
    "                \n",
    "                df[\"horse_id\"] = horse_id_list\n",
    "                df[\"jockey_id\"] = jockey_id_list\n",
    "                df[\"trainer_id\"] = trainer_id_list\n",
    "                df[\"owner_id\"] = owner_id_list\n",
    "                \n",
    "                \n",
    "                #インデックスをrace_idにする\n",
    "                df.index = [race_id] * len(df)\n",
    "                race_results[race_id] = df\n",
    "            #存在しないrace_idを飛ばす\n",
    "            except IndexError:\n",
    "                print(\"IndexError\")\n",
    "                continue\n",
    "                \n",
    "            #wifiの接続が切れた時などでも途中までのデータを返せるようにする\n",
    "            except Exception as e:\n",
    "                print(e)\n",
    "                break\n",
    "\n",
    "\n",
    "        #pd.DataFrame型にして一つのデータにまとめる\n",
    "        race_results_df = pd.concat([race_results[key] for key in race_results])\n",
    "        return race_results_df"
   ]
  },
  {
   "cell_type": "code",
   "execution_count": 14,
   "metadata": {},
   "outputs": [
    {
     "name": "stderr",
     "output_type": "stream",
     "text": [
      "  0%|          | 0/2 [00:00<?, ?it/s]"
     ]
    },
    {
     "name": "stdout",
     "output_type": "stream",
     "text": [
      "race_id 202306010101\n"
     ]
    },
    {
     "name": "stderr",
     "output_type": "stream",
     "text": [
      " 50%|█████     | 1/2 [00:06<00:06,  6.40s/it]"
     ]
    },
    {
     "name": "stdout",
     "output_type": "stream",
     "text": [
      "race_id 202306010102\n"
     ]
    },
    {
     "name": "stderr",
     "output_type": "stream",
     "text": [
      "100%|██████████| 2/2 [00:12<00:00,  6.17s/it]\n"
     ]
    }
   ],
   "source": [
    "test_ = scrape_race_results(race_id_list[:2])"
   ]
  },
  {
   "cell_type": "code",
   "execution_count": 15,
   "metadata": {},
   "outputs": [
    {
     "data": {
      "text/html": [
       "<div>\n",
       "<style scoped>\n",
       "    .dataframe tbody tr th:only-of-type {\n",
       "        vertical-align: middle;\n",
       "    }\n",
       "\n",
       "    .dataframe tbody tr th {\n",
       "        vertical-align: top;\n",
       "    }\n",
       "\n",
       "    .dataframe thead th {\n",
       "        text-align: right;\n",
       "    }\n",
       "</style>\n",
       "<table border=\"1\" class=\"dataframe\">\n",
       "  <thead>\n",
       "    <tr style=\"text-align: right;\">\n",
       "      <th></th>\n",
       "      <th>着 順</th>\n",
       "      <th>枠 番</th>\n",
       "      <th>馬 番</th>\n",
       "      <th>馬名</th>\n",
       "      <th>性齢</th>\n",
       "      <th>斤量</th>\n",
       "      <th>騎手</th>\n",
       "      <th>タイム</th>\n",
       "      <th>着差</th>\n",
       "      <th>単勝</th>\n",
       "      <th>...</th>\n",
       "      <th>調教師</th>\n",
       "      <th>course_len</th>\n",
       "      <th>weather</th>\n",
       "      <th>race_type</th>\n",
       "      <th>ground_state</th>\n",
       "      <th>date</th>\n",
       "      <th>horse_id</th>\n",
       "      <th>jockey_id</th>\n",
       "      <th>trainer_id</th>\n",
       "      <th>owner_id</th>\n",
       "    </tr>\n",
       "  </thead>\n",
       "  <tbody>\n",
       "    <tr>\n",
       "      <th>202306010101</th>\n",
       "      <td>1</td>\n",
       "      <td>7</td>\n",
       "      <td>14</td>\n",
       "      <td>シュバルツガイスト</td>\n",
       "      <td>牡3</td>\n",
       "      <td>56</td>\n",
       "      <td>武豊</td>\n",
       "      <td>1:12.6</td>\n",
       "      <td>NaN</td>\n",
       "      <td>1.8</td>\n",
       "      <td>...</td>\n",
       "      <td>[東] 国枝栄</td>\n",
       "      <td>1200</td>\n",
       "      <td>晴</td>\n",
       "      <td>ダート</td>\n",
       "      <td>良</td>\n",
       "      <td>2023年1月5日</td>\n",
       "      <td>2020103575</td>\n",
       "      <td>00666</td>\n",
       "      <td>00399</td>\n",
       "      <td>356803</td>\n",
       "    </tr>\n",
       "    <tr>\n",
       "      <th>202306010101</th>\n",
       "      <td>2</td>\n",
       "      <td>3</td>\n",
       "      <td>5</td>\n",
       "      <td>ジェイケイファイン</td>\n",
       "      <td>牡3</td>\n",
       "      <td>56</td>\n",
       "      <td>内田博幸</td>\n",
       "      <td>1:12.9</td>\n",
       "      <td>1.3/4</td>\n",
       "      <td>7.4</td>\n",
       "      <td>...</td>\n",
       "      <td>[東] 奥平雅士</td>\n",
       "      <td>1200</td>\n",
       "      <td>晴</td>\n",
       "      <td>ダート</td>\n",
       "      <td>良</td>\n",
       "      <td>2023年1月5日</td>\n",
       "      <td>2020107073</td>\n",
       "      <td>00422</td>\n",
       "      <td>01074</td>\n",
       "      <td>702009</td>\n",
       "    </tr>\n",
       "    <tr>\n",
       "      <th>202306010101</th>\n",
       "      <td>3</td>\n",
       "      <td>1</td>\n",
       "      <td>1</td>\n",
       "      <td>レディアス</td>\n",
       "      <td>牝3</td>\n",
       "      <td>54</td>\n",
       "      <td>津村明秀</td>\n",
       "      <td>1:12.9</td>\n",
       "      <td>クビ</td>\n",
       "      <td>36.1</td>\n",
       "      <td>...</td>\n",
       "      <td>[東] 鈴木慎太</td>\n",
       "      <td>1200</td>\n",
       "      <td>晴</td>\n",
       "      <td>ダート</td>\n",
       "      <td>良</td>\n",
       "      <td>2023年1月5日</td>\n",
       "      <td>2020102562</td>\n",
       "      <td>01092</td>\n",
       "      <td>01179</td>\n",
       "      <td>763033</td>\n",
       "    </tr>\n",
       "    <tr>\n",
       "      <th>202306010101</th>\n",
       "      <td>4</td>\n",
       "      <td>8</td>\n",
       "      <td>15</td>\n",
       "      <td>ハローマイラブリー</td>\n",
       "      <td>牝3</td>\n",
       "      <td>54</td>\n",
       "      <td>三浦皇成</td>\n",
       "      <td>1:13.4</td>\n",
       "      <td>3</td>\n",
       "      <td>4.2</td>\n",
       "      <td>...</td>\n",
       "      <td>[東] 伊坂重信</td>\n",
       "      <td>1200</td>\n",
       "      <td>晴</td>\n",
       "      <td>ダート</td>\n",
       "      <td>良</td>\n",
       "      <td>2023年1月5日</td>\n",
       "      <td>2020106345</td>\n",
       "      <td>01122</td>\n",
       "      <td>01177</td>\n",
       "      <td>729005</td>\n",
       "    </tr>\n",
       "    <tr>\n",
       "      <th>202306010101</th>\n",
       "      <td>5</td>\n",
       "      <td>5</td>\n",
       "      <td>9</td>\n",
       "      <td>ベアカワイコチャン</td>\n",
       "      <td>牝3</td>\n",
       "      <td>54</td>\n",
       "      <td>松岡正海</td>\n",
       "      <td>1:13.9</td>\n",
       "      <td>3</td>\n",
       "      <td>7.9</td>\n",
       "      <td>...</td>\n",
       "      <td>[東] 杉浦宏昭</td>\n",
       "      <td>1200</td>\n",
       "      <td>晴</td>\n",
       "      <td>ダート</td>\n",
       "      <td>良</td>\n",
       "      <td>2023年1月5日</td>\n",
       "      <td>2020100039</td>\n",
       "      <td>01085</td>\n",
       "      <td>01008</td>\n",
       "      <td>372033</td>\n",
       "    </tr>\n",
       "  </tbody>\n",
       "</table>\n",
       "<p>5 rows × 22 columns</p>\n",
       "</div>"
      ],
      "text/plain": [
       "              着 順  枠 番  馬 番         馬名  性齢  斤量    騎手     タイム     着差    単勝  \\\n",
       "202306010101    1    7   14  シュバルツガイスト  牡3  56    武豊  1:12.6    NaN   1.8   \n",
       "202306010101    2    3    5  ジェイケイファイン  牡3  56  内田博幸  1:12.9  1.3/4   7.4   \n",
       "202306010101    3    1    1      レディアス  牝3  54  津村明秀  1:12.9     クビ  36.1   \n",
       "202306010101    4    8   15  ハローマイラブリー  牝3  54  三浦皇成  1:13.4      3   4.2   \n",
       "202306010101    5    5    9  ベアカワイコチャン  牝3  54  松岡正海  1:13.9      3   7.9   \n",
       "\n",
       "              ...       調教師 course_len weather  race_type ground_state  \\\n",
       "202306010101  ...   [東] 国枝栄       1200       晴        ダート            良   \n",
       "202306010101  ...  [東] 奥平雅士       1200       晴        ダート            良   \n",
       "202306010101  ...  [東] 鈴木慎太       1200       晴        ダート            良   \n",
       "202306010101  ...  [東] 伊坂重信       1200       晴        ダート            良   \n",
       "202306010101  ...  [東] 杉浦宏昭       1200       晴        ダート            良   \n",
       "\n",
       "                   date    horse_id jockey_id trainer_id owner_id  \n",
       "202306010101  2023年1月5日  2020103575     00666      00399   356803  \n",
       "202306010101  2023年1月5日  2020107073     00422      01074   702009  \n",
       "202306010101  2023年1月5日  2020102562     01092      01179   763033  \n",
       "202306010101  2023年1月5日  2020106345     01122      01177   729005  \n",
       "202306010101  2023年1月5日  2020100039     01085      01008   372033  \n",
       "\n",
       "[5 rows x 22 columns]"
      ]
     },
     "execution_count": 15,
     "metadata": {},
     "output_type": "execute_result"
    }
   ],
   "source": [
    "test_.head()"
   ]
  },
  {
   "cell_type": "code",
   "execution_count": null,
   "metadata": {},
   "outputs": [],
   "source": []
  }
 ],
 "metadata": {
  "kernelspec": {
   "display_name": "base",
   "language": "python",
   "name": "python3"
  },
  "language_info": {
   "codemirror_mode": {
    "name": "ipython",
    "version": 3
   },
   "file_extension": ".py",
   "mimetype": "text/x-python",
   "name": "python",
   "nbconvert_exporter": "python",
   "pygments_lexer": "ipython3",
   "version": "3.10.12"
  }
 },
 "nbformat": 4,
 "nbformat_minor": 2
}
